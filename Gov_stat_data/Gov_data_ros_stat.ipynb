{
 "cells": [
  {
   "cell_type": "markdown",
   "metadata": {},
   "source": [
    "# Обработка данных сборников Росстата\n",
    "\n",
    "### Цель:\n",
    "Найти оптимальный способ выгрузки и организации данных из статитических сборников Росстата, для их удобной обработки и анализа. \n",
    "\n",
    "### Задачи:\n",
    "1. Создать перечень из 5-7 показателей в разрезе субъектов Российский Федерации, для каждоной из тематик: \"здравоохранение\" и \"демография\". Указать источники. (xls)\n",
    "2. Сформировать датасеты в формате временных рядов по выбранным показателям (csv)\n",
    "3. Провести предобработку данных \n",
    "4. Создать id для увязки датасетов\n",
    "5. Обозначить проблемы объединения данных\n",
    "6. Создание БД SQL на основе полученных таблиц"
   ]
  },
  {
   "cell_type": "markdown",
   "metadata": {},
   "source": [
    "## Установка всех необходимых пакетов и библиотек"
   ]
  },
  {
   "cell_type": "code",
   "execution_count": null,
   "metadata": {},
   "outputs": [],
   "source": [
    "# pip install -U click\n",
    "# pip install xlwt\n",
    "# pip install python-docx\n",
    "# pip install docx2csv"
   ]
  },
  {
   "cell_type": "code",
   "execution_count": 3,
   "metadata": {},
   "outputs": [],
   "source": [
    "import pandas as pd\n",
    "from docx import Document\n",
    "from docx.shared import Inches\n",
    "import click\n",
    "import xlwt\n",
    "from docx2csv import extract_tables, extract\n",
    "import unicodedata\n",
    "import requests\n",
    "from io import BytesIO\n",
    "import re"
   ]
  },
  {
   "cell_type": "markdown",
   "metadata": {},
   "source": [
    "## Выгрузка данных из Росстата"
   ]
  },
  {
   "cell_type": "markdown",
   "metadata": {},
   "source": [
    "Были взяты данные из статистического сборника \"Регионы России. Социально-экономические показатели - 2019 г.\" расположенного по адресу: https://rosstat.gov.ru/bgd/regl/b19_14p/Main.htm\n",
    "\n",
    "В качестве основных демографических показателей были выбраны следующие:\n",
    "* Численность населения\n",
    "* Удельный вес городского и сельского населения в общей численности населения\n",
    "* Коэффициенты младенческой смертности\n",
    "* Соотношение браков и разводов\n",
    "* Смертность населения в трудоспособном возрасте\n",
    "* Ожидаемая продолжительность жизни при рождении\n",
    "\n",
    "Из категории здравоохранение были выбраны такие категрии:\n",
    "* Число больничных коек\n",
    "* Численность врачей всех специальностей\n",
    "* Прерывание беременности (аборты)\n",
    "* Заболеваемость на 1000 человек населения\n",
    "* Мощность амбулаторно-поликлинических организаций\n",
    "* Численность среднего медицинского персонала"
   ]
  },
  {
   "cell_type": "markdown",
   "metadata": {},
   "source": [
    "Выгрузка демографических данных"
   ]
  },
  {
   "cell_type": "code",
   "execution_count": 4,
   "metadata": {},
   "outputs": [],
   "source": [
    "population_docx = extract_tables(BytesIO(requests.get(\"https://rosstat.gov.ru/bgd/regl/b19_14p/IssWWW.exe/Stg/d01/02-01.docx\").content))\n",
    "urban_rural_docx = extract_tables(BytesIO(requests.get(\"https://rosstat.gov.ru/bgd/regl/b19_14p/IssWWW.exe/Stg/d01/02-03.docx\").content))\n",
    "child_mort_docx = extract_tables(BytesIO(requests.get(\"https://rosstat.gov.ru/bgd/regl/b19_14p/IssWWW.exe/Stg/d01/02-12.docx\").content))\n",
    "marriages_docx = extract_tables(BytesIO(requests.get(\"https://rosstat.gov.ru/bgd/regl/b19_14p/IssWWW.exe/Stg/d01/02-18.docx\").content))\n",
    "work_age_mort_docx = extract_tables(BytesIO(requests.get(\"https://rosstat.gov.ru/bgd/regl/b19_14p/IssWWW.exe/Stg/d01/02-10.docx\").content))\n",
    "lifespan_docx = extract_tables(BytesIO(requests.get(\"https://rosstat.gov.ru/bgd/regl/b19_14p/IssWWW.exe/Stg/d01/02-15.docx\").content))"
   ]
  },
  {
   "cell_type": "markdown",
   "metadata": {},
   "source": [
    "Выгрузка данных категории здравоохранение"
   ]
  },
  {
   "cell_type": "code",
   "execution_count": 5,
   "metadata": {},
   "outputs": [],
   "source": [
    "hosp_beds_docx = extract_tables(BytesIO(requests.get(\"https://rosstat.gov.ru/bgd/regl/b19_14p/IssWWW.exe/Stg/d01/06-01.docx\").content))\n",
    "doctors_docx = extract_tables(BytesIO(requests.get(\"https://rosstat.gov.ru/bgd/regl/b19_14p/IssWWW.exe/Stg/d01/06-04.docx\").content))\n",
    "abortion_docx = extract_tables(BytesIO(requests.get(\"https://rosstat.gov.ru/bgd/regl/b19_14p/IssWWW.exe/Stg/d01/06-07.docx\").content))\n",
    "clinics_capacity_docx = extract_tables(BytesIO(requests.get(\"https://rosstat.gov.ru/bgd/regl/b19_14p/IssWWW.exe/Stg/d01/06-03.docx\").content))\n",
    "nursing_staff_docx = extract_tables(BytesIO(requests.get(\"https://rosstat.gov.ru/bgd/regl/b19_14p/IssWWW.exe/Stg/d01/06-06.docx\").content))"
   ]
  },
  {
   "cell_type": "markdown",
   "metadata": {},
   "source": [
    "## Сборка pd.DataFrame из .docx для Демографии"
   ]
  },
  {
   "cell_type": "markdown",
   "metadata": {},
   "source": [
    "Далее, для раздела демография я создаю три траблицы. Количество таблиц определилось их спецификой. Например, данные по урбанизации и продолжительности жизни содержат большьшее число данных, поэтому пришлось их вынести в отдельные таблицы. Данные вытягивались из docx файла, и через индексацию перераспределены и собраны в удобные для анализа таблицы pandas."
   ]
  },
  {
   "cell_type": "markdown",
   "metadata": {},
   "source": [
    "### Таблица: Демография\n",
    "(Численность населения, детская смертность, брачность, смертность в трудоспособном возрасте)"
   ]
  },
  {
   "cell_type": "code",
   "execution_count": 6,
   "metadata": {},
   "outputs": [],
   "source": [
    "demography_df = pd.DataFrame(columns=['date','region','population', 'child_mort', 'marriages', 'work_age_mort'])\n",
    "\n",
    "table = population_docx\n",
    "\n",
    "for i in range(2): \n",
    "    for j in range(10):\n",
    "        for k in range(len(table[i])-1):\n",
    "            \n",
    "            if bool(unicodedata.normalize(\"NFKD\", table[i][k+1][j+1].decode('utf-8')).strip()):\n",
    "                date = table[i][0][j+1].decode('utf-8')\n",
    "                region = table[i][k+1][0].decode('utf-8')\n",
    "                population = table[i][k+1][j+1].decode('utf-8')\n",
    "                child_mort = child_mort_docx[i][k+1][j+1].decode('utf-8')\n",
    "                marriages = marriages_docx[i][k+1][j+1].decode('utf-8')\n",
    "                \n",
    "                work_age_mort = work_age_mort_docx[i][k+1][j+1].decode('utf-8')                \n",
    "                work_age_mort = re.sub(',', '.', work_age_mort)\n",
    "                \n",
    "                demography_df = demography_df.append({\n",
    "                            'date': date, \n",
    "                            'region': region, \n",
    "                            'population': population,\n",
    "                            'child_mort': child_mort,\n",
    "                            'marriages': marriages,\n",
    "                            'work_age_mort': work_age_mort}, \n",
    "                            ignore_index=True)"
   ]
  },
  {
   "cell_type": "markdown",
   "metadata": {},
   "source": [
    "### Таблица: Урбанизация"
   ]
  },
  {
   "cell_type": "code",
   "execution_count": 7,
   "metadata": {},
   "outputs": [],
   "source": [
    "urban_rural_df = pd.DataFrame(columns=[])\n",
    "\n",
    "table = urban_rural_docx\n",
    "\n",
    "for i in range(2): \n",
    "    for j in range(14):\n",
    "        for k in range(len(table[i])-2):\n",
    "            \n",
    "            if bool(unicodedata.normalize(\"NFKD\", table[i][k+2][j+1].decode('utf-8')).strip()):\n",
    "                date = table[i][1][j+1].decode('utf-8')\n",
    "                region = table[i][k+2][0].decode('utf-8')\n",
    "                \n",
    "                if table[i][k+2][j+1].decode('utf-8') != '–':\n",
    "                    urban_rural_val = table[i][k+2][j+1].decode('utf-8')\n",
    "                    urban_rural_val = re.sub(',', '.', urban_rural_val)\n",
    "                else:\n",
    "                    urban_rural_val = 0\n",
    "                \n",
    "                urban_rural_stat = table[i][0][j+1].decode('utf-8')\n",
    "\n",
    "                urban_rural_df = urban_rural_df.append({\n",
    "                            'date': date, \n",
    "                            'region': region, \n",
    "                            'urban_rural_stat': urban_rural_stat,\n",
    "                            'urban_rural_val': urban_rural_val}, \n",
    "                            ignore_index=True)"
   ]
  },
  {
   "cell_type": "markdown",
   "metadata": {},
   "source": [
    "### Таблица: Продолжительность жизни"
   ]
  },
  {
   "cell_type": "code",
   "execution_count": 8,
   "metadata": {},
   "outputs": [],
   "source": [
    "lifespan_df = pd.DataFrame(columns=[])\n",
    "\n",
    "table = lifespan_docx\n",
    "\n",
    "for i in range(6): \n",
    "    for j in range(10):\n",
    "        for k in range(len(table[i])-2):\n",
    "            \n",
    "            if bool(unicodedata.normalize(\"NFKD\", table[i][k+2][j+1].decode('utf-8')).strip()):\n",
    "                date = table[i][0][j+1].decode('utf-8')\n",
    "                region = table[i][k+2][0].decode('utf-8')\n",
    "                if any(c.isalpha() for c in table[i][k+2][j+1].decode('utf-8'))*1 == 0:\n",
    "                    if table[i][k+2][j+1].decode('utf-8') != '–':\n",
    "                        lifespan_val = table[i][k+2][j+1].decode('utf-8')\n",
    "                        lifespan_val = re.sub(',', '.', lifespan_val)\n",
    "                    else:\n",
    "                        lifespan_val = 0\n",
    "                    if i%2 == 0:\n",
    "                        lifespan_sex = table[i][1][2].decode('utf-8')\n",
    "\n",
    "                    lifespan_df = lifespan_df.append({\n",
    "                                'date': date, \n",
    "                                'region': region, \n",
    "                                'lifespan_val': lifespan_val,\n",
    "                                'lifespan_sex': lifespan_sex},\n",
    "                                ignore_index=True)   "
   ]
  },
  {
   "cell_type": "markdown",
   "metadata": {},
   "source": [
    "Проверяю данные "
   ]
  },
  {
   "cell_type": "code",
   "execution_count": 9,
   "metadata": {},
   "outputs": [
    {
     "data": {
      "text/html": [
       "<div>\n",
       "<style scoped>\n",
       "    .dataframe tbody tr th:only-of-type {\n",
       "        vertical-align: middle;\n",
       "    }\n",
       "\n",
       "    .dataframe tbody tr th {\n",
       "        vertical-align: top;\n",
       "    }\n",
       "\n",
       "    .dataframe thead th {\n",
       "        text-align: right;\n",
       "    }\n",
       "</style>\n",
       "<table border=\"1\" class=\"dataframe\">\n",
       "  <thead>\n",
       "    <tr style=\"text-align: right;\">\n",
       "      <th></th>\n",
       "      <th>date</th>\n",
       "      <th>region</th>\n",
       "      <th>population</th>\n",
       "      <th>child_mort</th>\n",
       "      <th>marriages</th>\n",
       "      <th>work_age_mort</th>\n",
       "    </tr>\n",
       "  </thead>\n",
       "  <tbody>\n",
       "    <tr>\n",
       "      <th>0</th>\n",
       "      <td>2005</td>\n",
       "      <td>Российская Федерация</td>\n",
       "      <td>143236</td>\n",
       "      <td>11,0</td>\n",
       "      <td>567</td>\n",
       "      <td>827.8</td>\n",
       "    </tr>\n",
       "    <tr>\n",
       "      <th>1</th>\n",
       "      <td>2005</td>\n",
       "      <td>Центральный  федеральный округ</td>\n",
       "      <td>38109</td>\n",
       "      <td>10,0</td>\n",
       "      <td>576</td>\n",
       "      <td>793.7</td>\n",
       "    </tr>\n",
       "    <tr>\n",
       "      <th>2</th>\n",
       "      <td>2005</td>\n",
       "      <td>Белгородская область</td>\n",
       "      <td>1512</td>\n",
       "      <td>8,7</td>\n",
       "      <td>503</td>\n",
       "      <td>618.6</td>\n",
       "    </tr>\n",
       "    <tr>\n",
       "      <th>3</th>\n",
       "      <td>2005</td>\n",
       "      <td>Брянская область</td>\n",
       "      <td>1327</td>\n",
       "      <td>12,0</td>\n",
       "      <td>575</td>\n",
       "      <td>1021.3</td>\n",
       "    </tr>\n",
       "    <tr>\n",
       "      <th>4</th>\n",
       "      <td>2005</td>\n",
       "      <td>Владимирская область</td>\n",
       "      <td>1486</td>\n",
       "      <td>9,3</td>\n",
       "      <td>570</td>\n",
       "      <td>1040.3</td>\n",
       "    </tr>\n",
       "  </tbody>\n",
       "</table>\n",
       "</div>"
      ],
      "text/plain": [
       "   date                          region population child_mort marriages  \\\n",
       "0  2005            Российская Федерация     143236       11,0       567   \n",
       "1  2005  Центральный  федеральный округ      38109       10,0       576   \n",
       "2  2005            Белгородская область       1512        8,7       503   \n",
       "3  2005                Брянская область       1327       12,0       575   \n",
       "4  2005            Владимирская область       1486        9,3       570   \n",
       "\n",
       "  work_age_mort  \n",
       "0         827.8  \n",
       "1         793.7  \n",
       "2         618.6  \n",
       "3        1021.3  \n",
       "4        1040.3  "
      ]
     },
     "execution_count": 9,
     "metadata": {},
     "output_type": "execute_result"
    }
   ],
   "source": [
    "demography_df.head()"
   ]
  },
  {
   "cell_type": "code",
   "execution_count": 10,
   "metadata": {},
   "outputs": [
    {
     "data": {
      "text/html": [
       "<div>\n",
       "<style scoped>\n",
       "    .dataframe tbody tr th:only-of-type {\n",
       "        vertical-align: middle;\n",
       "    }\n",
       "\n",
       "    .dataframe tbody tr th {\n",
       "        vertical-align: top;\n",
       "    }\n",
       "\n",
       "    .dataframe thead th {\n",
       "        text-align: right;\n",
       "    }\n",
       "</style>\n",
       "<table border=\"1\" class=\"dataframe\">\n",
       "  <thead>\n",
       "    <tr style=\"text-align: right;\">\n",
       "      <th></th>\n",
       "      <th>date</th>\n",
       "      <th>region</th>\n",
       "      <th>urban_rural_stat</th>\n",
       "      <th>urban_rural_val</th>\n",
       "    </tr>\n",
       "  </thead>\n",
       "  <tbody>\n",
       "    <tr>\n",
       "      <th>0</th>\n",
       "      <td>2005</td>\n",
       "      <td>Российская Федерация</td>\n",
       "      <td>Городское население</td>\n",
       "      <td>73.2</td>\n",
       "    </tr>\n",
       "    <tr>\n",
       "      <th>1</th>\n",
       "      <td>2005</td>\n",
       "      <td>Центральный  федеральный округ</td>\n",
       "      <td>Городское население</td>\n",
       "      <td>80.4</td>\n",
       "    </tr>\n",
       "    <tr>\n",
       "      <th>2</th>\n",
       "      <td>2005</td>\n",
       "      <td>Белгородская область</td>\n",
       "      <td>Городское население</td>\n",
       "      <td>65.6</td>\n",
       "    </tr>\n",
       "    <tr>\n",
       "      <th>3</th>\n",
       "      <td>2005</td>\n",
       "      <td>Брянская область</td>\n",
       "      <td>Городское население</td>\n",
       "      <td>68.3</td>\n",
       "    </tr>\n",
       "    <tr>\n",
       "      <th>4</th>\n",
       "      <td>2005</td>\n",
       "      <td>Владимирская область</td>\n",
       "      <td>Городское население</td>\n",
       "      <td>77.2</td>\n",
       "    </tr>\n",
       "  </tbody>\n",
       "</table>\n",
       "</div>"
      ],
      "text/plain": [
       "   date                          region     urban_rural_stat urban_rural_val\n",
       "0  2005            Российская Федерация  Городское население            73.2\n",
       "1  2005  Центральный  федеральный округ  Городское население            80.4\n",
       "2  2005            Белгородская область  Городское население            65.6\n",
       "3  2005                Брянская область  Городское население            68.3\n",
       "4  2005            Владимирская область  Городское население            77.2"
      ]
     },
     "execution_count": 10,
     "metadata": {},
     "output_type": "execute_result"
    }
   ],
   "source": [
    "urban_rural_df.head()"
   ]
  },
  {
   "cell_type": "code",
   "execution_count": 11,
   "metadata": {},
   "outputs": [
    {
     "data": {
      "text/html": [
       "<div>\n",
       "<style scoped>\n",
       "    .dataframe tbody tr th:only-of-type {\n",
       "        vertical-align: middle;\n",
       "    }\n",
       "\n",
       "    .dataframe tbody tr th {\n",
       "        vertical-align: top;\n",
       "    }\n",
       "\n",
       "    .dataframe thead th {\n",
       "        text-align: right;\n",
       "    }\n",
       "</style>\n",
       "<table border=\"1\" class=\"dataframe\">\n",
       "  <thead>\n",
       "    <tr style=\"text-align: right;\">\n",
       "      <th></th>\n",
       "      <th>date</th>\n",
       "      <th>lifespan_sex</th>\n",
       "      <th>lifespan_val</th>\n",
       "      <th>region</th>\n",
       "    </tr>\n",
       "  </thead>\n",
       "  <tbody>\n",
       "    <tr>\n",
       "      <th>0</th>\n",
       "      <td>2005</td>\n",
       "      <td>Все население</td>\n",
       "      <td>65.37</td>\n",
       "      <td>Российская Федерация</td>\n",
       "    </tr>\n",
       "    <tr>\n",
       "      <th>1</th>\n",
       "      <td>2005</td>\n",
       "      <td>Все население</td>\n",
       "      <td>66.50</td>\n",
       "      <td>Центральный  федеральный округ</td>\n",
       "    </tr>\n",
       "    <tr>\n",
       "      <th>2</th>\n",
       "      <td>2005</td>\n",
       "      <td>Все население</td>\n",
       "      <td>68.43</td>\n",
       "      <td>Белгородская область</td>\n",
       "    </tr>\n",
       "    <tr>\n",
       "      <th>3</th>\n",
       "      <td>2005</td>\n",
       "      <td>Все население</td>\n",
       "      <td>63.40</td>\n",
       "      <td>Брянская область</td>\n",
       "    </tr>\n",
       "    <tr>\n",
       "      <th>4</th>\n",
       "      <td>2005</td>\n",
       "      <td>Все население</td>\n",
       "      <td>63.51</td>\n",
       "      <td>Владимирская область</td>\n",
       "    </tr>\n",
       "  </tbody>\n",
       "</table>\n",
       "</div>"
      ],
      "text/plain": [
       "   date   lifespan_sex lifespan_val                          region\n",
       "0  2005  Все население        65.37            Российская Федерация\n",
       "1  2005  Все население        66.50  Центральный  федеральный округ\n",
       "2  2005  Все население        68.43            Белгородская область\n",
       "3  2005  Все население        63.40                Брянская область\n",
       "4  2005  Все население        63.51            Владимирская область"
      ]
     },
     "execution_count": 11,
     "metadata": {},
     "output_type": "execute_result"
    }
   ],
   "source": [
    "lifespan_df.head()"
   ]
  },
  {
   "cell_type": "markdown",
   "metadata": {},
   "source": [
    "## Сборка pd.DataFrame из .docx для Здравоохранения"
   ]
  },
  {
   "cell_type": "markdown",
   "metadata": {},
   "source": [
    "### Таблица: Здравоохранение"
   ]
  },
  {
   "cell_type": "code",
   "execution_count": 12,
   "metadata": {},
   "outputs": [],
   "source": [
    "data_health = pd.DataFrame(columns=['date','region','stat','hosp_beds','doctors','abortion', 'clinics_capacity', 'nursing_staff'])\n",
    "\n",
    "table = hosp_beds_docx\n",
    "\n",
    "for i in range(2): \n",
    "    for j in range(14):\n",
    "        for k in range(len(table[i])-2):\n",
    "            \n",
    "            if bool(unicodedata.normalize(\"NFKD\", table[i][k+2][j+1].decode('utf-8')).strip()):\n",
    "                date = table[i][1][j+1].decode('utf-8')\n",
    "                region = table[i][k+2][0].decode('utf-8')\n",
    "                if any(c.isalpha() for c in table[i][k+2][j+1].decode('utf-8'))*1 == 0:\n",
    "                    if table[i][k+2][j+1].decode('utf-8') != '…':\n",
    "                        hosp_beds = table[i][k+2][j+1].decode('utf-8')\n",
    "                        hosp_beds = re.sub(',', '.', hosp_beds)\n",
    "                        \n",
    "                        doctors = doctors_docx[i][k+2][j+1].decode('utf-8')\n",
    "                        doctors = re.sub(',', '.', doctors)\n",
    "                        \n",
    "                        abortion = abortion_docx[i][k+2][j+1].decode('utf-8')\n",
    "                        abortion = re.sub(',', '.', abortion)\n",
    "                        \n",
    "                        clinics_capacity = clinics_capacity_docx[i][k+2][j+1].decode('utf-8')\n",
    "                        clinics_capacity = re.sub(',', '.', clinics_capacity)\n",
    "                        \n",
    "                        nursing_staff = nursing_staff_docx[i][k+2][j+1].decode('utf-8')\n",
    "                        nursing_staff = re.sub(',', '.', nursing_staff)\n",
    "                        \n",
    "                    else:\n",
    "                        hosp_beds = 0\n",
    "                        doctors = 0\n",
    "                        abortion = 0\n",
    "                        clinics_capacity = 0\n",
    "                        nursing_staff = 0\n",
    "                        \n",
    "                    stat = re.sub(' коек', '', hosp_beds_docx[i][0][j+1].decode('utf-8'))\n",
    "                    \n",
    "                    data_health = data_health.append({\n",
    "                                'date': date, \n",
    "                                'region': region, \n",
    "                                'stat': stat,\n",
    "                                'hosp_beds': hosp_beds,\n",
    "                                'doctors': doctors,\n",
    "                                'abortion': abortion,\n",
    "                                'clinics_capacity': clinics_capacity,\n",
    "                                'nursing_staff': nursing_staff}, \n",
    "                                ignore_index=True)"
   ]
  },
  {
   "cell_type": "markdown",
   "metadata": {},
   "source": [
    "Проверка данных"
   ]
  },
  {
   "cell_type": "code",
   "execution_count": 13,
   "metadata": {},
   "outputs": [
    {
     "data": {
      "text/html": [
       "<div>\n",
       "<style scoped>\n",
       "    .dataframe tbody tr th:only-of-type {\n",
       "        vertical-align: middle;\n",
       "    }\n",
       "\n",
       "    .dataframe tbody tr th {\n",
       "        vertical-align: top;\n",
       "    }\n",
       "\n",
       "    .dataframe thead th {\n",
       "        text-align: right;\n",
       "    }\n",
       "</style>\n",
       "<table border=\"1\" class=\"dataframe\">\n",
       "  <thead>\n",
       "    <tr style=\"text-align: right;\">\n",
       "      <th></th>\n",
       "      <th>date</th>\n",
       "      <th>region</th>\n",
       "      <th>stat</th>\n",
       "      <th>hosp_beds</th>\n",
       "      <th>doctors</th>\n",
       "      <th>abortion</th>\n",
       "      <th>clinics_capacity</th>\n",
       "      <th>nursing_staff</th>\n",
       "    </tr>\n",
       "  </thead>\n",
       "  <tbody>\n",
       "    <tr>\n",
       "      <th>0</th>\n",
       "      <td>2005</td>\n",
       "      <td>Российская Федерация</td>\n",
       "      <td>Всего, тыс.</td>\n",
       "      <td>1575.4</td>\n",
       "      <td>690.3</td>\n",
       "      <td>43</td>\n",
       "      <td>3637.9</td>\n",
       "      <td>1529.8</td>\n",
       "    </tr>\n",
       "    <tr>\n",
       "      <th>1</th>\n",
       "      <td>2005</td>\n",
       "      <td>Центральный  федеральный округ</td>\n",
       "      <td>Всего, тыс.</td>\n",
       "      <td>428.2</td>\n",
       "      <td>193.9</td>\n",
       "      <td>34</td>\n",
       "      <td>1024.9</td>\n",
       "      <td>389.4</td>\n",
       "    </tr>\n",
       "    <tr>\n",
       "      <th>2</th>\n",
       "      <td>2005</td>\n",
       "      <td>Белгородская область</td>\n",
       "      <td>Всего, тыс.</td>\n",
       "      <td>16.9</td>\n",
       "      <td>6.0</td>\n",
       "      <td>31</td>\n",
       "      <td>33.9</td>\n",
       "      <td>17.8</td>\n",
       "    </tr>\n",
       "    <tr>\n",
       "      <th>3</th>\n",
       "      <td>2005</td>\n",
       "      <td>Брянская область</td>\n",
       "      <td>Всего, тыс.</td>\n",
       "      <td>16.9</td>\n",
       "      <td>4.8</td>\n",
       "      <td>47</td>\n",
       "      <td>29.8</td>\n",
       "      <td>15.1</td>\n",
       "    </tr>\n",
       "    <tr>\n",
       "      <th>4</th>\n",
       "      <td>2005</td>\n",
       "      <td>Владимирская область</td>\n",
       "      <td>Всего, тыс.</td>\n",
       "      <td>15.5</td>\n",
       "      <td>5.0</td>\n",
       "      <td>46</td>\n",
       "      <td>44.6</td>\n",
       "      <td>15.1</td>\n",
       "    </tr>\n",
       "  </tbody>\n",
       "</table>\n",
       "</div>"
      ],
      "text/plain": [
       "   date                          region         stat hosp_beds doctors  \\\n",
       "0  2005            Российская Федерация  Всего, тыс.    1575.4   690.3   \n",
       "1  2005  Центральный  федеральный округ  Всего, тыс.     428.2   193.9   \n",
       "2  2005            Белгородская область  Всего, тыс.      16.9     6.0   \n",
       "3  2005                Брянская область  Всего, тыс.      16.9     4.8   \n",
       "4  2005            Владимирская область  Всего, тыс.      15.5     5.0   \n",
       "\n",
       "  abortion clinics_capacity nursing_staff  \n",
       "0       43           3637.9        1529.8  \n",
       "1       34           1024.9         389.4  \n",
       "2       31             33.9          17.8  \n",
       "3       47             29.8          15.1  \n",
       "4       46             44.6          15.1  "
      ]
     },
     "execution_count": 13,
     "metadata": {},
     "output_type": "execute_result"
    }
   ],
   "source": [
    "data_health.head()"
   ]
  },
  {
   "cell_type": "markdown",
   "metadata": {},
   "source": [
    "## Передобработка данных"
   ]
  },
  {
   "cell_type": "markdown",
   "metadata": {},
   "source": [
    "Устанавливаю соответсвующие типы данных"
   ]
  },
  {
   "cell_type": "code",
   "execution_count": 14,
   "metadata": {},
   "outputs": [],
   "source": [
    "demography_df['date'] = pd.to_datetime(demography_df['date'], format='%Y')\n",
    "demography_df['population'] = demography_df['population'].astype('int')\n",
    "demography_df['child_mort'] = demography_df['population'].astype('float')\n",
    "demography_df['marriages'] = demography_df['marriages'].astype('int')\n",
    "demography_df['work_age_mort'] = demography_df['work_age_mort'].astype('float')\n",
    "\n",
    "lifespan_df['date'] = pd.to_datetime(lifespan_df['date'], format='%Y')\n",
    "lifespan_df['lifespan_val'] = lifespan_df['lifespan_val'].astype('float')\n",
    "\n",
    "urban_rural_df['date'] = pd.to_datetime(urban_rural_df['date'], format='%Y')\n",
    "urban_rural_df['urban_rural_val'] = urban_rural_df['urban_rural_val'].astype('float')"
   ]
  },
  {
   "cell_type": "code",
   "execution_count": 15,
   "metadata": {},
   "outputs": [],
   "source": [
    "data_health['date'] = pd.to_datetime(data_health['date'], format='%Y')\n",
    "data_health['hosp_beds'] = data_health['hosp_beds'].astype('float')\n",
    "data_health['doctors'] = data_health['doctors'].astype('float')\n",
    "data_health['abortion'] = data_health['abortion'].astype('int')\n",
    "data_health['clinics_capacity'] = data_health['clinics_capacity'].astype('float')\n",
    "data_health['nursing_staff'] = data_health['nursing_staff'].astype('float')"
   ]
  },
  {
   "cell_type": "markdown",
   "metadata": {},
   "source": [
    "Проверяю данные"
   ]
  },
  {
   "cell_type": "code",
   "execution_count": 18,
   "metadata": {},
   "outputs": [
    {
     "name": "stdout",
     "output_type": "stream",
     "text": [
      "<class 'pandas.core.frame.DataFrame'>\n",
      "RangeIndex: 950 entries, 0 to 949\n",
      "Data columns (total 6 columns):\n",
      " #   Column         Non-Null Count  Dtype         \n",
      "---  ------         --------------  -----         \n",
      " 0   date           950 non-null    datetime64[ns]\n",
      " 1   region         950 non-null    object        \n",
      " 2   population     950 non-null    int32         \n",
      " 3   child_mort     950 non-null    float64       \n",
      " 4   marriages      950 non-null    int32         \n",
      " 5   work_age_mort  950 non-null    float64       \n",
      "dtypes: datetime64[ns](1), float64(2), int32(2), object(1)\n",
      "memory usage: 37.2+ KB\n"
     ]
    }
   ],
   "source": [
    "demography_df.info()"
   ]
  },
  {
   "cell_type": "code",
   "execution_count": 24,
   "metadata": {},
   "outputs": [
    {
     "name": "stdout",
     "output_type": "stream",
     "text": [
      "<class 'pandas.core.frame.DataFrame'>\n",
      "RangeIndex: 2816 entries, 0 to 2815\n",
      "Data columns (total 4 columns):\n",
      " #   Column        Non-Null Count  Dtype         \n",
      "---  ------        --------------  -----         \n",
      " 0   date          2816 non-null   datetime64[ns]\n",
      " 1   lifespan_sex  2816 non-null   object        \n",
      " 2   lifespan_val  2816 non-null   float64       \n",
      " 3   region        2816 non-null   object        \n",
      "dtypes: datetime64[ns](1), float64(1), object(2)\n",
      "memory usage: 88.1+ KB\n"
     ]
    }
   ],
   "source": [
    "lifespan_df.info()"
   ]
  },
  {
   "cell_type": "code",
   "execution_count": 23,
   "metadata": {},
   "outputs": [
    {
     "name": "stdout",
     "output_type": "stream",
     "text": [
      "<class 'pandas.core.frame.DataFrame'>\n",
      "RangeIndex: 1336 entries, 0 to 1335\n",
      "Data columns (total 4 columns):\n",
      " #   Column            Non-Null Count  Dtype         \n",
      "---  ------            --------------  -----         \n",
      " 0   date              1336 non-null   datetime64[ns]\n",
      " 1   region            1336 non-null   object        \n",
      " 2   urban_rural_stat  1336 non-null   object        \n",
      " 3   urban_rural_val   1336 non-null   float64       \n",
      "dtypes: datetime64[ns](1), float64(1), object(2)\n",
      "memory usage: 41.9+ KB\n"
     ]
    }
   ],
   "source": [
    "urban_rural_df.info()"
   ]
  },
  {
   "cell_type": "code",
   "execution_count": 26,
   "metadata": {},
   "outputs": [
    {
     "name": "stdout",
     "output_type": "stream",
     "text": [
      "<class 'pandas.core.frame.DataFrame'>\n",
      "RangeIndex: 1336 entries, 0 to 1335\n",
      "Data columns (total 8 columns):\n",
      " #   Column            Non-Null Count  Dtype         \n",
      "---  ------            --------------  -----         \n",
      " 0   date              1336 non-null   datetime64[ns]\n",
      " 1   region            1336 non-null   object        \n",
      " 2   stat              1336 non-null   object        \n",
      " 3   hosp_beds         1336 non-null   float64       \n",
      " 4   doctors           1336 non-null   float64       \n",
      " 5   abortion          1336 non-null   int32         \n",
      " 6   clinics_capacity  1336 non-null   float64       \n",
      " 7   nursing_staff     1336 non-null   float64       \n",
      "dtypes: datetime64[ns](1), float64(4), int32(1), object(2)\n",
      "memory usage: 78.4+ KB\n"
     ]
    }
   ],
   "source": [
    "data_health.info()"
   ]
  },
  {
   "cell_type": "markdown",
   "metadata": {},
   "source": [
    "## Проблема объединения данных"
   ]
  },
  {
   "cell_type": "markdown",
   "metadata": {},
   "source": [
    "Проверим количество срок в каждой из таблиц"
   ]
  },
  {
   "cell_type": "code",
   "execution_count": 359,
   "metadata": {},
   "outputs": [
    {
     "name": "stdout",
     "output_type": "stream",
     "text": [
      "950\n",
      "2816\n",
      "1336\n",
      "1336\n"
     ]
    }
   ],
   "source": [
    "print(len(demography_df))\n",
    "print(len(lifespan_df))\n",
    "print(len(urban_rural_df))\n",
    "print(len(data_health))"
   ]
  },
  {
   "cell_type": "markdown",
   "metadata": {},
   "source": [
    "Как видно длина у таблиц разная, что указывает на то, что не получится просто собрать их все в одну. Можно попробовать объединить их по бщему ключу, например дате и региону, но тогда могут возникнуть проблемы удвения данных. Несмотря на то что число строк для последних вдух таблиц одинаково, их все равно нельзя объединить без удвоения данных, поскольку данные по урбенизации разбиты по категориям город/село, а данные по здоровью разбиты по все тыс / на 10 тыс челоек."
   ]
  },
  {
   "cell_type": "markdown",
   "metadata": {},
   "source": [
    "Объедининение данных таблицы по плотности городского / сельского населения с основной таблицой с демографическими данными."
   ]
  },
  {
   "cell_type": "code",
   "execution_count": 273,
   "metadata": {},
   "outputs": [
    {
     "data": {
      "text/html": [
       "<div>\n",
       "<style scoped>\n",
       "    .dataframe tbody tr th:only-of-type {\n",
       "        vertical-align: middle;\n",
       "    }\n",
       "\n",
       "    .dataframe tbody tr th {\n",
       "        vertical-align: top;\n",
       "    }\n",
       "\n",
       "    .dataframe thead th {\n",
       "        text-align: right;\n",
       "    }\n",
       "</style>\n",
       "<table border=\"1\" class=\"dataframe\">\n",
       "  <thead>\n",
       "    <tr style=\"text-align: right;\">\n",
       "      <th></th>\n",
       "      <th>date</th>\n",
       "      <th>region</th>\n",
       "      <th>population</th>\n",
       "      <th>child_mort</th>\n",
       "      <th>marriages</th>\n",
       "      <th>work_age_mort</th>\n",
       "      <th>urban_rural_stat</th>\n",
       "      <th>urban_rural_val</th>\n",
       "    </tr>\n",
       "  </thead>\n",
       "  <tbody>\n",
       "    <tr>\n",
       "      <th>0</th>\n",
       "      <td>2005-01-01</td>\n",
       "      <td>Российская Федерация</td>\n",
       "      <td>143236</td>\n",
       "      <td>143236.0</td>\n",
       "      <td>567</td>\n",
       "      <td>827.8</td>\n",
       "      <td>Городское население</td>\n",
       "      <td>73.2</td>\n",
       "    </tr>\n",
       "    <tr>\n",
       "      <th>1</th>\n",
       "      <td>2005-01-01</td>\n",
       "      <td>Российская Федерация</td>\n",
       "      <td>143236</td>\n",
       "      <td>143236.0</td>\n",
       "      <td>567</td>\n",
       "      <td>827.8</td>\n",
       "      <td>Сельское население</td>\n",
       "      <td>26.8</td>\n",
       "    </tr>\n",
       "    <tr>\n",
       "      <th>2</th>\n",
       "      <td>2005-01-01</td>\n",
       "      <td>Центральный  федеральный округ</td>\n",
       "      <td>38109</td>\n",
       "      <td>38109.0</td>\n",
       "      <td>576</td>\n",
       "      <td>793.7</td>\n",
       "      <td>Городское население</td>\n",
       "      <td>80.4</td>\n",
       "    </tr>\n",
       "    <tr>\n",
       "      <th>3</th>\n",
       "      <td>2005-01-01</td>\n",
       "      <td>Центральный  федеральный округ</td>\n",
       "      <td>38109</td>\n",
       "      <td>38109.0</td>\n",
       "      <td>576</td>\n",
       "      <td>793.7</td>\n",
       "      <td>Сельское население</td>\n",
       "      <td>19.6</td>\n",
       "    </tr>\n",
       "    <tr>\n",
       "      <th>4</th>\n",
       "      <td>2005-01-01</td>\n",
       "      <td>Белгородская область</td>\n",
       "      <td>1512</td>\n",
       "      <td>1512.0</td>\n",
       "      <td>503</td>\n",
       "      <td>618.6</td>\n",
       "      <td>Городское население</td>\n",
       "      <td>65.6</td>\n",
       "    </tr>\n",
       "  </tbody>\n",
       "</table>\n",
       "</div>"
      ],
      "text/plain": [
       "        date                          region  population  child_mort  \\\n",
       "0 2005-01-01            Российская Федерация      143236    143236.0   \n",
       "1 2005-01-01            Российская Федерация      143236    143236.0   \n",
       "2 2005-01-01  Центральный  федеральный округ       38109     38109.0   \n",
       "3 2005-01-01  Центральный  федеральный округ       38109     38109.0   \n",
       "4 2005-01-01            Белгородская область        1512      1512.0   \n",
       "\n",
       "   marriages  work_age_mort     urban_rural_stat  urban_rural_val  \n",
       "0        567          827.8  Городское население             73.2  \n",
       "1        567          827.8   Сельское население             26.8  \n",
       "2        576          793.7  Городское население             80.4  \n",
       "3        576          793.7   Сельское население             19.6  \n",
       "4        503          618.6  Городское население             65.6  "
      ]
     },
     "execution_count": 273,
     "metadata": {},
     "output_type": "execute_result"
    }
   ],
   "source": [
    "data1 = demography_df\n",
    "data2 = lifespan_df\n",
    "data3 = urban_rural_df\n",
    "data4 = data_health\n",
    "\n",
    "data = data1.merge(data3,on=['date', 'region'])\n",
    "data.head()"
   ]
  },
  {
   "cell_type": "markdown",
   "metadata": {},
   "source": [
    "Как видно данные удваиваются. Точно так же будет, если объединять таблицу с продолжительньностью жизни для разных полов и общей таблицей. Лучше оставить данные в трех отдельных таблицах. Не вижу необходимости дополнительно создавать индексы, когда есть названия регионов и годы - их можно использовать для объединения таблиц, по необходимости."
   ]
  },
  {
   "cell_type": "markdown",
   "metadata": {},
   "source": [
    "### Coхраняю данные в csv"
   ]
  },
  {
   "cell_type": "code",
   "execution_count": null,
   "metadata": {},
   "outputs": [],
   "source": [
    "demography_df.to_csv(r'C:\\Users\\nikita\\Documents\\DataScience\\Projects\\demography_df.csv', index = False)\n",
    "lifespan_df.to_csv(r'C:\\Users\\nikita\\Documents\\DataScience\\Projects\\lifespan_df.csv', index = False)\n",
    "urban_rural_df.to_csv(r'C:\\Users\\nikita\\Documents\\DataScience\\Projects\\urban_rural_df.csv', index = False)\n",
    "data_health.to_csv(r'C:\\Users\\nikita\\Documents\\DataScience\\Projects\\data_health.csv', index = False)"
   ]
  },
  {
   "cell_type": "markdown",
   "metadata": {},
   "source": [
    "## Создаю СУБД SQL"
   ]
  },
  {
   "cell_type": "code",
   "execution_count": 1,
   "metadata": {},
   "outputs": [],
   "source": [
    "#!pip install ipython-sql"
   ]
  },
  {
   "cell_type": "code",
   "execution_count": 1,
   "metadata": {},
   "outputs": [],
   "source": [
    "%load_ext sql"
   ]
  },
  {
   "cell_type": "code",
   "execution_count": 2,
   "metadata": {},
   "outputs": [],
   "source": [
    "import sqlite3\n",
    "import pandas as pd\n",
    "from pandas import DataFrame"
   ]
  },
  {
   "cell_type": "markdown",
   "metadata": {},
   "source": [
    "#### Загружаю сохраненные данные csv"
   ]
  },
  {
   "cell_type": "code",
   "execution_count": 3,
   "metadata": {},
   "outputs": [],
   "source": [
    "demography_df = pd.read_csv(r'C:\\Users\\nikita\\Documents\\DataScience\\Projects\\demography_df.csv')\n",
    "lifespan_df = pd.read_csv(r'C:\\Users\\nikita\\Documents\\DataScience\\Projects\\lifespan_df.csv')\n",
    "urban_rural_df = pd.read_csv(r'C:\\Users\\nikita\\Documents\\DataScience\\Projects\\urban_rural_df.csv')\n",
    "data_health = pd.read_csv(r'C:\\Users\\nikita\\Documents\\DataScience\\Projects\\data_health.csv')"
   ]
  },
  {
   "cell_type": "markdown",
   "metadata": {},
   "source": [
    "#### Создаю БД"
   ]
  },
  {
   "cell_type": "code",
   "execution_count": 4,
   "metadata": {},
   "outputs": [],
   "source": [
    "conn = sqlite3.connect('DemoHealthDB.db')  \n",
    "c = conn.cursor()"
   ]
  },
  {
   "cell_type": "code",
   "execution_count": 5,
   "metadata": {},
   "outputs": [],
   "source": [
    "# Create table - DEMO\n",
    "c.execute('''CREATE TABLE DEMO\n",
    "             ([generated_id] INTEGER PRIMARY KEY,[date] date, [region] text, [population] integer, [child_mort] float, [marriages] integer, [work_age_mort] float)''')\n",
    "\n",
    "# Create table - LIFESPAN\n",
    "c.execute('''CREATE TABLE LIFESPAN\n",
    "             ([generated_d] INTEGER PRIMARY KEY,[date] date, [lifespan_sex] text, [lifespan_val] float, [region] text)''')\n",
    "\n",
    "# Create table - URBRUR\n",
    "c.execute('''CREATE TABLE URBRUR\n",
    "             ([generated_d] INTEGER PRIMARY KEY,[date] date, [region] text, [urban_rural_stat] text, [urban_rural_val] float)''')\n",
    "\n",
    "# Create table - HEALTH\n",
    "c.execute('''CREATE TABLE HEALTH\n",
    "             ([generated_id] INTEGER PRIMARY KEY,[date] date, [region] text, [stat] text, [hosp_beds] float, [doctors] float, [abortion] integer, [clinics_capacity] float, [nursing_staff] float)''')\n",
    "\n",
    "conn.commit()"
   ]
  },
  {
   "cell_type": "markdown",
   "metadata": {},
   "source": [
    "#### Загружаю в БД csv"
   ]
  },
  {
   "cell_type": "code",
   "execution_count": 6,
   "metadata": {},
   "outputs": [],
   "source": [
    "demography_df.to_sql('DEMO', conn, if_exists='append', index = False) \n",
    "lifespan_df.to_sql('LIFESPAN', conn, if_exists='append', index = False)\n",
    "urban_rural_df.to_sql('URBRUR', conn, if_exists='append', index = False) \n",
    "data_health.to_sql('HEALTH', conn, if_exists='append', index = False)"
   ]
  },
  {
   "cell_type": "code",
   "execution_count": 7,
   "metadata": {},
   "outputs": [],
   "source": [
    "%sql sqlite:////Users/nikita/Documents/DataScience/Projects/DemoHealthDB.db"
   ]
  },
  {
   "cell_type": "code",
   "execution_count": 8,
   "metadata": {},
   "outputs": [
    {
     "name": "stdout",
     "output_type": "stream",
     "text": [
      " * sqlite:////Users/nikita/Documents/DataScience/Projects/DemoHealthDB.db\n",
      "Done.\n"
     ]
    },
    {
     "data": {
      "text/html": [
       "<table>\n",
       "    <tr>\n",
       "        <th>region</th>\n",
       "    </tr>\n",
       "    <tr>\n",
       "        <td>Российская Федерация</td>\n",
       "    </tr>\n",
       "    <tr>\n",
       "        <td>Центральный  федеральный округ</td>\n",
       "    </tr>\n",
       "    <tr>\n",
       "        <td>Белгородская область</td>\n",
       "    </tr>\n",
       "    <tr>\n",
       "        <td>Брянская область</td>\n",
       "    </tr>\n",
       "    <tr>\n",
       "        <td>Владимирская область</td>\n",
       "    </tr>\n",
       "    <tr>\n",
       "        <td>Воронежская область</td>\n",
       "    </tr>\n",
       "    <tr>\n",
       "        <td>Ивановская область</td>\n",
       "    </tr>\n",
       "    <tr>\n",
       "        <td>Калужская область</td>\n",
       "    </tr>\n",
       "    <tr>\n",
       "        <td>Костромская область</td>\n",
       "    </tr>\n",
       "    <tr>\n",
       "        <td>Курская область</td>\n",
       "    </tr>\n",
       "    <tr>\n",
       "        <td>Липецкая область</td>\n",
       "    </tr>\n",
       "    <tr>\n",
       "        <td>Московская область</td>\n",
       "    </tr>\n",
       "    <tr>\n",
       "        <td>Орловская область</td>\n",
       "    </tr>\n",
       "    <tr>\n",
       "        <td>Рязанская область</td>\n",
       "    </tr>\n",
       "    <tr>\n",
       "        <td>Смоленская область</td>\n",
       "    </tr>\n",
       "    <tr>\n",
       "        <td>Тамбовская область</td>\n",
       "    </tr>\n",
       "    <tr>\n",
       "        <td>Тверская область</td>\n",
       "    </tr>\n",
       "    <tr>\n",
       "        <td>Тульская область</td>\n",
       "    </tr>\n",
       "    <tr>\n",
       "        <td>Ярославская область</td>\n",
       "    </tr>\n",
       "    <tr>\n",
       "        <td>г. Москва</td>\n",
       "    </tr>\n",
       "    <tr>\n",
       "        <td>Северо-Западный  федеральный округ</td>\n",
       "    </tr>\n",
       "    <tr>\n",
       "        <td>Республика Карелия</td>\n",
       "    </tr>\n",
       "    <tr>\n",
       "        <td>Республика Коми</td>\n",
       "    </tr>\n",
       "    <tr>\n",
       "        <td>Архангельская область</td>\n",
       "    </tr>\n",
       "    <tr>\n",
       "        <td>Ненецкий автономный округ</td>\n",
       "    </tr>\n",
       "    <tr>\n",
       "        <td>Архангельская область  без автономного округа</td>\n",
       "    </tr>\n",
       "    <tr>\n",
       "        <td>Вологодская область</td>\n",
       "    </tr>\n",
       "    <tr>\n",
       "        <td>Калининградская область</td>\n",
       "    </tr>\n",
       "    <tr>\n",
       "        <td>Ленинградская область</td>\n",
       "    </tr>\n",
       "    <tr>\n",
       "        <td>Мурманская область</td>\n",
       "    </tr>\n",
       "    <tr>\n",
       "        <td>Новгородская область</td>\n",
       "    </tr>\n",
       "    <tr>\n",
       "        <td>Псковская область</td>\n",
       "    </tr>\n",
       "    <tr>\n",
       "        <td>г. Санкт-Петербург</td>\n",
       "    </tr>\n",
       "    <tr>\n",
       "        <td>Южный  федеральный округ</td>\n",
       "    </tr>\n",
       "    <tr>\n",
       "        <td>Республика Адыгея</td>\n",
       "    </tr>\n",
       "    <tr>\n",
       "        <td>Республика Калмыкия</td>\n",
       "    </tr>\n",
       "    <tr>\n",
       "        <td>Краснодарский край</td>\n",
       "    </tr>\n",
       "    <tr>\n",
       "        <td>Астраханская область</td>\n",
       "    </tr>\n",
       "    <tr>\n",
       "        <td>Волгоградская область</td>\n",
       "    </tr>\n",
       "    <tr>\n",
       "        <td>Ростовская область</td>\n",
       "    </tr>\n",
       "    <tr>\n",
       "        <td>Северо-Кавказский  федеральный округ</td>\n",
       "    </tr>\n",
       "    <tr>\n",
       "        <td>Республика Дагестан</td>\n",
       "    </tr>\n",
       "    <tr>\n",
       "        <td>Республика Ингушетия </td>\n",
       "    </tr>\n",
       "    <tr>\n",
       "        <td>Кабардино-Балкарская  Республика</td>\n",
       "    </tr>\n",
       "    <tr>\n",
       "        <td>Карачаево-Черкесская Республика</td>\n",
       "    </tr>\n",
       "    <tr>\n",
       "        <td>Республика Северная Осетия –  Алания</td>\n",
       "    </tr>\n",
       "    <tr>\n",
       "        <td>Чеченская Республика </td>\n",
       "    </tr>\n",
       "    <tr>\n",
       "        <td>Ставропольский край</td>\n",
       "    </tr>\n",
       "    <tr>\n",
       "        <td>Республика Крым</td>\n",
       "    </tr>\n",
       "    <tr>\n",
       "        <td>г. Севастополь</td>\n",
       "    </tr>\n",
       "    <tr>\n",
       "        <td>Приволжский  федеральный округ</td>\n",
       "    </tr>\n",
       "    <tr>\n",
       "        <td>Республика Башкортостан</td>\n",
       "    </tr>\n",
       "    <tr>\n",
       "        <td>Республика Марий Эл</td>\n",
       "    </tr>\n",
       "    <tr>\n",
       "        <td>Республика Мордовия</td>\n",
       "    </tr>\n",
       "    <tr>\n",
       "        <td>Республика Татарстан</td>\n",
       "    </tr>\n",
       "    <tr>\n",
       "        <td>Удмуртская Республика</td>\n",
       "    </tr>\n",
       "    <tr>\n",
       "        <td>Чувашская Республика</td>\n",
       "    </tr>\n",
       "    <tr>\n",
       "        <td>Пермский край</td>\n",
       "    </tr>\n",
       "    <tr>\n",
       "        <td>Кировская область</td>\n",
       "    </tr>\n",
       "    <tr>\n",
       "        <td>Нижегородская область </td>\n",
       "    </tr>\n",
       "    <tr>\n",
       "        <td>Оренбургская область</td>\n",
       "    </tr>\n",
       "    <tr>\n",
       "        <td>Пензенская область</td>\n",
       "    </tr>\n",
       "    <tr>\n",
       "        <td>Самарская область</td>\n",
       "    </tr>\n",
       "    <tr>\n",
       "        <td>Саратовская область</td>\n",
       "    </tr>\n",
       "    <tr>\n",
       "        <td>Ульяновская область</td>\n",
       "    </tr>\n",
       "    <tr>\n",
       "        <td>Уральский  федеральный округ</td>\n",
       "    </tr>\n",
       "    <tr>\n",
       "        <td>Курганская область</td>\n",
       "    </tr>\n",
       "    <tr>\n",
       "        <td>Свердловская область </td>\n",
       "    </tr>\n",
       "    <tr>\n",
       "        <td>Тюменская область</td>\n",
       "    </tr>\n",
       "    <tr>\n",
       "        <td>Ханты-Мансийский автономный  округ – Югра</td>\n",
       "    </tr>\n",
       "    <tr>\n",
       "        <td>Ямало-Ненецкий автономный  округ</td>\n",
       "    </tr>\n",
       "    <tr>\n",
       "        <td>Тюменская область  без автономных округов</td>\n",
       "    </tr>\n",
       "    <tr>\n",
       "        <td>Челябинская область</td>\n",
       "    </tr>\n",
       "    <tr>\n",
       "        <td>Сибирский  федеральный округ</td>\n",
       "    </tr>\n",
       "    <tr>\n",
       "        <td>Республика Алтай</td>\n",
       "    </tr>\n",
       "    <tr>\n",
       "        <td>Республика Тыва</td>\n",
       "    </tr>\n",
       "    <tr>\n",
       "        <td>Республика Хакасия</td>\n",
       "    </tr>\n",
       "    <tr>\n",
       "        <td>Алтайский край</td>\n",
       "    </tr>\n",
       "    <tr>\n",
       "        <td>Красноярский край</td>\n",
       "    </tr>\n",
       "    <tr>\n",
       "        <td>Иркутская область</td>\n",
       "    </tr>\n",
       "    <tr>\n",
       "        <td>Кемеровская область</td>\n",
       "    </tr>\n",
       "    <tr>\n",
       "        <td>Новосибирская область </td>\n",
       "    </tr>\n",
       "    <tr>\n",
       "        <td>Омская область</td>\n",
       "    </tr>\n",
       "    <tr>\n",
       "        <td>Томская область</td>\n",
       "    </tr>\n",
       "    <tr>\n",
       "        <td>Дальневосточный  федеральный округ</td>\n",
       "    </tr>\n",
       "    <tr>\n",
       "        <td>Республика Бурятия</td>\n",
       "    </tr>\n",
       "    <tr>\n",
       "        <td>Республика Саха (Якутия)</td>\n",
       "    </tr>\n",
       "    <tr>\n",
       "        <td>Забайкальский край</td>\n",
       "    </tr>\n",
       "    <tr>\n",
       "        <td>Камчатский край</td>\n",
       "    </tr>\n",
       "    <tr>\n",
       "        <td>Приморский край</td>\n",
       "    </tr>\n",
       "    <tr>\n",
       "        <td>Хабаровский край </td>\n",
       "    </tr>\n",
       "    <tr>\n",
       "        <td>Амурская область</td>\n",
       "    </tr>\n",
       "    <tr>\n",
       "        <td>Магаданская область</td>\n",
       "    </tr>\n",
       "    <tr>\n",
       "        <td>Сахалинская область</td>\n",
       "    </tr>\n",
       "    <tr>\n",
       "        <td>Еврейская автономная область</td>\n",
       "    </tr>\n",
       "    <tr>\n",
       "        <td>Чукотский автономный округ</td>\n",
       "    </tr>\n",
       "</table>"
      ],
      "text/plain": [
       "[('Российская Федерация',),\n",
       " ('Центральный  федеральный округ',),\n",
       " ('Белгородская область',),\n",
       " ('Брянская область',),\n",
       " ('Владимирская область',),\n",
       " ('Воронежская область',),\n",
       " ('Ивановская область',),\n",
       " ('Калужская область',),\n",
       " ('Костромская область',),\n",
       " ('Курская область',),\n",
       " ('Липецкая область',),\n",
       " ('Московская область',),\n",
       " ('Орловская область',),\n",
       " ('Рязанская область',),\n",
       " ('Смоленская область',),\n",
       " ('Тамбовская область',),\n",
       " ('Тверская область',),\n",
       " ('Тульская область',),\n",
       " ('Ярославская область',),\n",
       " ('г. Москва',),\n",
       " ('Северо-Западный  федеральный округ',),\n",
       " ('Республика Карелия',),\n",
       " ('Республика Коми',),\n",
       " ('Архангельская область',),\n",
       " ('Ненецкий автономный округ',),\n",
       " ('Архангельская область  без автономного округа',),\n",
       " ('Вологодская область',),\n",
       " ('Калининградская область',),\n",
       " ('Ленинградская область',),\n",
       " ('Мурманская область',),\n",
       " ('Новгородская область',),\n",
       " ('Псковская область',),\n",
       " ('г. Санкт-Петербург',),\n",
       " ('Южный  федеральный округ',),\n",
       " ('Республика Адыгея',),\n",
       " ('Республика Калмыкия',),\n",
       " ('Краснодарский край',),\n",
       " ('Астраханская область',),\n",
       " ('Волгоградская область',),\n",
       " ('Ростовская область',),\n",
       " ('Северо-Кавказский  федеральный округ',),\n",
       " ('Республика Дагестан',),\n",
       " ('Республика Ингушетия ',),\n",
       " ('Кабардино-Балкарская  Республика',),\n",
       " ('Карачаево-Черкесская Республика',),\n",
       " ('Республика Северная Осетия –  Алания',),\n",
       " ('Чеченская Республика ',),\n",
       " ('Ставропольский край',),\n",
       " ('Республика Крым',),\n",
       " ('г. Севастополь',),\n",
       " ('Приволжский  федеральный округ',),\n",
       " ('Республика Башкортостан',),\n",
       " ('Республика Марий Эл',),\n",
       " ('Республика Мордовия',),\n",
       " ('Республика Татарстан',),\n",
       " ('Удмуртская Республика',),\n",
       " ('Чувашская Республика',),\n",
       " ('Пермский край',),\n",
       " ('Кировская область',),\n",
       " ('Нижегородская область ',),\n",
       " ('Оренбургская область',),\n",
       " ('Пензенская область',),\n",
       " ('Самарская область',),\n",
       " ('Саратовская область',),\n",
       " ('Ульяновская область',),\n",
       " ('Уральский  федеральный округ',),\n",
       " ('Курганская область',),\n",
       " ('Свердловская область ',),\n",
       " ('Тюменская область',),\n",
       " ('Ханты-Мансийский автономный  округ – Югра',),\n",
       " ('Ямало-Ненецкий автономный  округ',),\n",
       " ('Тюменская область  без автономных округов',),\n",
       " ('Челябинская область',),\n",
       " ('Сибирский  федеральный округ',),\n",
       " ('Республика Алтай',),\n",
       " ('Республика Тыва',),\n",
       " ('Республика Хакасия',),\n",
       " ('Алтайский край',),\n",
       " ('Красноярский край',),\n",
       " ('Иркутская область',),\n",
       " ('Кемеровская область',),\n",
       " ('Новосибирская область ',),\n",
       " ('Омская область',),\n",
       " ('Томская область',),\n",
       " ('Дальневосточный  федеральный округ',),\n",
       " ('Республика Бурятия',),\n",
       " ('Республика Саха (Якутия)',),\n",
       " ('Забайкальский край',),\n",
       " ('Камчатский край',),\n",
       " ('Приморский край',),\n",
       " ('Хабаровский край ',),\n",
       " ('Амурская область',),\n",
       " ('Магаданская область',),\n",
       " ('Сахалинская область',),\n",
       " ('Еврейская автономная область',),\n",
       " ('Чукотский автономный округ',)]"
      ]
     },
     "execution_count": 8,
     "metadata": {},
     "output_type": "execute_result"
    }
   ],
   "source": [
    "%sql SELECT DISTINCT region from DEMO ;"
   ]
  },
  {
   "cell_type": "markdown",
   "metadata": {},
   "source": [
    "## Заключение\n",
    "\n",
    "Мною были собраны данные из статистического сборника \"Регионы России. Социально-экономические показатели - 2019 г.\" расположенного по адресу: https://rosstat.gov.ru/bgd/regl/b19_14p/Main.htm \n",
    "Я выбрал шесть показателей из раздела Демография и пять показателей из раздела Здоровье. Данные в сборнике представлены в неудобном для анализа виде - в docx файле в формате таблицы. Для того, чтобы достать оттуда данные, я использовал ряд библиотек из отрытых источников, в т.ч. на гитхаб. Полученные данные были неструктурированы и представляли собой набор символов, которые необходимо было отформатировать, почитисть и привести в читаемый вид. Кроме того, мною была продумана система организации данных таким образом, чтобы их было удобно агрегировать. Код полностью воспроизводим. Полученные алгоритмы выгрузки могут быть использованы для дальнейшей работы и частичной автоматизации процеса работы с данными из государственных источников данных. "
   ]
  },
  {
   "cell_type": "markdown",
   "metadata": {},
   "source": [
    "### Вспомогательный код\n",
    "Необходим для теста новых данных"
   ]
  },
  {
   "cell_type": "code",
   "execution_count": null,
   "metadata": {},
   "outputs": [],
   "source": [
    "table = doctors_docx\n",
    "\n",
    "for i in range(2): \n",
    "    for j in range(14):\n",
    "        for k in range(len(table[i])-2):\n",
    "            \n",
    "            if bool(unicodedata.normalize(\"NFKD\", table[i][k+2][j+1].decode('utf-8')).strip()):\n",
    "                if any(c.isalpha() for c in table[i][k+2][j+1].decode('utf-8'))*1 == 0:\n",
    "                    print(table[i][k+2][j+1].decode('utf-8'))\n",
    "\n",
    " "
   ]
  },
  {
   "cell_type": "code",
   "execution_count": null,
   "metadata": {},
   "outputs": [],
   "source": [
    "hosp_beds[0][1][1].decode('utf-8')"
   ]
  },
  {
   "cell_type": "code",
   "execution_count": null,
   "metadata": {},
   "outputs": [],
   "source": [
    "data = pd.DataFrame(columns=[])\n",
    "\n",
    "table = hosp_beds_docx\n",
    "\n",
    "for i in range(2): \n",
    "    for j in range(10):\n",
    "        for k in range(len(table[i])-1):\n",
    "            \n",
    "            if bool(unicodedata.normalize(\"NFKD\", table[i][k+1][j+1].decode('utf-8')).strip()):\n",
    "                date = table[i][0][j+1].decode('utf-8')\n",
    "                region = table[i][k+1][0].decode('utf-8')\n",
    "                value = table[i][k+1][j+1].decode('utf-8')\n",
    "\n",
    "                data = data.append({\n",
    "                            'date': date, \n",
    "                            'region': region, \n",
    "                            'population': value}, \n",
    "                            ignore_index=True)\n",
    "                \n",
    "data"
   ]
  }
 ],
 "metadata": {
  "kernelspec": {
   "display_name": "Python 3",
   "language": "python",
   "name": "python3"
  },
  "language_info": {
   "codemirror_mode": {
    "name": "ipython",
    "version": 3
   },
   "file_extension": ".py",
   "mimetype": "text/x-python",
   "name": "python",
   "nbconvert_exporter": "python",
   "pygments_lexer": "ipython3",
   "version": "3.7.6"
  }
 },
 "nbformat": 4,
 "nbformat_minor": 4
}
