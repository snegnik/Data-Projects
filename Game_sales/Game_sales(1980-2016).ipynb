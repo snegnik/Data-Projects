{
 "cells": [
  {
   "cell_type": "markdown",
   "metadata": {},
   "source": [
    "# Research data on sales and ratings of games\n",
    "\n",
    "This study focuses on the gaming industry. In particular, various factors affecting game sales are being studied. A large set of data is analyzed, including data on sales of games on three continents, from 1980 to 2016, released on various gaming platforms. Within the framework of the study, three major tasks were set: Compare platforms among each other; Compare genres; Explore regional specifics.\n",
    "\n",
    "**Data research plan:**\n",
    "1. General Info\n",
    "2. Data preparation\n",
    "    * 2.1. form, type, NA's\n",
    "    * 2.2. add total sales\n",
    "3. Data analysis\n",
    "    * 3.1. Game releases\n",
    "    * 3.2. The popularity of gaming platforms\n",
    "        * 3.2.1. Life cicle (from year to year)\n",
    "        * 3.2.2. Potentialy profitable platforms\n",
    "        * 3.2.3. Box plot and average\n",
    "    * 3.3. Correlation between reviews and sales\n",
    "    * 3.4. Comparison same games on different platforms\n",
    "    * 3.5. Discovery of the gemves genre\n",
    "4. Regional specifics\n",
    "    * 4.1. The top five platforms\n",
    "    * 4.2. The top five genres\n",
    "    * 4.3. Affect of ESRB to sales \n",
    "5. Hypotheses testing\n",
    "    * 5.1. Average user ratings of the Xbox One and PC platforms are the same\n",
    "    * 5.2. Average user ratings for the Action and Sports genres are different.\n",
    "6. General Conclusion"
   ]
  },
  {
   "cell_type": "code",
   "execution_count": 1,
   "metadata": {},
   "outputs": [],
   "source": [
    "#import necessary packages\n",
    "import pandas as pd\n",
    "import os\n",
    "import warnings #disable commands\n",
    "warnings.filterwarnings('ignore')\n",
    "import matplotlib.pyplot as plt \n",
    "import numpy as np\n",
    "import seaborn as sns\n",
    "from scipy import stats as st"
   ]
  },
  {
   "cell_type": "markdown",
   "metadata": {},
   "source": [
    "## 1. General information"
   ]
  },
  {
   "cell_type": "code",
   "execution_count": 2,
   "metadata": {},
   "outputs": [],
   "source": [
    "cd = os.getcwd()\n",
    "games = pd.read_csv(cd + '/datasets/games.csv')"
   ]
  },
  {
   "cell_type": "code",
   "execution_count": 3,
   "metadata": {},
   "outputs": [
    {
     "data": {
      "text/html": [
       "<div>\n",
       "<style scoped>\n",
       "    .dataframe tbody tr th:only-of-type {\n",
       "        vertical-align: middle;\n",
       "    }\n",
       "\n",
       "    .dataframe tbody tr th {\n",
       "        vertical-align: top;\n",
       "    }\n",
       "\n",
       "    .dataframe thead th {\n",
       "        text-align: right;\n",
       "    }\n",
       "</style>\n",
       "<table border=\"1\" class=\"dataframe\">\n",
       "  <thead>\n",
       "    <tr style=\"text-align: right;\">\n",
       "      <th></th>\n",
       "      <th>Year_of_Release</th>\n",
       "      <th>NA_sales</th>\n",
       "      <th>EU_sales</th>\n",
       "      <th>JP_sales</th>\n",
       "      <th>Other_sales</th>\n",
       "      <th>Critic_Score</th>\n",
       "    </tr>\n",
       "  </thead>\n",
       "  <tbody>\n",
       "    <tr>\n",
       "      <th>count</th>\n",
       "      <td>16446.000000</td>\n",
       "      <td>16715.000000</td>\n",
       "      <td>16715.000000</td>\n",
       "      <td>16715.000000</td>\n",
       "      <td>16715.000000</td>\n",
       "      <td>8137.000000</td>\n",
       "    </tr>\n",
       "    <tr>\n",
       "      <th>mean</th>\n",
       "      <td>2006.484616</td>\n",
       "      <td>0.263377</td>\n",
       "      <td>0.145060</td>\n",
       "      <td>0.077617</td>\n",
       "      <td>0.047342</td>\n",
       "      <td>68.967679</td>\n",
       "    </tr>\n",
       "    <tr>\n",
       "      <th>std</th>\n",
       "      <td>5.877050</td>\n",
       "      <td>0.813604</td>\n",
       "      <td>0.503339</td>\n",
       "      <td>0.308853</td>\n",
       "      <td>0.186731</td>\n",
       "      <td>13.938165</td>\n",
       "    </tr>\n",
       "    <tr>\n",
       "      <th>min</th>\n",
       "      <td>1980.000000</td>\n",
       "      <td>0.000000</td>\n",
       "      <td>0.000000</td>\n",
       "      <td>0.000000</td>\n",
       "      <td>0.000000</td>\n",
       "      <td>13.000000</td>\n",
       "    </tr>\n",
       "    <tr>\n",
       "      <th>25%</th>\n",
       "      <td>2003.000000</td>\n",
       "      <td>0.000000</td>\n",
       "      <td>0.000000</td>\n",
       "      <td>0.000000</td>\n",
       "      <td>0.000000</td>\n",
       "      <td>60.000000</td>\n",
       "    </tr>\n",
       "    <tr>\n",
       "      <th>50%</th>\n",
       "      <td>2007.000000</td>\n",
       "      <td>0.080000</td>\n",
       "      <td>0.020000</td>\n",
       "      <td>0.000000</td>\n",
       "      <td>0.010000</td>\n",
       "      <td>71.000000</td>\n",
       "    </tr>\n",
       "    <tr>\n",
       "      <th>75%</th>\n",
       "      <td>2010.000000</td>\n",
       "      <td>0.240000</td>\n",
       "      <td>0.110000</td>\n",
       "      <td>0.040000</td>\n",
       "      <td>0.030000</td>\n",
       "      <td>79.000000</td>\n",
       "    </tr>\n",
       "    <tr>\n",
       "      <th>max</th>\n",
       "      <td>2016.000000</td>\n",
       "      <td>41.360000</td>\n",
       "      <td>28.960000</td>\n",
       "      <td>10.220000</td>\n",
       "      <td>10.570000</td>\n",
       "      <td>98.000000</td>\n",
       "    </tr>\n",
       "  </tbody>\n",
       "</table>\n",
       "</div>"
      ],
      "text/plain": [
       "       Year_of_Release      NA_sales      EU_sales      JP_sales  \\\n",
       "count     16446.000000  16715.000000  16715.000000  16715.000000   \n",
       "mean       2006.484616      0.263377      0.145060      0.077617   \n",
       "std           5.877050      0.813604      0.503339      0.308853   \n",
       "min        1980.000000      0.000000      0.000000      0.000000   \n",
       "25%        2003.000000      0.000000      0.000000      0.000000   \n",
       "50%        2007.000000      0.080000      0.020000      0.000000   \n",
       "75%        2010.000000      0.240000      0.110000      0.040000   \n",
       "max        2016.000000     41.360000     28.960000     10.220000   \n",
       "\n",
       "        Other_sales  Critic_Score  \n",
       "count  16715.000000   8137.000000  \n",
       "mean       0.047342     68.967679  \n",
       "std        0.186731     13.938165  \n",
       "min        0.000000     13.000000  \n",
       "25%        0.000000     60.000000  \n",
       "50%        0.010000     71.000000  \n",
       "75%        0.030000     79.000000  \n",
       "max       10.570000     98.000000  "
      ]
     },
     "execution_count": 3,
     "metadata": {},
     "output_type": "execute_result"
    }
   ],
   "source": [
    "games.head(10)\n",
    "games.describe()\n",
    "#games.corr()"
   ]
  },
  {
   "cell_type": "code",
   "execution_count": 4,
   "metadata": {},
   "outputs": [
    {
     "data": {
      "text/plain": [
       "Critic_Score       8578\n",
       "Rating             6766\n",
       "User_Score         6701\n",
       "Year_of_Release     269\n",
       "Genre                 2\n",
       "Name                  2\n",
       "Other_sales           0\n",
       "JP_sales              0\n",
       "EU_sales              0\n",
       "NA_sales              0\n",
       "Platform              0\n",
       "dtype: int64"
      ]
     },
     "execution_count": 4,
     "metadata": {},
     "output_type": "execute_result"
    }
   ],
   "source": [
    "games.isna().sum().sort_values(ascending=False)"
   ]
  },
  {
   "cell_type": "code",
   "execution_count": 5,
   "metadata": {},
   "outputs": [
    {
     "name": "stdout",
     "output_type": "stream",
     "text": [
      "<class 'pandas.core.frame.DataFrame'>\n",
      "RangeIndex: 16715 entries, 0 to 16714\n",
      "Data columns (total 11 columns):\n",
      " #   Column           Non-Null Count  Dtype  \n",
      "---  ------           --------------  -----  \n",
      " 0   Name             16713 non-null  object \n",
      " 1   Platform         16715 non-null  object \n",
      " 2   Year_of_Release  16446 non-null  float64\n",
      " 3   Genre            16713 non-null  object \n",
      " 4   NA_sales         16715 non-null  float64\n",
      " 5   EU_sales         16715 non-null  float64\n",
      " 6   JP_sales         16715 non-null  float64\n",
      " 7   Other_sales      16715 non-null  float64\n",
      " 8   Critic_Score     8137 non-null   float64\n",
      " 9   User_Score       10014 non-null  object \n",
      " 10  Rating           9949 non-null   object \n",
      "dtypes: float64(6), object(5)\n",
      "memory usage: 1.4+ MB\n"
     ]
    }
   ],
   "source": [
    "games.info()"
   ]
  },
  {
   "cell_type": "code",
   "execution_count": 6,
   "metadata": {},
   "outputs": [
    {
     "data": {
      "text/plain": [
       "31"
      ]
     },
     "execution_count": 6,
     "metadata": {},
     "output_type": "execute_result"
    }
   ],
   "source": [
    "len(games['Platform'].value_counts())"
   ]
  },
  {
   "cell_type": "code",
   "execution_count": 7,
   "metadata": {},
   "outputs": [
    {
     "name": "stdout",
     "output_type": "stream",
     "text": [
      "count of games: 11559\n",
      "\n",
      "PS2     2161\n",
      "DS      2151\n",
      "PS3     1331\n",
      "Wii     1320\n",
      "X360    1262\n",
      "PSP     1209\n",
      "PS      1197\n",
      "PC       974\n",
      "XB       824\n",
      "GBA      822\n",
      "GC       556\n",
      "3DS      520\n",
      "PSV      430\n",
      "PS4      392\n",
      "N64      319\n",
      "XOne     247\n",
      "SNES     239\n",
      "SAT      173\n",
      "WiiU     147\n",
      "2600     133\n",
      "NES       98\n",
      "GB        98\n",
      "DC        52\n",
      "GEN       29\n",
      "NG        12\n",
      "WS         6\n",
      "SCD        6\n",
      "3DO        3\n",
      "TG16       2\n",
      "PCFX       1\n",
      "GG         1\n",
      "Name: Platform, dtype: int64\n",
      "\n",
      "Action          3369\n",
      "Sports          2348\n",
      "Misc            1750\n",
      "Role-Playing    1498\n",
      "Shooter         1323\n",
      "Adventure       1303\n",
      "Racing          1249\n",
      "Platform         888\n",
      "Simulation       873\n",
      "Fighting         849\n",
      "Strategy         683\n",
      "Puzzle           580\n",
      "Name: Genre, dtype: int64\n",
      "\n",
      "E       3990\n",
      "T       2961\n",
      "M       1563\n",
      "E10+    1420\n",
      "EC         8\n",
      "RP         3\n",
      "K-A        3\n",
      "AO         1\n",
      "Name: Rating, dtype: int64\n",
      "\n"
     ]
    }
   ],
   "source": [
    "print('count of games:',len(games['Name'].value_counts()))\n",
    "print()\n",
    "print(games['Platform'].value_counts())\n",
    "print()\n",
    "print(games['Genre'].value_counts())\n",
    "print()\n",
    "print(games['Rating'].value_counts())\n",
    "print()"
   ]
  },
  {
   "cell_type": "code",
   "execution_count": 8,
   "metadata": {},
   "outputs": [
    {
     "data": {
      "text/html": [
       "<div>\n",
       "<style scoped>\n",
       "    .dataframe tbody tr th:only-of-type {\n",
       "        vertical-align: middle;\n",
       "    }\n",
       "\n",
       "    .dataframe tbody tr th {\n",
       "        vertical-align: top;\n",
       "    }\n",
       "\n",
       "    .dataframe thead th {\n",
       "        text-align: right;\n",
       "    }\n",
       "</style>\n",
       "<table border=\"1\" class=\"dataframe\">\n",
       "  <thead>\n",
       "    <tr style=\"text-align: right;\">\n",
       "      <th></th>\n",
       "      <th>Name</th>\n",
       "      <th>Platform</th>\n",
       "      <th>Year_of_Release</th>\n",
       "      <th>Genre</th>\n",
       "      <th>NA_sales</th>\n",
       "      <th>EU_sales</th>\n",
       "      <th>JP_sales</th>\n",
       "      <th>Other_sales</th>\n",
       "      <th>Critic_Score</th>\n",
       "      <th>User_Score</th>\n",
       "      <th>Rating</th>\n",
       "    </tr>\n",
       "  </thead>\n",
       "  <tbody>\n",
       "    <tr>\n",
       "      <th>253</th>\n",
       "      <td>Need for Speed: Most Wanted</td>\n",
       "      <td>PS2</td>\n",
       "      <td>2005.0</td>\n",
       "      <td>Racing</td>\n",
       "      <td>2.03</td>\n",
       "      <td>1.79</td>\n",
       "      <td>0.08</td>\n",
       "      <td>0.47</td>\n",
       "      <td>82.0</td>\n",
       "      <td>9.1</td>\n",
       "      <td>T</td>\n",
       "    </tr>\n",
       "    <tr>\n",
       "      <th>523</th>\n",
       "      <td>Need for Speed: Most Wanted</td>\n",
       "      <td>PS3</td>\n",
       "      <td>2012.0</td>\n",
       "      <td>Racing</td>\n",
       "      <td>0.71</td>\n",
       "      <td>1.46</td>\n",
       "      <td>0.06</td>\n",
       "      <td>0.58</td>\n",
       "      <td>NaN</td>\n",
       "      <td>NaN</td>\n",
       "      <td>NaN</td>\n",
       "    </tr>\n",
       "    <tr>\n",
       "      <th>1190</th>\n",
       "      <td>Need for Speed: Most Wanted</td>\n",
       "      <td>X360</td>\n",
       "      <td>2012.0</td>\n",
       "      <td>Racing</td>\n",
       "      <td>0.62</td>\n",
       "      <td>0.78</td>\n",
       "      <td>0.01</td>\n",
       "      <td>0.15</td>\n",
       "      <td>83.0</td>\n",
       "      <td>8.5</td>\n",
       "      <td>T</td>\n",
       "    </tr>\n",
       "    <tr>\n",
       "      <th>1591</th>\n",
       "      <td>Need for Speed: Most Wanted</td>\n",
       "      <td>X360</td>\n",
       "      <td>2005.0</td>\n",
       "      <td>Racing</td>\n",
       "      <td>1.00</td>\n",
       "      <td>0.13</td>\n",
       "      <td>0.02</td>\n",
       "      <td>0.10</td>\n",
       "      <td>83.0</td>\n",
       "      <td>8.5</td>\n",
       "      <td>T</td>\n",
       "    </tr>\n",
       "    <tr>\n",
       "      <th>1998</th>\n",
       "      <td>Need for Speed: Most Wanted</td>\n",
       "      <td>XB</td>\n",
       "      <td>2005.0</td>\n",
       "      <td>Racing</td>\n",
       "      <td>0.53</td>\n",
       "      <td>0.46</td>\n",
       "      <td>0.00</td>\n",
       "      <td>0.05</td>\n",
       "      <td>83.0</td>\n",
       "      <td>8.8</td>\n",
       "      <td>T</td>\n",
       "    </tr>\n",
       "    <tr>\n",
       "      <th>2048</th>\n",
       "      <td>Need for Speed: Most Wanted</td>\n",
       "      <td>PSV</td>\n",
       "      <td>2012.0</td>\n",
       "      <td>Racing</td>\n",
       "      <td>0.33</td>\n",
       "      <td>0.45</td>\n",
       "      <td>0.01</td>\n",
       "      <td>0.22</td>\n",
       "      <td>NaN</td>\n",
       "      <td>NaN</td>\n",
       "      <td>NaN</td>\n",
       "    </tr>\n",
       "    <tr>\n",
       "      <th>3581</th>\n",
       "      <td>Need for Speed: Most Wanted</td>\n",
       "      <td>GC</td>\n",
       "      <td>2005.0</td>\n",
       "      <td>Racing</td>\n",
       "      <td>0.43</td>\n",
       "      <td>0.11</td>\n",
       "      <td>0.00</td>\n",
       "      <td>0.02</td>\n",
       "      <td>80.0</td>\n",
       "      <td>9.1</td>\n",
       "      <td>T</td>\n",
       "    </tr>\n",
       "    <tr>\n",
       "      <th>5972</th>\n",
       "      <td>Need for Speed: Most Wanted</td>\n",
       "      <td>PC</td>\n",
       "      <td>2005.0</td>\n",
       "      <td>Racing</td>\n",
       "      <td>0.02</td>\n",
       "      <td>0.23</td>\n",
       "      <td>0.00</td>\n",
       "      <td>0.04</td>\n",
       "      <td>82.0</td>\n",
       "      <td>8.5</td>\n",
       "      <td>T</td>\n",
       "    </tr>\n",
       "    <tr>\n",
       "      <th>6273</th>\n",
       "      <td>Need for Speed: Most Wanted</td>\n",
       "      <td>WiiU</td>\n",
       "      <td>2013.0</td>\n",
       "      <td>Racing</td>\n",
       "      <td>0.13</td>\n",
       "      <td>0.12</td>\n",
       "      <td>0.00</td>\n",
       "      <td>0.02</td>\n",
       "      <td>NaN</td>\n",
       "      <td>NaN</td>\n",
       "      <td>NaN</td>\n",
       "    </tr>\n",
       "    <tr>\n",
       "      <th>6410</th>\n",
       "      <td>Need for Speed: Most Wanted</td>\n",
       "      <td>DS</td>\n",
       "      <td>2005.0</td>\n",
       "      <td>Racing</td>\n",
       "      <td>0.24</td>\n",
       "      <td>0.01</td>\n",
       "      <td>0.00</td>\n",
       "      <td>0.02</td>\n",
       "      <td>45.0</td>\n",
       "      <td>6.1</td>\n",
       "      <td>E</td>\n",
       "    </tr>\n",
       "    <tr>\n",
       "      <th>6473</th>\n",
       "      <td>Need for Speed: Most Wanted</td>\n",
       "      <td>GBA</td>\n",
       "      <td>2005.0</td>\n",
       "      <td>Racing</td>\n",
       "      <td>0.19</td>\n",
       "      <td>0.07</td>\n",
       "      <td>0.00</td>\n",
       "      <td>0.00</td>\n",
       "      <td>NaN</td>\n",
       "      <td>8.3</td>\n",
       "      <td>E</td>\n",
       "    </tr>\n",
       "    <tr>\n",
       "      <th>11715</th>\n",
       "      <td>Need for Speed: Most Wanted</td>\n",
       "      <td>PC</td>\n",
       "      <td>2012.0</td>\n",
       "      <td>Racing</td>\n",
       "      <td>0.00</td>\n",
       "      <td>0.06</td>\n",
       "      <td>0.00</td>\n",
       "      <td>0.02</td>\n",
       "      <td>82.0</td>\n",
       "      <td>8.5</td>\n",
       "      <td>T</td>\n",
       "    </tr>\n",
       "  </tbody>\n",
       "</table>\n",
       "</div>"
      ],
      "text/plain": [
       "                              Name Platform  Year_of_Release   Genre  \\\n",
       "253    Need for Speed: Most Wanted      PS2           2005.0  Racing   \n",
       "523    Need for Speed: Most Wanted      PS3           2012.0  Racing   \n",
       "1190   Need for Speed: Most Wanted     X360           2012.0  Racing   \n",
       "1591   Need for Speed: Most Wanted     X360           2005.0  Racing   \n",
       "1998   Need for Speed: Most Wanted       XB           2005.0  Racing   \n",
       "2048   Need for Speed: Most Wanted      PSV           2012.0  Racing   \n",
       "3581   Need for Speed: Most Wanted       GC           2005.0  Racing   \n",
       "5972   Need for Speed: Most Wanted       PC           2005.0  Racing   \n",
       "6273   Need for Speed: Most Wanted     WiiU           2013.0  Racing   \n",
       "6410   Need for Speed: Most Wanted       DS           2005.0  Racing   \n",
       "6473   Need for Speed: Most Wanted      GBA           2005.0  Racing   \n",
       "11715  Need for Speed: Most Wanted       PC           2012.0  Racing   \n",
       "\n",
       "       NA_sales  EU_sales  JP_sales  Other_sales  Critic_Score User_Score  \\\n",
       "253        2.03      1.79      0.08         0.47          82.0        9.1   \n",
       "523        0.71      1.46      0.06         0.58           NaN        NaN   \n",
       "1190       0.62      0.78      0.01         0.15          83.0        8.5   \n",
       "1591       1.00      0.13      0.02         0.10          83.0        8.5   \n",
       "1998       0.53      0.46      0.00         0.05          83.0        8.8   \n",
       "2048       0.33      0.45      0.01         0.22           NaN        NaN   \n",
       "3581       0.43      0.11      0.00         0.02          80.0        9.1   \n",
       "5972       0.02      0.23      0.00         0.04          82.0        8.5   \n",
       "6273       0.13      0.12      0.00         0.02           NaN        NaN   \n",
       "6410       0.24      0.01      0.00         0.02          45.0        6.1   \n",
       "6473       0.19      0.07      0.00         0.00           NaN        8.3   \n",
       "11715      0.00      0.06      0.00         0.02          82.0        8.5   \n",
       "\n",
       "      Rating  \n",
       "253        T  \n",
       "523      NaN  \n",
       "1190       T  \n",
       "1591       T  \n",
       "1998       T  \n",
       "2048     NaN  \n",
       "3581       T  \n",
       "5972       T  \n",
       "6273     NaN  \n",
       "6410       E  \n",
       "6473       E  \n",
       "11715      T  "
      ]
     },
     "execution_count": 8,
     "metadata": {},
     "output_type": "execute_result"
    }
   ],
   "source": [
    "games[games['Name']=='Need for Speed: Most Wanted']"
   ]
  },
  {
   "cell_type": "markdown",
   "metadata": {},
   "source": [
    "#### Conlusion: \n",
    "Apparenly it is necessary to lowercase colnames, convert types of the vars  \"year_of_release\" and \"user_score\", filled NA's. "
   ]
  },
  {
   "cell_type": "markdown",
   "metadata": {},
   "source": [
    "## 2. Data preparation"
   ]
  },
  {
   "cell_type": "markdown",
   "metadata": {},
   "source": [
    "### 2.1. form, type, NA's"
   ]
  },
  {
   "cell_type": "code",
   "execution_count": 9,
   "metadata": {},
   "outputs": [
    {
     "data": {
      "text/plain": [
       "Index(['name', 'platform', 'year_of_release', 'genre', 'na_sales', 'eu_sales',\n",
       "       'jp_sales', 'other_sales', 'critic_score', 'user_score', 'rating'],\n",
       "      dtype='object')"
      ]
     },
     "execution_count": 9,
     "metadata": {},
     "output_type": "execute_result"
    }
   ],
   "source": [
    "games.columns = games.columns.str.lower()\n",
    "games.columns"
   ]
  },
  {
   "cell_type": "code",
   "execution_count": 10,
   "metadata": {},
   "outputs": [],
   "source": [
    "games['year_of_release'] = games['year_of_release'].fillna(games.groupby('name')['year_of_release'].transform('min'))\n",
    "games['year_of_release'] = games['year_of_release'].fillna(value='2017')\n",
    "games['rating'] = games['rating'].replace('K-A', 'E') \n",
    "games['year_of_release'] = games['year_of_release'].astype('int')"
   ]
  },
  {
   "cell_type": "code",
   "execution_count": 11,
   "metadata": {},
   "outputs": [
    {
     "name": "stdout",
     "output_type": "stream",
     "text": [
      "<class 'pandas.core.frame.DataFrame'>\n",
      "RangeIndex: 16715 entries, 0 to 16714\n",
      "Data columns (total 11 columns):\n",
      " #   Column           Non-Null Count  Dtype  \n",
      "---  ------           --------------  -----  \n",
      " 0   name             16713 non-null  object \n",
      " 1   platform         16715 non-null  object \n",
      " 2   year_of_release  16715 non-null  int32  \n",
      " 3   genre            16713 non-null  object \n",
      " 4   na_sales         16715 non-null  float64\n",
      " 5   eu_sales         16715 non-null  float64\n",
      " 6   jp_sales         16715 non-null  float64\n",
      " 7   other_sales      16715 non-null  float64\n",
      " 8   critic_score     16715 non-null  float64\n",
      " 9   user_score       16715 non-null  float64\n",
      " 10  rating           9949 non-null   object \n",
      "dtypes: float64(6), int32(1), object(4)\n",
      "memory usage: 1.3+ MB\n"
     ]
    }
   ],
   "source": [
    "games['user_score'] = games['user_score'].fillna(value='-1')\n",
    "games['user_score'] = games['user_score'].replace('tbd', '-1')\n",
    "games['critic_score'] = games['critic_score'].fillna(value='-1')\n",
    "\n",
    "games['user_score'] = games['user_score'].astype('float')\n",
    "games['critic_score'] = games['critic_score'].astype('float')\n",
    "\n",
    "games['user_score'] = games['user_score'].replace(-1, games['user_score'].mean())\n",
    "games['critic_score'] = games['critic_score'].replace(-1, games['critic_score'].mean())\n",
    "games.info()"
   ]
  },
  {
   "cell_type": "code",
   "execution_count": 12,
   "metadata": {},
   "outputs": [
    {
     "data": {
      "text/plain": [
       "rating             6766\n",
       "genre                 2\n",
       "name                  2\n",
       "user_score            0\n",
       "critic_score          0\n",
       "other_sales           0\n",
       "jp_sales              0\n",
       "eu_sales              0\n",
       "na_sales              0\n",
       "year_of_release       0\n",
       "platform              0\n",
       "dtype: int64"
      ]
     },
     "execution_count": 12,
     "metadata": {},
     "output_type": "execute_result"
    }
   ],
   "source": [
    "games.isna().sum().sort_values(ascending=False)"
   ]
  },
  {
   "cell_type": "markdown",
   "metadata": {},
   "source": [
    "### 2.2. add total sales"
   ]
  },
  {
   "cell_type": "code",
   "execution_count": 13,
   "metadata": {},
   "outputs": [
    {
     "data": {
      "text/html": [
       "<div>\n",
       "<style scoped>\n",
       "    .dataframe tbody tr th:only-of-type {\n",
       "        vertical-align: middle;\n",
       "    }\n",
       "\n",
       "    .dataframe tbody tr th {\n",
       "        vertical-align: top;\n",
       "    }\n",
       "\n",
       "    .dataframe thead th {\n",
       "        text-align: right;\n",
       "    }\n",
       "</style>\n",
       "<table border=\"1\" class=\"dataframe\">\n",
       "  <thead>\n",
       "    <tr style=\"text-align: right;\">\n",
       "      <th></th>\n",
       "      <th>name</th>\n",
       "      <th>platform</th>\n",
       "      <th>year_of_release</th>\n",
       "      <th>genre</th>\n",
       "      <th>na_sales</th>\n",
       "      <th>eu_sales</th>\n",
       "      <th>jp_sales</th>\n",
       "      <th>other_sales</th>\n",
       "      <th>critic_score</th>\n",
       "      <th>user_score</th>\n",
       "      <th>rating</th>\n",
       "      <th>total_sales</th>\n",
       "    </tr>\n",
       "  </thead>\n",
       "  <tbody>\n",
       "    <tr>\n",
       "      <th>0</th>\n",
       "      <td>Wii Sports</td>\n",
       "      <td>Wii</td>\n",
       "      <td>2006</td>\n",
       "      <td>Sports</td>\n",
       "      <td>41.36</td>\n",
       "      <td>28.96</td>\n",
       "      <td>3.77</td>\n",
       "      <td>8.45</td>\n",
       "      <td>76.000000</td>\n",
       "      <td>8.000000</td>\n",
       "      <td>E</td>\n",
       "      <td>82.54</td>\n",
       "    </tr>\n",
       "    <tr>\n",
       "      <th>1</th>\n",
       "      <td>Super Mario Bros.</td>\n",
       "      <td>NES</td>\n",
       "      <td>1985</td>\n",
       "      <td>Platform</td>\n",
       "      <td>29.08</td>\n",
       "      <td>3.58</td>\n",
       "      <td>6.81</td>\n",
       "      <td>0.77</td>\n",
       "      <td>33.060844</td>\n",
       "      <td>2.689447</td>\n",
       "      <td>NaN</td>\n",
       "      <td>40.24</td>\n",
       "    </tr>\n",
       "    <tr>\n",
       "      <th>2</th>\n",
       "      <td>Mario Kart Wii</td>\n",
       "      <td>Wii</td>\n",
       "      <td>2008</td>\n",
       "      <td>Racing</td>\n",
       "      <td>15.68</td>\n",
       "      <td>12.76</td>\n",
       "      <td>3.79</td>\n",
       "      <td>3.29</td>\n",
       "      <td>82.000000</td>\n",
       "      <td>8.300000</td>\n",
       "      <td>E</td>\n",
       "      <td>35.52</td>\n",
       "    </tr>\n",
       "    <tr>\n",
       "      <th>3</th>\n",
       "      <td>Wii Sports Resort</td>\n",
       "      <td>Wii</td>\n",
       "      <td>2009</td>\n",
       "      <td>Sports</td>\n",
       "      <td>15.61</td>\n",
       "      <td>10.93</td>\n",
       "      <td>3.28</td>\n",
       "      <td>2.95</td>\n",
       "      <td>80.000000</td>\n",
       "      <td>8.000000</td>\n",
       "      <td>E</td>\n",
       "      <td>32.77</td>\n",
       "    </tr>\n",
       "    <tr>\n",
       "      <th>4</th>\n",
       "      <td>Pokemon Red/Pokemon Blue</td>\n",
       "      <td>GB</td>\n",
       "      <td>1996</td>\n",
       "      <td>Role-Playing</td>\n",
       "      <td>11.27</td>\n",
       "      <td>8.89</td>\n",
       "      <td>10.22</td>\n",
       "      <td>1.00</td>\n",
       "      <td>33.060844</td>\n",
       "      <td>2.689447</td>\n",
       "      <td>NaN</td>\n",
       "      <td>31.38</td>\n",
       "    </tr>\n",
       "    <tr>\n",
       "      <th>...</th>\n",
       "      <td>...</td>\n",
       "      <td>...</td>\n",
       "      <td>...</td>\n",
       "      <td>...</td>\n",
       "      <td>...</td>\n",
       "      <td>...</td>\n",
       "      <td>...</td>\n",
       "      <td>...</td>\n",
       "      <td>...</td>\n",
       "      <td>...</td>\n",
       "      <td>...</td>\n",
       "      <td>...</td>\n",
       "    </tr>\n",
       "    <tr>\n",
       "      <th>16710</th>\n",
       "      <td>Samurai Warriors: Sanada Maru</td>\n",
       "      <td>PS3</td>\n",
       "      <td>2016</td>\n",
       "      <td>Action</td>\n",
       "      <td>0.00</td>\n",
       "      <td>0.00</td>\n",
       "      <td>0.01</td>\n",
       "      <td>0.00</td>\n",
       "      <td>33.060844</td>\n",
       "      <td>2.689447</td>\n",
       "      <td>NaN</td>\n",
       "      <td>0.01</td>\n",
       "    </tr>\n",
       "    <tr>\n",
       "      <th>16711</th>\n",
       "      <td>LMA Manager 2007</td>\n",
       "      <td>X360</td>\n",
       "      <td>2006</td>\n",
       "      <td>Sports</td>\n",
       "      <td>0.00</td>\n",
       "      <td>0.01</td>\n",
       "      <td>0.00</td>\n",
       "      <td>0.00</td>\n",
       "      <td>33.060844</td>\n",
       "      <td>2.689447</td>\n",
       "      <td>NaN</td>\n",
       "      <td>0.01</td>\n",
       "    </tr>\n",
       "    <tr>\n",
       "      <th>16712</th>\n",
       "      <td>Haitaka no Psychedelica</td>\n",
       "      <td>PSV</td>\n",
       "      <td>2016</td>\n",
       "      <td>Adventure</td>\n",
       "      <td>0.00</td>\n",
       "      <td>0.00</td>\n",
       "      <td>0.01</td>\n",
       "      <td>0.00</td>\n",
       "      <td>33.060844</td>\n",
       "      <td>2.689447</td>\n",
       "      <td>NaN</td>\n",
       "      <td>0.01</td>\n",
       "    </tr>\n",
       "    <tr>\n",
       "      <th>16713</th>\n",
       "      <td>Spirits &amp; Spells</td>\n",
       "      <td>GBA</td>\n",
       "      <td>2003</td>\n",
       "      <td>Platform</td>\n",
       "      <td>0.01</td>\n",
       "      <td>0.00</td>\n",
       "      <td>0.00</td>\n",
       "      <td>0.00</td>\n",
       "      <td>33.060844</td>\n",
       "      <td>2.689447</td>\n",
       "      <td>NaN</td>\n",
       "      <td>0.01</td>\n",
       "    </tr>\n",
       "    <tr>\n",
       "      <th>16714</th>\n",
       "      <td>Winning Post 8 2016</td>\n",
       "      <td>PSV</td>\n",
       "      <td>2016</td>\n",
       "      <td>Simulation</td>\n",
       "      <td>0.00</td>\n",
       "      <td>0.00</td>\n",
       "      <td>0.01</td>\n",
       "      <td>0.00</td>\n",
       "      <td>33.060844</td>\n",
       "      <td>2.689447</td>\n",
       "      <td>NaN</td>\n",
       "      <td>0.01</td>\n",
       "    </tr>\n",
       "  </tbody>\n",
       "</table>\n",
       "<p>16715 rows × 12 columns</p>\n",
       "</div>"
      ],
      "text/plain": [
       "                                name platform  year_of_release         genre  \\\n",
       "0                         Wii Sports      Wii             2006        Sports   \n",
       "1                  Super Mario Bros.      NES             1985      Platform   \n",
       "2                     Mario Kart Wii      Wii             2008        Racing   \n",
       "3                  Wii Sports Resort      Wii             2009        Sports   \n",
       "4           Pokemon Red/Pokemon Blue       GB             1996  Role-Playing   \n",
       "...                              ...      ...              ...           ...   \n",
       "16710  Samurai Warriors: Sanada Maru      PS3             2016        Action   \n",
       "16711               LMA Manager 2007     X360             2006        Sports   \n",
       "16712        Haitaka no Psychedelica      PSV             2016     Adventure   \n",
       "16713               Spirits & Spells      GBA             2003      Platform   \n",
       "16714            Winning Post 8 2016      PSV             2016    Simulation   \n",
       "\n",
       "       na_sales  eu_sales  jp_sales  other_sales  critic_score  user_score  \\\n",
       "0         41.36     28.96      3.77         8.45     76.000000    8.000000   \n",
       "1         29.08      3.58      6.81         0.77     33.060844    2.689447   \n",
       "2         15.68     12.76      3.79         3.29     82.000000    8.300000   \n",
       "3         15.61     10.93      3.28         2.95     80.000000    8.000000   \n",
       "4         11.27      8.89     10.22         1.00     33.060844    2.689447   \n",
       "...         ...       ...       ...          ...           ...         ...   \n",
       "16710      0.00      0.00      0.01         0.00     33.060844    2.689447   \n",
       "16711      0.00      0.01      0.00         0.00     33.060844    2.689447   \n",
       "16712      0.00      0.00      0.01         0.00     33.060844    2.689447   \n",
       "16713      0.01      0.00      0.00         0.00     33.060844    2.689447   \n",
       "16714      0.00      0.00      0.01         0.00     33.060844    2.689447   \n",
       "\n",
       "      rating  total_sales  \n",
       "0          E        82.54  \n",
       "1        NaN        40.24  \n",
       "2          E        35.52  \n",
       "3          E        32.77  \n",
       "4        NaN        31.38  \n",
       "...      ...          ...  \n",
       "16710    NaN         0.01  \n",
       "16711    NaN         0.01  \n",
       "16712    NaN         0.01  \n",
       "16713    NaN         0.01  \n",
       "16714    NaN         0.01  \n",
       "\n",
       "[16715 rows x 12 columns]"
      ]
     },
     "execution_count": 13,
     "metadata": {},
     "output_type": "execute_result"
    }
   ],
   "source": [
    "games['total_sales'] = games['na_sales'] + games['jp_sales'] + games['eu_sales'] + games['other_sales']\n",
    "games"
   ]
  },
  {
   "cell_type": "markdown",
   "metadata": {},
   "source": [
    "#### Conclusion\n",
    "1. lowercase colnames\n",
    "2. Convert \"year_of_release\" to object and \"user_score\" to float type\n",
    "3. Filling NA's\n",
    "    * \"user_score\" and \"critic_score\" - users / critics' assessment in further analysis is necessary to test the null hypothesis of equality of means and to evaluate the correlation between users / critics and sales. For this reason I need to transfer variables from the type object to a floating number, but for this I need to remove all the missing values. It is impossible to immediately replace the missed ones with the average one, since the rating is an object type. Therefore, the numbers \"-1\" were used as strings. Next, the variables were converted to floating point numbers, and finally -1 were replaced with the middle one.\n",
    "    * \"year_of_relese\" - restored missing values for those games for which the year of release on other platforms was noted. Other fill to \"2017\" because it doesn't matter for object type, and not a 0 becouse it inconvenient for plotting.\n",
    "    * \"rating\" - can left it as it is\n",
    "    * \"genre\" - can left it as it is\n",
    "    * \"name\" - can left it as it is\n",
    "4. Replacing in var 'rating' K-A to E - This rating was known as Kids to Adults (K-A) until 1998, when it was renamed \"Everyone\"\n",
    "\n",
    "I think \"critic_\" and \"user_scores\" missed because users or critics doesn’t give a score to all games. The same for rating. One would think that games are not popular, but games with missing score and ratings are placed on popular platforms and sold. Also they represent in all genre. And finaly, they are not old, as there are modern ones among them. Data is collected for a wide period — from 1980 to 2016, and it’s normal that some of it missed. Variable \"year\" of release lost some date, or like last two variables \"genre\" and \"name\" lost two values. "
   ]
  },
  {
   "cell_type": "markdown",
   "metadata": {},
   "source": [
    "## 3. Data analysis"
   ]
  },
  {
   "cell_type": "markdown",
   "metadata": {},
   "source": [
    "### 3.1. Game releases"
   ]
  },
  {
   "cell_type": "code",
   "execution_count": 14,
   "metadata": {},
   "outputs": [
    {
     "data": {
      "text/plain": [
       "<matplotlib.axes._subplots.AxesSubplot at 0x169567ceb08>"
      ]
     },
     "execution_count": 14,
     "metadata": {},
     "output_type": "execute_result"
    },
    {
     "data": {
      "image/png": "[encoded data removed]",
      "text/plain": [
       "<Figure size 432x288 with 1 Axes>"
      ]
     },
     "metadata": {
      "needs_background": "light"
     },
     "output_type": "display_data"
    }
   ],
   "source": [
    "sales_by_years = games.groupby('year_of_release')['name'].count().reset_index()\n",
    "sales_by_years.plot(x='year_of_release', y='name', kind='bar')"
   ]
  },
  {
   "cell_type": "markdown",
   "metadata": {},
   "source": [
    "It can be seen that the most significant data are presented since 1993"
   ]
  },
  {
   "cell_type": "markdown",
   "metadata": {},
   "source": [
    "### 3.2. The popularity of gaming platforms"
   ]
  },
  {
   "cell_type": "markdown",
   "metadata": {},
   "source": [
    "#### 3.2.1. Life cicle (from year to year)"
   ]
  },
  {
   "cell_type": "code",
   "execution_count": 15,
   "metadata": {},
   "outputs": [
    {
     "name": "stdout",
     "output_type": "stream",
     "text": [
      "from the largest to smolest platform: ['PS2', 'X360', 'PS3', 'Wii', 'DS', 'PS', 'GBA', 'PS4', 'PSP', 'PC']\n"
     ]
    }
   ],
   "source": [
    "games_sales_total = games.groupby('platform')['total_sales'].agg('sum').sort_values(ascending=False).reset_index()\n",
    "#games_sales = games.pivot_table(index='platform', columns='year_of_release', values='total_sales', aggfunc='max')\n",
    "top_total = games_sales_total['platform'].head(10).tolist() \n",
    "print('from the largest to smolest platform:', top_total)"
   ]
  },
  {
   "cell_type": "code",
   "execution_count": 16,
   "metadata": {},
   "outputs": [
    {
     "name": "stdout",
     "output_type": "stream",
     "text": [
      "from the largest to smolest platform: ['PS2', 'Wii', 'X360', 'PS', 'PS3', 'DS', 'PS4', 'GBA', 'XB', 'GB']\n"
     ]
    }
   ],
   "source": [
    "games_sales_year = games.groupby(['platform','year_of_release'])['total_sales'].agg('sum').sort_values(ascending=False).reset_index()\n",
    "games_sales_total = games_sales_year.groupby('platform')['total_sales'].agg('max').sort_values(ascending=False).reset_index()\n",
    "#games_sales = games.pivot_table(index='platform', columns='year_of_release', values='total_sales', aggfunc='max')\n",
    "top_max = games_sales_total['platform'].head(10).tolist() \n",
    "print('from the largest to smolest platform:', top_max)"
   ]
  },
  {
   "cell_type": "code",
   "execution_count": 51,
   "metadata": {},
   "outputs": [
    {
     "name": "stdout",
     "output_type": "stream",
     "text": [
      "from the largest to smallest platform ['PS2', 'X360', 'PS3', 'Wii', 'DS', 'PS', 'GBA', 'PS4', 'PSP', 'PC']\n"
     ]
    },
    {
     "data": {
      "image/png": "[encoded data removed]",
      "text/plain": [
       "<Figure size 720x432 with 1 Axes>"
      ]
     },
     "metadata": {
      "needs_background": "light"
     },
     "output_type": "display_data"
    }
   ],
   "source": [
    "list = top_total\n",
    "top_game_sales = (games\n",
    " .query('platform in @list')\n",
    " .pivot_table(index='year_of_release', columns='platform', values='total_sales', aggfunc='sum')\n",
    "#.sort_values(by='total_sales',ascending=False)                  \n",
    " .reset_index()\n",
    ")\n",
    "platforms = top_game_sales.loc[:, top_game_sales.columns != 'year_of_release']\n",
    "legend = platforms.columns.tolist()\n",
    "\n",
    "plt.figure(figsize=(10,6))\n",
    "plt.plot(top_game_sales[\"year_of_release\"], platforms)\n",
    "plt.xlim(1980, 2016)\n",
    "x_ticks = np.arange(1980, 2016, 3)\n",
    "plt.xticks(x_ticks)\n",
    "plt.grid()\n",
    "\n",
    "# Create legend.\n",
    "plt.legend(legend, loc='upper left')\n",
    "plt.xlabel('Year')\n",
    "plt.ylabel('Total sales')\n",
    "\n",
    "print('from the largest to smallest platform', platforms.sum().sort_values(ascending=False).reset_index()['platform'].tolist())"
   ]
  },
  {
   "cell_type": "code",
   "execution_count": 18,
   "metadata": {},
   "outputs": [
    {
     "name": "stdout",
     "output_type": "stream",
     "text": [
      "median platform life expectancy: 12.5 years\n",
      "mean platform life expectancy: 12.9 years\n",
      "life cycle of the platform in years:\n"
     ]
    },
    {
     "data": {
      "text/html": [
       "<div>\n",
       "<style scoped>\n",
       "    .dataframe tbody tr th:only-of-type {\n",
       "        vertical-align: middle;\n",
       "    }\n",
       "\n",
       "    .dataframe tbody tr th {\n",
       "        vertical-align: top;\n",
       "    }\n",
       "\n",
       "    .dataframe thead th {\n",
       "        text-align: right;\n",
       "    }\n",
       "</style>\n",
       "<table border=\"1\" class=\"dataframe\">\n",
       "  <thead>\n",
       "    <tr style=\"text-align: right;\">\n",
       "      <th></th>\n",
       "      <th>platform</th>\n",
       "      <th>0</th>\n",
       "    </tr>\n",
       "  </thead>\n",
       "  <tbody>\n",
       "    <tr>\n",
       "      <th>0</th>\n",
       "      <td>PC</td>\n",
       "      <td>27</td>\n",
       "    </tr>\n",
       "    <tr>\n",
       "      <th>1</th>\n",
       "      <td>PS3</td>\n",
       "      <td>14</td>\n",
       "    </tr>\n",
       "    <tr>\n",
       "      <th>2</th>\n",
       "      <td>PS2</td>\n",
       "      <td>14</td>\n",
       "    </tr>\n",
       "    <tr>\n",
       "      <th>3</th>\n",
       "      <td>X360</td>\n",
       "      <td>13</td>\n",
       "    </tr>\n",
       "    <tr>\n",
       "      <th>4</th>\n",
       "      <td>PSP</td>\n",
       "      <td>13</td>\n",
       "    </tr>\n",
       "    <tr>\n",
       "      <th>5</th>\n",
       "      <td>Wii</td>\n",
       "      <td>12</td>\n",
       "    </tr>\n",
       "    <tr>\n",
       "      <th>6</th>\n",
       "      <td>DS</td>\n",
       "      <td>12</td>\n",
       "    </tr>\n",
       "    <tr>\n",
       "      <th>7</th>\n",
       "      <td>PS</td>\n",
       "      <td>11</td>\n",
       "    </tr>\n",
       "    <tr>\n",
       "      <th>8</th>\n",
       "      <td>GBA</td>\n",
       "      <td>9</td>\n",
       "    </tr>\n",
       "    <tr>\n",
       "      <th>9</th>\n",
       "      <td>PS4</td>\n",
       "      <td>4</td>\n",
       "    </tr>\n",
       "  </tbody>\n",
       "</table>\n",
       "</div>"
      ],
      "text/plain": [
       "  platform   0\n",
       "0       PC  27\n",
       "1      PS3  14\n",
       "2      PS2  14\n",
       "3     X360  13\n",
       "4      PSP  13\n",
       "5      Wii  12\n",
       "6       DS  12\n",
       "7       PS  11\n",
       "8      GBA   9\n",
       "9      PS4   4"
      ]
     },
     "execution_count": 18,
     "metadata": {},
     "output_type": "execute_result"
    }
   ],
   "source": [
    "print('median platform life expectancy: {:.1f} years'.format(platforms.count().sort_values(ascending=False).reset_index()[0].median()))\n",
    "print('mean platform life expectancy: {:.1f} years'.format(platforms.count().sort_values(ascending=False).reset_index()[0].mean()))\n",
    "print('life cycle of the platform in years:')\n",
    "platforms.count().sort_values(ascending=False).reset_index()"
   ]
  },
  {
   "cell_type": "code",
   "execution_count": 52,
   "metadata": {},
   "outputs": [
    {
     "data": {
      "text/plain": [
       "Text(0, 0.5, 'Total sales')"
      ]
     },
     "execution_count": 52,
     "metadata": {},
     "output_type": "execute_result"
    },
    {
     "data": {
      "image/png": "[encoded data removed]",
      "text/plain": [
       "<Figure size 720x432 with 1 Axes>"
      ]
     },
     "metadata": {
      "needs_background": "light"
     },
     "output_type": "display_data"
    }
   ],
   "source": [
    "list = top_max\n",
    "top_game_sales = (games\n",
    " .query('platform in @list')\n",
    " .pivot_table(index='year_of_release', columns='platform', values='total_sales', aggfunc='sum')\n",
    " .reset_index()\n",
    ")\n",
    "platforms = top_game_sales.loc[:, top_game_sales.columns != 'year_of_release']\n",
    "legend = platforms.columns.tolist()\n",
    "#legend = platforms.count().sort_values(ascending=False).reset_index()['platform'].tolist()\n",
    "\n",
    "# Plot with differently-colored markers.\n",
    "plt.figure(figsize=(10,6))\n",
    "plt.plot(top_game_sales[\"year_of_release\"], platforms)\n",
    "plt.xlim(1980, 2016)\n",
    "x_ticks = np.arange(1980, 2016, 3)\n",
    "plt.xticks(x_ticks)\n",
    "plt.grid()\n",
    "\n",
    "# Create legend.\n",
    "plt.legend(legend, loc='upper left')\n",
    "plt.xlabel('Year')\n",
    "plt.ylabel('Total sales')"
   ]
  },
  {
   "cell_type": "markdown",
   "metadata": {},
   "source": [
    "Samples for all time are almost identical. For sampling with the maximum values of 'XB', 'GB', and for sampling with the maximum total values of ‘PSP ',' PC '."
   ]
  },
  {
   "cell_type": "code",
   "execution_count": 20,
   "metadata": {},
   "outputs": [
    {
     "data": {
      "text/plain": [
       "['GB', 'NES', '2600', 'SNES', 'GEN', 'PC', 'PS3', 'GG', 'DS']"
      ]
     },
     "execution_count": 20,
     "metadata": {},
     "output_type": "execute_result"
    }
   ],
   "source": [
    "games_sales_year = games.groupby(['platform','year_of_release'])['total_sales'].agg('sum').sort_values(ascending=False).reset_index()\n",
    "games_sales_year = games_sales_year[games_sales_year[\"year_of_release\"] < 1993]\n",
    "games_sales_total = games_sales_year.groupby('platform')['total_sales'].agg('max').sort_values(ascending=False).reset_index()\n",
    "#games_sales = games.pivot_table(index='platform', columns='year_of_release', values='total_sales', aggfunc='max')\n",
    "top_max_1995 = games_sales_total['platform'].head(10).tolist() \n",
    "top_max_1995"
   ]
  },
  {
   "cell_type": "code",
   "execution_count": 21,
   "metadata": {},
   "outputs": [
    {
     "data": {
      "text/plain": [
       "['NES', 'SNES', 'GB', '2600', 'GEN', 'PC', 'PS', 'SAT', 'SCD', 'NG']"
      ]
     },
     "execution_count": 21,
     "metadata": {},
     "output_type": "execute_result"
    }
   ],
   "source": [
    "games_sales_year = games[games[\"year_of_release\"] < 1995]\n",
    "games_sales_total = games_sales_year.groupby('platform')['total_sales'].agg('sum').sort_values(ascending=False).reset_index()\n",
    "#games_sales = games.pivot_table(index='platform', columns='year_of_release', values='total_sales', aggfunc='max')\n",
    "top_total_1995 = games_sales_total['platform'].head(10).tolist() \n",
    "top_total_1995"
   ]
  },
  {
   "cell_type": "markdown",
   "metadata": {},
   "source": [
    "The same games"
   ]
  },
  {
   "cell_type": "code",
   "execution_count": 54,
   "metadata": {},
   "outputs": [
    {
     "data": {
      "text/plain": [
       "Text(0, 0.5, 'Total sales')"
      ]
     },
     "execution_count": 54,
     "metadata": {},
     "output_type": "execute_result"
    },
    {
     "data": {
      "image/png": "[encoded data removed]",
      "text/plain": [
       "<Figure size 720x432 with 1 Axes>"
      ]
     },
     "metadata": {
      "needs_background": "light"
     },
     "output_type": "display_data"
    }
   ],
   "source": [
    "list = top_total_1995\n",
    "top_game_sales = (games\n",
    " .query('platform in @list')\n",
    " .pivot_table(index='year_of_release', columns='platform', values='total_sales', aggfunc='sum')\n",
    " .reset_index()\n",
    ")\n",
    "\n",
    "platforms = top_game_sales.loc[:, top_game_sales.columns != 'year_of_release']\n",
    "legend = platforms.columns.tolist()\n",
    "\n",
    "# Plot with differently-colored markers.\n",
    "plt.figure(figsize=(10,6))\n",
    "plt.plot(top_game_sales[\"year_of_release\"], platforms)\n",
    "#plt.xlim(2000, 2016)\n",
    "x_ticks = np.arange(1980, 2016, 4)\n",
    "plt.xticks(x_ticks)\n",
    "plt.grid()\n",
    "\n",
    "# Create legend.\n",
    "plt.legend(legend, loc='upper left')\n",
    "plt.xlabel('Year')\n",
    "plt.ylabel('Total sales')"
   ]
  },
  {
   "cell_type": "markdown",
   "metadata": {},
   "source": [
    "#### Conclusion:\n",
    "\n",
    "Four samples were selected. Two samples for all time and two until 1995. Two samples for all time are divided into two more: the first includes ten platforms with the highest maximum sales for a given year; the second includes platforms with maximum total sales. Samples before 1995 are divided according to the same principle. As it turned out, the same platforms fell into both samples until 1995. Samples for all time are almost identical. For sampling with the maximum values of 'XB', 'GB', and for sampling with the maximum total values of ‘PSP ',' PC '.\n",
    "1. Top five by total sum of sales: 'PS2', 'X360', 'PS3', 'Wii', 'DS'\n",
    "2. PS, PS2, PS3, PS4 platforms from the one series, and they are replacing one another during the release of a new platform. \n",
    "3. Wii, X360, DS the biggest since 2004\n",
    "4. 'NES', 'SNES', 'GB', '2600', 'GEN' used to be popular before 2001. It seems the release of PS pushed all other platforms out of the market in 1994.\n",
    "5. Median life expectancy: 12.0 years\n",
    "6. Computer games could be popular, but could not break the top."
   ]
  },
  {
   "cell_type": "markdown",
   "metadata": {},
   "source": [
    "#### 3.2.2. Potentialy profitable platforms"
   ]
  },
  {
   "cell_type": "code",
   "execution_count": 23,
   "metadata": {},
   "outputs": [
    {
     "data": {
      "text/plain": [
       "['PS4', 'XOne', '3DS', 'PS3', 'X360', 'WiiU']"
      ]
     },
     "execution_count": 23,
     "metadata": {},
     "output_type": "execute_result"
    }
   ],
   "source": [
    "games_sales_year = games[games[\"year_of_release\"] > 2013]\n",
    "games_sales_total = games_sales_year.groupby('platform')['total_sales'].agg('sum').sort_values(ascending=False).reset_index()\n",
    "#games_sales = games.pivot_table(index='platform', columns='year_of_release', values='total_sales', aggfunc='max')\n",
    "top_total_2013 = games_sales_total['platform'].head(6).tolist() \n",
    "top_total_2013"
   ]
  },
  {
   "cell_type": "code",
   "execution_count": 55,
   "metadata": {},
   "outputs": [
    {
     "data": {
      "text/plain": [
       "Text(0, 0.5, 'Total sales')"
      ]
     },
     "execution_count": 55,
     "metadata": {},
     "output_type": "execute_result"
    },
    {
     "data": {
      "image/png": "[encoded data removed]",
      "text/plain": [
       "<Figure size 720x432 with 1 Axes>"
      ]
     },
     "metadata": {
      "needs_background": "light"
     },
     "output_type": "display_data"
    }
   ],
   "source": [
    "list = top_total_2013\n",
    "top_game_sales = (games\n",
    " .query('platform in @list')\n",
    " .pivot_table(index='year_of_release', columns='platform', values='total_sales', aggfunc='sum')\n",
    " .reset_index()\n",
    ")\n",
    "\n",
    "platforms = top_game_sales.loc[:, top_game_sales.columns != 'year_of_release']\n",
    "legend = platforms.columns.tolist()\n",
    "\n",
    "# Plot with differently-colored markers.\n",
    "plt.figure(figsize=(10,6))\n",
    "plt.plot(top_game_sales[\"year_of_release\"], platforms)\n",
    "plt.xlim(2010, 2016)\n",
    "#x_ticks = np.arange(2010, 2016, 2)\n",
    "#plt.xticks(x_ticks)\n",
    "plt.grid()\n",
    "\n",
    "# Create legend.\n",
    "plt.legend(legend, loc='upper left')\n",
    "plt.xlabel('Year')\n",
    "plt.ylabel('Total sales')"
   ]
  },
  {
   "cell_type": "code",
   "execution_count": 25,
   "metadata": {},
   "outputs": [
    {
     "data": {
      "text/plain": [
       "['3DS', 'PS3', 'PS4', 'WiiU', 'X360', 'XOne']"
      ]
     },
     "execution_count": 25,
     "metadata": {},
     "output_type": "execute_result"
    }
   ],
   "source": [
    "legend"
   ]
  },
  {
   "cell_type": "markdown",
   "metadata": {},
   "source": [
    "#### Conclusion:\n",
    "\n",
    "1. 'PS4', 'XOne', '3DS' are leading in sales in period of 2013 to 2016. This period corresponds to the range of the last two most popular platforms life cycle - 'PS3' and 'WiiU'.\n",
    "2. All platforms are down. This is strange, since the life cycle of the platform is 12 years on average. And the peak of the platform 'PS4', 'XOne' was in the second year of their appearance. However, the previous graphs show that sales failures happen and may even grow. And yet, they will be in the top 6-9 years.\n",
    "3. The '3DS', 'WiiU' platforms seem promising. They arose relatively recently - 2011 and 2012, respectively. Even though, sales declined, they can still grow, since the life cycle has not yet been exhausted.\n"
   ]
  },
  {
   "cell_type": "markdown",
   "metadata": {},
   "source": [
    "#### 3.2.3. Box plot and average"
   ]
  },
  {
   "cell_type": "code",
   "execution_count": 26,
   "metadata": {},
   "outputs": [
    {
     "data": {
      "text/plain": [
       "Text(0.5, 1.0, 'Total sales by platform')"
      ]
     },
     "execution_count": 26,
     "metadata": {},
     "output_type": "execute_result"
    },
    {
     "data": {
      "image/png": "[encoded data removed]",
      "text/plain": [
       "<Figure size 720x360 with 1 Axes>"
      ]
     },
     "metadata": {
      "needs_background": "light"
     },
     "output_type": "display_data"
    }
   ],
   "source": [
    "top_game_sales = (games\n",
    "#.groupby(['year_of_release','platform'])['total_sales'].agg('sum')\n",
    " .pivot_table(index=['platform', 'year_of_release'], values='total_sales', aggfunc='sum')\n",
    " .reset_index()\n",
    ")\n",
    "\n",
    "plt.figure(figsize=(10,5))\n",
    "sns.boxplot(y='total_sales', x='platform', \n",
    "                 data=top_game_sales)\n",
    "plt.xticks(rotation=90)\n",
    "plt.title('Total sales by platform')"
   ]
  },
  {
   "cell_type": "markdown",
   "metadata": {},
   "source": [
    "#### Conclusion: \n",
    "\n",
    "Sales are significantly different from each other. There are platforms that stand out from the rest. For example, the PS platform line, the DS platform, Wii and 360."
   ]
  },
  {
   "cell_type": "markdown",
   "metadata": {},
   "source": [
    "#### 3.3. Correlation between reviews and sales"
   ]
  },
  {
   "cell_type": "code",
   "execution_count": 27,
   "metadata": {},
   "outputs": [
    {
     "data": {
      "text/html": [
       "<div>\n",
       "<style scoped>\n",
       "    .dataframe tbody tr th:only-of-type {\n",
       "        vertical-align: middle;\n",
       "    }\n",
       "\n",
       "    .dataframe tbody tr th {\n",
       "        vertical-align: top;\n",
       "    }\n",
       "\n",
       "    .dataframe thead th {\n",
       "        text-align: right;\n",
       "    }\n",
       "</style>\n",
       "<table border=\"1\" class=\"dataframe\">\n",
       "  <thead>\n",
       "    <tr style=\"text-align: right;\">\n",
       "      <th></th>\n",
       "      <th>name</th>\n",
       "      <th>platform</th>\n",
       "      <th>year_of_release</th>\n",
       "      <th>genre</th>\n",
       "      <th>na_sales</th>\n",
       "      <th>eu_sales</th>\n",
       "      <th>jp_sales</th>\n",
       "      <th>other_sales</th>\n",
       "      <th>critic_score</th>\n",
       "      <th>user_score</th>\n",
       "      <th>rating</th>\n",
       "      <th>total_sales</th>\n",
       "      <th>critic_norm</th>\n",
       "      <th>user_norm</th>\n",
       "    </tr>\n",
       "  </thead>\n",
       "  <tbody>\n",
       "    <tr>\n",
       "      <th>16</th>\n",
       "      <td>Grand Theft Auto V</td>\n",
       "      <td>PS3</td>\n",
       "      <td>2013</td>\n",
       "      <td>Action</td>\n",
       "      <td>7.02</td>\n",
       "      <td>9.09</td>\n",
       "      <td>0.98</td>\n",
       "      <td>3.96</td>\n",
       "      <td>97.000000</td>\n",
       "      <td>8.200000</td>\n",
       "      <td>M</td>\n",
       "      <td>21.05</td>\n",
       "      <td>1.927738</td>\n",
       "      <td>1.265678</td>\n",
       "    </tr>\n",
       "    <tr>\n",
       "      <th>34</th>\n",
       "      <td>Call of Duty: Black Ops II</td>\n",
       "      <td>PS3</td>\n",
       "      <td>2012</td>\n",
       "      <td>Shooter</td>\n",
       "      <td>4.99</td>\n",
       "      <td>5.73</td>\n",
       "      <td>0.65</td>\n",
       "      <td>2.42</td>\n",
       "      <td>83.000000</td>\n",
       "      <td>5.300000</td>\n",
       "      <td>M</td>\n",
       "      <td>13.79</td>\n",
       "      <td>1.268615</td>\n",
       "      <td>-0.021987</td>\n",
       "    </tr>\n",
       "    <tr>\n",
       "      <th>37</th>\n",
       "      <td>Call of Duty: Modern Warfare 3</td>\n",
       "      <td>PS3</td>\n",
       "      <td>2011</td>\n",
       "      <td>Shooter</td>\n",
       "      <td>5.54</td>\n",
       "      <td>5.73</td>\n",
       "      <td>0.49</td>\n",
       "      <td>1.57</td>\n",
       "      <td>88.000000</td>\n",
       "      <td>3.200000</td>\n",
       "      <td>M</td>\n",
       "      <td>13.33</td>\n",
       "      <td>1.504016</td>\n",
       "      <td>-0.954434</td>\n",
       "    </tr>\n",
       "    <tr>\n",
       "      <th>41</th>\n",
       "      <td>Call of Duty: Black Ops</td>\n",
       "      <td>PS3</td>\n",
       "      <td>2010</td>\n",
       "      <td>Shooter</td>\n",
       "      <td>5.99</td>\n",
       "      <td>4.37</td>\n",
       "      <td>0.48</td>\n",
       "      <td>1.79</td>\n",
       "      <td>88.000000</td>\n",
       "      <td>6.400000</td>\n",
       "      <td>M</td>\n",
       "      <td>12.63</td>\n",
       "      <td>1.504016</td>\n",
       "      <td>0.466437</td>\n",
       "    </tr>\n",
       "    <tr>\n",
       "      <th>54</th>\n",
       "      <td>Gran Turismo 5</td>\n",
       "      <td>PS3</td>\n",
       "      <td>2010</td>\n",
       "      <td>Racing</td>\n",
       "      <td>2.96</td>\n",
       "      <td>4.82</td>\n",
       "      <td>0.81</td>\n",
       "      <td>2.11</td>\n",
       "      <td>84.000000</td>\n",
       "      <td>7.500000</td>\n",
       "      <td>E</td>\n",
       "      <td>10.70</td>\n",
       "      <td>1.315696</td>\n",
       "      <td>0.954862</td>\n",
       "    </tr>\n",
       "    <tr>\n",
       "      <th>...</th>\n",
       "      <td>...</td>\n",
       "      <td>...</td>\n",
       "      <td>...</td>\n",
       "      <td>...</td>\n",
       "      <td>...</td>\n",
       "      <td>...</td>\n",
       "      <td>...</td>\n",
       "      <td>...</td>\n",
       "      <td>...</td>\n",
       "      <td>...</td>\n",
       "      <td>...</td>\n",
       "      <td>...</td>\n",
       "      <td>...</td>\n",
       "      <td>...</td>\n",
       "    </tr>\n",
       "    <tr>\n",
       "      <th>16639</th>\n",
       "      <td>WSC REAL 09: World Snooker Championship</td>\n",
       "      <td>PS3</td>\n",
       "      <td>2009</td>\n",
       "      <td>Sports</td>\n",
       "      <td>0.00</td>\n",
       "      <td>0.01</td>\n",
       "      <td>0.00</td>\n",
       "      <td>0.00</td>\n",
       "      <td>33.060844</td>\n",
       "      <td>2.689447</td>\n",
       "      <td>NaN</td>\n",
       "      <td>0.01</td>\n",
       "      <td>-1.082530</td>\n",
       "      <td>-1.181131</td>\n",
       "    </tr>\n",
       "    <tr>\n",
       "      <th>16674</th>\n",
       "      <td>Tsukigime Ranko's Longest Day</td>\n",
       "      <td>PS3</td>\n",
       "      <td>2014</td>\n",
       "      <td>Action</td>\n",
       "      <td>0.00</td>\n",
       "      <td>0.01</td>\n",
       "      <td>0.00</td>\n",
       "      <td>0.00</td>\n",
       "      <td>33.060844</td>\n",
       "      <td>2.689447</td>\n",
       "      <td>NaN</td>\n",
       "      <td>0.01</td>\n",
       "      <td>-1.082530</td>\n",
       "      <td>-1.181131</td>\n",
       "    </tr>\n",
       "    <tr>\n",
       "      <th>16676</th>\n",
       "      <td>G1 Jockey 4 2008</td>\n",
       "      <td>PS3</td>\n",
       "      <td>2008</td>\n",
       "      <td>Sports</td>\n",
       "      <td>0.00</td>\n",
       "      <td>0.00</td>\n",
       "      <td>0.00</td>\n",
       "      <td>0.00</td>\n",
       "      <td>33.060844</td>\n",
       "      <td>2.689447</td>\n",
       "      <td>NaN</td>\n",
       "      <td>0.00</td>\n",
       "      <td>-1.082530</td>\n",
       "      <td>-1.181131</td>\n",
       "    </tr>\n",
       "    <tr>\n",
       "      <th>16691</th>\n",
       "      <td>Dynasty Warriors: Eiketsuden</td>\n",
       "      <td>PS3</td>\n",
       "      <td>2016</td>\n",
       "      <td>Action</td>\n",
       "      <td>0.00</td>\n",
       "      <td>0.00</td>\n",
       "      <td>0.01</td>\n",
       "      <td>0.00</td>\n",
       "      <td>33.060844</td>\n",
       "      <td>2.689447</td>\n",
       "      <td>NaN</td>\n",
       "      <td>0.01</td>\n",
       "      <td>-1.082530</td>\n",
       "      <td>-1.181131</td>\n",
       "    </tr>\n",
       "    <tr>\n",
       "      <th>16710</th>\n",
       "      <td>Samurai Warriors: Sanada Maru</td>\n",
       "      <td>PS3</td>\n",
       "      <td>2016</td>\n",
       "      <td>Action</td>\n",
       "      <td>0.00</td>\n",
       "      <td>0.00</td>\n",
       "      <td>0.01</td>\n",
       "      <td>0.00</td>\n",
       "      <td>33.060844</td>\n",
       "      <td>2.689447</td>\n",
       "      <td>NaN</td>\n",
       "      <td>0.01</td>\n",
       "      <td>-1.082530</td>\n",
       "      <td>-1.181131</td>\n",
       "    </tr>\n",
       "  </tbody>\n",
       "</table>\n",
       "<p>1331 rows × 14 columns</p>\n",
       "</div>"
      ],
      "text/plain": [
       "                                          name platform  year_of_release  \\\n",
       "16                          Grand Theft Auto V      PS3             2013   \n",
       "34                  Call of Duty: Black Ops II      PS3             2012   \n",
       "37              Call of Duty: Modern Warfare 3      PS3             2011   \n",
       "41                     Call of Duty: Black Ops      PS3             2010   \n",
       "54                              Gran Turismo 5      PS3             2010   \n",
       "...                                        ...      ...              ...   \n",
       "16639  WSC REAL 09: World Snooker Championship      PS3             2009   \n",
       "16674            Tsukigime Ranko's Longest Day      PS3             2014   \n",
       "16676                         G1 Jockey 4 2008      PS3             2008   \n",
       "16691             Dynasty Warriors: Eiketsuden      PS3             2016   \n",
       "16710            Samurai Warriors: Sanada Maru      PS3             2016   \n",
       "\n",
       "         genre  na_sales  eu_sales  jp_sales  other_sales  critic_score  \\\n",
       "16      Action      7.02      9.09      0.98         3.96     97.000000   \n",
       "34     Shooter      4.99      5.73      0.65         2.42     83.000000   \n",
       "37     Shooter      5.54      5.73      0.49         1.57     88.000000   \n",
       "41     Shooter      5.99      4.37      0.48         1.79     88.000000   \n",
       "54      Racing      2.96      4.82      0.81         2.11     84.000000   \n",
       "...        ...       ...       ...       ...          ...           ...   \n",
       "16639   Sports      0.00      0.01      0.00         0.00     33.060844   \n",
       "16674   Action      0.00      0.01      0.00         0.00     33.060844   \n",
       "16676   Sports      0.00      0.00      0.00         0.00     33.060844   \n",
       "16691   Action      0.00      0.00      0.01         0.00     33.060844   \n",
       "16710   Action      0.00      0.00      0.01         0.00     33.060844   \n",
       "\n",
       "       user_score rating  total_sales  critic_norm  user_norm  \n",
       "16       8.200000      M        21.05     1.927738   1.265678  \n",
       "34       5.300000      M        13.79     1.268615  -0.021987  \n",
       "37       3.200000      M        13.33     1.504016  -0.954434  \n",
       "41       6.400000      M        12.63     1.504016   0.466437  \n",
       "54       7.500000      E        10.70     1.315696   0.954862  \n",
       "...           ...    ...          ...          ...        ...  \n",
       "16639    2.689447    NaN         0.01    -1.082530  -1.181131  \n",
       "16674    2.689447    NaN         0.01    -1.082530  -1.181131  \n",
       "16676    2.689447    NaN         0.00    -1.082530  -1.181131  \n",
       "16691    2.689447    NaN         0.01    -1.082530  -1.181131  \n",
       "16710    2.689447    NaN         0.01    -1.082530  -1.181131  \n",
       "\n",
       "[1331 rows x 14 columns]"
      ]
     },
     "execution_count": 27,
     "metadata": {},
     "output_type": "execute_result"
    }
   ],
   "source": [
    "# filter top platform\n",
    "top_platform = games[games['platform']=='PS3'][games['critic_score']>=0][games['user_score']>=0]\n",
    "top_platform_orig = games[games['platform']=='PS3'][games['critic_score']>=0][games['user_score']>=0]\n",
    "\n",
    "# normalizing scores of users and critics for future comparison\n",
    "top_platform['critic_norm'] = (top_platform['critic_score'] - top_platform['critic_score'].mean()) / top_platform['critic_score'].std()\n",
    "top_platform['user_norm'] = (top_platform['user_score'] - top_platform['user_score'].mean()) / top_platform['user_score'].std()\n",
    "top_platform"
   ]
  },
  {
   "cell_type": "code",
   "execution_count": 28,
   "metadata": {},
   "outputs": [
    {
     "data": {
      "text/html": [
       "<div>\n",
       "<style scoped>\n",
       "    .dataframe tbody tr th:only-of-type {\n",
       "        vertical-align: middle;\n",
       "    }\n",
       "\n",
       "    .dataframe tbody tr th {\n",
       "        vertical-align: top;\n",
       "    }\n",
       "\n",
       "    .dataframe thead th {\n",
       "        text-align: right;\n",
       "    }\n",
       "</style>\n",
       "<table border=\"1\" class=\"dataframe\">\n",
       "  <thead>\n",
       "    <tr style=\"text-align: right;\">\n",
       "      <th></th>\n",
       "      <th>name</th>\n",
       "      <th>total_sales</th>\n",
       "      <th>source</th>\n",
       "      <th>score</th>\n",
       "    </tr>\n",
       "  </thead>\n",
       "  <tbody>\n",
       "    <tr>\n",
       "      <th>0</th>\n",
       "      <td>Grand Theft Auto V</td>\n",
       "      <td>21.05</td>\n",
       "      <td>user_norm</td>\n",
       "      <td>1.265678</td>\n",
       "    </tr>\n",
       "    <tr>\n",
       "      <th>1</th>\n",
       "      <td>Call of Duty: Black Ops II</td>\n",
       "      <td>13.79</td>\n",
       "      <td>user_norm</td>\n",
       "      <td>-0.021987</td>\n",
       "    </tr>\n",
       "    <tr>\n",
       "      <th>2</th>\n",
       "      <td>Call of Duty: Modern Warfare 3</td>\n",
       "      <td>13.33</td>\n",
       "      <td>user_norm</td>\n",
       "      <td>-0.954434</td>\n",
       "    </tr>\n",
       "    <tr>\n",
       "      <th>3</th>\n",
       "      <td>Call of Duty: Black Ops</td>\n",
       "      <td>12.63</td>\n",
       "      <td>user_norm</td>\n",
       "      <td>0.466437</td>\n",
       "    </tr>\n",
       "    <tr>\n",
       "      <th>4</th>\n",
       "      <td>Gran Turismo 5</td>\n",
       "      <td>10.70</td>\n",
       "      <td>user_norm</td>\n",
       "      <td>0.954862</td>\n",
       "    </tr>\n",
       "    <tr>\n",
       "      <th>...</th>\n",
       "      <td>...</td>\n",
       "      <td>...</td>\n",
       "      <td>...</td>\n",
       "      <td>...</td>\n",
       "    </tr>\n",
       "    <tr>\n",
       "      <th>2657</th>\n",
       "      <td>WSC REAL 09: World Snooker Championship</td>\n",
       "      <td>0.01</td>\n",
       "      <td>critic_norm</td>\n",
       "      <td>-1.082530</td>\n",
       "    </tr>\n",
       "    <tr>\n",
       "      <th>2658</th>\n",
       "      <td>Tsukigime Ranko's Longest Day</td>\n",
       "      <td>0.01</td>\n",
       "      <td>critic_norm</td>\n",
       "      <td>-1.082530</td>\n",
       "    </tr>\n",
       "    <tr>\n",
       "      <th>2659</th>\n",
       "      <td>G1 Jockey 4 2008</td>\n",
       "      <td>0.00</td>\n",
       "      <td>critic_norm</td>\n",
       "      <td>-1.082530</td>\n",
       "    </tr>\n",
       "    <tr>\n",
       "      <th>2660</th>\n",
       "      <td>Dynasty Warriors: Eiketsuden</td>\n",
       "      <td>0.01</td>\n",
       "      <td>critic_norm</td>\n",
       "      <td>-1.082530</td>\n",
       "    </tr>\n",
       "    <tr>\n",
       "      <th>2661</th>\n",
       "      <td>Samurai Warriors: Sanada Maru</td>\n",
       "      <td>0.01</td>\n",
       "      <td>critic_norm</td>\n",
       "      <td>-1.082530</td>\n",
       "    </tr>\n",
       "  </tbody>\n",
       "</table>\n",
       "<p>2662 rows × 4 columns</p>\n",
       "</div>"
      ],
      "text/plain": [
       "                                         name  total_sales       source  \\\n",
       "0                          Grand Theft Auto V        21.05    user_norm   \n",
       "1                  Call of Duty: Black Ops II        13.79    user_norm   \n",
       "2              Call of Duty: Modern Warfare 3        13.33    user_norm   \n",
       "3                     Call of Duty: Black Ops        12.63    user_norm   \n",
       "4                              Gran Turismo 5        10.70    user_norm   \n",
       "...                                       ...          ...          ...   \n",
       "2657  WSC REAL 09: World Snooker Championship         0.01  critic_norm   \n",
       "2658            Tsukigime Ranko's Longest Day         0.01  critic_norm   \n",
       "2659                         G1 Jockey 4 2008         0.00  critic_norm   \n",
       "2660             Dynasty Warriors: Eiketsuden         0.01  critic_norm   \n",
       "2661            Samurai Warriors: Sanada Maru         0.01  critic_norm   \n",
       "\n",
       "         score  \n",
       "0     1.265678  \n",
       "1    -0.021987  \n",
       "2    -0.954434  \n",
       "3     0.466437  \n",
       "4     0.954862  \n",
       "...        ...  \n",
       "2657 -1.082530  \n",
       "2658 -1.082530  \n",
       "2659 -1.082530  \n",
       "2660 -1.082530  \n",
       "2661 -1.082530  \n",
       "\n",
       "[2662 rows x 4 columns]"
      ]
     },
     "execution_count": 28,
     "metadata": {},
     "output_type": "execute_result"
    }
   ],
   "source": [
    "# use pandas melt function to convert rows to columns \n",
    "top_platform = top_platform[['name', 'user_norm', 'critic_norm', 'total_sales']]\n",
    "top_platform_orig = top_platform_orig[['name', 'user_score', 'critic_score', 'total_sales']]\n",
    "top_platform = top_platform.melt(id_vars=[\"name\", \"total_sales\"], \n",
    "                              var_name=\"source\", \n",
    "                              value_name=\"score\")\n",
    "top_platform"
   ]
  },
  {
   "cell_type": "code",
   "execution_count": 58,
   "metadata": {},
   "outputs": [
    {
     "data": {
      "image/png": "[encoded data removed]",
      "text/plain": [
       "<Figure size 720x432 with 1 Axes>"
      ]
     },
     "metadata": {
      "needs_background": "light"
     },
     "output_type": "display_data"
    }
   ],
   "source": [
    "# building final plot\n",
    "groups = top_platform.groupby('source')\n",
    "plt.figure(figsize=(10,6))\n",
    "for name, group in groups:\n",
    "    plt.plot(group[\"score\"], group[\"total_sales\"], marker=\"o\", linestyle=\"\", label=name)\n",
    "    plt.legend()"
   ]
  },
  {
   "cell_type": "code",
   "execution_count": 30,
   "metadata": {},
   "outputs": [
    {
     "name": "stdout",
     "output_type": "stream",
     "text": [
      "             total_sales     score\n",
      "total_sales     1.000000  0.345542\n",
      "score           0.345542  1.000000\n",
      "\n",
      "              user_score  critic_score  total_sales\n",
      "user_score      1.000000      0.795402     0.273713\n",
      "critic_score    0.795402      1.000000     0.417371\n",
      "total_sales     0.273713      0.417371     1.000000\n"
     ]
    }
   ],
   "source": [
    "print(top_platform.corr())\n",
    "print()\n",
    "print(top_platform_orig.corr())"
   ]
  },
  {
   "cell_type": "markdown",
   "metadata": {},
   "source": [
    "#### Conclusion:\n",
    "\n",
    "As can be seen from the plot, the ratings of users and critics have some relation to the number of sales. However, a correlation score indicates an insignificant relationship. The correletion between the aggregate assessment of users and critics with sales is weaker (0.28) than separate scores. Critics score and sales (0.48), Users score and sales (0.14). The vertical column on the chart can be ignored - these are the replaced missing values by the average"
   ]
  },
  {
   "cell_type": "markdown",
   "metadata": {},
   "source": [
    "#### 3.4. Comparison same games on different platforms"
   ]
  },
  {
   "cell_type": "code",
   "execution_count": 31,
   "metadata": {},
   "outputs": [
    {
     "data": {
      "text/html": [
       "<div>\n",
       "<style scoped>\n",
       "    .dataframe tbody tr th:only-of-type {\n",
       "        vertical-align: middle;\n",
       "    }\n",
       "\n",
       "    .dataframe tbody tr th {\n",
       "        vertical-align: top;\n",
       "    }\n",
       "\n",
       "    .dataframe thead th {\n",
       "        text-align: right;\n",
       "    }\n",
       "</style>\n",
       "<table border=\"1\" class=\"dataframe\">\n",
       "  <thead>\n",
       "    <tr style=\"text-align: right;\">\n",
       "      <th></th>\n",
       "      <th>name</th>\n",
       "      <th>platform</th>\n",
       "      <th>year_of_release</th>\n",
       "      <th>genre</th>\n",
       "      <th>na_sales</th>\n",
       "      <th>eu_sales</th>\n",
       "      <th>jp_sales</th>\n",
       "      <th>other_sales</th>\n",
       "      <th>critic_score</th>\n",
       "      <th>user_score</th>\n",
       "      <th>rating</th>\n",
       "      <th>total_sales</th>\n",
       "    </tr>\n",
       "  </thead>\n",
       "  <tbody>\n",
       "    <tr>\n",
       "      <th>16</th>\n",
       "      <td>Grand Theft Auto V</td>\n",
       "      <td>PS3</td>\n",
       "      <td>2013</td>\n",
       "      <td>Action</td>\n",
       "      <td>7.02</td>\n",
       "      <td>9.09</td>\n",
       "      <td>0.98</td>\n",
       "      <td>3.96</td>\n",
       "      <td>97.000000</td>\n",
       "      <td>8.200000</td>\n",
       "      <td>M</td>\n",
       "      <td>21.05</td>\n",
       "    </tr>\n",
       "    <tr>\n",
       "      <th>23</th>\n",
       "      <td>Grand Theft Auto V</td>\n",
       "      <td>X360</td>\n",
       "      <td>2013</td>\n",
       "      <td>Action</td>\n",
       "      <td>9.66</td>\n",
       "      <td>5.14</td>\n",
       "      <td>0.06</td>\n",
       "      <td>1.41</td>\n",
       "      <td>97.000000</td>\n",
       "      <td>8.100000</td>\n",
       "      <td>M</td>\n",
       "      <td>16.27</td>\n",
       "    </tr>\n",
       "    <tr>\n",
       "      <th>29</th>\n",
       "      <td>Call of Duty: Modern Warfare 3</td>\n",
       "      <td>X360</td>\n",
       "      <td>2011</td>\n",
       "      <td>Shooter</td>\n",
       "      <td>9.04</td>\n",
       "      <td>4.24</td>\n",
       "      <td>0.13</td>\n",
       "      <td>1.32</td>\n",
       "      <td>88.000000</td>\n",
       "      <td>3.400000</td>\n",
       "      <td>M</td>\n",
       "      <td>14.73</td>\n",
       "    </tr>\n",
       "    <tr>\n",
       "      <th>32</th>\n",
       "      <td>Call of Duty: Black Ops</td>\n",
       "      <td>X360</td>\n",
       "      <td>2010</td>\n",
       "      <td>Shooter</td>\n",
       "      <td>9.70</td>\n",
       "      <td>3.68</td>\n",
       "      <td>0.11</td>\n",
       "      <td>1.13</td>\n",
       "      <td>87.000000</td>\n",
       "      <td>6.300000</td>\n",
       "      <td>M</td>\n",
       "      <td>14.62</td>\n",
       "    </tr>\n",
       "    <tr>\n",
       "      <th>34</th>\n",
       "      <td>Call of Duty: Black Ops II</td>\n",
       "      <td>PS3</td>\n",
       "      <td>2012</td>\n",
       "      <td>Shooter</td>\n",
       "      <td>4.99</td>\n",
       "      <td>5.73</td>\n",
       "      <td>0.65</td>\n",
       "      <td>2.42</td>\n",
       "      <td>83.000000</td>\n",
       "      <td>5.300000</td>\n",
       "      <td>M</td>\n",
       "      <td>13.79</td>\n",
       "    </tr>\n",
       "    <tr>\n",
       "      <th>...</th>\n",
       "      <td>...</td>\n",
       "      <td>...</td>\n",
       "      <td>...</td>\n",
       "      <td>...</td>\n",
       "      <td>...</td>\n",
       "      <td>...</td>\n",
       "      <td>...</td>\n",
       "      <td>...</td>\n",
       "      <td>...</td>\n",
       "      <td>...</td>\n",
       "      <td>...</td>\n",
       "      <td>...</td>\n",
       "    </tr>\n",
       "    <tr>\n",
       "      <th>16674</th>\n",
       "      <td>Tsukigime Ranko's Longest Day</td>\n",
       "      <td>PS3</td>\n",
       "      <td>2014</td>\n",
       "      <td>Action</td>\n",
       "      <td>0.00</td>\n",
       "      <td>0.01</td>\n",
       "      <td>0.00</td>\n",
       "      <td>0.00</td>\n",
       "      <td>33.060844</td>\n",
       "      <td>2.689447</td>\n",
       "      <td>NaN</td>\n",
       "      <td>0.01</td>\n",
       "    </tr>\n",
       "    <tr>\n",
       "      <th>16676</th>\n",
       "      <td>G1 Jockey 4 2008</td>\n",
       "      <td>PS3</td>\n",
       "      <td>2008</td>\n",
       "      <td>Sports</td>\n",
       "      <td>0.00</td>\n",
       "      <td>0.00</td>\n",
       "      <td>0.00</td>\n",
       "      <td>0.00</td>\n",
       "      <td>33.060844</td>\n",
       "      <td>2.689447</td>\n",
       "      <td>NaN</td>\n",
       "      <td>0.00</td>\n",
       "    </tr>\n",
       "    <tr>\n",
       "      <th>16691</th>\n",
       "      <td>Dynasty Warriors: Eiketsuden</td>\n",
       "      <td>PS3</td>\n",
       "      <td>2016</td>\n",
       "      <td>Action</td>\n",
       "      <td>0.00</td>\n",
       "      <td>0.00</td>\n",
       "      <td>0.01</td>\n",
       "      <td>0.00</td>\n",
       "      <td>33.060844</td>\n",
       "      <td>2.689447</td>\n",
       "      <td>NaN</td>\n",
       "      <td>0.01</td>\n",
       "    </tr>\n",
       "    <tr>\n",
       "      <th>16709</th>\n",
       "      <td>SCORE International Baja 1000: The Official Game</td>\n",
       "      <td>PS2</td>\n",
       "      <td>2008</td>\n",
       "      <td>Racing</td>\n",
       "      <td>0.00</td>\n",
       "      <td>0.00</td>\n",
       "      <td>0.00</td>\n",
       "      <td>0.00</td>\n",
       "      <td>33.060844</td>\n",
       "      <td>2.689447</td>\n",
       "      <td>NaN</td>\n",
       "      <td>0.00</td>\n",
       "    </tr>\n",
       "    <tr>\n",
       "      <th>16710</th>\n",
       "      <td>Samurai Warriors: Sanada Maru</td>\n",
       "      <td>PS3</td>\n",
       "      <td>2016</td>\n",
       "      <td>Action</td>\n",
       "      <td>0.00</td>\n",
       "      <td>0.00</td>\n",
       "      <td>0.01</td>\n",
       "      <td>0.00</td>\n",
       "      <td>33.060844</td>\n",
       "      <td>2.689447</td>\n",
       "      <td>NaN</td>\n",
       "      <td>0.01</td>\n",
       "    </tr>\n",
       "  </tbody>\n",
       "</table>\n",
       "<p>2946 rows × 12 columns</p>\n",
       "</div>"
      ],
      "text/plain": [
       "                                                   name platform  \\\n",
       "16                                   Grand Theft Auto V      PS3   \n",
       "23                                   Grand Theft Auto V     X360   \n",
       "29                       Call of Duty: Modern Warfare 3     X360   \n",
       "32                              Call of Duty: Black Ops     X360   \n",
       "34                           Call of Duty: Black Ops II      PS3   \n",
       "...                                                 ...      ...   \n",
       "16674                     Tsukigime Ranko's Longest Day      PS3   \n",
       "16676                                  G1 Jockey 4 2008      PS3   \n",
       "16691                      Dynasty Warriors: Eiketsuden      PS3   \n",
       "16709  SCORE International Baja 1000: The Official Game      PS2   \n",
       "16710                     Samurai Warriors: Sanada Maru      PS3   \n",
       "\n",
       "       year_of_release    genre  na_sales  eu_sales  jp_sales  other_sales  \\\n",
       "16                2013   Action      7.02      9.09      0.98         3.96   \n",
       "23                2013   Action      9.66      5.14      0.06         1.41   \n",
       "29                2011  Shooter      9.04      4.24      0.13         1.32   \n",
       "32                2010  Shooter      9.70      3.68      0.11         1.13   \n",
       "34                2012  Shooter      4.99      5.73      0.65         2.42   \n",
       "...                ...      ...       ...       ...       ...          ...   \n",
       "16674             2014   Action      0.00      0.01      0.00         0.00   \n",
       "16676             2008   Sports      0.00      0.00      0.00         0.00   \n",
       "16691             2016   Action      0.00      0.00      0.01         0.00   \n",
       "16709             2008   Racing      0.00      0.00      0.00         0.00   \n",
       "16710             2016   Action      0.00      0.00      0.01         0.00   \n",
       "\n",
       "       critic_score  user_score rating  total_sales  \n",
       "16        97.000000    8.200000      M        21.05  \n",
       "23        97.000000    8.100000      M        16.27  \n",
       "29        88.000000    3.400000      M        14.73  \n",
       "32        87.000000    6.300000      M        14.62  \n",
       "34        83.000000    5.300000      M        13.79  \n",
       "...             ...         ...    ...          ...  \n",
       "16674     33.060844    2.689447    NaN         0.01  \n",
       "16676     33.060844    2.689447    NaN         0.00  \n",
       "16691     33.060844    2.689447    NaN         0.01  \n",
       "16709     33.060844    2.689447    NaN         0.00  \n",
       "16710     33.060844    2.689447    NaN         0.01  \n",
       "\n",
       "[2946 rows x 12 columns]"
      ]
     },
     "execution_count": 31,
     "metadata": {},
     "output_type": "execute_result"
    }
   ],
   "source": [
    "# creation the list of the games from top platform to comparison with other platforms\n",
    "games_list = top_platform[\"name\"].unique()\n",
    "# creation the list of the other platforms\n",
    "list_top_platforms = games.groupby('platform')['name'].count().sort_values(ascending=False).head(7).reset_index()[\"platform\"].tolist()\n",
    "\n",
    "# filter the table\n",
    "gemes_list_table = games.query('name in @games_list')\n",
    "gemes_list_table = gemes_list_table.query('platform in @list_top_platforms')\n",
    "gemes_list_table"
   ]
  },
  {
   "cell_type": "code",
   "execution_count": 32,
   "metadata": {},
   "outputs": [
    {
     "data": {
      "text/plain": [
       "<pandas.core.groupby.generic.DataFrameGroupBy object at 0x00000169575BAC48>"
      ]
     },
     "execution_count": 32,
     "metadata": {},
     "output_type": "execute_result"
    }
   ],
   "source": [
    "groups"
   ]
  },
  {
   "cell_type": "code",
   "execution_count": 60,
   "metadata": {},
   "outputs": [
    {
     "data": {
      "image/png": "[encoded data removed]",
      "text/plain": [
       "<Figure size 720x432 with 1 Axes>"
      ]
     },
     "metadata": {
      "needs_background": "light"
     },
     "output_type": "display_data"
    }
   ],
   "source": [
    "groups = gemes_list_table.groupby('platform')\n",
    "plt.figure(figsize=(10,6))\n",
    "for name, group in groups:\n",
    "    plt.plot(group[\"critic_score\"], group[\"total_sales\"], marker=\"o\", linestyle=\"\", label=name, alpha=.5)\n",
    "    plt.legend()"
   ]
  },
  {
   "cell_type": "code",
   "execution_count": 34,
   "metadata": {},
   "outputs": [
    {
     "name": "stdout",
     "output_type": "stream",
     "text": [
      "mean correletion for the top platforms is  0.3917360269033069\n"
     ]
    }
   ],
   "source": [
    "cor_table_platf = groups[['critic_score', 'total_sales']].corr().reset_index()\n",
    "mean_corr = sum(cor_table_platf[cor_table_platf['level_1']=='total_sales']['critic_score'])/len(cor_table_platf[cor_table_platf['level_1']=='total_sales']['critic_score'])\n",
    "print(\"mean correletion for the top platforms is \", mean_corr)"
   ]
  },
  {
   "cell_type": "markdown",
   "metadata": {},
   "source": [
    "Sales of the same games on other platforms looks the same. But the test showed sales for the PS's line has an average correlation of around .45. However, for other platforms, the correlation is less."
   ]
  },
  {
   "cell_type": "markdown",
   "metadata": {},
   "source": [
    "#### 3.5. Discovery of the games genre"
   ]
  },
  {
   "cell_type": "code",
   "execution_count": 61,
   "metadata": {},
   "outputs": [
    {
     "data": {
      "text/plain": [
       "([0, 1, 2, 3, 4, 5, 6, 7, 8, 9, 10, 11],\n",
       " <a list of 12 Text xticklabel objects>)"
      ]
     },
     "execution_count": 61,
     "metadata": {},
     "output_type": "execute_result"
    },
    {
     "data": {
      "image/png": "[encoded data removed]",
      "text/plain": [
       "<Figure size 720x432 with 1 Axes>"
      ]
     },
     "metadata": {
      "needs_background": "light"
     },
     "output_type": "display_data"
    }
   ],
   "source": [
    "genre_count = games.groupby('genre')['total_sales'].agg(['count','sum']).reset_index().sort_values(by='count', ascending=False)\n",
    "genre_sum = games.groupby('genre')['total_sales'].agg(['count','sum']).reset_index().sort_values(by='sum', ascending=False)\n",
    "\n",
    "plt.figure(figsize=(10,6))\n",
    "plt.plot(genre_count[\"genre\"], genre_count[\"count\"], marker=\"o\", linestyle=\"\", color='red')\n",
    "plt.plot(genre_sum[\"genre\"], genre_sum[\"sum\"], marker=\"x\", linestyle=\"\", color='blue')\n",
    "plt.xticks(rotation=90)"
   ]
  },
  {
   "cell_type": "markdown",
   "metadata": {},
   "source": [
    "#### Conclusion:\n",
    "\n",
    "* most popular and profitable genres: 'Action', 'Sports', 'Misc'\n",
    "* the unpopular and least profitable: 'Fighting', 'Strategy', 'Puzzle'\n",
    "\n",
    "It is interesting that the adventure ganre is the least popular, but brought the sales no less than the rest on average.\n",
    "\n",
    "*popularity means the number of games released within this genre*"
   ]
  },
  {
   "cell_type": "markdown",
   "metadata": {},
   "source": [
    "## 4. Regional specifics"
   ]
  },
  {
   "cell_type": "markdown",
   "metadata": {},
   "source": [
    "### 4.1. The top five platforms"
   ]
  },
  {
   "cell_type": "code",
   "execution_count": 36,
   "metadata": {},
   "outputs": [
    {
     "data": {
      "text/plain": [
       "(0, 1.5)"
      ]
     },
     "execution_count": 36,
     "metadata": {},
     "output_type": "execute_result"
    },
    {
     "data": {
      "image/png": "[encoded data removed]",
      "text/plain": [
       "<Figure size 864x576 with 1 Axes>"
      ]
     },
     "metadata": {
      "needs_background": "light"
     },
     "output_type": "display_data"
    }
   ],
   "source": [
    "list_top_platforms = ['PS2', 'X360', 'PS3', 'Wii', 'DS']\n",
    "list_top_genres = ['Action', 'Sports', 'Shooter', 'Role-Playing', 'Platform',]\n",
    "region_sales = games[[\"platform\", \"genre\", \"rating\", \"na_sales\", \"eu_sales\", \"jp_sales\", \"other_sales\"]]\n",
    "region_sales = region_sales.melt(id_vars=[\"platform\", \"genre\", \"rating\"], \n",
    "                              var_name=\"region\", \n",
    "                              value_name=\"sales\")\n",
    "\n",
    "def is_outlier(s):\n",
    "    lower_limit = s.mean() - (s.std() * 3)\n",
    "    upper_limit = s.mean() + (s.std() * 3)\n",
    "    return ~s.between(lower_limit, upper_limit)\n",
    "\n",
    "table_top_platforms = region_sales.query('platform in @list_top_platforms')\n",
    "\n",
    "table_top_platforms = table_top_platforms[table_top_platforms['sales']>0]\n",
    "table_top_platforms = table_top_platforms[~table_top_platforms.groupby(['rating','region'])['sales'].apply(is_outlier).fillna(value=True)]\n",
    "\n",
    "plt.figure(figsize=(12,8))\n",
    "sns.boxplot(y='sales', x='platform', \n",
    "                 data=table_top_platforms, \n",
    "                 #palette=\"colorblind\",\n",
    "                #dodge=True,\n",
    "                 hue='region')\n",
    "plt.title('Top 5 Platforms')\n",
    "plt.ylim(0, 1.5)\n"
   ]
  },
  {
   "cell_type": "markdown",
   "metadata": {},
   "source": [
    "#### Conclusion:\n",
    "\n",
    "By platforms:\n",
    "* DS – most popular in Japan and America, less in Europe. \n",
    "* PS2 – most popular in America than in Japan, less in Europe. \n",
    "* PS3 – become the most popular in America and in Europe, then in Japan\n",
    "* Wii – the same tendency as PS3 \n",
    "* X360 – the same tendency as PS3. But US has a significant margin.\n",
    "\n",
    "By ragions:\n",
    "* Japan paly in DS and PS2\n",
    "* US in PS3 and X360\n",
    "* EU in PS3, Wii, 360"
   ]
  },
  {
   "cell_type": "markdown",
   "metadata": {},
   "source": [
    "### 4.2. The top five genres"
   ]
  },
  {
   "cell_type": "code",
   "execution_count": 37,
   "metadata": {},
   "outputs": [
    {
     "data": {
      "text/plain": [
       "(0, 1.5)"
      ]
     },
     "execution_count": 37,
     "metadata": {},
     "output_type": "execute_result"
    },
    {
     "data": {
      "image/png": "[encoded data removed]",
      "text/plain": [
       "<Figure size 864x576 with 1 Axes>"
      ]
     },
     "metadata": {
      "needs_background": "light"
     },
     "output_type": "display_data"
    }
   ],
   "source": [
    "table_top_genres = region_sales.query('genre in @list_top_genres')\n",
    "\n",
    "table_top_genres = table_top_genres[table_top_genres['sales']>0]\n",
    "table_top_genres = table_top_genres[~table_top_genres.groupby(['rating','region'])['sales'].apply(is_outlier).fillna(value=True)]\n",
    "\n",
    "plt.figure(figsize=(12,8))\n",
    "sns.boxplot(y='sales', x='genre', \n",
    "                 data=table_top_genres, \n",
    "                 #palette=\"colorblind\",\n",
    "                #dodge=True,\n",
    "                 hue='region')\n",
    "plt.title('Top 5 Genres')\n",
    "plt.ylim(0, 1.5)"
   ]
  },
  {
   "cell_type": "markdown",
   "metadata": {},
   "source": [
    "#### Conclusion:\n",
    "\n",
    "By platforms:\n",
    "* Platform – most popular in US and Japan, less in Europe. \n",
    "* Sports – significant advantage in US\n",
    "* Action –most popular in America and in Europe, then in Japan\n",
    "* Role-Playing – most popular in US and Japan, less in Europe\n",
    "* Shooter – very popular in US and EU, and not popular in Japan\n",
    "\n",
    "By ragions:\n",
    "* in Japan buy Role-Play and Platform games\n",
    "* US prefer wide range of genre: shooter, action, sport, platform\n",
    "* EU favors Shooter more then other genre"
   ]
  },
  {
   "cell_type": "markdown",
   "metadata": {},
   "source": [
    "### 4.3. Affect of ESRB to sales"
   ]
  },
  {
   "cell_type": "code",
   "execution_count": 38,
   "metadata": {},
   "outputs": [
    {
     "data": {
      "text/plain": [
       "(0, 2.5)"
      ]
     },
     "execution_count": 38,
     "metadata": {},
     "output_type": "execute_result"
    },
    {
     "data": {
      "image/png": "[encoded data removed]",
      "text/plain": [
       "<Figure size 864x576 with 1 Axes>"
      ]
     },
     "metadata": {
      "needs_background": "light"
     },
     "output_type": "display_data"
    }
   ],
   "source": [
    "reg_sales_del_outl = region_sales[region_sales['sales']>0]\n",
    "reg_sales_del_outl = reg_sales_del_outl[~reg_sales_del_outl.groupby(['rating','region'])['sales'].apply(is_outlier).fillna(value=True)]\n",
    "\n",
    "plt.figure(figsize=(12,8))\n",
    "sns.boxplot(y='sales', x='rating', \n",
    "                 data=reg_sales_del_outl, \n",
    "                 #palette=\"colorblind\",\n",
    "                #dodge=True,\n",
    "                 hue='region')\n",
    "plt.title('Ratings Affects')\n",
    "plt.ylim(0, 2.5)"
   ]
  },
  {
   "cell_type": "code",
   "execution_count": 39,
   "metadata": {},
   "outputs": [
    {
     "data": {
      "text/html": [
       "<div>\n",
       "<style scoped>\n",
       "    .dataframe tbody tr th:only-of-type {\n",
       "        vertical-align: middle;\n",
       "    }\n",
       "\n",
       "    .dataframe tbody tr th {\n",
       "        vertical-align: top;\n",
       "    }\n",
       "\n",
       "    .dataframe thead th {\n",
       "        text-align: right;\n",
       "    }\n",
       "</style>\n",
       "<table border=\"1\" class=\"dataframe\">\n",
       "  <thead>\n",
       "    <tr style=\"text-align: right;\">\n",
       "      <th></th>\n",
       "      <th>rating</th>\n",
       "      <th>total_sales</th>\n",
       "    </tr>\n",
       "  </thead>\n",
       "  <tbody>\n",
       "    <tr>\n",
       "      <th>0</th>\n",
       "      <td>E</td>\n",
       "      <td>2439.84</td>\n",
       "    </tr>\n",
       "    <tr>\n",
       "      <th>1</th>\n",
       "      <td>T</td>\n",
       "      <td>1493.35</td>\n",
       "    </tr>\n",
       "    <tr>\n",
       "      <th>2</th>\n",
       "      <td>M</td>\n",
       "      <td>1473.79</td>\n",
       "    </tr>\n",
       "    <tr>\n",
       "      <th>3</th>\n",
       "      <td>E10+</td>\n",
       "      <td>655.60</td>\n",
       "    </tr>\n",
       "    <tr>\n",
       "      <th>4</th>\n",
       "      <td>AO</td>\n",
       "      <td>1.96</td>\n",
       "    </tr>\n",
       "    <tr>\n",
       "      <th>5</th>\n",
       "      <td>EC</td>\n",
       "      <td>1.75</td>\n",
       "    </tr>\n",
       "    <tr>\n",
       "      <th>6</th>\n",
       "      <td>RP</td>\n",
       "      <td>0.09</td>\n",
       "    </tr>\n",
       "  </tbody>\n",
       "</table>\n",
       "</div>"
      ],
      "text/plain": [
       "  rating  total_sales\n",
       "0      E      2439.84\n",
       "1      T      1493.35\n",
       "2      M      1473.79\n",
       "3   E10+       655.60\n",
       "4     AO         1.96\n",
       "5     EC         1.75\n",
       "6     RP         0.09"
      ]
     },
     "execution_count": 39,
     "metadata": {},
     "output_type": "execute_result"
    }
   ],
   "source": [
    "games.groupby('rating')['total_sales'].sum().sort_values(ascending=False).reset_index()"
   ]
  },
  {
   "cell_type": "markdown",
   "metadata": {},
   "source": [
    "#### Conclusion:\n",
    "\n",
    "Ratings:\n",
    "* E Everyone\n",
    "* T Teen (13>)\n",
    "* M Mature (17>)\n",
    "* E10+ Everyone 10+\n",
    "* EC Early Childhood\n",
    "* RP Rating Pending\n",
    "* AO Adults Only\n",
    "\n",
    "Top 3 best selling games ratings: E, T, M\n",
    "the older the audience, the more sold games.\n",
    "\n",
    "EС-rated games are not popular in Japan and Europe\n",
    "\n",
    "AO and RP dropped out of comparison, since their sales compared to others are insignificant.\n",
    "\n",
    "By ragions:\n",
    "* in the USA there is an audience for all ages\n",
    "* Games for everyone are popular in Japan, and T, M, and E10 + are equally less popular.\n",
    "* In Europe, games with a rating of M are popular and less popular, at an equal level of E, T, and E10 +"
   ]
  },
  {
   "cell_type": "markdown",
   "metadata": {},
   "source": [
    "## Hypotheses testing"
   ]
  },
  {
   "cell_type": "markdown",
   "metadata": {},
   "source": [
    "### 5.1. Average user ratings of the Xbox One and PC platforms are the same"
   ]
  },
  {
   "cell_type": "code",
   "execution_count": 40,
   "metadata": {},
   "outputs": [
    {
     "name": "stdout",
     "output_type": "stream",
     "text": [
      "6.146557605121778\n",
      "5.513012264433145\n"
     ]
    }
   ],
   "source": [
    "XOne_data = games[games['platform']=='XOne']\n",
    "PC_data = games[games['platform']=='PC']\n",
    "\n",
    "print(PC_data['user_score'].mean())\n",
    "print(XOne_data['user_score'].mean())"
   ]
  },
  {
   "cell_type": "code",
   "execution_count": 41,
   "metadata": {},
   "outputs": [
    {
     "name": "stdout",
     "output_type": "stream",
     "text": [
      "Null hypotheses - user rating mean of two platforms are not differ\n",
      "p-value:  0.0001\n",
      "We reject the null hypothesis\n",
      "\n"
     ]
    }
   ],
   "source": [
    "#First hypothesis\n",
    "print(\"Null hypotheses - user rating mean of two platforms are not differ\")\n",
    "results_platforms = st.ttest_ind(\n",
    "        XOne_data['user_score'], \n",
    "        PC_data['user_score'])\n",
    "print('p-value: ', results_platforms.pvalue.round(4))\n",
    "if (results_platforms.pvalue < 0.01):\n",
    "        print(\"We reject the null hypothesis\")\n",
    "else:\n",
    "        print(\"We can't reject the null hypothesis\")\n",
    "print()"
   ]
  },
  {
   "cell_type": "markdown",
   "metadata": {},
   "source": [
    "#### Conclusion:\n",
    "User ratings for the two platforms are significantly different, both with soft and hard criteria of significance. Platform PC got higher average score."
   ]
  },
  {
   "cell_type": "markdown",
   "metadata": {},
   "source": [
    "### 5.2. Average user ratings for the Action and Sports genres are different."
   ]
  },
  {
   "cell_type": "code",
   "execution_count": 42,
   "metadata": {},
   "outputs": [
    {
     "name": "stdout",
     "output_type": "stream",
     "text": [
      "4.69615035052508\n",
      "5.0602428984438665\n"
     ]
    }
   ],
   "source": [
    "Action_data = games[games['genre']=='Action']\n",
    "Sports_data = games[games['genre']=='Sports']\n",
    "\n",
    "print(Sports_data['user_score'].mean())\n",
    "print(Action_data['user_score'].mean())"
   ]
  },
  {
   "cell_type": "code",
   "execution_count": 43,
   "metadata": {},
   "outputs": [
    {
     "name": "stdout",
     "output_type": "stream",
     "text": [
      "Null hypotheses - user rating mean of two genres are not differ\n",
      "p-value:  1.99e-08\n",
      "We reject the null hypothesis\n",
      "\n"
     ]
    }
   ],
   "source": [
    "#First hypothesis\n",
    "print(\"Null hypotheses - user rating mean of two genres are not differ\")\n",
    "results_genre = st.ttest_ind(\n",
    "        Action_data['user_score'], \n",
    "        Sports_data['user_score'])\n",
    "print('p-value: ', results_genre.pvalue.round(10))\n",
    "if (results_genre.pvalue < 0.01):\n",
    "        print(\"We reject the null hypothesis\")\n",
    "else:\n",
    "        print(\"We can't reject the null hypothesis\")\n",
    "print()"
   ]
  },
  {
   "cell_type": "markdown",
   "metadata": {},
   "source": [
    "#### Conclusion:\n",
    "\n",
    "User ratings for the two genres vary significantly even with the hard criteria of significance. This means that the differences in the estimates are not accidental. And Action games got a higher average rating."
   ]
  },
  {
   "cell_type": "markdown",
   "metadata": {},
   "source": [
    "## General Conclusion"
   ]
  },
  {
   "cell_type": "markdown",
   "metadata": {},
   "source": [
    "This work was devoted to a study of the sales of 11,559 games released on 31 gaming platforms on three continents, from 1980 to 2016. Most of the data was collected from 1993.\n",
    "\n",
    "Among the conclusions **about the platforms**, the main ones can be noted:\n",
    "\n",
    "    1. Top five by total sum of sales: 'PS2', 'X360', 'PS3', 'Wii', 'DS'\n",
    "    2. Wii, X360, DS the biggest since 2004\n",
    "    3. 'NES', 'SNES', 'GB', '2600', 'GEN' used to be popular before 2001. It seems the release of PS pushed all other platforms out of the market in 1994.\n",
    "    4. Median life expectancy: 12.0 years\n",
    "    5. Computer games could be popular but could not break the top.\n",
    "    6. The '3DS', 'WiiU' platforms seem promising. They arose relatively recently - 2011 and 2012, respectively. Even though, sales declined, they can still grow, since the life cycle has not yet been exhausted.\n",
    "    7. Sales are significantly different from each other. There are platforms that stand out from the rest. For example, the PS platform line, the DS platform, Wii and 360.\n",
    "    8. PC platform has higher user score then Xbox One\n",
    "\n",
    "A slight positive average correlation (0.39) was found between critics' ratings and sales of games for top platforms.\n",
    "\n",
    "**Regarding genres**, it was revealed that\n",
    "\n",
    "    • most popular and profitable genres: 'Action', 'Sports', 'Misc'\n",
    "    • the unpopular and least profitable: 'Fighting', 'Strategy', 'Puzzle'\n",
    "    • action games have higher user score than sports\n",
    "\n",
    "Speaking of **regional specifics**, then:\n",
    "\n",
    "    • Japan paly in DS and PS2. People buy Role-Play and Platform games. Games for everyone are popular in Japan, and T, M, and E10 + are equally less popular.\n",
    "    • US play PS3 and X360. Users prefer wide range of genre: shooter, action, sport, platform. In the USA there is an audience for all ages.\n",
    "    • EU prefer PS3, Wii and 360. Also EU's users favors Shooter more than other genre. Games with a rating of M are popular and less popular, at an equal level of E, T, and E10 +"
   ]
  }
 ],
 "metadata": {
  "kernelspec": {
   "display_name": "Python 3",
   "language": "python",
   "name": "python3"
  },
  "language_info": {
   "codemirror_mode": {
    "name": "ipython",
    "version": 3
   },
   "file_extension": ".py",
   "mimetype": "text/x-python",
   "name": "python",
   "nbconvert_exporter": "python",
   "pygments_lexer": "ipython3",
   "version": "3.7.6"
  }
 },
 "nbformat": 4,
 "nbformat_minor": 4
}
