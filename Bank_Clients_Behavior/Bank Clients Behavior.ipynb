{
 "cells": [
  {
   "cell_type": "markdown",
   "metadata": {},
   "source": [
    "# Bank Clients Behavior\n",
    "#### to predict whether clients leave the bank or stay\n",
    "\n",
    "#### PLAN:\n",
    "\n",
    "##### INTRODUCTION \n",
    "##### INVESTIGETION\n",
    "1. Data preprocessing\n",
    "    * Checking variables\n",
    "    * Class ratio\n",
    "2. Logistic model (F1 and ROC AUC Metric)\n",
    "    * Before balancing\n",
    "        * Splitting the source data\n",
    "        * Checking original data using ROC AUC score\n",
    "        * Logistic Regression and Threshold\n",
    "    * Balanced\n",
    "        * Checking original data using ROC AUC score\n",
    "        * Logistic Regression and Threshold\n",
    "    * Upsampling\n",
    "        * Checking original data using ROC AUC score\n",
    "        * Logistic Regression and Threshold\n",
    "    * Upsampling and balanced\n",
    "        * Checking original data using ROC AUC score\n",
    "        * Logistic Regression and Threshold\n",
    "3. Decision tree and F1 test\n",
    "    * Before balancing\n",
    "    * Balanced\n",
    "    * Upsampling\n",
    "        * Moving threshold\n",
    "    * After upsampling and balanced\n",
    "        * Moving threshold\n",
    "4. Random forest and F1 test\n",
    "    * Before balancing\n",
    "    * Balanced\n",
    "    * Upsampling\n",
    "        * Moving threshold\n",
    "    * After upsampling and balanced\n",
    "        * Moving threshold\n",
    "5. Visualization and comparison\n",
    "6. The construction of the final model\n",
    "\n",
    "##### СONCLUSIONS"
   ]
  },
  {
   "cell_type": "markdown",
   "metadata": {},
   "source": [
    "## INTRODUCTION \n",
    "\n",
    "The main goal of the task is to learn how to accurately predict the behavior of the bank client, in particular, to predict whether the client will leave or not. For this, data is used on existing customers who have remained or gone. Those that have gone much less then stay, so the model may work worse. To improve the quality of the model, it is necessary to balance the number of those who left to the number of those who stay.\n",
    "\n",
    "Three methods and one combination of them will be used for balancing. One of the methods will be the introduction of the *hyperparameter* `(class_weight = 'balanced')` in the parameters of the models. **Logistic regression** will be used to create the model. Next, the *Upsampling* method and the *Threshold* offset will be applied. Then a combination of the first and second methods. To verify the quality of the model, the ROC AUC metric will be used.\n",
    "\n",
    "Next, I will build models using the **Decision Tree** and **Random Forest** methods. The harmonized indicator F1 will be used as the main metric. I will apply all four methods of balancing the model to find the best indicator of F1."
   ]
  },
  {
   "cell_type": "code",
   "execution_count": 13,
   "metadata": {},
   "outputs": [],
   "source": [
    "from sklearn.tree import DecisionTreeClassifier\n",
    "from sklearn.ensemble import RandomForestClassifier\n",
    "from sklearn.linear_model import LogisticRegression\n",
    "\n",
    "from sklearn.metrics import recall_score\n",
    "from sklearn.metrics import precision_score\n",
    "from sklearn.metrics import f1_score\n",
    "from sklearn.metrics import roc_curve\n",
    "from sklearn.metrics import roc_auc_score\n",
    "\n",
    "from sklearn.model_selection import train_test_split\n",
    "from sklearn.utils import shuffle\n",
    "\n",
    "import pandas as pd\n",
    "import numpy as np\n",
    "import seaborn as sns; sns.set()\n",
    "import matplotlib.pyplot as plt \n",
    "\n",
    "import warnings\n",
    "warnings.filterwarnings('ignore')"
   ]
  },
  {
   "cell_type": "markdown",
   "metadata": {},
   "source": [
    "## Data preprocessing\n",
    "\n",
    "### Checking variables"
   ]
  },
  {
   "cell_type": "code",
   "execution_count": 14,
   "metadata": {
    "scrolled": true
   },
   "outputs": [
    {
     "name": "stdout",
     "output_type": "stream",
     "text": [
      "<class 'pandas.core.frame.DataFrame'>\n",
      "RangeIndex: 10000 entries, 0 to 9999\n",
      "Data columns (total 14 columns):\n",
      "RowNumber          10000 non-null int64\n",
      "CustomerId         10000 non-null int64\n",
      "Surname            10000 non-null object\n",
      "CreditScore        10000 non-null int64\n",
      "Geography          10000 non-null object\n",
      "Gender             10000 non-null object\n",
      "Age                10000 non-null int64\n",
      "Tenure             9091 non-null float64\n",
      "Balance            10000 non-null float64\n",
      "NumOfProducts      10000 non-null int64\n",
      "HasCrCard          10000 non-null int64\n",
      "IsActiveMember     10000 non-null int64\n",
      "EstimatedSalary    10000 non-null float64\n",
      "Exited             10000 non-null int64\n",
      "dtypes: float64(3), int64(8), object(3)\n",
      "memory usage: 1.1+ MB\n"
     ]
    }
   ],
   "source": [
    "df = pd.read_csv('/datasets/Churn.csv')\n",
    "\n",
    "df.info()"
   ]
  },
  {
   "cell_type": "code",
   "execution_count": 15,
   "metadata": {},
   "outputs": [],
   "source": [
    "df['Tenure'] = df['Tenure'].fillna(value=df['Tenure'].mean())"
   ]
  },
  {
   "cell_type": "code",
   "execution_count": 16,
   "metadata": {},
   "outputs": [
    {
     "data": {
      "text/plain": [
       "count    10000.00000\n",
       "mean         4.99769\n",
       "std          2.76001\n",
       "min          0.00000\n",
       "25%          3.00000\n",
       "50%          4.99769\n",
       "75%          7.00000\n",
       "max         10.00000\n",
       "Name: Tenure, dtype: float64"
      ]
     },
     "execution_count": 16,
     "metadata": {},
     "output_type": "execute_result"
    }
   ],
   "source": [
    "df['Tenure'].describe()"
   ]
  },
  {
   "cell_type": "markdown",
   "metadata": {},
   "source": [
    "'Tenure' variable has not enough values. It is necessarily to fill NA by some relevant value. 'Tenure' - means a period of maturation for a customer’s fixed deposit (years). I decided to fill NA with mean becouse this value will not affect on the final resault unlike zero. Mean and Median are not different."
   ]
  },
  {
   "cell_type": "code",
   "execution_count": 17,
   "metadata": {},
   "outputs": [
    {
     "name": "stdout",
     "output_type": "stream",
     "text": [
      "Exited             0\n",
      "EstimatedSalary    0\n",
      "IsActiveMember     0\n",
      "HasCrCard          0\n",
      "NumOfProducts      0\n",
      "Balance            0\n",
      "Tenure             0\n",
      "Age                0\n",
      "Gender             0\n",
      "Geography          0\n",
      "CreditScore        0\n",
      "Surname            0\n",
      "CustomerId         0\n",
      "RowNumber          0\n",
      "dtype: int64\n"
     ]
    }
   ],
   "source": [
    "print(df.isna().sum().sort_values(ascending=False))"
   ]
  },
  {
   "cell_type": "code",
   "execution_count": 18,
   "metadata": {},
   "outputs": [],
   "source": [
    "df = pd.get_dummies(df, drop_first=True)"
   ]
  },
  {
   "cell_type": "code",
   "execution_count": 19,
   "metadata": {},
   "outputs": [
    {
     "data": {
      "text/html": [
       "<div>\n",
       "<style scoped>\n",
       "    .dataframe tbody tr th:only-of-type {\n",
       "        vertical-align: middle;\n",
       "    }\n",
       "\n",
       "    .dataframe tbody tr th {\n",
       "        vertical-align: top;\n",
       "    }\n",
       "\n",
       "    .dataframe thead th {\n",
       "        text-align: right;\n",
       "    }\n",
       "</style>\n",
       "<table border=\"1\" class=\"dataframe\">\n",
       "  <thead>\n",
       "    <tr style=\"text-align: right;\">\n",
       "      <th></th>\n",
       "      <th>RowNumber</th>\n",
       "      <th>CustomerId</th>\n",
       "      <th>CreditScore</th>\n",
       "      <th>Age</th>\n",
       "      <th>Tenure</th>\n",
       "      <th>Balance</th>\n",
       "      <th>NumOfProducts</th>\n",
       "      <th>HasCrCard</th>\n",
       "      <th>IsActiveMember</th>\n",
       "      <th>EstimatedSalary</th>\n",
       "      <th>...</th>\n",
       "      <th>Surname_Zotova</th>\n",
       "      <th>Surname_Zox</th>\n",
       "      <th>Surname_Zubarev</th>\n",
       "      <th>Surname_Zubareva</th>\n",
       "      <th>Surname_Zuev</th>\n",
       "      <th>Surname_Zuyev</th>\n",
       "      <th>Surname_Zuyeva</th>\n",
       "      <th>Geography_Germany</th>\n",
       "      <th>Geography_Spain</th>\n",
       "      <th>Gender_Male</th>\n",
       "    </tr>\n",
       "  </thead>\n",
       "  <tbody>\n",
       "    <tr>\n",
       "      <td>0</td>\n",
       "      <td>1</td>\n",
       "      <td>15634602</td>\n",
       "      <td>619</td>\n",
       "      <td>42</td>\n",
       "      <td>2.0</td>\n",
       "      <td>0.00</td>\n",
       "      <td>1</td>\n",
       "      <td>1</td>\n",
       "      <td>1</td>\n",
       "      <td>101348.88</td>\n",
       "      <td>...</td>\n",
       "      <td>0</td>\n",
       "      <td>0</td>\n",
       "      <td>0</td>\n",
       "      <td>0</td>\n",
       "      <td>0</td>\n",
       "      <td>0</td>\n",
       "      <td>0</td>\n",
       "      <td>0</td>\n",
       "      <td>0</td>\n",
       "      <td>0</td>\n",
       "    </tr>\n",
       "    <tr>\n",
       "      <td>1</td>\n",
       "      <td>2</td>\n",
       "      <td>15647311</td>\n",
       "      <td>608</td>\n",
       "      <td>41</td>\n",
       "      <td>1.0</td>\n",
       "      <td>83807.86</td>\n",
       "      <td>1</td>\n",
       "      <td>0</td>\n",
       "      <td>1</td>\n",
       "      <td>112542.58</td>\n",
       "      <td>...</td>\n",
       "      <td>0</td>\n",
       "      <td>0</td>\n",
       "      <td>0</td>\n",
       "      <td>0</td>\n",
       "      <td>0</td>\n",
       "      <td>0</td>\n",
       "      <td>0</td>\n",
       "      <td>0</td>\n",
       "      <td>1</td>\n",
       "      <td>0</td>\n",
       "    </tr>\n",
       "    <tr>\n",
       "      <td>2</td>\n",
       "      <td>3</td>\n",
       "      <td>15619304</td>\n",
       "      <td>502</td>\n",
       "      <td>42</td>\n",
       "      <td>8.0</td>\n",
       "      <td>159660.80</td>\n",
       "      <td>3</td>\n",
       "      <td>1</td>\n",
       "      <td>0</td>\n",
       "      <td>113931.57</td>\n",
       "      <td>...</td>\n",
       "      <td>0</td>\n",
       "      <td>0</td>\n",
       "      <td>0</td>\n",
       "      <td>0</td>\n",
       "      <td>0</td>\n",
       "      <td>0</td>\n",
       "      <td>0</td>\n",
       "      <td>0</td>\n",
       "      <td>0</td>\n",
       "      <td>0</td>\n",
       "    </tr>\n",
       "    <tr>\n",
       "      <td>3</td>\n",
       "      <td>4</td>\n",
       "      <td>15701354</td>\n",
       "      <td>699</td>\n",
       "      <td>39</td>\n",
       "      <td>1.0</td>\n",
       "      <td>0.00</td>\n",
       "      <td>2</td>\n",
       "      <td>0</td>\n",
       "      <td>0</td>\n",
       "      <td>93826.63</td>\n",
       "      <td>...</td>\n",
       "      <td>0</td>\n",
       "      <td>0</td>\n",
       "      <td>0</td>\n",
       "      <td>0</td>\n",
       "      <td>0</td>\n",
       "      <td>0</td>\n",
       "      <td>0</td>\n",
       "      <td>0</td>\n",
       "      <td>0</td>\n",
       "      <td>0</td>\n",
       "    </tr>\n",
       "    <tr>\n",
       "      <td>4</td>\n",
       "      <td>5</td>\n",
       "      <td>15737888</td>\n",
       "      <td>850</td>\n",
       "      <td>43</td>\n",
       "      <td>2.0</td>\n",
       "      <td>125510.82</td>\n",
       "      <td>1</td>\n",
       "      <td>1</td>\n",
       "      <td>1</td>\n",
       "      <td>79084.10</td>\n",
       "      <td>...</td>\n",
       "      <td>0</td>\n",
       "      <td>0</td>\n",
       "      <td>0</td>\n",
       "      <td>0</td>\n",
       "      <td>0</td>\n",
       "      <td>0</td>\n",
       "      <td>0</td>\n",
       "      <td>0</td>\n",
       "      <td>1</td>\n",
       "      <td>0</td>\n",
       "    </tr>\n",
       "  </tbody>\n",
       "</table>\n",
       "<p>5 rows × 2945 columns</p>\n",
       "</div>"
      ],
      "text/plain": [
       "   RowNumber  CustomerId  CreditScore  Age  Tenure    Balance  NumOfProducts  \\\n",
       "0          1    15634602          619   42     2.0       0.00              1   \n",
       "1          2    15647311          608   41     1.0   83807.86              1   \n",
       "2          3    15619304          502   42     8.0  159660.80              3   \n",
       "3          4    15701354          699   39     1.0       0.00              2   \n",
       "4          5    15737888          850   43     2.0  125510.82              1   \n",
       "\n",
       "   HasCrCard  IsActiveMember  EstimatedSalary  ...  Surname_Zotova  \\\n",
       "0          1               1        101348.88  ...               0   \n",
       "1          0               1        112542.58  ...               0   \n",
       "2          1               0        113931.57  ...               0   \n",
       "3          0               0         93826.63  ...               0   \n",
       "4          1               1         79084.10  ...               0   \n",
       "\n",
       "   Surname_Zox  Surname_Zubarev  Surname_Zubareva  Surname_Zuev  \\\n",
       "0            0                0                 0             0   \n",
       "1            0                0                 0             0   \n",
       "2            0                0                 0             0   \n",
       "3            0                0                 0             0   \n",
       "4            0                0                 0             0   \n",
       "\n",
       "   Surname_Zuyev  Surname_Zuyeva  Geography_Germany  Geography_Spain  \\\n",
       "0              0               0                  0                0   \n",
       "1              0               0                  0                1   \n",
       "2              0               0                  0                0   \n",
       "3              0               0                  0                0   \n",
       "4              0               0                  0                1   \n",
       "\n",
       "   Gender_Male  \n",
       "0            0  \n",
       "1            0  \n",
       "2            0  \n",
       "3            0  \n",
       "4            0  \n",
       "\n",
       "[5 rows x 2945 columns]"
      ]
     },
     "execution_count": 19,
     "metadata": {},
     "output_type": "execute_result"
    }
   ],
   "source": [
    "df.head()"
   ]
  },
  {
   "cell_type": "markdown",
   "metadata": {},
   "source": [
    "**Conclusion**: The check showed the presence of missing values and variables of type object that must be converted to 1 and 0 by the OHE method. These transformations are necessary to create a classification model."
   ]
  },
  {
   "cell_type": "markdown",
   "metadata": {},
   "source": [
    "### Checking the proportionality of classes"
   ]
  },
  {
   "cell_type": "code",
   "execution_count": 20,
   "metadata": {},
   "outputs": [
    {
     "name": "stdout",
     "output_type": "stream",
     "text": [
      "AxesSubplot(0.125,0.125;0.775x0.755)\n"
     ]
    },
    {
     "data": {
      "image/png": "[encoded data removed]",
      "text/plain": [
       "<Figure size 432x288 with 1 Axes>"
      ]
     },
     "metadata": {},
     "output_type": "display_data"
    }
   ],
   "source": [
    "print(df['Exited'].hist())"
   ]
  },
  {
   "cell_type": "markdown",
   "metadata": {},
   "source": [
    "**Conclusion**: Checking the balance of classes shows that there are 4 times less positive outcomes than negative ones. To build a quality model, important to bring the classes to a ratio of 50 to 50."
   ]
  },
  {
   "cell_type": "markdown",
   "metadata": {},
   "source": [
    "## Logistic Model (F1 and ROC AUC Metric)"
   ]
  },
  {
   "cell_type": "markdown",
   "metadata": {},
   "source": [
    "### Before balancing"
   ]
  },
  {
   "cell_type": "markdown",
   "metadata": {},
   "source": [
    "#### Spliting the source data"
   ]
  },
  {
   "cell_type": "code",
   "execution_count": 21,
   "metadata": {},
   "outputs": [],
   "source": [
    "df_train, df_valid = train_test_split(df, test_size=0.25, random_state=1000001)\n",
    "df_train, df_test = train_test_split(df_train, test_size=0.33, random_state=1000001)\n",
    "\n",
    "features_train = df_train.drop(['Exited'], axis=1)\n",
    "target_train = df_train['Exited']\n",
    "\n",
    "features_valid = df_valid.drop(['Exited'], axis=1)\n",
    "target_valid = df_valid['Exited']\n",
    "\n",
    "features_test = df_test.drop(['Exited'], axis=1)\n",
    "target_test = df_test['Exited']"
   ]
  },
  {
   "cell_type": "code",
   "execution_count": 22,
   "metadata": {},
   "outputs": [
    {
     "name": "stdout",
     "output_type": "stream",
     "text": [
      "df_train (5025, 2945)\n",
      "df_valid (2500, 2945)\n",
      "df_test (2475, 2945)\n"
     ]
    }
   ],
   "source": [
    "print('df_train', df_train.shape)\n",
    "print('df_valid', df_valid.shape)\n",
    "print('df_test', df_test.shape)"
   ]
  },
  {
   "cell_type": "markdown",
   "metadata": {},
   "source": [
    "**Conclusion**: The data is divided into three subsamples. Training - a subsample for model training. Validation - to test training. Test - for the final testing of the model."
   ]
  },
  {
   "cell_type": "markdown",
   "metadata": {},
   "source": [
    "#### Checking original data using ROC AUC score"
   ]
  },
  {
   "cell_type": "code",
   "execution_count": 10,
   "metadata": {},
   "outputs": [
    {
     "data": {
      "image/png": "[encoded data removed]",
      "text/plain": [
       "<Figure size 432x432 with 1 Axes>"
      ]
     },
     "metadata": {},
     "output_type": "display_data"
    }
   ],
   "source": [
    "model = LogisticRegression(random_state=1000001)\n",
    "model.fit(features_train, target_train)\n",
    "\n",
    "probabilities_valid = model.predict_proba(features_valid)\n",
    "probabilities_one_valid = probabilities_valid[:, 1]\n",
    "fpr, tpr, thresholds = roc_curve(target_valid, probabilities_one_valid)\n",
    "\n",
    "plt.figure(figsize=(6, 6))\n",
    "plt.step(fpr, tpr, where='post')\n",
    "#name the axes \"False Positive Rate\" and \"True Positive Rate\" \n",
    "plt.xlabel('False Positive Rate')\n",
    "plt.ylabel('True Positive Rate')\n",
    "#set the boundary for the axes from 0 to 1\n",
    "plt.ylim([0.0, 1.0])\n",
    "plt.xlim([0.0, 1.0])\n",
    "#add the heading \"ROC curve\"\n",
    "plt.title('ROC curve')\n",
    "plt.show()"
   ]
  },
  {
   "cell_type": "code",
   "execution_count": 11,
   "metadata": {},
   "outputs": [
    {
     "data": {
      "text/plain": [
       "0.5767474127889427"
      ]
     },
     "execution_count": 11,
     "metadata": {},
     "output_type": "execute_result"
    }
   ],
   "source": [
    "roc_auc_score(target_valid, probabilities_one_valid)"
   ]
  },
  {
   "cell_type": "markdown",
   "metadata": {},
   "source": [
    "**ROC AUC score `0.576`**"
   ]
  },
  {
   "cell_type": "markdown",
   "metadata": {},
   "source": [
    "#### Logistic Regression and Threshold"
   ]
  },
  {
   "cell_type": "code",
   "execution_count": 12,
   "metadata": {},
   "outputs": [
    {
     "name": "stdout",
     "output_type": "stream",
     "text": [
      "Threshold = 0.00 | F1 = 0.337, precision = 0.203, recall = 1.000\n",
      "Threshold = 0.05 | F1 = 0.337, precision = 0.203, recall = 1.000\n",
      "Threshold = 0.10 | F1 = 0.337, precision = 0.203, recall = 1.000\n",
      "Threshold = 0.15 | F1 = 0.361, precision = 0.237, recall = 0.755\n",
      "Threshold = 0.20 | F1 = 0.356, precision = 0.238, recall = 0.702\n",
      "Threshold = 0.25 | F1 = 0.260, precision = 0.233, recall = 0.294\n",
      "Threshold = 0.30 | F1 = 0.065, precision = 0.367, recall = 0.036\n",
      "Threshold = 0.35 | F1 = 0.004, precision = 1.000, recall = 0.002\n",
      "Threshold = 0.40 | F1 = 0.000, precision = 0.000, recall = 0.000\n",
      "Threshold = 0.45 | F1 = 0.000, precision = 0.000, recall = 0.000\n",
      "Threshold = 0.50 | F1 = 0.000, precision = 0.000, recall = 0.000\n",
      "Threshold = 0.55 | F1 = 0.000, precision = 0.000, recall = 0.000\n",
      "Threshold = 0.60 | F1 = 0.000, precision = 0.000, recall = 0.000\n",
      "Threshold = 0.65 | F1 = 0.000, precision = 0.000, recall = 0.000\n",
      "Threshold = 0.70 | F1 = 0.000, precision = 0.000, recall = 0.000\n",
      "Threshold = 0.75 | F1 = 0.000, precision = 0.000, recall = 0.000\n",
      "Threshold = 0.80 | F1 = 0.000, precision = 0.000, recall = 0.000\n",
      "Threshold = 0.85 | F1 = 0.000, precision = 0.000, recall = 0.000\n",
      "Threshold = 0.90 | F1 = 0.000, precision = 0.000, recall = 0.000\n",
      "Threshold = 0.95 | F1 = 0.000, precision = 0.000, recall = 0.000\n"
     ]
    }
   ],
   "source": [
    "model = LogisticRegression(random_state=1000001)\n",
    "model.fit(features_train, target_train)\n",
    "\n",
    "probabilities_valid = model.predict_proba(features_valid)\n",
    "probabilities_one_valid = probabilities_valid[:, 1]\n",
    "\n",
    "for threshold in np.arange(0, 1, 0.05):\n",
    "    predictions_Log = probabilities_one_valid > threshold\n",
    "    F1_LogR = f1_score(target_valid, predictions_Log)\n",
    "    precision = precision_score(target_valid, predictions_Log)\n",
    "    recall = recall_score(target_valid, predictions_Log)\n",
    "\n",
    "    print(\"Threshold = {:.2f} | F1 = {:.3f}, precision = {:.3f}, recall = {:.3f}\".format(\n",
    "        threshold, F1_LogR, precision, recall))"
   ]
  },
  {
   "cell_type": "markdown",
   "metadata": {},
   "source": [
    "**Conclusion**: Logistic regression shows a low F1."
   ]
  },
  {
   "cell_type": "markdown",
   "metadata": {},
   "source": [
    "### Balanced"
   ]
  },
  {
   "cell_type": "code",
   "execution_count": 13,
   "metadata": {},
   "outputs": [
    {
     "data": {
      "image/png": "[encoded data removed]",
      "text/plain": [
       "<Figure size 432x432 with 1 Axes>"
      ]
     },
     "metadata": {},
     "output_type": "display_data"
    }
   ],
   "source": [
    "model = LogisticRegression(class_weight='balanced', random_state=1000001)\n",
    "model.fit(features_train, target_train)\n",
    "\n",
    "probabilities_valid = model.predict_proba(features_valid)\n",
    "probabilities_one_valid = probabilities_valid[:, 1]\n",
    "fpr, tpr, thresholds = roc_curve(target_valid, probabilities_one_valid)\n",
    "\n",
    "plt.figure(figsize=(6, 6))\n",
    "plt.step(fpr, tpr, where='post')\n",
    "#name the axes \"False Positive Rate\" and \"True Positive Rate\" \n",
    "plt.xlabel('False Positive Rate')\n",
    "plt.ylabel('True Positive Rate')\n",
    "#set the boundary for the axes from 0 to 1\n",
    "plt.ylim([0.0, 1.0])\n",
    "plt.xlim([0.0, 1.0])\n",
    "#add the heading \"ROC curve\"\n",
    "plt.title('ROC curve')\n",
    "plt.show()"
   ]
  },
  {
   "cell_type": "code",
   "execution_count": 14,
   "metadata": {},
   "outputs": [
    {
     "data": {
      "text/plain": [
       "0.7464844905888558"
      ]
     },
     "execution_count": 14,
     "metadata": {},
     "output_type": "execute_result"
    }
   ],
   "source": [
    "roc_auc_score(target_valid, probabilities_one_valid)"
   ]
  },
  {
   "cell_type": "markdown",
   "metadata": {},
   "source": [
    "**ROC AUC score `0.746`**"
   ]
  },
  {
   "cell_type": "code",
   "execution_count": 15,
   "metadata": {},
   "outputs": [
    {
     "name": "stdout",
     "output_type": "stream",
     "text": [
      "Threshold = 0.00 | F1 = 0.337, precision = 0.203, recall = 1.000\n",
      "Threshold = 0.05 | F1 = 0.337, precision = 0.203, recall = 1.000\n",
      "Threshold = 0.10 | F1 = 0.337, precision = 0.203, recall = 1.000\n",
      "Threshold = 0.15 | F1 = 0.340, precision = 0.205, recall = 0.998\n",
      "Threshold = 0.20 | F1 = 0.353, precision = 0.215, recall = 0.992\n",
      "Threshold = 0.25 | F1 = 0.363, precision = 0.224, recall = 0.951\n",
      "Threshold = 0.30 | F1 = 0.385, precision = 0.243, recall = 0.923\n",
      "Threshold = 0.35 | F1 = 0.412, precision = 0.269, recall = 0.878\n",
      "Threshold = 0.40 | F1 = 0.442, precision = 0.303, recall = 0.817\n",
      "Threshold = 0.45 | F1 = 0.468, precision = 0.343, recall = 0.736\n",
      "Threshold = 0.50 | F1 = 0.490, precision = 0.385, recall = 0.673\n",
      "Threshold = 0.55 | F1 = 0.509, precision = 0.443, recall = 0.600\n",
      "Threshold = 0.60 | F1 = 0.494, precision = 0.481, recall = 0.507\n",
      "Threshold = 0.65 | F1 = 0.426, precision = 0.472, recall = 0.389\n",
      "Threshold = 0.70 | F1 = 0.348, precision = 0.465, recall = 0.278\n",
      "Threshold = 0.75 | F1 = 0.266, precision = 0.449, recall = 0.189\n",
      "Threshold = 0.80 | F1 = 0.182, precision = 0.395, recall = 0.118\n",
      "Threshold = 0.85 | F1 = 0.084, precision = 0.294, recall = 0.049\n",
      "Threshold = 0.90 | F1 = 0.015, precision = 0.103, recall = 0.008\n",
      "Threshold = 0.95 | F1 = 0.000, precision = 0.000, recall = 0.000\n"
     ]
    }
   ],
   "source": [
    "model = LogisticRegression(class_weight='balanced', random_state=1000001)\n",
    "model.fit(features_train, target_train)\n",
    "\n",
    "probabilities_valid = model.predict_proba(features_valid)\n",
    "probabilities_one_valid = probabilities_valid[:, 1]\n",
    "\n",
    "for threshold in np.arange(0, 1, 0.05):\n",
    "    predictions_Log = probabilities_one_valid > threshold\n",
    "    F1_LogR = f1_score(target_valid, predictions_Log)\n",
    "    precision = precision_score(target_valid, predictions_Log)\n",
    "    recall = recall_score(target_valid, predictions_Log)\n",
    "\n",
    "    print(\"Threshold = {:.2f} | F1 = {:.3f}, precision = {:.3f}, recall = {:.3f}\".format(\n",
    "        threshold, F1_LogR, precision, recall))"
   ]
  },
  {
   "cell_type": "markdown",
   "metadata": {},
   "source": [
    "**Conclusion**: Logistic regression shows a low F1. But better than before balancing. With higher precision and recall. But still not enough for a good model."
   ]
  },
  {
   "cell_type": "markdown",
   "metadata": {},
   "source": [
    "### Upsampling"
   ]
  },
  {
   "cell_type": "code",
   "execution_count": 23,
   "metadata": {},
   "outputs": [],
   "source": [
    "def upsample(df, n):\n",
    "    \n",
    "    # Split the training sample into negative and positive observations\n",
    "    df_zeros = df[df['Exited'] == 0]\n",
    "    df_ones = df[df['Exited'] == 1]\n",
    "    \n",
    "    # Duplicate the positive observations several times and Create a new training sample\n",
    "    repeat = n\n",
    "    df_upsampled = pd.concat([df_zeros] + [df_ones] * repeat)\n",
    "    \n",
    "    # Shuffle the data\n",
    "    df_upsampled = shuffle(df_upsampled, random_state=12345)\n",
    "\n",
    "    return df_upsampled"
   ]
  },
  {
   "cell_type": "code",
   "execution_count": 24,
   "metadata": {},
   "outputs": [],
   "source": [
    "up_df_train = upsample(df_train, 4)\n",
    "\n",
    "up_features_train = up_df_train.drop(['Exited'], axis=1)\n",
    "up_target_train = up_df_train['Exited']"
   ]
  },
  {
   "cell_type": "code",
   "execution_count": 25,
   "metadata": {},
   "outputs": [
    {
     "name": "stdout",
     "output_type": "stream",
     "text": [
      "AxesSubplot(0.125,0.125;0.775x0.755)\n",
      "Exited 0.512556658091388\n",
      "Not Exited 0.48744334190861205\n"
     ]
    },
    {
     "data": {
      "image/png": "[encoded data removed]",
      "text/plain": [
       "<Figure size 432x288 with 1 Axes>"
      ]
     },
     "metadata": {},
     "output_type": "display_data"
    }
   ],
   "source": [
    "print(up_df_train['Exited'].hist())\n",
    "print('Exited', len(up_df_train['Exited'][up_df_train['Exited'] == 1]) / len(up_df_train['Exited']))\n",
    "print('Not Exited', len(up_df_train['Exited'][up_df_train['Exited'] == 0]) / len(up_df_train['Exited']))"
   ]
  },
  {
   "cell_type": "markdown",
   "metadata": {},
   "source": [
    "##### Checking upsampling data using ROC AUC score"
   ]
  },
  {
   "cell_type": "code",
   "execution_count": 49,
   "metadata": {},
   "outputs": [
    {
     "data": {
      "image/png": "[encoded data removed]",
      "text/plain": [
       "<Figure size 432x432 with 1 Axes>"
      ]
     },
     "metadata": {},
     "output_type": "display_data"
    }
   ],
   "source": [
    "model = LogisticRegression(random_state=1000001)\n",
    "model.fit(up_features_train, up_target_train)\n",
    "\n",
    "probabilities_valid = model.predict_proba(features_valid)\n",
    "probabilities_one_valid = probabilities_valid[:, 1]\n",
    "fpr, tpr, thresholds = roc_curve(target_valid, probabilities_one_valid)\n",
    "\n",
    "plt.figure(figsize=(6, 6))\n",
    "plt.step(fpr, tpr, where='post')\n",
    "#name the axes \"False Positive Rate\" and \"True Positive Rate\" \n",
    "plt.xlabel('False Positive Rate')\n",
    "plt.ylabel('True Positive Rate')\n",
    "#set the boundary for the axes from 0 to 1\n",
    "plt.ylim([0.0, 1.0])\n",
    "plt.xlim([0.0, 1.0])\n",
    "#add the heading \"ROC curve\"\n",
    "plt.title('ROC curve')\n",
    "plt.show()"
   ]
  },
  {
   "cell_type": "code",
   "execution_count": 50,
   "metadata": {},
   "outputs": [
    {
     "data": {
      "text/plain": [
       "0.5775807040618496"
      ]
     },
     "execution_count": 50,
     "metadata": {},
     "output_type": "execute_result"
    }
   ],
   "source": [
    "roc_auc_score(target_valid, probabilities_one_valid)"
   ]
  },
  {
   "cell_type": "markdown",
   "metadata": {},
   "source": [
    "**ROC AUC score `0.577`** "
   ]
  },
  {
   "cell_type": "code",
   "execution_count": 51,
   "metadata": {},
   "outputs": [
    {
     "name": "stdout",
     "output_type": "stream",
     "text": [
      "Threshold = 0.00 | F1 = 0.337, precision = 0.203, recall = 1.000\n",
      "Threshold = 0.05 | F1 = 0.337, precision = 0.203, recall = 1.000\n",
      "Threshold = 0.10 | F1 = 0.337, precision = 0.203, recall = 1.000\n",
      "Threshold = 0.15 | F1 = 0.337, precision = 0.203, recall = 1.000\n",
      "Threshold = 0.20 | F1 = 0.337, precision = 0.203, recall = 1.000\n",
      "Threshold = 0.25 | F1 = 0.337, precision = 0.203, recall = 1.000\n",
      "Threshold = 0.30 | F1 = 0.337, precision = 0.203, recall = 1.000\n",
      "Threshold = 0.35 | F1 = 0.337, precision = 0.203, recall = 1.000\n",
      "Threshold = 0.40 | F1 = 0.351, precision = 0.218, recall = 0.892\n",
      "Threshold = 0.45 | F1 = 0.361, precision = 0.238, recall = 0.750\n",
      "Threshold = 0.50 | F1 = 0.356, precision = 0.238, recall = 0.704\n",
      "Threshold = 0.55 | F1 = 0.330, precision = 0.247, recall = 0.499\n",
      "Threshold = 0.60 | F1 = 0.159, precision = 0.222, recall = 0.124\n",
      "Threshold = 0.65 | F1 = 0.034, precision = 0.321, recall = 0.018\n",
      "Threshold = 0.70 | F1 = 0.004, precision = 1.000, recall = 0.002\n",
      "Threshold = 0.75 | F1 = 0.000, precision = 0.000, recall = 0.000\n",
      "Threshold = 0.80 | F1 = 0.000, precision = 0.000, recall = 0.000\n",
      "Threshold = 0.85 | F1 = 0.000, precision = 0.000, recall = 0.000\n",
      "Threshold = 0.90 | F1 = 0.000, precision = 0.000, recall = 0.000\n",
      "Threshold = 0.95 | F1 = 0.000, precision = 0.000, recall = 0.000\n"
     ]
    }
   ],
   "source": [
    "model = LogisticRegression(random_state=1000001)\n",
    "model.fit(up_features_train, up_target_train)\n",
    "\n",
    "probabilities_valid = model.predict_proba(features_valid)\n",
    "probabilities_one_valid = probabilities_valid[:, 1]\n",
    "\n",
    "for threshold in np.arange(0, 1, 0.05):\n",
    "    predictions_Log = probabilities_one_valid > threshold\n",
    "    F1_LogR = f1_score(target_valid, predictions_Log)\n",
    "    precision = precision_score(target_valid, predictions_Log)\n",
    "    recall = recall_score(target_valid, predictions_Log)\n",
    "\n",
    "    print(\"Threshold = {:.2f} | F1 = {:.3f}, precision = {:.3f}, recall = {:.3f}\".format(\n",
    "        threshold, F1_LogR, precision, recall))"
   ]
  },
  {
   "cell_type": "markdown",
   "metadata": {},
   "source": [
    "**Conclusion**: Maximum F1 for logistic regression is `0.361` and precision is too low `0.238`. "
   ]
  },
  {
   "cell_type": "markdown",
   "metadata": {},
   "source": [
    "### Upsampling and balanced"
   ]
  },
  {
   "cell_type": "code",
   "execution_count": 22,
   "metadata": {},
   "outputs": [
    {
     "data": {
      "image/png": "[encoded data removed]",
      "text/plain": [
       "<Figure size 432x432 with 1 Axes>"
      ]
     },
     "metadata": {},
     "output_type": "display_data"
    }
   ],
   "source": [
    "model = LogisticRegression(class_weight='balanced', random_state=1000001)\n",
    "model.fit(up_features_train, up_target_train)\n",
    "\n",
    "probabilities_valid = model.predict_proba(features_valid)\n",
    "probabilities_one_valid = probabilities_valid[:, 1]\n",
    "fpr, tpr, thresholds = roc_curve(target_valid, probabilities_one_valid)\n",
    "\n",
    "plt.figure(figsize=(6, 6))\n",
    "plt.step(fpr, tpr, where='post')\n",
    "#name the axes \"False Positive Rate\" and \"True Positive Rate\" \n",
    "plt.xlabel('False Positive Rate')\n",
    "plt.ylabel('True Positive Rate')\n",
    "#set the boundary for the axes from 0 to 1\n",
    "plt.ylim([0.0, 1.0])\n",
    "plt.xlim([0.0, 1.0])\n",
    "#add the heading \"ROC curve\"\n",
    "plt.title('ROC curve')\n",
    "plt.show()"
   ]
  },
  {
   "cell_type": "code",
   "execution_count": 23,
   "metadata": {},
   "outputs": [
    {
     "data": {
      "text/plain": [
       "0.7462905177984881"
      ]
     },
     "execution_count": 23,
     "metadata": {},
     "output_type": "execute_result"
    }
   ],
   "source": [
    "roc_auc_score(target_valid, probabilities_one_valid)"
   ]
  },
  {
   "cell_type": "markdown",
   "metadata": {},
   "source": [
    "**ROC AUC score** `0.746` "
   ]
  },
  {
   "cell_type": "code",
   "execution_count": 32,
   "metadata": {},
   "outputs": [
    {
     "name": "stdout",
     "output_type": "stream",
     "text": [
      "Threshold = 0.00 | F1 = 0.337, precision = 0.203, recall = 1.000\n",
      "Threshold = 0.05 | F1 = 0.337, precision = 0.203, recall = 1.000\n",
      "Threshold = 0.10 | F1 = 0.337, precision = 0.203, recall = 1.000\n",
      "Threshold = 0.15 | F1 = 0.339, precision = 0.204, recall = 1.000\n",
      "Threshold = 0.20 | F1 = 0.349, precision = 0.212, recall = 0.996\n",
      "Threshold = 0.25 | F1 = 0.363, precision = 0.223, recall = 0.968\n",
      "Threshold = 0.30 | F1 = 0.381, precision = 0.239, recall = 0.935\n",
      "Threshold = 0.35 | F1 = 0.406, precision = 0.263, recall = 0.890\n",
      "Threshold = 0.40 | F1 = 0.436, precision = 0.296, recall = 0.822\n",
      "Threshold = 0.45 | F1 = 0.465, precision = 0.339, recall = 0.740\n",
      "Threshold = 0.50 | F1 = 0.491, precision = 0.386, recall = 0.675\n",
      "Threshold = 0.55 | F1 = 0.504, precision = 0.442, recall = 0.586\n",
      "Threshold = 0.60 | F1 = 0.485, precision = 0.481, recall = 0.489\n",
      "Threshold = 0.65 | F1 = 0.407, precision = 0.467, recall = 0.361\n",
      "Threshold = 0.70 | F1 = 0.336, precision = 0.468, recall = 0.262\n",
      "Threshold = 0.75 | F1 = 0.249, precision = 0.451, recall = 0.172\n",
      "Threshold = 0.80 | F1 = 0.161, precision = 0.402, recall = 0.101\n",
      "Threshold = 0.85 | F1 = 0.066, precision = 0.284, recall = 0.037\n",
      "Threshold = 0.90 | F1 = 0.007, precision = 0.074, recall = 0.004\n",
      "Threshold = 0.95 | F1 = 0.000, precision = 0.000, recall = 0.000\n"
     ]
    }
   ],
   "source": [
    "model = LogisticRegression(class_weight='balanced', random_state=1000001)\n",
    "model.fit(up_features_train, up_target_train)\n",
    "\n",
    "probabilities_valid = model.predict_proba(features_valid)\n",
    "probabilities_one_valid = probabilities_valid[:, 1]\n",
    "\n",
    "for threshold in np.arange(0, 1, 0.05):\n",
    "    predictions_Log = probabilities_one_valid > threshold\n",
    "    F1_LogR = f1_score(target_valid, predictions_Log)\n",
    "    precision = precision_score(target_valid, predictions_Log)\n",
    "    recall = recall_score(target_valid, predictions_Log)\n",
    "\n",
    "    print(\"Threshold = {:.2f} | F1 = {:.3f}, precision = {:.3f}, recall = {:.3f}\".format(\n",
    "        threshold, F1_LogR, precision, recall))"
   ]
  },
  {
   "cell_type": "markdown",
   "metadata": {},
   "source": [
    "**Conclusion**:\n",
    "\n",
    "ROC AUC score:\n",
    "* Original: `0.576`\n",
    "* Balanced: `0.746`\n",
    "* Upsampling: `0,577`\n",
    "* Combination: `0.746`\n",
    "\n",
    "F1:\n",
    "* Original: Threshold = `0.10` | F1 = `0.337`\n",
    "* Balanced: Threshold = `0.55` | F1 = `0.509`\n",
    "* Upsampling: Threshold = `0.45` | F1 = `0.361`\n",
    "* Combination: Threshold = `0.55` | F1 = `0.504`\n",
    "\n",
    "After balancing ROC AUC increased significantly. The best result is for Balanced data. But it may be better. It is necessary to conduct testing on other models.\n",
    "\n",
    "Need to check F1 on other models: Decision tree and Random forest"
   ]
  },
  {
   "cell_type": "markdown",
   "metadata": {},
   "source": [
    "## Decision tree and F1 test"
   ]
  },
  {
   "cell_type": "markdown",
   "metadata": {},
   "source": [
    "### Before balancing (DT)"
   ]
  },
  {
   "cell_type": "code",
   "execution_count": 25,
   "metadata": {},
   "outputs": [],
   "source": [
    "F1_DT = pd.DataFrame(columns=['depth', 'f1_score'])\n",
    "\n",
    "for depth in range(1, 46):\n",
    "    DTClassifier = DecisionTreeClassifier(max_depth=depth, random_state=1000001)\n",
    "    DTClassifier.fit(features_train, target_train)\n",
    "    predictions_DT = DTClassifier.predict(features_valid)\n",
    "    f1 = f1_score(target_valid, predictions_DT)\n",
    "    F1_DT = F1_DT.append({'depth':depth,'f1_score':f1}, ignore_index=True)"
   ]
  },
  {
   "cell_type": "code",
   "execution_count": 26,
   "metadata": {},
   "outputs": [
    {
     "data": {
      "text/html": [
       "<div>\n",
       "<style scoped>\n",
       "    .dataframe tbody tr th:only-of-type {\n",
       "        vertical-align: middle;\n",
       "    }\n",
       "\n",
       "    .dataframe tbody tr th {\n",
       "        vertical-align: top;\n",
       "    }\n",
       "\n",
       "    .dataframe thead th {\n",
       "        text-align: right;\n",
       "    }\n",
       "</style>\n",
       "<table border=\"1\" class=\"dataframe\">\n",
       "  <thead>\n",
       "    <tr style=\"text-align: right;\">\n",
       "      <th></th>\n",
       "      <th>depth</th>\n",
       "      <th>f1_score</th>\n",
       "    </tr>\n",
       "  </thead>\n",
       "  <tbody>\n",
       "    <tr>\n",
       "      <td>4</td>\n",
       "      <td>5.0</td>\n",
       "      <td>0.557261</td>\n",
       "    </tr>\n",
       "  </tbody>\n",
       "</table>\n",
       "</div>"
      ],
      "text/plain": [
       "   depth  f1_score\n",
       "4    5.0  0.557261"
      ]
     },
     "execution_count": 26,
     "metadata": {},
     "output_type": "execute_result"
    }
   ],
   "source": [
    "F1_DT[F1_DT['f1_score'] == F1_DT['f1_score'].max()]"
   ]
  },
  {
   "cell_type": "markdown",
   "metadata": {},
   "source": [
    "**Conclusion** F1 score for Decision Tree model on original data is `0.55` - worse than Logistic regression for original data"
   ]
  },
  {
   "cell_type": "markdown",
   "metadata": {},
   "source": [
    "### Balanced (DT)"
   ]
  },
  {
   "cell_type": "code",
   "execution_count": 27,
   "metadata": {},
   "outputs": [],
   "source": [
    "bal_F1_DT = pd.DataFrame(columns=['depth', 'f1_score'])\n",
    "\n",
    "for depth in range(1, 46):\n",
    "    DTClassifier = DecisionTreeClassifier(class_weight='balanced', max_depth=depth, random_state=1000001)\n",
    "    DTClassifier.fit(features_train, target_train)\n",
    "    predictions_DT = DTClassifier.predict(features_valid)\n",
    "    f1 = f1_score(target_valid, predictions_DT)\n",
    "    bal_F1_DT = bal_F1_DT.append({'depth':depth,'f1_score':f1}, ignore_index=True)"
   ]
  },
  {
   "cell_type": "code",
   "execution_count": 28,
   "metadata": {},
   "outputs": [
    {
     "data": {
      "text/html": [
       "<div>\n",
       "<style scoped>\n",
       "    .dataframe tbody tr th:only-of-type {\n",
       "        vertical-align: middle;\n",
       "    }\n",
       "\n",
       "    .dataframe tbody tr th {\n",
       "        vertical-align: top;\n",
       "    }\n",
       "\n",
       "    .dataframe thead th {\n",
       "        text-align: right;\n",
       "    }\n",
       "</style>\n",
       "<table border=\"1\" class=\"dataframe\">\n",
       "  <thead>\n",
       "    <tr style=\"text-align: right;\">\n",
       "      <th></th>\n",
       "      <th>depth</th>\n",
       "      <th>f1_score</th>\n",
       "    </tr>\n",
       "  </thead>\n",
       "  <tbody>\n",
       "    <tr>\n",
       "      <td>4</td>\n",
       "      <td>5.0</td>\n",
       "      <td>0.590909</td>\n",
       "    </tr>\n",
       "  </tbody>\n",
       "</table>\n",
       "</div>"
      ],
      "text/plain": [
       "   depth  f1_score\n",
       "4    5.0  0.590909"
      ]
     },
     "execution_count": 28,
     "metadata": {},
     "output_type": "execute_result"
    }
   ],
   "source": [
    "bal_F1_DT[bal_F1_DT['f1_score'] == bal_F1_DT['f1_score'].max()]"
   ]
  },
  {
   "cell_type": "markdown",
   "metadata": {},
   "source": [
    "**Conclusion** F1 score for Decision Tree model on balanced data is `0.590` - a little higher"
   ]
  },
  {
   "cell_type": "markdown",
   "metadata": {},
   "source": [
    "### Upsampling (DT)"
   ]
  },
  {
   "cell_type": "code",
   "execution_count": 33,
   "metadata": {},
   "outputs": [],
   "source": [
    "up_F1_DT = pd.DataFrame(columns=['depth', 'f1_score'])\n",
    "\n",
    "for depth in range(1, 46):\n",
    "    DTClassifier = DecisionTreeClassifier(max_depth=depth, random_state=1000001)\n",
    "    DTClassifier.fit(up_features_train, up_target_train)\n",
    "    predictions_DT = DTClassifier.predict(features_valid)\n",
    "    f1 = f1_score(target_valid, predictions_DT)\n",
    "    up_F1_DT = up_F1_DT.append({'depth':depth,'f1_score':f1}, ignore_index=True)"
   ]
  },
  {
   "cell_type": "code",
   "execution_count": 34,
   "metadata": {},
   "outputs": [
    {
     "data": {
      "text/html": [
       "<div>\n",
       "<style scoped>\n",
       "    .dataframe tbody tr th:only-of-type {\n",
       "        vertical-align: middle;\n",
       "    }\n",
       "\n",
       "    .dataframe tbody tr th {\n",
       "        vertical-align: top;\n",
       "    }\n",
       "\n",
       "    .dataframe thead th {\n",
       "        text-align: right;\n",
       "    }\n",
       "</style>\n",
       "<table border=\"1\" class=\"dataframe\">\n",
       "  <thead>\n",
       "    <tr style=\"text-align: right;\">\n",
       "      <th></th>\n",
       "      <th>depth</th>\n",
       "      <th>f1_score</th>\n",
       "    </tr>\n",
       "  </thead>\n",
       "  <tbody>\n",
       "    <tr>\n",
       "      <td>4</td>\n",
       "      <td>5.0</td>\n",
       "      <td>0.59043</td>\n",
       "    </tr>\n",
       "  </tbody>\n",
       "</table>\n",
       "</div>"
      ],
      "text/plain": [
       "   depth  f1_score\n",
       "4    5.0   0.59043"
      ]
     },
     "execution_count": 34,
     "metadata": {},
     "output_type": "execute_result"
    }
   ],
   "source": [
    "up_F1_DT[up_F1_DT['f1_score'] == up_F1_DT['f1_score'].max()]"
   ]
  },
  {
   "cell_type": "markdown",
   "metadata": {},
   "source": [
    "**Conclusion** F1 score for Decision Tree model on upsampling data is `0.590` - the same as after balansing"
   ]
  },
  {
   "cell_type": "markdown",
   "metadata": {},
   "source": [
    "#### Moving Threshold"
   ]
  },
  {
   "cell_type": "code",
   "execution_count": 36,
   "metadata": {
    "scrolled": true
   },
   "outputs": [
    {
     "name": "stdout",
     "output_type": "stream",
     "text": [
      "Threshold = 0.00 | F1 = 0.336, precision = 0.202, recall = 0.994\n",
      "Threshold = 0.05 | F1 = 0.336, precision = 0.202, recall = 0.994\n",
      "Threshold = 0.10 | F1 = 0.336, precision = 0.202, recall = 0.994\n",
      "Threshold = 0.15 | F1 = 0.426, precision = 0.274, recall = 0.963\n",
      "Threshold = 0.20 | F1 = 0.426, precision = 0.274, recall = 0.963\n",
      "Threshold = 0.25 | F1 = 0.458, precision = 0.303, recall = 0.935\n",
      "Threshold = 0.30 | F1 = 0.463, precision = 0.308, recall = 0.933\n",
      "Threshold = 0.35 | F1 = 0.508, precision = 0.363, recall = 0.844\n",
      "Threshold = 0.40 | F1 = 0.513, precision = 0.375, recall = 0.811\n",
      "Threshold = 0.45 | F1 = 0.590, precision = 0.501, recall = 0.718\n",
      "Threshold = 0.50 | F1 = 0.590, precision = 0.501, recall = 0.718\n",
      "Threshold = 0.55 | F1 = 0.601, precision = 0.534, recall = 0.688\n",
      "Threshold = 0.60 | F1 = 0.601, precision = 0.534, recall = 0.688\n",
      "Threshold = 0.65 | F1 = 0.594, precision = 0.584, recall = 0.606\n",
      "Threshold = 0.70 | F1 = 0.594, precision = 0.584, recall = 0.606\n",
      "Threshold = 0.75 | F1 = 0.544, precision = 0.735, recall = 0.432\n",
      "Threshold = 0.80 | F1 = 0.546, precision = 0.742, recall = 0.432\n",
      "Threshold = 0.85 | F1 = 0.463, precision = 0.852, recall = 0.318\n",
      "Threshold = 0.90 | F1 = 0.465, precision = 0.866, recall = 0.318\n",
      "Threshold = 0.95 | F1 = 0.398, precision = 0.908, recall = 0.254\n"
     ]
    }
   ],
   "source": [
    "DTClassifier = DecisionTreeClassifier(max_depth=5, random_state=1000001)\n",
    "DTClassifier.fit(up_features_train, up_target_train)\n",
    "\n",
    "probabilities_valid = DTClassifier.predict_proba(features_valid)\n",
    "probabilities_one_valid = probabilities_valid[:, 1]\n",
    "\n",
    "for threshold in np.arange(0, 1, 0.05):\n",
    "    predictions_RF = probabilities_one_valid > threshold\n",
    "    up_F1_RF_score = f1_score(target_valid, predictions_RF)\n",
    "    precision = precision_score(target_valid, predictions_RF)\n",
    "    recall = recall_score(target_valid, predictions_RF)\n",
    "\n",
    "    print(\"Threshold = {:.2f} | F1 = {:.3f}, precision = {:.3f}, recall = {:.3f}\".format(\n",
    "        threshold, up_F1_RF_score, precision, recall))"
   ]
  },
  {
   "cell_type": "markdown",
   "metadata": {},
   "source": [
    "**Conclusion**: The threshold shift to 0.55 or 0.60 shows increasing F1 to `0.601` from `0.590`. Better than for Logistic Regression - `0.509`"
   ]
  },
  {
   "cell_type": "markdown",
   "metadata": {},
   "source": [
    "### After upsampling and balanced (DT)"
   ]
  },
  {
   "cell_type": "code",
   "execution_count": 37,
   "metadata": {},
   "outputs": [],
   "source": [
    "up_bal_F1_DT = pd.DataFrame(columns=['depth', 'f1_score'])\n",
    "\n",
    "for depth in range(1, 46):\n",
    "    DTClassifier = DecisionTreeClassifier(class_weight='balanced', max_depth=depth, random_state=1000001)\n",
    "    DTClassifier.fit(up_features_train, up_target_train)\n",
    "    predictions_DT = DTClassifier.predict(features_valid)\n",
    "    f1 = f1_score(target_valid, predictions_DT)\n",
    "    up_bal_F1_DT = up_bal_F1_DT.append({'depth':depth,'f1_score':f1}, ignore_index=True)"
   ]
  },
  {
   "cell_type": "code",
   "execution_count": 38,
   "metadata": {},
   "outputs": [
    {
     "data": {
      "text/html": [
       "<div>\n",
       "<style scoped>\n",
       "    .dataframe tbody tr th:only-of-type {\n",
       "        vertical-align: middle;\n",
       "    }\n",
       "\n",
       "    .dataframe tbody tr th {\n",
       "        vertical-align: top;\n",
       "    }\n",
       "\n",
       "    .dataframe thead th {\n",
       "        text-align: right;\n",
       "    }\n",
       "</style>\n",
       "<table border=\"1\" class=\"dataframe\">\n",
       "  <thead>\n",
       "    <tr style=\"text-align: right;\">\n",
       "      <th></th>\n",
       "      <th>depth</th>\n",
       "      <th>f1_score</th>\n",
       "    </tr>\n",
       "  </thead>\n",
       "  <tbody>\n",
       "    <tr>\n",
       "      <td>4</td>\n",
       "      <td>5.0</td>\n",
       "      <td>0.59043</td>\n",
       "    </tr>\n",
       "  </tbody>\n",
       "</table>\n",
       "</div>"
      ],
      "text/plain": [
       "   depth  f1_score\n",
       "4    5.0   0.59043"
      ]
     },
     "execution_count": 38,
     "metadata": {},
     "output_type": "execute_result"
    }
   ],
   "source": [
    "up_bal_F1_DT[up_bal_F1_DT['f1_score'] == up_bal_F1_DT['f1_score'].max()]"
   ]
  },
  {
   "cell_type": "markdown",
   "metadata": {},
   "source": [
    "**Conclusion** F1 score for Decision Tree model on upsampling and balanced data is `0.590` - the same as for upsampling or balanced separately."
   ]
  },
  {
   "cell_type": "markdown",
   "metadata": {},
   "source": [
    "#### Moving Threshold"
   ]
  },
  {
   "cell_type": "code",
   "execution_count": 39,
   "metadata": {},
   "outputs": [
    {
     "name": "stdout",
     "output_type": "stream",
     "text": [
      "Threshold = 0.00 | F1 = 0.336, precision = 0.202, recall = 0.994\n",
      "Threshold = 0.05 | F1 = 0.336, precision = 0.202, recall = 0.994\n",
      "Threshold = 0.10 | F1 = 0.409, precision = 0.259, recall = 0.968\n",
      "Threshold = 0.15 | F1 = 0.426, precision = 0.274, recall = 0.963\n",
      "Threshold = 0.20 | F1 = 0.426, precision = 0.274, recall = 0.963\n",
      "Threshold = 0.25 | F1 = 0.458, precision = 0.303, recall = 0.935\n",
      "Threshold = 0.30 | F1 = 0.508, precision = 0.363, recall = 0.844\n",
      "Threshold = 0.35 | F1 = 0.508, precision = 0.363, recall = 0.844\n",
      "Threshold = 0.40 | F1 = 0.513, precision = 0.375, recall = 0.811\n",
      "Threshold = 0.45 | F1 = 0.590, precision = 0.501, recall = 0.718\n",
      "Threshold = 0.50 | F1 = 0.590, precision = 0.501, recall = 0.718\n",
      "Threshold = 0.55 | F1 = 0.601, precision = 0.534, recall = 0.688\n",
      "Threshold = 0.60 | F1 = 0.601, precision = 0.534, recall = 0.688\n",
      "Threshold = 0.65 | F1 = 0.594, precision = 0.584, recall = 0.606\n",
      "Threshold = 0.70 | F1 = 0.555, precision = 0.714, recall = 0.454\n",
      "Threshold = 0.75 | F1 = 0.544, precision = 0.735, recall = 0.432\n",
      "Threshold = 0.80 | F1 = 0.463, precision = 0.852, recall = 0.318\n",
      "Threshold = 0.85 | F1 = 0.463, precision = 0.852, recall = 0.318\n",
      "Threshold = 0.90 | F1 = 0.465, precision = 0.866, recall = 0.318\n",
      "Threshold = 0.95 | F1 = 0.398, precision = 0.908, recall = 0.254\n"
     ]
    }
   ],
   "source": [
    "DTClassifier = DecisionTreeClassifier(class_weight='balanced', max_depth=5, random_state=1000001)\n",
    "DTClassifier.fit(up_features_train, up_target_train)\n",
    "\n",
    "probabilities_valid = DTClassifier.predict_proba(features_valid)\n",
    "probabilities_one_valid = probabilities_valid[:, 1]\n",
    "\n",
    "for threshold in np.arange(0, 1, 0.05):\n",
    "    predictions_RF = probabilities_one_valid > threshold\n",
    "    up_F1_RF_score = f1_score(target_valid, predictions_RF)\n",
    "    precision = precision_score(target_valid, predictions_RF)\n",
    "    recall = recall_score(target_valid, predictions_RF)\n",
    "\n",
    "    print(\"Threshold = {:.2f} | F1 = {:.3f}, precision = {:.3f}, recall = {:.3f}\".format(\n",
    "        threshold, up_F1_RF_score, precision, recall))"
   ]
  },
  {
   "cell_type": "markdown",
   "metadata": {},
   "source": [
    "**Conclusion**: The same as for shifting Threshold for upsampling. The threshold shift to 0.55 or 0.60 shows increasing F1 to `0.601` from `0.590`. Better than for Logistic Regression - `0.509`\n",
    "\n",
    "F1 score for Decision tree:\n",
    "* Original: `0.557`\n",
    "* Balanced: `0.590`\n",
    "* Upsampling: `0.590`\n",
    "* Upsampling (Threshold 0.6): `0.601`\n",
    "* Combination: `0.590`\n",
    "* Combination (Threshold 0.6): `0.601`\n",
    "\n",
    "Balancing, Upsampling or Combination of them doesn't show significant increase of F1. Shifting Threshold to `0.601` shows slight increase for Upsampling and Combination. Better than for Logistic Regression - `0.509`"
   ]
  },
  {
   "cell_type": "markdown",
   "metadata": {},
   "source": [
    "## Random Forest and F1 test"
   ]
  },
  {
   "cell_type": "markdown",
   "metadata": {},
   "source": [
    "### Before upsampling"
   ]
  },
  {
   "cell_type": "code",
   "execution_count": 58,
   "metadata": {},
   "outputs": [],
   "source": [
    "F1_RF = pd.DataFrame(columns=['max_depth', 'estim', 'f1_score'])\n",
    "    \n",
    "for max_depth in range(1, 46):\n",
    "    for estim in range(10, 60, 20):\n",
    "        RFClassifier = RandomForestClassifier(n_estimators=estim, max_depth=max_depth, random_state=1000001)\n",
    "        RFClassifier.fit(features_train, target_train)\n",
    "        predictions_RF = RFClassifier.predict(features_valid)\n",
    "        f1 = f1_score(target_valid, predictions_RF)\n",
    "        F1_RF = F1_RF.append({'max_depth':max_depth, 'estim':estim, 'f1_score':f1}, ignore_index=True)"
   ]
  },
  {
   "cell_type": "code",
   "execution_count": 39,
   "metadata": {},
   "outputs": [
    {
     "data": {
      "text/html": [
       "<div>\n",
       "<style scoped>\n",
       "    .dataframe tbody tr th:only-of-type {\n",
       "        vertical-align: middle;\n",
       "    }\n",
       "\n",
       "    .dataframe tbody tr th {\n",
       "        vertical-align: top;\n",
       "    }\n",
       "\n",
       "    .dataframe thead th {\n",
       "        text-align: right;\n",
       "    }\n",
       "</style>\n",
       "<table border=\"1\" class=\"dataframe\">\n",
       "  <thead>\n",
       "    <tr style=\"text-align: right;\">\n",
       "      <th></th>\n",
       "      <th>max_depth</th>\n",
       "      <th>estim</th>\n",
       "      <th>f1_score</th>\n",
       "    </tr>\n",
       "  </thead>\n",
       "  <tbody>\n",
       "    <tr>\n",
       "      <th>132</th>\n",
       "      <td>45.0</td>\n",
       "      <td>10.0</td>\n",
       "      <td>0.35969</td>\n",
       "    </tr>\n",
       "  </tbody>\n",
       "</table>\n",
       "</div>"
      ],
      "text/plain": [
       "     max_depth  estim  f1_score\n",
       "132       45.0   10.0   0.35969"
      ]
     },
     "execution_count": 39,
     "metadata": {},
     "output_type": "execute_result"
    }
   ],
   "source": [
    "F1_RF[F1_RF['f1_score'] == F1_RF['f1_score'].max()]"
   ]
  },
  {
   "cell_type": "markdown",
   "metadata": {},
   "source": [
    "**Conclusion** F1 score for Random Forest model on original data is `0.359`"
   ]
  },
  {
   "cell_type": "markdown",
   "metadata": {},
   "source": [
    "### Balanced"
   ]
  },
  {
   "cell_type": "code",
   "execution_count": 40,
   "metadata": {},
   "outputs": [],
   "source": [
    "bal_F1_RF = pd.DataFrame(columns=['max_depth', 'estim', 'f1_score'])\n",
    "    \n",
    "for max_depth in range(1, 46):\n",
    "    for estim in range(10, 60, 20):\n",
    "        RFClassifier = RandomForestClassifier(class_weight='balanced', n_estimators=estim, max_depth=max_depth, random_state=1000001)\n",
    "        RFClassifier.fit(features_train, target_train)\n",
    "        predictions_RF = RFClassifier.predict(features_valid)\n",
    "        f1 = f1_score(target_valid, predictions_RF)\n",
    "        bal_F1_RF = bal_F1_RF.append({'max_depth':max_depth, 'estim':estim, 'f1_score':f1}, ignore_index=True)"
   ]
  },
  {
   "cell_type": "code",
   "execution_count": 41,
   "metadata": {},
   "outputs": [
    {
     "data": {
      "text/html": [
       "<div>\n",
       "<style scoped>\n",
       "    .dataframe tbody tr th:only-of-type {\n",
       "        vertical-align: middle;\n",
       "    }\n",
       "\n",
       "    .dataframe tbody tr th {\n",
       "        vertical-align: top;\n",
       "    }\n",
       "\n",
       "    .dataframe thead th {\n",
       "        text-align: right;\n",
       "    }\n",
       "</style>\n",
       "<table border=\"1\" class=\"dataframe\">\n",
       "  <thead>\n",
       "    <tr style=\"text-align: right;\">\n",
       "      <th></th>\n",
       "      <th>max_depth</th>\n",
       "      <th>estim</th>\n",
       "      <th>f1_score</th>\n",
       "    </tr>\n",
       "  </thead>\n",
       "  <tbody>\n",
       "    <tr>\n",
       "      <th>92</th>\n",
       "      <td>31.0</td>\n",
       "      <td>50.0</td>\n",
       "      <td>0.602985</td>\n",
       "    </tr>\n",
       "  </tbody>\n",
       "</table>\n",
       "</div>"
      ],
      "text/plain": [
       "    max_depth  estim  f1_score\n",
       "92       31.0   50.0  0.602985"
      ]
     },
     "execution_count": 41,
     "metadata": {},
     "output_type": "execute_result"
    }
   ],
   "source": [
    "bal_F1_RF[bal_F1_RF['f1_score'] == bal_F1_RF['f1_score'].max()]"
   ]
  },
  {
   "cell_type": "markdown",
   "metadata": {},
   "source": [
    "**Conclusion** F1 score for Random Forest model on balanced data is `0.603`"
   ]
  },
  {
   "cell_type": "markdown",
   "metadata": {},
   "source": [
    "### Upsampling"
   ]
  },
  {
   "cell_type": "code",
   "execution_count": 40,
   "metadata": {},
   "outputs": [],
   "source": [
    "up_F1_RF = pd.DataFrame(columns=['max_depth', 'estim', 'f1_score'])\n",
    "    \n",
    "for max_depth in range(1, 46):\n",
    "    for estim in range(10, 60, 20):\n",
    "        RFClassifier = RandomForestClassifier(n_estimators=estim, max_depth=max_depth, random_state=1000001)\n",
    "        RFClassifier.fit(up_features_train, up_target_train)\n",
    "        predictions_RF = RFClassifier.predict(features_valid)\n",
    "        f1 = f1_score(target_valid, predictions_RF)\n",
    "        up_F1_RF = up_F1_RF.append({'max_depth':max_depth, 'estim':estim, 'f1_score':f1}, ignore_index=True)"
   ]
  },
  {
   "cell_type": "code",
   "execution_count": 41,
   "metadata": {},
   "outputs": [
    {
     "data": {
      "text/html": [
       "<div>\n",
       "<style scoped>\n",
       "    .dataframe tbody tr th:only-of-type {\n",
       "        vertical-align: middle;\n",
       "    }\n",
       "\n",
       "    .dataframe tbody tr th {\n",
       "        vertical-align: top;\n",
       "    }\n",
       "\n",
       "    .dataframe thead th {\n",
       "        text-align: right;\n",
       "    }\n",
       "</style>\n",
       "<table border=\"1\" class=\"dataframe\">\n",
       "  <thead>\n",
       "    <tr style=\"text-align: right;\">\n",
       "      <th></th>\n",
       "      <th>max_depth</th>\n",
       "      <th>estim</th>\n",
       "      <th>f1_score</th>\n",
       "    </tr>\n",
       "  </thead>\n",
       "  <tbody>\n",
       "    <tr>\n",
       "      <td>130</td>\n",
       "      <td>44.0</td>\n",
       "      <td>30.0</td>\n",
       "      <td>0.607938</td>\n",
       "    </tr>\n",
       "  </tbody>\n",
       "</table>\n",
       "</div>"
      ],
      "text/plain": [
       "     max_depth  estim  f1_score\n",
       "130       44.0   30.0  0.607938"
      ]
     },
     "execution_count": 41,
     "metadata": {},
     "output_type": "execute_result"
    }
   ],
   "source": [
    "up_F1_RF[up_F1_RF['f1_score'] == up_F1_RF['f1_score'].max()]"
   ]
  },
  {
   "cell_type": "markdown",
   "metadata": {},
   "source": [
    "**Conclusion** F1 score for Random Forest model on upsampling data is `0.608`"
   ]
  },
  {
   "cell_type": "markdown",
   "metadata": {},
   "source": [
    "#### Moving Threshold"
   ]
  },
  {
   "cell_type": "code",
   "execution_count": 42,
   "metadata": {},
   "outputs": [
    {
     "name": "stdout",
     "output_type": "stream",
     "text": [
      "Threshold = 0.00 | F1 = 0.337, precision = 0.203, recall = 1.000\n",
      "Threshold = 0.05 | F1 = 0.337, precision = 0.203, recall = 1.000\n",
      "Threshold = 0.10 | F1 = 0.337, precision = 0.203, recall = 1.000\n",
      "Threshold = 0.15 | F1 = 0.340, precision = 0.205, recall = 1.000\n",
      "Threshold = 0.20 | F1 = 0.364, precision = 0.223, recall = 0.992\n",
      "Threshold = 0.25 | F1 = 0.400, precision = 0.252, recall = 0.963\n",
      "Threshold = 0.30 | F1 = 0.446, precision = 0.294, recall = 0.925\n",
      "Threshold = 0.35 | F1 = 0.509, precision = 0.359, recall = 0.878\n",
      "Threshold = 0.40 | F1 = 0.554, precision = 0.429, recall = 0.781\n",
      "Threshold = 0.45 | F1 = 0.586, precision = 0.504, recall = 0.700\n",
      "Threshold = 0.50 | F1 = 0.608, precision = 0.597, recall = 0.619\n",
      "Threshold = 0.55 | F1 = 0.593, precision = 0.668, recall = 0.533\n",
      "Threshold = 0.60 | F1 = 0.538, precision = 0.704, recall = 0.436\n",
      "Threshold = 0.65 | F1 = 0.427, precision = 0.720, recall = 0.304\n",
      "Threshold = 0.70 | F1 = 0.337, precision = 0.836, recall = 0.211\n",
      "Threshold = 0.75 | F1 = 0.220, precision = 0.865, recall = 0.126\n",
      "Threshold = 0.80 | F1 = 0.101, precision = 0.931, recall = 0.053\n",
      "Threshold = 0.85 | F1 = 0.020, precision = 1.000, recall = 0.010\n",
      "Threshold = 0.90 | F1 = 0.000, precision = 0.000, recall = 0.000\n",
      "Threshold = 0.95 | F1 = 0.000, precision = 0.000, recall = 0.000\n"
     ]
    }
   ],
   "source": [
    "RFClassifier = RandomForestClassifier(n_estimators=30, max_depth=44, random_state=1000001)\n",
    "RFClassifier.fit(up_features_train, up_target_train)\n",
    "\n",
    "probabilities_valid = RFClassifier.predict_proba(features_valid)\n",
    "probabilities_one_valid = probabilities_valid[:, 1]\n",
    "\n",
    "for threshold in np.arange(0, 1, 0.05):\n",
    "    predictions_RF = probabilities_one_valid > threshold\n",
    "    F1_RF_score = f1_score(target_valid, predictions_RF)\n",
    "    precision = precision_score(target_valid, predictions_RF)\n",
    "    recall = recall_score(target_valid, predictions_RF)\n",
    "\n",
    "    print(\"Threshold = {:.2f} | F1 = {:.3f}, precision = {:.3f}, recall = {:.3f}\".format(\n",
    "        threshold, F1_RF_score, precision, recall))"
   ]
  },
  {
   "cell_type": "markdown",
   "metadata": {},
   "source": [
    "**Conclusion**: The threshold shift did not show the possibility of increasing F1"
   ]
  },
  {
   "cell_type": "markdown",
   "metadata": {},
   "source": [
    "### After upsampling and balanced"
   ]
  },
  {
   "cell_type": "code",
   "execution_count": 43,
   "metadata": {},
   "outputs": [],
   "source": [
    "up_bal_F1_RF = pd.DataFrame(columns=['max_depth', 'estim', 'f1_score'])\n",
    "    \n",
    "for max_depth in range(1, 46):\n",
    "    for estim in range(10, 60, 20):\n",
    "        RFClassifier = RandomForestClassifier(class_weight='balanced', n_estimators=estim, max_depth=max_depth, random_state=1000001)\n",
    "        RFClassifier.fit(up_features_train, up_target_train)\n",
    "        predictions_RF = RFClassifier.predict(features_valid)\n",
    "        f1 = f1_score(target_valid, predictions_RF)\n",
    "        up_bal_F1_RF = up_bal_F1_RF.append({'max_depth':max_depth, 'estim':estim, 'f1_score':f1}, ignore_index=True)"
   ]
  },
  {
   "cell_type": "code",
   "execution_count": 44,
   "metadata": {},
   "outputs": [
    {
     "data": {
      "text/html": [
       "<div>\n",
       "<style scoped>\n",
       "    .dataframe tbody tr th:only-of-type {\n",
       "        vertical-align: middle;\n",
       "    }\n",
       "\n",
       "    .dataframe tbody tr th {\n",
       "        vertical-align: top;\n",
       "    }\n",
       "\n",
       "    .dataframe thead th {\n",
       "        text-align: right;\n",
       "    }\n",
       "</style>\n",
       "<table border=\"1\" class=\"dataframe\">\n",
       "  <thead>\n",
       "    <tr style=\"text-align: right;\">\n",
       "      <th></th>\n",
       "      <th>max_depth</th>\n",
       "      <th>estim</th>\n",
       "      <th>f1_score</th>\n",
       "    </tr>\n",
       "  </thead>\n",
       "  <tbody>\n",
       "    <tr>\n",
       "      <td>134</td>\n",
       "      <td>45.0</td>\n",
       "      <td>50.0</td>\n",
       "      <td>0.603951</td>\n",
       "    </tr>\n",
       "  </tbody>\n",
       "</table>\n",
       "</div>"
      ],
      "text/plain": [
       "     max_depth  estim  f1_score\n",
       "134       45.0   50.0  0.603951"
      ]
     },
     "execution_count": 44,
     "metadata": {},
     "output_type": "execute_result"
    }
   ],
   "source": [
    "up_bal_F1_RF[up_bal_F1_RF['f1_score'] == up_bal_F1_RF['f1_score'].max()]"
   ]
  },
  {
   "cell_type": "markdown",
   "metadata": {},
   "source": [
    "**Conclusion** F1 score for Random Forest model on upsampling and balanced data is `0.604`"
   ]
  },
  {
   "cell_type": "markdown",
   "metadata": {},
   "source": [
    "#### Moving Threshold"
   ]
  },
  {
   "cell_type": "code",
   "execution_count": 45,
   "metadata": {},
   "outputs": [
    {
     "name": "stdout",
     "output_type": "stream",
     "text": [
      "Threshold = 0.00 | F1 = 0.337, precision = 0.203, recall = 1.000\n",
      "Threshold = 0.05 | F1 = 0.337, precision = 0.203, recall = 1.000\n",
      "Threshold = 0.10 | F1 = 0.337, precision = 0.203, recall = 1.000\n",
      "Threshold = 0.15 | F1 = 0.343, precision = 0.207, recall = 1.000\n",
      "Threshold = 0.20 | F1 = 0.369, precision = 0.227, recall = 0.992\n",
      "Threshold = 0.25 | F1 = 0.405, precision = 0.255, recall = 0.974\n",
      "Threshold = 0.30 | F1 = 0.451, precision = 0.298, recall = 0.923\n",
      "Threshold = 0.35 | F1 = 0.504, precision = 0.357, recall = 0.858\n",
      "Threshold = 0.40 | F1 = 0.562, precision = 0.432, recall = 0.805\n",
      "Threshold = 0.45 | F1 = 0.592, precision = 0.504, recall = 0.718\n",
      "Threshold = 0.50 | F1 = 0.604, precision = 0.577, recall = 0.633\n",
      "Threshold = 0.55 | F1 = 0.594, precision = 0.667, recall = 0.535\n",
      "Threshold = 0.60 | F1 = 0.527, precision = 0.724, recall = 0.414\n",
      "Threshold = 0.65 | F1 = 0.421, precision = 0.781, recall = 0.288\n",
      "Threshold = 0.70 | F1 = 0.273, precision = 0.872, recall = 0.162\n",
      "Threshold = 0.75 | F1 = 0.136, precision = 0.949, recall = 0.073\n",
      "Threshold = 0.80 | F1 = 0.020, precision = 1.000, recall = 0.010\n",
      "Threshold = 0.85 | F1 = 0.000, precision = 0.000, recall = 0.000\n",
      "Threshold = 0.90 | F1 = 0.000, precision = 0.000, recall = 0.000\n",
      "Threshold = 0.95 | F1 = 0.000, precision = 0.000, recall = 0.000\n"
     ]
    }
   ],
   "source": [
    "RFClassifier = RandomForestClassifier(class_weight='balanced', n_estimators=50, max_depth=45, random_state=1000001)\n",
    "RFClassifier.fit(up_features_train, up_target_train)\n",
    "\n",
    "probabilities_valid = RFClassifier.predict_proba(features_valid)\n",
    "probabilities_one_valid = probabilities_valid[:, 1]\n",
    "\n",
    "for threshold in np.arange(0, 1, 0.05):\n",
    "    predictions_RF = probabilities_one_valid > threshold\n",
    "    F1_RF_score = f1_score(target_valid, predictions_RF)\n",
    "    precision = precision_score(target_valid, predictions_RF)\n",
    "    recall = recall_score(target_valid, predictions_RF)\n",
    "\n",
    "    print(\"Threshold = {:.2f} | F1 = {:.3f}, precision = {:.3f}, recall = {:.3f}\".format(\n",
    "        threshold, F1_RF_score, precision, recall))"
   ]
  },
  {
   "cell_type": "markdown",
   "metadata": {},
   "source": [
    "**Conclusion**: The threshold shift did not show the possibility of increasing F1.\n",
    "\n",
    "F1 score for Decision tree:\n",
    "* Original: `0.359`\n",
    "* Balanced: `0.603`\n",
    "* Upsampling: `0.603`\n",
    "* Combination: `0.604`\n",
    "\n",
    "Also for Random Forest as for Decision Tree Balancing, Upsampling or Combination of them doesn't show significant increase of F1. The threshold shift did not show the possibility of increasing F1.\n",
    "\n",
    "Random Forest model on the combination of the balanced and upsampling data showed the best F1 - `0.604`"
   ]
  },
  {
   "cell_type": "markdown",
   "metadata": {},
   "source": [
    "## Visualization of the F1 results"
   ]
  },
  {
   "cell_type": "markdown",
   "metadata": {},
   "source": [
    "### Before balanced"
   ]
  },
  {
   "cell_type": "code",
   "execution_count": 59,
   "metadata": {},
   "outputs": [
    {
     "data": {
      "text/plain": [
       "<matplotlib.axes._subplots.AxesSubplot at 0x22301c5cfc8>"
      ]
     },
     "execution_count": 59,
     "metadata": {},
     "output_type": "execute_result"
    },
    {
     "data": {
      "image/png": "[encoded data removed]",
      "text/plain": [
       "<Figure size 864x576 with 1 Axes>"
      ]
     },
     "metadata": {},
     "output_type": "display_data"
    }
   ],
   "source": [
    "plt.figure(figsize=(12,8))\n",
    "ax = sns.scatterplot(x=\"max_depth\", y=\"f1_score\", hue=\"estim\",\n",
    "                     data=F1_RF)\n",
    "sns.scatterplot(x=\"depth\", y=\"f1_score\",\n",
    "                     data=F1_DT, ax=ax, color='red')"
   ]
  },
  {
   "cell_type": "markdown",
   "metadata": {},
   "source": [
    "### Balansed"
   ]
  },
  {
   "cell_type": "code",
   "execution_count": 54,
   "metadata": {},
   "outputs": [
    {
     "data": {
      "text/plain": [
       "<matplotlib.axes._subplots.AxesSubplot at 0x223034860c8>"
      ]
     },
     "execution_count": 54,
     "metadata": {},
     "output_type": "execute_result"
    },
    {
     "data": {
      "image/png": "[encoded data removed]",
      "text/plain": [
       "<Figure size 864x576 with 1 Axes>"
      ]
     },
     "metadata": {},
     "output_type": "display_data"
    }
   ],
   "source": [
    "plt.figure(figsize=(12,8))\n",
    "ax = sns.scatterplot(x=\"max_depth\", y=\"f1_score\", hue=\"estim\",\n",
    "                     data=bal_F1_RF)\n",
    "sns.scatterplot(x=\"depth\", y=\"f1_score\",\n",
    "                     data=bal_F1_DT, ax=ax, color='red')"
   ]
  },
  {
   "cell_type": "markdown",
   "metadata": {},
   "source": [
    "### Upsampling"
   ]
  },
  {
   "cell_type": "code",
   "execution_count": 46,
   "metadata": {},
   "outputs": [
    {
     "data": {
      "text/plain": [
       "<matplotlib.axes._subplots.AxesSubplot at 0x7f0434618f50>"
      ]
     },
     "execution_count": 46,
     "metadata": {},
     "output_type": "execute_result"
    },
    {
     "data": {
      "image/png": "[encoded data removed]",
      "text/plain": [
       "<Figure size 864x576 with 1 Axes>"
      ]
     },
     "metadata": {},
     "output_type": "display_data"
    }
   ],
   "source": [
    "plt.figure(figsize=(12,8))\n",
    "ax = sns.scatterplot(x=\"max_depth\", y=\"f1_score\", hue=\"estim\",\n",
    "                     data=up_F1_RF)\n",
    "sns.scatterplot(x=\"depth\", y=\"f1_score\",\n",
    "                     data=up_F1_DT, ax=ax, color='red')"
   ]
  },
  {
   "cell_type": "markdown",
   "metadata": {},
   "source": [
    "### Upsampling and Balansed"
   ]
  },
  {
   "cell_type": "code",
   "execution_count": 47,
   "metadata": {},
   "outputs": [
    {
     "data": {
      "text/plain": [
       "<matplotlib.axes._subplots.AxesSubplot at 0x7f04345e98d0>"
      ]
     },
     "execution_count": 47,
     "metadata": {},
     "output_type": "execute_result"
    },
    {
     "data": {
      "image/png": "[encoded data removed]",
      "text/plain": [
       "<Figure size 864x576 with 1 Axes>"
      ]
     },
     "metadata": {},
     "output_type": "display_data"
    }
   ],
   "source": [
    "plt.figure(figsize=(12,8))\n",
    "ax = sns.scatterplot(x=\"max_depth\", y=\"f1_score\", hue=\"estim\",\n",
    "                     data=up_bal_F1_RF)\n",
    "sns.scatterplot(x=\"depth\", y=\"f1_score\",\n",
    "                     data=up_bal_F1_DT, ax=ax, color='red')"
   ]
  },
  {
   "cell_type": "markdown",
   "metadata": {},
   "source": [
    "## Building of the final model"
   ]
  },
  {
   "cell_type": "markdown",
   "metadata": {},
   "source": [
    "### Random Forest with resampling and balanced parameter"
   ]
  },
  {
   "cell_type": "code",
   "execution_count": 26,
   "metadata": {},
   "outputs": [
    {
     "name": "stdout",
     "output_type": "stream",
     "text": [
      "f1 score: 0.5988258317025441\n"
     ]
    }
   ],
   "source": [
    "RFClassifier = RandomForestClassifier(class_weight='balanced', n_estimators=50, max_depth=45, random_state=1000001)\n",
    "RFClassifier.fit(up_features_train, up_target_train)\n",
    "predictions_RF = RFClassifier.predict(features_test)\n",
    "f1 = f1_score(target_test, predictions_RF)\n",
    "print('f1 score:', f1)"
   ]
  },
  {
   "cell_type": "markdown",
   "metadata": {},
   "source": [
    "## GENERAL CONCLUSION\n",
    "\n",
    "As can been see, balancing has a significant affects the quality of the model. The decision tree turned out to be the best method on this dataset. But not by a large margin. Upsampling and Сombination show an equally high F1 for Decision Tree and Random Forest. But for Logistic Regression Upsampling shows lower results than Balanced method. Changing the cut-off line show a vary small affect.\n",
    "\n",
    "Because of tests, it was revealed that the best model is a Random Forest with a combination of the balanced methods. With a maximum F1 of 0.604 - the number of correct classifications of the total number, with a maximum depth of 45, and 50 of estimators.\n",
    "\n",
    "**Final F1 for the test set is 0.599**"
   ]
  }
 ],
 "metadata": {
  "kernelspec": {
   "display_name": "Python 3",
   "language": "python",
   "name": "python3"
  },
  "language_info": {
   "codemirror_mode": {
    "name": "ipython",
    "version": 3
   },
   "file_extension": ".py",
   "mimetype": "text/x-python",
   "name": "python",
   "nbconvert_exporter": "python",
   "pygments_lexer": "ipython3",
   "version": "3.7.6"
  }
 },
 "nbformat": 4,
 "nbformat_minor": 4
}
