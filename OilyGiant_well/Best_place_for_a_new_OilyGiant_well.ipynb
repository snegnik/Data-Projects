{
 "cells": [
  {
   "cell_type": "markdown",
   "metadata": {},
   "source": [
    "# Finding the best place for a new OilyGiant well\n",
    "\n",
    "Within the framework of this project, it was necessary to find the most profitable regions in terms of profit for drilling oil wells. The data were given of oil production volumes by wells in three regions. Based on these data, I built a model - linear regression - and applied the bootstrap method to identify the most profitable region.\n",
    "\n",
    "#### PLAN:\n",
    "\n",
    "##### INVESTIGETION\n",
    "1. Download and prepare the data. Explain the procedure.\n",
    "2. Train and test the model for each region:\n",
    "    * Split the data into a training set and validation set at a ratio of 75:25.\n",
    "    * Train the model and make predictions for the validation set.\n",
    "    * Save the predictions and correct answers for the validation set.\n",
    "    * Print the average volume of predicted reserves and model RMSE.\n",
    "    * Analyze the results.\n",
    "3. Prepare for profit calculation:\n",
    "    * Store all key values for calculations in separate variables.\n",
    "    * Calculate the volume of reserves sufficient for developing a new well without losses. Compare the obtained value with the average volume of reserves in each region.\n",
    "    * Provide the findings about the preparation for profit calculation step.\n",
    "4. Write a function to calculate profit from a set of selected oil wells and model predictions:\n",
    "    * Pick the wells with the highest values of predictions.\n",
    "    * Summarize the target volume of reserves in accordance with these predictions\n",
    "    * Provide findings: suggest a region for oil wells' development and justify the choice. Calculate the profit for the obtained volume of reserves.\n",
    "5. Calculate risks and profit for each region:\n",
    "    * Use the bootstrapping technique with 1000 samples to find the distribution of profit.\n",
    "    * Find average profit, 95% confidence interval and risk of losses. Loss is negative profit, calculate it as a probability and then express as a percentage.\n",
    "    * Provide findings: suggest a region for development of oil wells and justify the choice."
   ]
  },
  {
   "cell_type": "code",
   "execution_count": 1,
   "metadata": {},
   "outputs": [],
   "source": [
    "import pandas as pd\n",
    "import numpy as np\n",
    "from scipy import stats as st\n",
    "\n",
    "from sklearn.linear_model import LinearRegression\n",
    "\n",
    "from sklearn.metrics import mean_squared_error\n",
    "\n",
    "from sklearn.model_selection import train_test_split\n",
    "\n",
    "import seaborn as sns; sns.set()\n",
    "import matplotlib.pyplot as plt \n",
    "\n",
    "import warnings\n",
    "warnings.filterwarnings('ignore')"
   ]
  },
  {
   "cell_type": "markdown",
   "metadata": {},
   "source": [
    "### 1. Download and prepare the data. Explain the procedure."
   ]
  },
  {
   "cell_type": "code",
   "execution_count": 2,
   "metadata": {},
   "outputs": [],
   "source": [
    "data0 = pd.read_csv('https://code.s3.yandex.net/datasets/geo_data_0.csv')\n",
    "data1 = pd.read_csv('https://code.s3.yandex.net/datasets/geo_data_1.csv')\n",
    "data2 = pd.read_csv('https://code.s3.yandex.net/datasets/geo_data_2.csv')"
   ]
  },
  {
   "cell_type": "code",
   "execution_count": 3,
   "metadata": {},
   "outputs": [
    {
     "name": "stdout",
     "output_type": "stream",
     "text": [
      "\n",
      "head\n",
      "      id         f0         f1        f2     product\n",
      "0  kBEdx -15.001348  -8.276000 -0.005876    3.179103\n",
      "1  62mP7  14.272088  -3.475083  0.999183   26.953261\n",
      "2  vyE1P   6.263187  -5.948386  5.001160  134.766305\n",
      "3  KcrkZ -13.081196 -11.506057  4.999415  137.945408\n",
      "4  AHL4O  12.702195  -8.147433  5.004363  134.766305\n",
      "5  HHckp  -3.327590  -2.205276  3.003647   84.038886\n",
      "6  h5Ujo -11.142655 -10.133399  4.002382  110.992147\n",
      "7  muH9x   4.234715  -0.001354  2.004588   53.906522\n",
      "8  YiRkx  13.355129  -0.332068  4.998647  134.766305\n",
      "9  jG6Gi   1.069227 -11.025667  4.997844  137.945408\n",
      "\n",
      "info\n",
      "<class 'pandas.core.frame.DataFrame'>\n",
      "RangeIndex: 100000 entries, 0 to 99999\n",
      "Data columns (total 5 columns):\n",
      "id         100000 non-null object\n",
      "f0         100000 non-null float64\n",
      "f1         100000 non-null float64\n",
      "f2         100000 non-null float64\n",
      "product    100000 non-null float64\n",
      "dtypes: float64(4), object(1)\n",
      "memory usage: 3.8+ MB\n",
      "None\n",
      "\n",
      "describe\n",
      "                  f0             f1             f2        product\n",
      "count  100000.000000  100000.000000  100000.000000  100000.000000\n",
      "mean        0.500419       0.250143       2.502647      92.500000\n",
      "std         0.871832       0.504433       3.248248      44.288691\n",
      "min        -1.408605      -0.848218     -12.088328       0.000000\n",
      "25%        -0.072580      -0.200881       0.287748      56.497507\n",
      "50%         0.502360       0.250252       2.515969      91.849972\n",
      "75%         1.073581       0.700646       4.715088     128.564089\n",
      "max         2.362331       1.343769      16.003790     185.364347\n"
     ]
    }
   ],
   "source": [
    "print()\n",
    "print('head')\n",
    "print(data1.head(10))\n",
    "\n",
    "print()\n",
    "print('info')\n",
    "print(data1.info())\n",
    "\n",
    "print()\n",
    "print('describe')\n",
    "print(data0.describe())"
   ]
  },
  {
   "cell_type": "markdown",
   "metadata": {},
   "source": [
    "### 2. Train and test the model for each region"
   ]
  },
  {
   "cell_type": "markdown",
   "metadata": {},
   "source": [
    "#### Split the data into a training set and validation set at a ratio of 75:25"
   ]
  },
  {
   "cell_type": "code",
   "execution_count": 4,
   "metadata": {},
   "outputs": [
    {
     "name": "stdout",
     "output_type": "stream",
     "text": [
      "AxesSubplot(0.125,0.125;0.775x0.755)\n",
      "AxesSubplot(0.125,0.125;0.775x0.755)\n"
     ]
    },
    {
     "data": {
      "image/png": "[encoded data removed]",
      "text/plain": [
       "<Figure size 432x288 with 1 Axes>"
      ]
     },
     "metadata": {},
     "output_type": "display_data"
    }
   ],
   "source": [
    "df_train0, df_valid0 = train_test_split(data0, test_size=0.25, random_state=1000001)\n",
    "\n",
    "features_train0 = df_train0.drop(['product', 'id'], axis=1)\n",
    "target_train0 = df_train0['product']\n",
    "print(target_train0.hist())\n",
    "\n",
    "features_valid0 = df_valid0.drop(['product', 'id'], axis=1)\n",
    "target_valid0 = df_valid0['product']\n",
    "#print(target_valid0.hist())\n",
    "\n",
    "df_train1, df_valid1 = train_test_split(data1, test_size=0.25, random_state=1000001)\n",
    "\n",
    "features_train1 = df_train1.drop(['product', 'id'], axis=1)\n",
    "target_train1 = df_train1['product']\n",
    "print(target_train1.hist())\n",
    "\n",
    "features_valid1 = df_valid1.drop(['product', 'id'], axis=1)\n",
    "target_valid1 = df_valid1['product']\n",
    "#print(target_valid1.hist())\n",
    "\n",
    "df_train2, df_valid2 = train_test_split(data2, test_size=0.25, random_state=1000001)\n",
    "\n",
    "features_train2 = df_train2.drop(['product', 'id'], axis=1)\n",
    "target_train2 = df_train2['product']\n",
    "\n",
    "features_valid2 = df_valid2.drop(['product', 'id'], axis=1)\n",
    "target_valid2 = df_valid2['product']\n",
    "#print(target_valid2.hist())"
   ]
  },
  {
   "cell_type": "code",
   "execution_count": 5,
   "metadata": {},
   "outputs": [
    {
     "name": "stdout",
     "output_type": "stream",
     "text": [
      "options: 12\n",
      "\n",
      "AxesSubplot(0.125,0.125;0.775x0.755)\n"
     ]
    },
    {
     "data": {
      "text/html": [
       "<div>\n",
       "<style scoped>\n",
       "    .dataframe tbody tr th:only-of-type {\n",
       "        vertical-align: middle;\n",
       "    }\n",
       "\n",
       "    .dataframe tbody tr th {\n",
       "        vertical-align: top;\n",
       "    }\n",
       "\n",
       "    .dataframe thead th {\n",
       "        text-align: right;\n",
       "    }\n",
       "</style>\n",
       "<table border=\"1\" class=\"dataframe\">\n",
       "  <thead>\n",
       "    <tr style=\"text-align: right;\">\n",
       "      <th></th>\n",
       "      <th>index</th>\n",
       "      <th>product</th>\n",
       "    </tr>\n",
       "  </thead>\n",
       "  <tbody>\n",
       "    <tr>\n",
       "      <td>6</td>\n",
       "      <td>0</td>\n",
       "      <td>2082</td>\n",
       "    </tr>\n",
       "    <tr>\n",
       "      <td>11</td>\n",
       "      <td>3</td>\n",
       "      <td>2034</td>\n",
       "    </tr>\n",
       "    <tr>\n",
       "      <td>8</td>\n",
       "      <td>26</td>\n",
       "      <td>2067</td>\n",
       "    </tr>\n",
       "    <tr>\n",
       "      <td>7</td>\n",
       "      <td>30</td>\n",
       "      <td>2080</td>\n",
       "    </tr>\n",
       "    <tr>\n",
       "      <td>3</td>\n",
       "      <td>53</td>\n",
       "      <td>2105</td>\n",
       "    </tr>\n",
       "    <tr>\n",
       "      <td>0</td>\n",
       "      <td>57</td>\n",
       "      <td>2126</td>\n",
       "    </tr>\n",
       "    <tr>\n",
       "      <td>9</td>\n",
       "      <td>80</td>\n",
       "      <td>2063</td>\n",
       "    </tr>\n",
       "    <tr>\n",
       "      <td>4</td>\n",
       "      <td>84</td>\n",
       "      <td>2102</td>\n",
       "    </tr>\n",
       "    <tr>\n",
       "      <td>5</td>\n",
       "      <td>107</td>\n",
       "      <td>2083</td>\n",
       "    </tr>\n",
       "    <tr>\n",
       "      <td>2</td>\n",
       "      <td>110</td>\n",
       "      <td>2110</td>\n",
       "    </tr>\n",
       "    <tr>\n",
       "      <td>1</td>\n",
       "      <td>134</td>\n",
       "      <td>2112</td>\n",
       "    </tr>\n",
       "    <tr>\n",
       "      <td>10</td>\n",
       "      <td>137</td>\n",
       "      <td>2036</td>\n",
       "    </tr>\n",
       "  </tbody>\n",
       "</table>\n",
       "</div>"
      ],
      "text/plain": [
       "    index  product\n",
       "6       0     2082\n",
       "11      3     2034\n",
       "8      26     2067\n",
       "7      30     2080\n",
       "3      53     2105\n",
       "0      57     2126\n",
       "9      80     2063\n",
       "4      84     2102\n",
       "5     107     2083\n",
       "2     110     2110\n",
       "1     134     2112\n",
       "10    137     2036"
      ]
     },
     "execution_count": 5,
     "metadata": {},
     "output_type": "execute_result"
    },
    {
     "data": {
      "image/png": "[encoded data removed]",
      "text/plain": [
       "<Figure size 432x288 with 1 Axes>"
      ]
     },
     "metadata": {},
     "output_type": "display_data"
    }
   ],
   "source": [
    "print('options:', target_valid1.value_counts().count())\n",
    "print()\n",
    "print(target_valid1.hist())\n",
    "area1 = pd.DataFrame(target_valid1.value_counts().reset_index())\n",
    "area1['index'] = area1['index'].astype('int')\n",
    "area1.sort_values(by='index')"
   ]
  },
  {
   "cell_type": "markdown",
   "metadata": {},
   "source": [
    "the probability of getting one of the outcomes is 1/12"
   ]
  },
  {
   "cell_type": "markdown",
   "metadata": {},
   "source": [
    "#### Train the model and make predictions for the validation set"
   ]
  },
  {
   "cell_type": "code",
   "execution_count": 6,
   "metadata": {},
   "outputs": [
    {
     "data": {
      "text/plain": [
       "LinearRegression(copy_X=True, fit_intercept=True, n_jobs=None, normalize=False)"
      ]
     },
     "execution_count": 6,
     "metadata": {},
     "output_type": "execute_result"
    }
   ],
   "source": [
    "model0 = LinearRegression()\n",
    "model0.fit(features_train0, target_train0)\n",
    "\n",
    "model1 = LinearRegression()\n",
    "model1.fit(features_train1, target_train1)\n",
    "\n",
    "model2 = LinearRegression()\n",
    "model2.fit(features_train2, target_train2)"
   ]
  },
  {
   "cell_type": "markdown",
   "metadata": {},
   "source": [
    "#### Save the predictions and correct answers for the validation set"
   ]
  },
  {
   "cell_type": "code",
   "execution_count": 7,
   "metadata": {},
   "outputs": [],
   "source": [
    "predicted_valid0 = model0.predict(features_valid0)\n",
    "predicted_valid1 = model1.predict(features_valid1)\n",
    "predicted_valid2 = model2.predict(features_valid2)\n",
    "\n",
    "mse0 = mean_squared_error(target_valid0, predicted_valid0)\n",
    "mse1 = mean_squared_error(target_valid1, predicted_valid1)\n",
    "mse2 = mean_squared_error(target_valid2, predicted_valid2)"
   ]
  },
  {
   "cell_type": "markdown",
   "metadata": {},
   "source": [
    "#### Print the average volume of predicted reserves and model RMSE."
   ]
  },
  {
   "cell_type": "code",
   "execution_count": 8,
   "metadata": {},
   "outputs": [
    {
     "name": "stdout",
     "output_type": "stream",
     "text": [
      "data     | RMSE  | Avg\n",
      "region 0 | 37.85 | 92.47\n",
      "region 1 | 0.89  | 69.1\n",
      "region 2 | 40.12 | 94.99\n"
     ]
    }
   ],
   "source": [
    "print('data', '    |', \"RMSE\", ' |', 'Avg')\n",
    "print('region 0', '|', round(mse0 ** 0.5, 2), '|', round(predicted_valid0.mean(),2))\n",
    "print('region 1', '|', round(mse1 ** 0.5, 2), ' |', round(predicted_valid1.mean(),2))\n",
    "print('region 2', '|', round(mse2 ** 0.5, 2), '|', round(predicted_valid2.mean(),2))"
   ]
  },
  {
   "cell_type": "markdown",
   "metadata": {},
   "source": [
    "All three regions have adequate deviations from the mean"
   ]
  },
  {
   "cell_type": "markdown",
   "metadata": {},
   "source": [
    "### 3. Prepare for profit calculation:"
   ]
  },
  {
   "cell_type": "markdown",
   "metadata": {},
   "source": [
    "#### Calculate the volume of reserves sufficient for developing a new well without losses."
   ]
  },
  {
   "cell_type": "code",
   "execution_count": 9,
   "metadata": {},
   "outputs": [
    {
     "data": {
      "text/plain": [
       "111.11111111111111"
      ]
     },
     "execution_count": 9,
     "metadata": {},
     "output_type": "execute_result"
    }
   ],
   "source": [
    "costs = 100000000 / 200\n",
    "reserves_without_lossesgross = costs / 4500\n",
    "reserves_without_lossesgross"
   ]
  },
  {
   "cell_type": "markdown",
   "metadata": {},
   "source": [
    "for the well to pay off, it needs to bring at least 111 units of product"
   ]
  },
  {
   "cell_type": "markdown",
   "metadata": {},
   "source": [
    "#### Compare the obtained value with the average volume of reserves in each region."
   ]
  },
  {
   "cell_type": "code",
   "execution_count": 10,
   "metadata": {},
   "outputs": [
    {
     "name": "stdout",
     "output_type": "stream",
     "text": [
      "Are there enough avg reserves for region 0? - False\n",
      "Are there enough avg reserves for region 1? - False\n",
      "Are there enough avg reserves for region 2? - False\n"
     ]
    }
   ],
   "source": [
    "print(\"Are there enough avg reserves for region 0? -\", data0['product'].mean() > reserves_without_lossesgross)\n",
    "print(\"Are there enough avg reserves for region 1? -\", data1['product'].mean() > reserves_without_lossesgross)\n",
    "print(\"Are there enough avg reserves for region 2? -\", data2['product'].mean() > reserves_without_lossesgross)"
   ]
  },
  {
   "cell_type": "markdown",
   "metadata": {},
   "source": [
    "#### Provide the findings about the preparation for profit calculation step."
   ]
  },
  {
   "cell_type": "markdown",
   "metadata": {},
   "source": [
    "Average production volumes for the region show that production is unprofitable."
   ]
  },
  {
   "cell_type": "markdown",
   "metadata": {},
   "source": [
    "### 4. Write a function to calculate profit from a set of selected oil wells and model predictions:"
   ]
  },
  {
   "cell_type": "markdown",
   "metadata": {},
   "source": [
    "#### Pick the wells with the highest values of predictions."
   ]
  },
  {
   "cell_type": "code",
   "execution_count": 11,
   "metadata": {},
   "outputs": [],
   "source": [
    "predicted_valid0 = model0.predict(features_valid0)\n",
    "valid_tar_pred0 = pd.DataFrame(target_valid0)\n",
    "valid_tar_pred0['predicted_valid'] = predicted_valid0\n",
    "wells0_200 = valid_tar_pred0.sort_values('predicted_valid', ascending=False).head(200)\n",
    "\n",
    "\n",
    "predicted_valid1 = model1.predict(features_valid1)\n",
    "valid_tar_pred1 = pd.DataFrame(target_valid1)\n",
    "valid_tar_pred1['predicted_valid'] = predicted_valid1\n",
    "wells1_200 = valid_tar_pred1.sort_values('predicted_valid', ascending=False).head(200)\n",
    "\n",
    "\n",
    "predicted_valid2 = model2.predict(features_valid2)\n",
    "valid_tar_pred2 = pd.DataFrame(target_valid2)\n",
    "valid_tar_pred2['predicted_valid'] = predicted_valid2\n",
    "wells2_200 = valid_tar_pred2.sort_values('predicted_valid', ascending=False).head(200)\n"
   ]
  },
  {
   "cell_type": "markdown",
   "metadata": {},
   "source": [
    "#### Summarize the target volume of reserves in accordance with these predictions"
   ]
  },
  {
   "cell_type": "code",
   "execution_count": 12,
   "metadata": {},
   "outputs": [
    {
     "name": "stdout",
     "output_type": "stream",
     "text": [
      "29576.60255428084\n",
      "27589.081548181137\n",
      "28636.032804001523\n"
     ]
    }
   ],
   "source": [
    "print(wells0_200['product'].sum())\n",
    "print(wells1_200['product'].sum())\n",
    "print(wells2_200['product'].sum())"
   ]
  },
  {
   "cell_type": "markdown",
   "metadata": {},
   "source": [
    "#### Provide findings: suggest a region for oil wells' development and justify the choice. Calculate the profit for the obtained volume of reserves."
   ]
  },
  {
   "cell_type": "code",
   "execution_count": 13,
   "metadata": {},
   "outputs": [
    {
     "name": "stdout",
     "output_type": "stream",
     "text": [
      "profit from region 0: 33094711.49426377\n",
      "profit from region 1: 24150866.966815114\n",
      "profit from region 2: 28862147.618006855\n"
     ]
    }
   ],
   "source": [
    "def region_profit(costs, prod_revenue, predicted_valid, target_valid):\n",
    "    \n",
    "    valid_tar_pred = pd.DataFrame(target_valid)\n",
    "    valid_tar_pred['predicted_valid'] = predicted_valid\n",
    "    wells_200 = valid_tar_pred.sort_values('predicted_valid', ascending=False).head(200)\n",
    "    \n",
    "    revenue = prod_revenue * wells_200['product'].sum()\n",
    "    return revenue - costs\n",
    "\n",
    "print('profit from region 0:', region_profit(100000000, 4500, predicted_valid0, target_valid0))\n",
    "print('profit from region 1:', region_profit(100000000, 4500, predicted_valid1, target_valid1))\n",
    "print('profit from region 2:', region_profit(100000000, 4500, predicted_valid2, target_valid2))\n"
   ]
  },
  {
   "cell_type": "markdown",
   "metadata": {},
   "source": [
    "\"Region 0\" is the most interesting in terms of profit."
   ]
  },
  {
   "cell_type": "markdown",
   "metadata": {},
   "source": [
    "### 5. Calculate risks and profit for each region:"
   ]
  },
  {
   "cell_type": "markdown",
   "metadata": {},
   "source": [
    "#### Use the bootstrapping technique with 1000 samples to find the distribution of profit."
   ]
  },
  {
   "cell_type": "code",
   "execution_count": 14,
   "metadata": {},
   "outputs": [],
   "source": [
    "def region_profit(costs, prod_revenue, predicted_valid, target_valid):\n",
    "\n",
    "    valid_tar_pred = pd.DataFrame(target_valid)\n",
    "    valid_tar_pred['predicted_valid'] = predicted_valid\n",
    "    \n",
    "    subsample = valid_tar_pred.sample(500, replace=True)\n",
    "    \n",
    "    wells_200 = subsample.sort_values('predicted_valid', ascending=False).head(200)\n",
    "\n",
    "    revenue = prod_revenue * wells_200['product'].sum()\n",
    "    return revenue - costs"
   ]
  },
  {
   "cell_type": "code",
   "execution_count": 15,
   "metadata": {
    "scrolled": true
   },
   "outputs": [],
   "source": [
    "profit_distr0 = []\n",
    "profit_distr1 = []\n",
    "profit_distr2 = []\n",
    "\n",
    "bootstrap_samples = 1000\n",
    "\n",
    "for i in range(bootstrap_samples):\n",
    "    profit_distr0.append(region_profit(100000000, 4500, predicted_valid0, target_valid0))\n",
    "    \n",
    "for i in range(bootstrap_samples):\n",
    "    profit_distr1.append(region_profit(100000000, 4500, predicted_valid1, target_valid1))\n",
    "\n",
    "for i in range(bootstrap_samples):\n",
    "    profit_distr2.append(region_profit(100000000, 4500, predicted_valid2, target_valid2))"
   ]
  },
  {
   "cell_type": "code",
   "execution_count": 16,
   "metadata": {},
   "outputs": [
    {
     "data": {
      "text/plain": [
       "(array([  5.,  29.,  89., 162., 208., 227., 166.,  82.,  27.,   5.]),\n",
       " array([-1372834.56616716,  -143579.2636295 ,  1085676.03890816,\n",
       "         2314931.34144582,  3544186.64398349,  4773441.94652115,\n",
       "         6002697.24905881,  7231952.55159647,  8461207.85413413,\n",
       "         9690463.15667179, 10919718.45920946]),\n",
       " <a list of 10 Patch objects>)"
      ]
     },
     "execution_count": 16,
     "metadata": {},
     "output_type": "execute_result"
    },
    {
     "data": {
      "image/png": "[encoded data removed]",
      "text/plain": [
       "<Figure size 432x288 with 1 Axes>"
      ]
     },
     "metadata": {},
     "output_type": "display_data"
    }
   ],
   "source": [
    "colors = ['red']    \n",
    "plt.hist(profit_distr0, color=colors, alpha=.7)\n",
    "\n",
    "colors = ['blue'] \n",
    "plt.hist(profit_distr2, color=colors, alpha=.7)\n",
    "\n",
    "colors = ['green']    \n",
    "plt.hist(profit_distr1, color=colors, alpha=.7)"
   ]
  },
  {
   "cell_type": "markdown",
   "metadata": {},
   "source": [
    "#### Find average profit, 95% confidence interval and risk of losses. Loss is negative profit, calculate it as a probability and then express as a percentage."
   ]
  },
  {
   "cell_type": "code",
   "execution_count": 17,
   "metadata": {},
   "outputs": [
    {
     "name": "stdout",
     "output_type": "stream",
     "text": [
      "   interval      profit0      profit1      profit2\n",
      "0     0.025  -951365.311   774723.523  -969636.328\n",
      "1     0.500  4428457.465  4798632.879  4170349.315\n",
      "2     0.975  9145907.896  8564848.326  8819579.309\n"
     ]
    }
   ],
   "source": [
    "values = pd.DataFrame()\n",
    "\n",
    "df_profit_distr0 = pd.DataFrame(profit_distr0)\n",
    "df_profit_distr1 = pd.DataFrame(profit_distr1)\n",
    "df_profit_distr2 = pd.DataFrame(profit_distr2)\n",
    "\n",
    "values = df_profit_distr0.quantile([.025, .5, .975]).reset_index()\n",
    "values['profit1'] = df_profit_distr1.quantile([.025, .5, .975]).reset_index()[0]\n",
    "values['profit2'] = df_profit_distr2.quantile([.025, .5, .975]).reset_index()[0]\n",
    "\n",
    "values.columns = ['interval', 'profit0', 'profit1', 'profit2']\n",
    "\n",
    "print(values.round(3))"
   ]
  },
  {
   "cell_type": "markdown",
   "metadata": {},
   "source": [
    "I use a quantile and not a confidence interval, since my sample has already been formed after the bootstrap"
   ]
  },
  {
   "cell_type": "code",
   "execution_count": 18,
   "metadata": {},
   "outputs": [
    {
     "name": "stdout",
     "output_type": "stream",
     "text": [
      "probability of loss for region 0: [0.0531403]\n",
      "probability of loss for region 1: [0.00949946]\n",
      "probability of loss for region 2: [0.05693877]\n"
     ]
    }
   ],
   "source": [
    "threshold = 0\n",
    "\n",
    "mu0 = df_profit_distr0.mean()\n",
    "sigma0 = df_profit_distr0.std()\n",
    "distr0 = st.norm(mu0, sigma0)\n",
    "\n",
    "mu1 = df_profit_distr1.mean()\n",
    "sigma1 = df_profit_distr1.std()\n",
    "distr1 = st.norm(mu1, sigma1)\n",
    "\n",
    "mu2 = df_profit_distr2.mean()\n",
    "sigma2 = df_profit_distr2.std()\n",
    "distr2 = st.norm(mu2, sigma2)\n",
    "\n",
    "print('probability of loss for region 0:', distr0.cdf(threshold))\n",
    "print('probability of loss for region 1:', distr1.cdf(threshold))\n",
    "print('probability of loss for region 2:', distr2.cdf(threshold))"
   ]
  },
  {
   "cell_type": "markdown",
   "metadata": {},
   "source": [
    "#### Provide findings: suggest a region for development of oil wells and justify the choice."
   ]
  },
  {
   "cell_type": "markdown",
   "metadata": {},
   "source": [
    "All three regions are suitable for development. Of the three, Region 1 looks the most interesting. Region 1 could bring the most profit with hight probability and its development carries the least risks. Region 2 follows Region 1. Region 1 data is not normally distributed."
   ]
  }
 ],
 "metadata": {
  "kernelspec": {
   "display_name": "Python 3",
   "language": "python",
   "name": "python3"
  },
  "language_info": {
   "codemirror_mode": {
    "name": "ipython",
    "version": 3
   },
   "file_extension": ".py",
   "mimetype": "text/x-python",
   "name": "python",
   "nbconvert_exporter": "python",
   "pygments_lexer": "ipython3",
   "version": "3.7.6"
  }
 },
 "nbformat": 4,
 "nbformat_minor": 4
}
