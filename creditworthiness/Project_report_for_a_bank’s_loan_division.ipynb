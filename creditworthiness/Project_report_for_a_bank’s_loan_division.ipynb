{
 "cells": [
  {
   "cell_type": "markdown",
   "metadata": {},
   "source": [
    "## Analyzing borrowers’ risk of defaulting\n",
    "\n",
    "My project is to prepare a report for a bank’s loan division. I’ll need to find out if a customer’s statuses has an impact on whether they will default on a loan. I will use bank data on customers’ creditworthiness.\n",
    ]
  },
  {
   "cell_type": "markdown",
   "metadata": {},
   "source": [
    "### Step 1. Open the data file and have a look at the general information. "
   ]
  },
  {
   "cell_type": "code",
   "execution_count": 1,
   "metadata": {
    "scrolled": false
   },
   "outputs": [],
   "source": [
    "import pandas as pd\n",
    "from matplotlib import pyplot as plt\n",
    "#import matplotlib as mpl\n",
    "import nltk\n",
    "from nltk.stem import SnowballStemmer\n",
    "from nltk.stem import WordNetLemmatizer\n",
    "from scipy import stats"
   ]
  },
  {
   "cell_type": "code",
   "execution_count": 2,
   "metadata": {},
   "outputs": [
    {
     "name": "stdout",
     "output_type": "stream",
     "text": [
      "<class 'pandas.core.frame.DataFrame'>\n",
      "RangeIndex: 21525 entries, 0 to 21524\n",
      "Data columns (total 12 columns):\n",
      "children            21525 non-null int64\n",
      "days_employed       19351 non-null float64\n",
      "dob_years           21525 non-null int64\n",
      "education           21525 non-null object\n",
      "education_id        21525 non-null int64\n",
      "family_status       21525 non-null object\n",
      "family_status_id    21525 non-null int64\n",
      "gender              21525 non-null object\n",
      "income_type         21525 non-null object\n",
      "debt                21525 non-null int64\n",
      "total_income        19351 non-null float64\n",
      "purpose             21525 non-null object\n",
      "dtypes: float64(2), int64(5), object(5)\n",
      "memory usage: 2.0+ MB\n",
      "None\n",
      "\n"
     ]
    }
   ],
   "source": [
    "data = pd.read_csv('credit_scoring_eng.csv')\n",
    "\n",
    "#general information of the data\n",
    "print(data.info())\n",
    "print()"
   ]
  },
  {
   "cell_type": "code",
   "execution_count": 3,
   "metadata": {},
   "outputs": [
    {
     "data": {
      "text/html": [
       "<div>\n",
       "<style scoped>\n",
       "    .dataframe tbody tr th:only-of-type {\n",
       "        vertical-align: middle;\n",
       "    }\n",
       "\n",
       "    .dataframe tbody tr th {\n",
       "        vertical-align: top;\n",
       "    }\n",
       "\n",
       "    .dataframe thead th {\n",
       "        text-align: right;\n",
       "    }\n",
       "</style>\n",
       "<table border=\"1\" class=\"dataframe\">\n",
       "  <thead>\n",
       "    <tr style=\"text-align: right;\">\n",
       "      <th></th>\n",
       "      <th>children</th>\n",
       "      <th>days_employed</th>\n",
       "      <th>dob_years</th>\n",
       "      <th>education</th>\n",
       "      <th>education_id</th>\n",
       "      <th>family_status</th>\n",
       "      <th>family_status_id</th>\n",
       "      <th>gender</th>\n",
       "      <th>income_type</th>\n",
       "      <th>debt</th>\n",
       "      <th>total_income</th>\n",
       "      <th>purpose</th>\n",
       "    </tr>\n",
       "  </thead>\n",
       "  <tbody>\n",
       "    <tr>\n",
       "      <th>0</th>\n",
       "      <td>1</td>\n",
       "      <td>-8437.673028</td>\n",
       "      <td>42</td>\n",
       "      <td>bachelor's degree</td>\n",
       "      <td>0</td>\n",
       "      <td>married</td>\n",
       "      <td>0</td>\n",
       "      <td>F</td>\n",
       "      <td>employee</td>\n",
       "      <td>0</td>\n",
       "      <td>40620.102</td>\n",
       "      <td>purchase of the house</td>\n",
       "    </tr>\n",
       "    <tr>\n",
       "      <th>1</th>\n",
       "      <td>1</td>\n",
       "      <td>-4024.803754</td>\n",
       "      <td>36</td>\n",
       "      <td>secondary education</td>\n",
       "      <td>1</td>\n",
       "      <td>married</td>\n",
       "      <td>0</td>\n",
       "      <td>F</td>\n",
       "      <td>employee</td>\n",
       "      <td>0</td>\n",
       "      <td>17932.802</td>\n",
       "      <td>car purchase</td>\n",
       "    </tr>\n",
       "    <tr>\n",
       "      <th>2</th>\n",
       "      <td>0</td>\n",
       "      <td>-5623.422610</td>\n",
       "      <td>33</td>\n",
       "      <td>Secondary Education</td>\n",
       "      <td>1</td>\n",
       "      <td>married</td>\n",
       "      <td>0</td>\n",
       "      <td>M</td>\n",
       "      <td>employee</td>\n",
       "      <td>0</td>\n",
       "      <td>23341.752</td>\n",
       "      <td>purchase of the house</td>\n",
       "    </tr>\n",
       "    <tr>\n",
       "      <th>3</th>\n",
       "      <td>3</td>\n",
       "      <td>-4124.747207</td>\n",
       "      <td>32</td>\n",
       "      <td>secondary education</td>\n",
       "      <td>1</td>\n",
       "      <td>married</td>\n",
       "      <td>0</td>\n",
       "      <td>M</td>\n",
       "      <td>employee</td>\n",
       "      <td>0</td>\n",
       "      <td>42820.568</td>\n",
       "      <td>supplementary education</td>\n",
       "    </tr>\n",
       "    <tr>\n",
       "      <th>4</th>\n",
       "      <td>0</td>\n",
       "      <td>340266.072047</td>\n",
       "      <td>53</td>\n",
       "      <td>secondary education</td>\n",
       "      <td>1</td>\n",
       "      <td>civil partnership</td>\n",
       "      <td>1</td>\n",
       "      <td>F</td>\n",
       "      <td>retiree</td>\n",
       "      <td>0</td>\n",
       "      <td>25378.572</td>\n",
       "      <td>to have a wedding</td>\n",
       "    </tr>\n",
       "    <tr>\n",
       "      <th>5</th>\n",
       "      <td>0</td>\n",
       "      <td>-926.185831</td>\n",
       "      <td>27</td>\n",
       "      <td>bachelor's degree</td>\n",
       "      <td>0</td>\n",
       "      <td>civil partnership</td>\n",
       "      <td>1</td>\n",
       "      <td>M</td>\n",
       "      <td>business</td>\n",
       "      <td>0</td>\n",
       "      <td>40922.170</td>\n",
       "      <td>purchase of the house</td>\n",
       "    </tr>\n",
       "    <tr>\n",
       "      <th>6</th>\n",
       "      <td>0</td>\n",
       "      <td>-2879.202052</td>\n",
       "      <td>43</td>\n",
       "      <td>bachelor's degree</td>\n",
       "      <td>0</td>\n",
       "      <td>married</td>\n",
       "      <td>0</td>\n",
       "      <td>F</td>\n",
       "      <td>business</td>\n",
       "      <td>0</td>\n",
       "      <td>38484.156</td>\n",
       "      <td>housing transactions</td>\n",
       "    </tr>\n",
       "    <tr>\n",
       "      <th>7</th>\n",
       "      <td>0</td>\n",
       "      <td>-152.779569</td>\n",
       "      <td>50</td>\n",
       "      <td>SECONDARY EDUCATION</td>\n",
       "      <td>1</td>\n",
       "      <td>married</td>\n",
       "      <td>0</td>\n",
       "      <td>M</td>\n",
       "      <td>employee</td>\n",
       "      <td>0</td>\n",
       "      <td>21731.829</td>\n",
       "      <td>education</td>\n",
       "    </tr>\n",
       "    <tr>\n",
       "      <th>8</th>\n",
       "      <td>2</td>\n",
       "      <td>-6929.865299</td>\n",
       "      <td>35</td>\n",
       "      <td>BACHELOR'S DEGREE</td>\n",
       "      <td>0</td>\n",
       "      <td>civil partnership</td>\n",
       "      <td>1</td>\n",
       "      <td>F</td>\n",
       "      <td>employee</td>\n",
       "      <td>0</td>\n",
       "      <td>15337.093</td>\n",
       "      <td>having a wedding</td>\n",
       "    </tr>\n",
       "    <tr>\n",
       "      <th>9</th>\n",
       "      <td>0</td>\n",
       "      <td>-2188.756445</td>\n",
       "      <td>41</td>\n",
       "      <td>secondary education</td>\n",
       "      <td>1</td>\n",
       "      <td>married</td>\n",
       "      <td>0</td>\n",
       "      <td>M</td>\n",
       "      <td>employee</td>\n",
       "      <td>0</td>\n",
       "      <td>23108.150</td>\n",
       "      <td>purchase of the house for my family</td>\n",
       "    </tr>\n",
       "  </tbody>\n",
       "</table>\n",
       "</div>"
      ],
      "text/plain": [
       "   children  days_employed  dob_years            education  education_id  \\\n",
       "0         1   -8437.673028         42    bachelor's degree             0   \n",
       "1         1   -4024.803754         36  secondary education             1   \n",
       "2         0   -5623.422610         33  Secondary Education             1   \n",
       "3         3   -4124.747207         32  secondary education             1   \n",
       "4         0  340266.072047         53  secondary education             1   \n",
       "5         0    -926.185831         27    bachelor's degree             0   \n",
       "6         0   -2879.202052         43    bachelor's degree             0   \n",
       "7         0    -152.779569         50  SECONDARY EDUCATION             1   \n",
       "8         2   -6929.865299         35    BACHELOR'S DEGREE             0   \n",
       "9         0   -2188.756445         41  secondary education             1   \n",
       "\n",
       "       family_status  family_status_id gender income_type  debt  total_income  \\\n",
       "0            married                 0      F    employee     0     40620.102   \n",
       "1            married                 0      F    employee     0     17932.802   \n",
       "2            married                 0      M    employee     0     23341.752   \n",
       "3            married                 0      M    employee     0     42820.568   \n",
       "4  civil partnership                 1      F     retiree     0     25378.572   \n",
       "5  civil partnership                 1      M    business     0     40922.170   \n",
       "6            married                 0      F    business     0     38484.156   \n",
       "7            married                 0      M    employee     0     21731.829   \n",
       "8  civil partnership                 1      F    employee     0     15337.093   \n",
       "9            married                 0      M    employee     0     23108.150   \n",
       "\n",
       "                               purpose  \n",
       "0                purchase of the house  \n",
       "1                         car purchase  \n",
       "2                purchase of the house  \n",
       "3              supplementary education  \n",
       "4                    to have a wedding  \n",
       "5                purchase of the house  \n",
       "6                 housing transactions  \n",
       "7                            education  \n",
       "8                     having a wedding  \n",
       "9  purchase of the house for my family  "
      ]
     },
     "execution_count": 3,
     "metadata": {},
     "output_type": "execute_result"
    }
   ],
   "source": [
    "#visual checking last or first values of the data\n",
    "data.head(10)"
   ]
  },
  {
   "cell_type": "markdown",
   "metadata": {},
   "source": [
    "In the interest of analyzing data for errors I decide to separate variable into two groups: categorical and numerical\n",
    "categorical data - Descriptive data containing a small number of values inside - from 2 to 20 approximately values.\n",
    "numerical - Quantitative characteristics of the client, for the analysis of which average measures are used"
   ]
  },
  {
   "cell_type": "code",
   "execution_count": 4,
   "metadata": {},
   "outputs": [
    {
     "name": "stdout",
     "output_type": "stream",
     "text": [
      "Numerical variables:\n",
      "\n",
      "NA`s in variables:\n",
      "total_income     21525\n",
      "days_employed    21525\n",
      "dtype: int64\n",
      "\n",
      "- Percent of the garbage data in problem variable 'days_emplyed': 82.20%\n",
      "- There are 101 zero-age clients, and 0 less-than-zero-age in \"dob_years\" variable\n",
      "- There are 19351 observations in total (it`s less than observations in the entire data becouse of NA`s), 0 - zero-income clients, and 0 less-than-zero-income in \"total_income\" variable (looks fine)\n",
      "\n"
     ]
    }
   ],
   "source": [
    "#lets check numerical variables\n",
    "print(\"Numerical variables:\")\n",
    "print()\n",
    "\n",
    "#let's look of NAns present in var's where observations are less than in other variables\n",
    "print('NA`s in variables:')\n",
    "print(data[['total_income', 'days_employed']].isna().count())\n",
    "print()\n",
    "\n",
    "#obviouse problem was mentioned in variable 'days_employed'\n",
    "#find the percent of the garbage data in problem variable 'days_emplyed'\n",
    "print(\"- Percent of the garbage data in problem variable 'days_emplyed': {:.2%}\".format(\n",
    "    data['days_employed'][data['days_employed'] < 0].count() / data['days_employed'].count()))\n",
    "\n",
    "#conseder other numeric vars \"dob_years\"\n",
    "#let's see how many customers of different ages\n",
    "#print(data['dob_years'].value_counts().sort_values(ascending=False))\n",
    "#investigation shown that we have zero-age clients. This is an error. Lets count how much of them. \n",
    "print('- There are {} zero-age clients, and {} less-than-zero-age in \"dob_years\" variable'.format(\n",
    "    data['dob_years'][data['dob_years'] == 0].count(), \n",
    "    data['dob_years'][data['dob_years'] < 0].count()))\n",
    "\n",
    "#conseder other numeric vars \"total_income\"\n",
    "print('- There are {} observations in total (it`s less than observations in the entire data becouse of NA`s), {} - zero-income clients, and {} less-than-zero-income in \"total_income\" variable (looks fine)'.format(\n",
    "    data['total_income'].count(),\n",
    "    data['total_income'][data['total_income'] == 0].count(),\n",
    "    data['total_income'][data['total_income'] < 0].count()))\n",
    "print()\n",
    "#data in 'total_income' var looks fine"
   ]
  },
  {
   "cell_type": "code",
   "execution_count": 5,
   "metadata": {},
   "outputs": [
    {
     "name": "stdout",
     "output_type": "stream",
     "text": [
      "Categorical variables:\n",
      "\n",
      "- There are 21525 observations in total, 76 - 20 childrens, and 47 -1 in \"children\" variable\n",
      "\n"
     ]
    }
   ],
   "source": [
    "#consider categorical variables separately\n",
    "print(\"Categorical variables:\")\n",
    "print()\n",
    "\n",
    "#print(data['children'].value_counts())\n",
    "print('- There are {} observations in total, {} - 20 childrens, and {} -1 in \"children\" variable'.format(\n",
    "    data['children'].count(),\n",
    "    data['children'][data['children'] == 20].count(),\n",
    "    data['children'][data['children'] < 0].count()))\n",
    "print()\n",
    "\n",
    "#print(data['education'].value_counts())\n",
    "#print()\n",
    "#seen case-sensitively duplicates \n",
    "\n",
    "#print(data['family_status'].value_counts())\n",
    "#print()\n",
    "#everything fine with this data \n",
    "\n",
    "#print(data['gender'].value_counts())\n",
    "#print()\n",
    "#seen statistically insignificant category \"XNA\" with one observation\n",
    "\n",
    "#print(data['income_type'].value_counts())\n",
    "#print()\n",
    "#seen statistically insignificant 3 category \"unemployed\", \"student\" and \"paternity / maternity leave\" with less than two observation\n",
    "#observation \"entrepreneur\" could be include to the \"business\" category\n",
    "\n",
    "#print(data['debt'].value_counts())\n",
    "#print()\n",
    "#everything fine with this data \n",
    "\n",
    "#print(data['purpose'].value_counts())\n",
    "#print()\n",
    "#Seen a lot of different purposes. Looks like it needs unification in large groups."
   ]
  },
  {
   "cell_type": "markdown",
   "metadata": {},
   "source": [
    "### Conclusion"
   ]
  },
  {
   "cell_type": "markdown",
   "metadata": {},
   "source": [
    "It seen that we have data about 21525 people. Data containces int, float and object tipes of the 12 variables. Column 'total_income' as 'days_employed' doesn't equal to the number of observation of the other variables in the data - 19351 vs 21525. Also data errors detected by visual evaluation in column 'days_employed'. Maybe data contains more errors like this. It would be seen after investigation in the next steps.\n",
    "\n",
    "After a deeper study of the variables individually, a number of errors were identified. \n",
    "\n",
    "**Missing values**\n",
    "Were identify 101 zero-age clients, and 0 less-than-zero-age in \"dob_years\" variable. \"total_income\" and \"days_emplyed\" variables has less observations that in the data 19351 vs 21525 becouse of NA's. \n",
    "\n",
    "**Data type replacement**\n",
    "The days_employed variable in type 'float' must be replaced with type '.int' because day is an integer. \n",
    "\n",
    "**Processing duplicates**\n",
    "In 'education' variable seen case-sensitively duplicates. Also in \"children\" variable discovered 76 observetion with 20 children and 47 with -1 children. It's abnormal values. It doesn't impossible that some of the clients has 20 children, but if that were true we would see some kind of normal distribution. But it isn't observed. Instead we see huge leap from 5 to 20 children. Highly possible that in clients have 2 children instead 20, and 1 instead -1. Additional symbols is the reason of the human factor. The variable 'days_emplyed' consist 82.2% nagative values. Negative values needs deeper investigation.\n",
    "\n",
    "**Categorizing Data**\n",
    "Investigation of 'gender' variable shown statistically insignificant category \"XNA\" with one observation. Also in 'income_type' var seen tree statistically insignificant categories \"unemployed\", \"student\" and \"paternity / maternity leave\" with less than two observations. Observation \"entrepreneur\" could be include to the \"business\" category. Insignificant categories could be reduce. In the last variable 'purpose' was seen a lot of different options of purposes. It seems that they need to be unify in larger groups. A lot of nagative values, in the variable 'days_emplyed', it mean that this variable couldn't be used for analises in this form. Maybe it make sense to divide them into two groups. And finally variables such as 'days_emplyed' and 'total_income' could by unified to more general groups too."
   ]
  },
  {
   "cell_type": "markdown",
   "metadata": {},
   "source": [
    "### Step 2. Data preprocessing"
   ]
  },
  {
   "cell_type": "markdown",
   "metadata": {},
   "source": [
    "### Processing missing values"
   ]
  },
  {
   "cell_type": "code",
   "execution_count": 6,
   "metadata": {},
   "outputs": [],
   "source": [
    "#delete NA\n",
    "data = data.fillna(value=0)"
   ]
  },
  {
   "cell_type": "markdown",
   "metadata": {},
   "source": [
    "### Conclusion"
   ]
  },
  {
   "cell_type": "markdown",
   "metadata": {},
   "source": [
    "Searching for the mistakes in the data, in general, I found of that two variable has less observations than others. I made an assumption that one’s has NA's. In the credit banking segment income and work experience factors has a critical meaning, so the present of NA's could relate to some personal reasons of the clients. Maybe they said unreliable info and then this info were delete from the base. I decided to replace NA with zero, because it provides an opportunity for the further stay analisis and making a segmentation. Filtering zeros is not a problem."
   ]
  },
  {
   "cell_type": "markdown",
   "metadata": {},
   "source": [
    "### Data type replacement"
   ]
  },
  {
   "cell_type": "markdown",
   "metadata": {},
   "source": [
    "#### 'days_employed'"
   ]
  },
  {
   "cell_type": "code",
   "execution_count": 7,
   "metadata": {},
   "outputs": [
    {
     "name": "stdout",
     "output_type": "stream",
     "text": [
      "<class 'pandas.core.frame.DataFrame'>\n",
      "RangeIndex: 21525 entries, 0 to 21524\n",
      "Data columns (total 12 columns):\n",
      "children            21525 non-null int64\n",
      "days_employed       21525 non-null int32\n",
      "dob_years           21525 non-null int64\n",
      "education           21525 non-null object\n",
      "education_id        21525 non-null int64\n",
      "family_status       21525 non-null object\n",
      "family_status_id    21525 non-null int64\n",
      "gender              21525 non-null object\n",
      "income_type         21525 non-null object\n",
      "debt                21525 non-null int64\n",
      "total_income        21525 non-null float64\n",
      "purpose             21525 non-null object\n",
      "dtypes: float64(1), int32(1), int64(5), object(5)\n",
      "memory usage: 1.9+ MB\n",
      "None\n"
     ]
    }
   ],
   "source": [
    "#convert to int\n",
    "data['days_employed'] = data['days_employed'].astype('int')\n",
    "print(data.info())"
   ]
  },
  {
   "cell_type": "markdown",
   "metadata": {},
   "source": [
    "### Conclusion"
   ]
  },
  {
   "cell_type": "markdown",
   "metadata": {},
   "source": [
    "The days_employed variable in type 'float' must be replaced with type '.int' because day is an integer.\n",
    "I used `.astype('int')` because it works for this data.\n"
   ]
  },
  {
   "cell_type": "markdown",
   "metadata": {},
   "source": [
    "### Processing duplicates"
   ]
  },
  {
   "cell_type": "markdown",
   "metadata": {},
   "source": [
    "#### 'children'"
   ]
  },
  {
   "cell_type": "code",
   "execution_count": 8,
   "metadata": {
    "scrolled": true
   },
   "outputs": [
    {
     "name": "stdout",
     "output_type": "stream",
     "text": [
      "5        9\n",
      "4       41\n",
      "3      330\n",
      "2     2131\n",
      "1     4865\n",
      "0    14149\n",
      "Name: children, dtype: int64\n"
     ]
    }
   ],
   "source": [
    "#delete '-' and '0' from 'children' variable\n",
    "data.loc[data['children'] == 20, 'children'] = 2\n",
    "data.loc[data['children'] == -1, 'children'] = 1\n",
    "print(data['children'].value_counts().sort_values())"
   ]
  },
  {
   "cell_type": "markdown",
   "metadata": {},
   "source": [
    "#### 'days_employed'"
   ]
  },
  {
   "cell_type": "code",
   "execution_count": 9,
   "metadata": {},
   "outputs": [
    {
     "name": "stdout",
     "output_type": "stream",
     "text": [
      "\n"
     ]
    },
    {
     "data": {
      "image/png": "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\n",
      "text/plain": [
       "<Figure size 432x288 with 1 Axes>"
      ]
     },
     "metadata": {},
     "output_type": "display_data"
    }
   ],
   "source": [
    "# let's investigate 'days_employed' variable deeply. Particularly the nature of negative values.\n",
    "# Build histogram to see wich destribution observatioins has\n",
    "plt.hist(data['days_employed'], bins=50)\n",
    "plt.gca().set(title='Frequency Histogram', ylabel='Frequency');\n",
    "print()"
   ]
  },
  {
   "cell_type": "code",
   "execution_count": 10,
   "metadata": {},
   "outputs": [
    {
     "name": "stdout",
     "output_type": "stream",
     "text": [
      "\n",
      "range: min - 24.00, max - 18388.00\n"
     ]
    },
    {
     "data": {
      "image/png": "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\n",
      "text/plain": [
       "<Figure size 432x288 with 1 Axes>"
      ]
     },
     "metadata": {},
     "output_type": "display_data"
    }
   ],
   "source": [
    "#It's seen that variable consist two groups of observations\n",
    "#One group consist of 100% nembers less than zero. Values in range from 24.14 to 18388.95 days employed\n",
    "#It highly possible that minuses it's only technical error, and we can easily cut them.\n",
    "plt.hist(data['days_employed'][data['days_employed'] < 0], bins=50)\n",
    "plt.gca().set(title='Frequency Histogram', ylabel='Frequency');\n",
    "\n",
    "print()\n",
    "print('range: min - {:.2f}, max - {:.2f}'.format(\n",
    "    data['days_employed'][data['days_employed'] < 0].abs().min(),\n",
    "    data['days_employed'][data['days_employed'] < 0].abs().max()))"
   ]
  },
  {
   "cell_type": "code",
   "execution_count": 11,
   "metadata": {},
   "outputs": [
    {
     "name": "stdout",
     "output_type": "stream",
     "text": [
      "(0.9549498558044434, 2.2879530521806e-31)\n",
      "\n",
      "range: min - 328728.00, max - 401755.00\n"
     ]
    },
    {
     "data": {
      "image/png": "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\n",
      "text/plain": [
       "<Figure size 432x288 with 1 Axes>"
      ]
     },
     "metadata": {},
     "output_type": "display_data"
    }
   ],
   "source": [
    "#The second group consist values in range from from 328 728.72, to 401 755.40 days employed\n",
    "plt.hist(data['days_employed'][data['days_employed'] > 0], bins=50)\n",
    "plt.gca().set(title='Frequency Histogram', ylabel='Frequency');\n",
    "print(stats.shapiro(data['days_employed'][data['days_employed'] > 0].abs()))\n",
    "print()\n",
    "print('range: min - {:.2f}, max - {:.2f}'.format(\n",
    "    data['days_employed'][data['days_employed'] > 0].min(),\n",
    "    data['days_employed'][data['days_employed'] > 0].max()))"
   ]
  },
  {
   "cell_type": "code",
   "execution_count": 12,
   "metadata": {},
   "outputs": [
    {
     "name": "stdout",
     "output_type": "stream",
     "text": [
      "Percent of observations in groups in variable 'days_emplyed': 73.90% - <0; 10.10% - 0; 16.00% - >0\n",
      "\n"
     ]
    }
   ],
   "source": [
    "#Discovering the percent of observations in groups\n",
    "print(\"Percent of observations in groups in variable 'days_emplyed': {:.2%} - <0; {:.2%} - 0; {:.2%} - >0\".format(\n",
    "    data['days_employed'][data['days_employed'] < 0].count() / data['days_employed'].count(),\n",
    "    data['days_employed'][data['days_employed'] == 0].count() / data['days_employed'].count(),\n",
    "    data['days_employed'][data['days_employed'] > 0].count() / data['days_employed'].count()))\n",
    "print()\n",
    "\n",
    "#let's delete minus symbol as a result of a technical issue\n",
    "data['days_employed'] = data['days_employed'].abs()"
   ]
  },
  {
   "cell_type": "markdown",
   "metadata": {},
   "source": [
    "#### 'education'"
   ]
  },
  {
   "cell_type": "code",
   "execution_count": 13,
   "metadata": {},
   "outputs": [
    {
     "data": {
      "text/plain": [
       "secondary education    15233\n",
       "bachelor's degree       5260\n",
       "some college             744\n",
       "primary education        282\n",
       "graduate degree            6\n",
       "Name: education, dtype: int64"
      ]
     },
     "execution_count": 13,
     "metadata": {},
     "output_type": "execute_result"
    }
   ],
   "source": [
    "#reducing case to the low level for the all types of education\n",
    "data['education'] = data['education'].str.lower()\n",
    "data['education'].value_counts()"
   ]
  },
  {
   "cell_type": "markdown",
   "metadata": {},
   "source": [
    "### Conclusion"
   ]
  },
  {
   "cell_type": "markdown",
   "metadata": {},
   "source": [
    "To testing data for an errors or duplicates I used \".value_counts()\" method. It's good function for variables which consist not too much values. I find that 'children', 'education' and 'days_employed' data consists some mistakes. It's highly possible, that in 'children' and 'education' vars has a human factor error - cases-sensitively errors and extra symbols. \n",
    "For investigation of the negative values for 'days_employed' variable I decided to check if data in the var consistent or not. For this I built histogram, and surprisely discovered two set of data. And, expectedly, one of the sets was with negative values. It's point to the some systematically emerged error. So I decided to delete extra symbol \"-\" for all set by applying function \"abs()\". "
   ]
  },
  {
   "cell_type": "markdown",
   "metadata": {},
   "source": [
    "### Categorizing Data"
   ]
  },
  {
   "cell_type": "markdown",
   "metadata": {},
   "source": [
    "#### 'days_employed'"
   ]
  },
  {
   "cell_type": "code",
   "execution_count": 14,
   "metadata": {},
   "outputs": [
    {
     "name": "stdout",
     "output_type": "stream",
     "text": [
      "youths      15906\n",
      "veterans     3445\n",
      "NA           2174\n",
      "Name: employed_satus, dtype: int64\n"
     ]
    }
   ],
   "source": [
    "#divide the data in var 'days_employed' into three groups 'youths' 'veterans' and 'NA'\n",
    "#values for separetion:\n",
    "#print(data['days_employed'][data['days_employed'] < 0].abs().max())\n",
    "#print(data['days_employed'][data['days_employed'] > 0].abs().min())\n",
    "\n",
    "def employed_fun(day):\n",
    "    if 0 < day < 18390:\n",
    "        return 'youths'\n",
    "    if day > 328727:\n",
    "        return 'veterans'\n",
    "    if day == 0:\n",
    "        return 'NA'\n",
    "    return 'Not a number'\n",
    "    \n",
    "data['employed_satus'] = data['days_employed'].apply(employed_fun)\n",
    "print(data['employed_satus'].value_counts())"
   ]
  },
  {
   "cell_type": "markdown",
   "metadata": {},
   "source": [
    "#### 'total_income'"
   ]
  },
  {
   "cell_type": "code",
   "execution_count": 15,
   "metadata": {},
   "outputs": [
    {
     "data": {
      "image/png": "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\n",
      "text/plain": [
       "<Figure size 432x288 with 1 Axes>"
      ]
     },
     "metadata": {},
     "output_type": "display_data"
    }
   ],
   "source": [
    "#lets chek var 'total_income' of clients\n",
    "plt.hist(data['total_income'], bins=50)\n",
    "plt.gca().set(title='Frequency Histogram', ylabel='Frequency');\n",
    "#as seen destribution doesn't shown any visible groups"
   ]
  },
  {
   "cell_type": "code",
   "execution_count": 16,
   "metadata": {},
   "outputs": [
    {
     "name": "stdout",
     "output_type": "stream",
     "text": [
      "(16662.779, 33325.557]    9810\n",
      "(-49.989, 16662.779]      7134\n",
      "(33325.557, 49988.336]    3261\n",
      "Name: total_income, dtype: int64\n",
      "(49699.531, 154173.56]      1293\n",
      "(154173.56, 258335.102]       22\n",
      "(258335.102, 362496.645]       5\n",
      "Name: total_income, dtype: int64\n",
      "poor             9543\n",
      "lower_middle     9170\n",
      "middle           2318\n",
      "higher_middle     494\n",
      "Name: income_group, dtype: int64\n"
     ]
    }
   ],
   "source": [
    "#lets look how much observations in in approximate groups. I used an average salary 50k in SPb, Russia\n",
    "print(data[data['total_income'] < 50000]['total_income'].value_counts(bins=3))\n",
    "print(data[data['total_income'] > 50000]['total_income'].value_counts(bins=3))\n",
    "\n",
    "#building a function for creating a new grouping variable 'income_group'\n",
    "def income_fun(amount):\n",
    "    if amount <= 20000:\n",
    "        return \"poor\"\n",
    "    if 20000 < amount <= 40000:\n",
    "        return \"lower_middle\"\n",
    "    if 40000 < amount <= 65000:\n",
    "        return \"middle\"\n",
    "    if 65000 < amount:\n",
    "        return \"higher_middle\"\n",
    "    return \"NA\"\n",
    "\n",
    "#applying funtion to the data            \n",
    "data['income_group'] = data['total_income'].apply(income_fun)\n",
    "print(data['income_group'].value_counts())"
   ]
  },
  {
   "cell_type": "markdown",
   "metadata": {},
   "source": [
    "#### 'income_type'"
   ]
  },
  {
   "cell_type": "code",
   "execution_count": 17,
   "metadata": {},
   "outputs": [
    {
     "name": "stdout",
     "output_type": "stream",
     "text": [
      "employee         11119\n",
      "business          5087\n",
      "retiree           3856\n",
      "civil servant     1459\n",
      "Name: income_type, dtype: int64\n"
     ]
    }
   ],
   "source": [
    "#let's combine the meaning of “entrepreneur” on “business”\n",
    "data.loc[data['income_type'] == 'entrepreneur', 'income_type'] = 'business'\n",
    "#Delete insignificant \"unemployed\", \"paternity / maternity leave\" and \"student\"\n",
    "data = data.drop(data[data.income_type == \"unemployed\"].index)\n",
    "data = data.drop(data[data.income_type == \"paternity / maternity leave\"].index)\n",
    "data = data.drop(data[data.income_type == \"student\"].index)\n",
    "\n",
    "print(data['income_type'].value_counts())"
   ]
  },
  {
   "cell_type": "markdown",
   "metadata": {},
   "source": [
    "#### 'gender'"
   ]
  },
  {
   "cell_type": "code",
   "execution_count": 18,
   "metadata": {},
   "outputs": [
    {
     "data": {
      "text/plain": [
       "F    14234\n",
       "M     7286\n",
       "Name: gender, dtype: int64"
      ]
     },
     "execution_count": 18,
     "metadata": {},
     "output_type": "execute_result"
    }
   ],
   "source": [
    "data = data.drop(data[data.gender == \"XNA\"].index)\n",
    "data['gender'].value_counts()"
   ]
  },
  {
   "cell_type": "markdown",
   "metadata": {},
   "source": [
    "#### 'purpose'"
   ]
  },
  {
   "cell_type": "code",
   "execution_count": 19,
   "metadata": {},
   "outputs": [
    {
     "name": "stdout",
     "output_type": "stream",
     "text": [
      "['wedding ceremony', 'having a wedding', 'to have a wedding', 'real estate transactions', 'buy commercial real estate', 'housing transactions', 'buying property for renting out', 'transactions with commercial real estate', 'housing', 'purchase of the house', 'purchase of the house for my family', 'property', 'construction of own property', 'transactions with my real estate', 'building a real estate', 'buy real estate', 'purchase of my own house', 'building a property', 'housing renovation', 'buy residential real estate', 'buying my own car', 'going to university', 'car', 'second-hand car purchase', 'to own a car', 'buying a second-hand car', 'cars', 'to buy a car', 'car purchase', 'supplementary education', 'purchase of a car', 'university education', 'to get a supplementary education', 'education', 'getting an education', 'profile education', 'getting higher education', 'to become educated']\n",
      "\n",
      "\n",
      "[('a', 9), ('car', 9), ('educ', 8), ('real', 7), ('estat', 7), ('buy', 7), ('to', 6), ('hous', 6), ('purchas', 6), ('of', 5), ('transact', 4), ('properti', 4), ('my', 4), ('own', 4), ('wed', 3), ('get', 3), ('have', 2), ('commerci', 2), ('for', 2), ('with', 2), ('the', 2), ('build', 2), ('univers', 2), ('second-hand', 2), ('supplementari', 2), ('ceremoni', 1), ('rent', 1), ('out', 1), ('famili', 1), ('construct', 1), ('renov', 1), ('residenti', 1), ('go', 1), ('an', 1), ('profil', 1), ('higher', 1), ('becom', 1)]\n"
     ]
    }
   ],
   "source": [
    "#look to the variable 'purpse' closly and find counting by meaning values\n",
    "data['purpose'].value_counts()\n",
    "\n",
    "#As seen there are many. Let's getered output in a list for stemming\n",
    "purpose_dict = dict(data['purpose'].value_counts())\n",
    "purpose_names = []\n",
    "for name in purpose_dict:\n",
    "    purpose_names.append(name)\n",
    "\n",
    "print(purpose_names)\n",
    "print()\n",
    "print()\n",
    "\n",
    "# Creating a list of most common stems from the previously created list of proposes\n",
    "import nltk\n",
    "from nltk.stem import SnowballStemmer\n",
    "\n",
    "stemmed_word = []\n",
    "english_stemmer = SnowballStemmer('english')\n",
    "for purpose in purpose_names:\n",
    "    for word in purpose.split():\n",
    "        stemmed_word.append(english_stemmer.stem(word))\n",
    "        \n",
    "from collections import Counter\n",
    "print(Counter(stemmed_word).most_common())"
   ]
  },
  {
   "cell_type": "code",
   "execution_count": 20,
   "metadata": {},
   "outputs": [
    {
     "name": "stdout",
     "output_type": "stream",
     "text": [
      "Series([], Name: purpose, dtype: int64)\n",
      "\n",
      "real estate    6910\n",
      "car            4314\n",
      "education      4022\n",
      "commercial     3926\n",
      "wedding        2348\n",
      "Name: purpose_group, dtype: int64\n",
      "\n",
      "                                                        total_income\n",
      "purpose_group purpose                                               \n",
      "car           buying a second-hand car                           479\n",
      "              buying my own car                                  505\n",
      "              car                                                494\n",
      "              car purchase                                       462\n",
      "              cars                                               478\n",
      "              purchase of a car                                  455\n",
      "              second-hand car purchase                           489\n",
      "              to buy a car                                       472\n",
      "              to own a car                                       480\n",
      "commercial    buy commercial real estate                         664\n",
      "              buying property for renting out                    652\n",
      "              housing transactions                               653\n",
      "              real estate transactions                           676\n",
      "              transactions with commercial real estate           651\n",
      "              transactions with my real estate                   630\n",
      "education     education                                          447\n",
      "              getting an education                               443\n",
      "              getting higher education                           426\n",
      "              going to university                                496\n",
      "              profile education                                  436\n",
      "              supplementary education                            462\n",
      "              to become educated                                 412\n",
      "              to get a supplementary education                   447\n",
      "              university education                               453\n",
      "real estate   building a property                                620\n",
      "              building a real estate                             626\n",
      "              buy real estate                                    623\n",
      "              buy residential real estate                        607\n",
      "              construction of own property                       634\n",
      "              housing                                            647\n",
      "              housing renovation                                 611\n",
      "              property                                           634\n",
      "              purchase of my own house                           620\n",
      "              purchase of the house                              647\n",
      "              purchase of the house for my family                641\n",
      "wedding       having a wedding                                   777\n",
      "              to have a wedding                                  774\n",
      "              wedding ceremony                                   797\n",
      "\n"
     ]
    }
   ],
   "source": [
    "#building a function for creating a new grouping variable 'purpose_group' based on var 'purpose'\n",
    "def purpose_fun(purpose_names):\n",
    "    for word in purpose_names.split():\n",
    "        stemmed_word = english_stemmer.stem(word)\n",
    "        if stemmed_word == 'car':\n",
    "            return \"car\" \n",
    "        if stemmed_word == 'educ':\n",
    "            return \"education\"\n",
    "        if stemmed_word == 'univers':\n",
    "            return \"education\"\n",
    "        if stemmed_word == 'transact':\n",
    "            return \"commercial\"\n",
    "        if stemmed_word == 'rent':\n",
    "            return \"commercial\"\n",
    "        if stemmed_word == 'commerci':\n",
    "            return \"commercial\"\n",
    "        if stemmed_word == 'wed':\n",
    "            return \"wedding\"\n",
    "\n",
    "#applying funtion to the data            \n",
    "data['purpose_group'] = data['purpose'].apply(purpose_fun)\n",
    "data['purpose_group'] = data['purpose_group'].fillna(value='real estate')\n",
    "\n",
    "#Сheking for NA's\n",
    "print(data['purpose'][data['purpose_group'].isna()].value_counts())\n",
    "print()\n",
    "\n",
    "#looking how much observations per any variable\n",
    "print(data['purpose_group'].value_counts())\n",
    "print()\n",
    "\n",
    "#Checking the correct distribution of values into groups \n",
    "data_pivot = data.pivot_table(\n",
    "index=['purpose_group', 'purpose'],\n",
    "values='total_income', \n",
    "aggfunc='count')\n",
    "print(data_pivot)\n",
    "print()\n",
    "\n",
    "#data2.groupby('purpose_group')['purpose'].count()"
   ]
  },
  {
   "cell_type": "code",
   "execution_count": 21,
   "metadata": {},
   "outputs": [
    {
     "name": "stdout",
     "output_type": "stream",
     "text": [
      "<class 'pandas.core.frame.DataFrame'>\n",
      "Int64Index: 21520 entries, 0 to 21524\n",
      "Data columns (total 15 columns):\n",
      "children            21520 non-null int64\n",
      "days_employed       21520 non-null int32\n",
      "dob_years           21520 non-null int64\n",
      "education           21520 non-null object\n",
      "education_id        21520 non-null int64\n",
      "family_status       21520 non-null object\n",
      "family_status_id    21520 non-null int64\n",
      "gender              21520 non-null object\n",
      "income_type         21520 non-null object\n",
      "debt                21520 non-null int64\n",
      "total_income        21520 non-null float64\n",
      "purpose             21520 non-null object\n",
      "employed_satus      21520 non-null object\n",
      "income_group        21520 non-null object\n",
      "purpose_group       21520 non-null object\n",
      "dtypes: float64(1), int32(1), int64(5), object(8)\n",
      "memory usage: 2.5+ MB\n"
     ]
    },
    {
     "data": {
      "text/plain": [
       "children            0\n",
       "days_employed       0\n",
       "dob_years           0\n",
       "education           0\n",
       "education_id        0\n",
       "family_status       0\n",
       "family_status_id    0\n",
       "gender              0\n",
       "income_type         0\n",
       "debt                0\n",
       "total_income        0\n",
       "purpose             0\n",
       "employed_satus      0\n",
       "income_group        0\n",
       "purpose_group       0\n",
       "dtype: int64"
      ]
     },
     "execution_count": 21,
     "metadata": {},
     "output_type": "execute_result"
    }
   ],
   "source": [
    "#let's look if everything fine\n",
    "data.info()\n",
    "data.isna().sum()"
   ]
  },
  {
   "cell_type": "markdown",
   "metadata": {},
   "source": [
    "### Conclusion"
   ]
  },
  {
   "cell_type": "markdown",
   "metadata": {},
   "source": [
    "On the previous step I found two groups inside value **'days_employed'**. Then I decided to split it into three groups *'youths'* *'veterans'* and *'NA'*. Group 'NA' is equal to the zero. I used this name because zero means absent of the information.\n",
    "I discovered **'total_income'** by using histogram but as seen distribution doesn't show any visible groups. But further analysis required to divide this variable to the groups. I decided to create a groups, grounded on expert knowledge about minimum income, average and high salary. Last affected var was **'gender'**, I cut out only one value, because it couldn't give us significant information. In the last variable **'purpose'** was seen a lot of different options of purposes. It seems that they need to be unify in larger groups. First I found grouping values by using stem method. It's easiest then lennomination and good enough for this task. So I revealed: *wedding* - wed; *commercial* - transact, rent, commerci; *car* - car; *education* - educ, univers; *real estate* - for the rest. By creating new function, I made a new variable. It wasn't easy to redistribute values of **'purpose'** among grouping values. Because some words are found in several values at once. Pivot table helped me in solving this problem. "
   ]
  },
  {
   "cell_type": "markdown",
   "metadata": {},
   "source": [
    "### Step 3. Major questions of the research"
   ]
  },
  {
   "cell_type": "markdown",
   "metadata": {},
   "source": [
    "### - Is there a relation between having kids and repaying a loan on time?"
   ]
  },
  {
   "cell_type": "code",
   "execution_count": 22,
   "metadata": {
    "scrolled": true
   },
   "outputs": [
    {
     "name": "stdout",
     "output_type": "stream",
     "text": [
      "debt            0       1      ratio\n",
      "children                            \n",
      "4            37.0     4.0  10.810811\n",
      "2          1929.0   201.0  10.419907\n",
      "1          4420.0   444.0  10.045249\n",
      "3           303.0    27.0   8.910891\n",
      "0         13083.0  1063.0   8.125048\n",
      "5             9.0     NaN        NaN\n"
     ]
    }
   ],
   "source": [
    "data_pivot = data.pivot_table(\n",
    "index=['children'],\n",
    "columns='debt',\n",
    "values='family_status_id', \n",
    "aggfunc='count')\n",
    "\n",
    "data_pivot['ratio'] = data_pivot[1]/data_pivot[0]*100\n",
    "print(data_pivot.sort_values(by='ratio', ascending=False))"
   ]
  },
  {
   "cell_type": "markdown",
   "metadata": {},
   "source": [
    "### Conclusion"
   ]
  },
  {
   "cell_type": "markdown",
   "metadata": {},
   "source": [
    "Families without children and with three children repay debts better. But in a group with three children, there are too few observations and they may be insignificant. As a conclusion - families with children repay debts worse."
   ]
  },
  {
   "cell_type": "markdown",
   "metadata": {},
   "source": [
    "### - Is there a relation between marital status and repaying a loan on time?"
   ]
  },
  {
   "cell_type": "code",
   "execution_count": 23,
   "metadata": {},
   "outputs": [
    {
     "name": "stdout",
     "output_type": "stream",
     "text": [
      "debt                   0    1      ratio\n",
      "family_status                           \n",
      "unmarried           2538  274  10.795902\n",
      "civil partnership   3787  388  10.245577\n",
      "married            11449  929   8.114246\n",
      "divorced            1110   85   7.657658\n",
      "widow / widower      897   63   7.023411\n"
     ]
    }
   ],
   "source": [
    "data_pivot = data.pivot_table(\n",
    "index=['family_status'],\n",
    "columns='debt',\n",
    "values='family_status_id', \n",
    "aggfunc='count')\n",
    "\n",
    "data_pivot['ratio'] = data_pivot[1]/data_pivot[0]*100\n",
    "print(data_pivot.sort_values(by='ratio', ascending=False))"
   ]
  },
  {
   "cell_type": "markdown",
   "metadata": {},
   "source": [
    "### Conclusion"
   ]
  },
  {
   "cell_type": "markdown",
   "metadata": {},
   "source": [
    "Unmarried and divorced repaying loans worse than married. The best payers are divorced and widowers / widows"
   ]
  },
  {
   "cell_type": "markdown",
   "metadata": {},
   "source": [
    "### - Is there a relation between income level and repaying a loan on time?"
   ]
  },
  {
   "cell_type": "code",
   "execution_count": 24,
   "metadata": {
    "scrolled": true
   },
   "outputs": [
    {
     "name": "stdout",
     "output_type": "stream",
     "text": [
      "debt              0    1     ratio\n",
      "income_group                      \n",
      "lower_middle   8399  769  9.155852\n",
      "poor           8764  776  8.854404\n",
      "middle         2153  165  7.663725\n",
      "higher_middle   465   29  6.236559\n"
     ]
    }
   ],
   "source": [
    "data_pivot = data.pivot_table(\n",
    "index=['income_group'],\n",
    "columns='debt',\n",
    "values='family_status_id', \n",
    "aggfunc='count')\n",
    "\n",
    "data_pivot['ratio'] = data_pivot[1]/data_pivot[0]*100\n",
    "print(data_pivot.sort_values(by='ratio', ascending=False))"
   ]
  },
  {
   "cell_type": "code",
   "execution_count": 25,
   "metadata": {},
   "outputs": [
    {
     "name": "stdout",
     "output_type": "stream",
     "text": [
      "poor             9540\n",
      "lower_middle     9168\n",
      "middle           2768\n",
      "higher_middle      44\n",
      "Name: income_group, dtype: int64\n"
     ]
    }
   ],
   "source": [
    "# let's try to rebuild our groups to know if we could get data with another proportion of repay a loan\n",
    "def income_fun(amount):\n",
    "    if amount <= 20000:\n",
    "        return \"poor\"\n",
    "    if 20000 < amount <= 40000:\n",
    "        return \"lower_middle\"\n",
    "    if 40000 < amount <= 125000:\n",
    "        return \"middle\"\n",
    "    if 125000 < amount:\n",
    "        return \"higher_middle\"\n",
    "    return \"NA\"\n",
    "\n",
    "#applying funtion to the data            \n",
    "data['income_group'] = data['total_income'].apply(income_fun)\n",
    "print(data['income_group'].value_counts())"
   ]
  },
  {
   "cell_type": "code",
   "execution_count": 26,
   "metadata": {},
   "outputs": [
    {
     "name": "stdout",
     "output_type": "stream",
     "text": [
      "debt              0    1      ratio\n",
      "income_group                       \n",
      "higher_middle    40    4  10.000000\n",
      "lower_middle   8399  769   9.155852\n",
      "poor           8764  776   8.854404\n",
      "middle         2578  190   7.370054\n"
     ]
    }
   ],
   "source": [
    "#build another data pivot\n",
    "data_pivot = data.pivot_table(\n",
    "index=['income_group'],\n",
    "columns='debt',\n",
    "values='family_status_id', \n",
    "aggfunc='count')\n",
    "\n",
    "data_pivot['ratio'] = data_pivot[1]/data_pivot[0]*100\n",
    "print(data_pivot.sort_values(by='ratio', ascending=False))"
   ]
  },
  {
   "cell_type": "markdown",
   "metadata": {},
   "source": [
    "### Conclusion"
   ]
  },
  {
   "cell_type": "markdown",
   "metadata": {},
   "source": [
    "Observed interesting results. First data groping variant showed as expected, that the richer clients the better chance to repay a loan. But after shifting upper limit, ratio of probability changed for rich people. It shows that people with high income worse repay loan the poorest clients. Only one important think require high attention. The total amount of people in 'higher_middle' group is 44. It's not enough for comparison with another large groups. This conclusion has to be verified on larger data. "
   ]
  },
  {
   "cell_type": "markdown",
   "metadata": {},
   "source": [
    "### - How do different loan purposes affect on-time repayment of the loan?"
   ]
  },
  {
   "cell_type": "code",
   "execution_count": 27,
   "metadata": {},
   "outputs": [
    {
     "name": "stdout",
     "output_type": "stream",
     "text": [
      "debt              0    1      ratio\n",
      "purpose_group                      \n",
      "car            3912  402  10.276074\n",
      "education      3652  370  10.131435\n",
      "wedding        2162  186   8.603145\n",
      "commercial     3623  303   8.363235\n",
      "real estate    6432  478   7.431592\n"
     ]
    }
   ],
   "source": [
    "data_pivot = data.pivot_table(\n",
    "index=['purpose_group'],\n",
    "columns='debt',\n",
    "values='total_income', \n",
    "aggfunc='count')\n",
    "\n",
    "data_pivot['ratio'] = data_pivot[1]/data_pivot[0]*100\n",
    "print(data_pivot.sort_values(by='ratio', ascending=False))"
   ]
  },
  {
   "cell_type": "markdown",
   "metadata": {},
   "source": [
    "### Conclusion"
   ]
  },
  {
   "cell_type": "markdown",
   "metadata": {},
   "source": [
    "A loan for real estate, both for life and business, is better repaid than for a car or education. Interestingly, the wedding loans only a little worse repaid than real estate loans."
   ]
  },
  {
   "cell_type": "markdown",
   "metadata": {},
   "source": [
    "### - Is there education level affect on-time repayment of the loan?"
   ]
  },
  {
   "cell_type": "code",
   "execution_count": 28,
   "metadata": {},
   "outputs": [
    {
     "name": "stdout",
     "output_type": "stream",
     "text": [
      "debt                       0       1      ratio\n",
      "education                                      \n",
      "primary education      251.0    31.0  12.350598\n",
      "some college           675.0    68.0  10.074074\n",
      "secondary education  13869.0  1362.0   9.820463\n",
      "bachelor's degree     4980.0   278.0   5.582329\n",
      "graduate degree          6.0     NaN        NaN\n"
     ]
    }
   ],
   "source": [
    "data_pivot = data.pivot_table(\n",
    "index=['education'],\n",
    "columns='debt',\n",
    "values='total_income', \n",
    "aggfunc='count')\n",
    "\n",
    "data_pivot['ratio'] = data_pivot[1]/data_pivot[0]*100\n",
    "print(data_pivot.sort_values(by='ratio', ascending=False))"
   ]
  },
  {
   "cell_type": "markdown",
   "metadata": {},
   "source": [
    "### Conclusion"
   ]
  },
  {
   "cell_type": "markdown",
   "metadata": {},
   "source": [
    "Very interesting and seems significant results getting from education data of the clients. The educated clients the better chance to repay loan."
   ]
  },
  {
   "cell_type": "markdown",
   "metadata": {},
   "source": [
    "### - Is there a relation between employed status and repaying a loan?"
   ]
  },
  {
   "cell_type": "code",
   "execution_count": 29,
   "metadata": {},
   "outputs": [
    {
     "name": "stdout",
     "output_type": "stream",
     "text": [
      "debt                0     1     ratio\n",
      "employed_satus                       \n",
      "youths          14515  1388  9.562522\n",
      "NA               2004   170  8.483034\n",
      "veterans         3262   181  5.548743\n"
     ]
    }
   ],
   "source": [
    "data_pivot = data.pivot_table(\n",
    "index=['employed_satus'],\n",
    "columns='debt',\n",
    "values='total_income', \n",
    "aggfunc='count')\n",
    "\n",
    "data_pivot['ratio'] = data_pivot[1]/data_pivot[0]*100\n",
    "print(data_pivot.sort_values(by='ratio', ascending=False))"
   ]
  },
  {
   "cell_type": "markdown",
   "metadata": {},
   "source": [
    "### Conclusion"
   ]
  },
  {
   "cell_type": "markdown",
   "metadata": {},
   "source": [
    "Also interesting and significant results. People who have dramatically more work experience days - starting from 328727 days - has much more chances to repay loan."
   ]
  },
  {
   "cell_type": "markdown",
   "metadata": {},
   "source": [
    "### - Is there a relation between the customer’s income type and repaying a loan?"
   ]
  },
  {
   "cell_type": "code",
   "execution_count": 30,
   "metadata": {},
   "outputs": [
    {
     "name": "stdout",
     "output_type": "stream",
     "text": [
      "debt               0     1      ratio\n",
      "income_type                          \n",
      "employee       10058  1061  10.548817\n",
      "business        4710   376   7.983015\n",
      "civil servant   1373    86   6.263656\n",
      "retiree         3640   216   5.934066\n"
     ]
    }
   ],
   "source": [
    "data_pivot = data.pivot_table(\n",
    "index=['income_type'],\n",
    "columns='debt',\n",
    "values='total_income', \n",
    "aggfunc='count')\n",
    "\n",
    "data_pivot['ratio'] = data_pivot[1]/data_pivot[0]*100\n",
    "print(data_pivot.sort_values(by='ratio', ascending=False))"
   ]
  },
  {
   "cell_type": "markdown",
   "metadata": {},
   "source": [
    "### Conclusion"
   ]
  },
  {
   "cell_type": "markdown",
   "metadata": {},
   "source": [
    "As seen from the data, people on retirement better repaying loan, as much as civil servants. Business repays loans little worse. The worst loan payers is employes."
   ]
  },
  {
   "cell_type": "markdown",
   "metadata": {},
   "source": [
    "### Step 4. General conclusion"
   ]
  },
  {
   "cell_type": "markdown",
   "metadata": {},
   "source": [
    "Has been analyzed large amount of data consists information about clients who have some relations with bank debt. The data provided had some errors and inaccuracies which required to deal with them. I made data suitable for analysis by applying a number of functions. \n",
    "\n",
    "Here some preliminary results. Can be primarily designated further hypothesis according to the chances to repay a loan:\n",
    "\n",
    "1. existence of the children decries chances to repay a loan\n",
    "2. (marriage/divorced/widow(er)) status is increase chances to repay a loan;\n",
    "3. rich and middle class repay loans better the poor and lower-middle class;\n",
    "4. loan for auto and education repaying worse, than loans for wedding, commers or real estate costs;\n",
    "5. the educated clients the better chance to repay loan;\n",
    "6. clients with more experience has more chances to repay loan;\n",
    "7. retired, servants and business is better loan payers than employes.\n",
    "\n",
    "Import to remember that results don’t show causation only some correlation between variables. For discovered deeper results, with structural relations and causations among data, more serious statistical analysis required."
   ]
  }
 ],
 "metadata": {
  "kernelspec": {
   "display_name": "Python 3",
   "language": "python",
   "name": "python3"
  },
  "language_info": {
   "codemirror_mode": {
    "name": "ipython",
    "version": 3
   },
   "file_extension": ".py",
   "mimetype": "text/x-python",
   "name": "python",
   "nbconvert_exporter": "python",
   "pygments_lexer": "ipython3",
   "version": "3.6.5"
  }
 },
 "nbformat": 4,
 "nbformat_minor": 2
}
