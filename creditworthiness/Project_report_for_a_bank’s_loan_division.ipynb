{
 "cells": [
  {
   "cell_type": "markdown",
   "metadata": {},
   "source": [
    "## Analyzing borrowers’ risk of defaulting\n",
    "\n",
    "Your project is to prepare a report for a bank’s loan division. You’ll need to find out if a customer’s marital status and number of children has an impact on whether they will default on a loan. The bank already has some data on customers’ credit worthiness.\n",
    "\n",
    "Your report will be considered when building a **credit scoring** of a potential customer. A ** credit scoring ** is used to evaluate the ability of a potential borrower to repay their loan."
   ]
  },
  {
   "cell_type": "markdown",
   "metadata": {},
   "source": [
    "### Step 1. Open the data file and have a look at the general information. "
   ]
  },
  {
   "cell_type": "code",
   "execution_count": 40,
   "metadata": {},
   "outputs": [],
   "source": [
    "import pandas as pd\n",
    "import matplotlib.pyplot as plt\n",
    "import nltk\n",
    "from nltk.stem import SnowballStemmer\n",
    "from nltk.stem import WordNetLemmatizer\n",
    "from scipy import stats"
   ]
  },
  {
   "cell_type": "code",
   "execution_count": 41,
   "metadata": {},
   "outputs": [
    {
     "ename": "FileNotFoundError",
     "evalue": "[Errno 2] File b'credit_scoring_eng.csv' does not exist: b'credit_scoring_eng.csv'",
     "output_type": "error",
     "traceback": [
      "\u001b[0;31m---------------------------------------------------------------------------\u001b[0m",
      "\u001b[0;31mFileNotFoundError\u001b[0m                         Traceback (most recent call last)",
      "\u001b[0;32m<ipython-input-41-d96d8d2adb61>\u001b[0m in \u001b[0;36m<module>\u001b[0;34m\u001b[0m\n\u001b[0;32m----> 1\u001b[0;31m \u001b[0mdata\u001b[0m \u001b[0;34m=\u001b[0m \u001b[0mpd\u001b[0m\u001b[0;34m.\u001b[0m\u001b[0mread_csv\u001b[0m\u001b[0;34m(\u001b[0m\u001b[0;34m'credit_scoring_eng.csv'\u001b[0m\u001b[0;34m)\u001b[0m\u001b[0;34m\u001b[0m\u001b[0;34m\u001b[0m\u001b[0m\n\u001b[0m\u001b[1;32m      2\u001b[0m \u001b[0;34m\u001b[0m\u001b[0m\n\u001b[1;32m      3\u001b[0m \u001b[0;31m#general information of the data\u001b[0m\u001b[0;34m\u001b[0m\u001b[0;34m\u001b[0m\u001b[0;34m\u001b[0m\u001b[0m\n\u001b[1;32m      4\u001b[0m \u001b[0mprint\u001b[0m\u001b[0;34m(\u001b[0m\u001b[0mdata\u001b[0m\u001b[0;34m.\u001b[0m\u001b[0minfo\u001b[0m\u001b[0;34m(\u001b[0m\u001b[0;34m)\u001b[0m\u001b[0;34m)\u001b[0m\u001b[0;34m\u001b[0m\u001b[0;34m\u001b[0m\u001b[0m\n\u001b[1;32m      5\u001b[0m \u001b[0mprint\u001b[0m\u001b[0;34m(\u001b[0m\u001b[0;34m)\u001b[0m\u001b[0;34m\u001b[0m\u001b[0;34m\u001b[0m\u001b[0m\n",
      "\u001b[0;32m/opt/conda/lib/python3.7/site-packages/pandas/io/parsers.py\u001b[0m in \u001b[0;36mparser_f\u001b[0;34m(filepath_or_buffer, sep, delimiter, header, names, index_col, usecols, squeeze, prefix, mangle_dupe_cols, dtype, engine, converters, true_values, false_values, skipinitialspace, skiprows, skipfooter, nrows, na_values, keep_default_na, na_filter, verbose, skip_blank_lines, parse_dates, infer_datetime_format, keep_date_col, date_parser, dayfirst, cache_dates, iterator, chunksize, compression, thousands, decimal, lineterminator, quotechar, quoting, doublequote, escapechar, comment, encoding, dialect, error_bad_lines, warn_bad_lines, delim_whitespace, low_memory, memory_map, float_precision)\u001b[0m\n\u001b[1;32m    683\u001b[0m         )\n\u001b[1;32m    684\u001b[0m \u001b[0;34m\u001b[0m\u001b[0m\n\u001b[0;32m--> 685\u001b[0;31m         \u001b[0;32mreturn\u001b[0m \u001b[0m_read\u001b[0m\u001b[0;34m(\u001b[0m\u001b[0mfilepath_or_buffer\u001b[0m\u001b[0;34m,\u001b[0m \u001b[0mkwds\u001b[0m\u001b[0;34m)\u001b[0m\u001b[0;34m\u001b[0m\u001b[0;34m\u001b[0m\u001b[0m\n\u001b[0m\u001b[1;32m    686\u001b[0m \u001b[0;34m\u001b[0m\u001b[0m\n\u001b[1;32m    687\u001b[0m     \u001b[0mparser_f\u001b[0m\u001b[0;34m.\u001b[0m\u001b[0m__name__\u001b[0m \u001b[0;34m=\u001b[0m \u001b[0mname\u001b[0m\u001b[0;34m\u001b[0m\u001b[0;34m\u001b[0m\u001b[0m\n",
      "\u001b[0;32m/opt/conda/lib/python3.7/site-packages/pandas/io/parsers.py\u001b[0m in \u001b[0;36m_read\u001b[0;34m(filepath_or_buffer, kwds)\u001b[0m\n\u001b[1;32m    455\u001b[0m \u001b[0;34m\u001b[0m\u001b[0m\n\u001b[1;32m    456\u001b[0m     \u001b[0;31m# Create the parser.\u001b[0m\u001b[0;34m\u001b[0m\u001b[0;34m\u001b[0m\u001b[0;34m\u001b[0m\u001b[0m\n\u001b[0;32m--> 457\u001b[0;31m     \u001b[0mparser\u001b[0m \u001b[0;34m=\u001b[0m \u001b[0mTextFileReader\u001b[0m\u001b[0;34m(\u001b[0m\u001b[0mfp_or_buf\u001b[0m\u001b[0;34m,\u001b[0m \u001b[0;34m**\u001b[0m\u001b[0mkwds\u001b[0m\u001b[0;34m)\u001b[0m\u001b[0;34m\u001b[0m\u001b[0;34m\u001b[0m\u001b[0m\n\u001b[0m\u001b[1;32m    458\u001b[0m \u001b[0;34m\u001b[0m\u001b[0m\n\u001b[1;32m    459\u001b[0m     \u001b[0;32mif\u001b[0m \u001b[0mchunksize\u001b[0m \u001b[0;32mor\u001b[0m \u001b[0miterator\u001b[0m\u001b[0;34m:\u001b[0m\u001b[0;34m\u001b[0m\u001b[0;34m\u001b[0m\u001b[0m\n",
      "\u001b[0;32m/opt/conda/lib/python3.7/site-packages/pandas/io/parsers.py\u001b[0m in \u001b[0;36m__init__\u001b[0;34m(self, f, engine, **kwds)\u001b[0m\n\u001b[1;32m    893\u001b[0m             \u001b[0mself\u001b[0m\u001b[0;34m.\u001b[0m\u001b[0moptions\u001b[0m\u001b[0;34m[\u001b[0m\u001b[0;34m\"has_index_names\"\u001b[0m\u001b[0;34m]\u001b[0m \u001b[0;34m=\u001b[0m \u001b[0mkwds\u001b[0m\u001b[0;34m[\u001b[0m\u001b[0;34m\"has_index_names\"\u001b[0m\u001b[0;34m]\u001b[0m\u001b[0;34m\u001b[0m\u001b[0;34m\u001b[0m\u001b[0m\n\u001b[1;32m    894\u001b[0m \u001b[0;34m\u001b[0m\u001b[0m\n\u001b[0;32m--> 895\u001b[0;31m         \u001b[0mself\u001b[0m\u001b[0;34m.\u001b[0m\u001b[0m_make_engine\u001b[0m\u001b[0;34m(\u001b[0m\u001b[0mself\u001b[0m\u001b[0;34m.\u001b[0m\u001b[0mengine\u001b[0m\u001b[0;34m)\u001b[0m\u001b[0;34m\u001b[0m\u001b[0;34m\u001b[0m\u001b[0m\n\u001b[0m\u001b[1;32m    896\u001b[0m \u001b[0;34m\u001b[0m\u001b[0m\n\u001b[1;32m    897\u001b[0m     \u001b[0;32mdef\u001b[0m \u001b[0mclose\u001b[0m\u001b[0;34m(\u001b[0m\u001b[0mself\u001b[0m\u001b[0;34m)\u001b[0m\u001b[0;34m:\u001b[0m\u001b[0;34m\u001b[0m\u001b[0;34m\u001b[0m\u001b[0m\n",
      "\u001b[0;32m/opt/conda/lib/python3.7/site-packages/pandas/io/parsers.py\u001b[0m in \u001b[0;36m_make_engine\u001b[0;34m(self, engine)\u001b[0m\n\u001b[1;32m   1133\u001b[0m     \u001b[0;32mdef\u001b[0m \u001b[0m_make_engine\u001b[0m\u001b[0;34m(\u001b[0m\u001b[0mself\u001b[0m\u001b[0;34m,\u001b[0m \u001b[0mengine\u001b[0m\u001b[0;34m=\u001b[0m\u001b[0;34m\"c\"\u001b[0m\u001b[0;34m)\u001b[0m\u001b[0;34m:\u001b[0m\u001b[0;34m\u001b[0m\u001b[0;34m\u001b[0m\u001b[0m\n\u001b[1;32m   1134\u001b[0m         \u001b[0;32mif\u001b[0m \u001b[0mengine\u001b[0m \u001b[0;34m==\u001b[0m \u001b[0;34m\"c\"\u001b[0m\u001b[0;34m:\u001b[0m\u001b[0;34m\u001b[0m\u001b[0;34m\u001b[0m\u001b[0m\n\u001b[0;32m-> 1135\u001b[0;31m             \u001b[0mself\u001b[0m\u001b[0;34m.\u001b[0m\u001b[0m_engine\u001b[0m \u001b[0;34m=\u001b[0m \u001b[0mCParserWrapper\u001b[0m\u001b[0;34m(\u001b[0m\u001b[0mself\u001b[0m\u001b[0;34m.\u001b[0m\u001b[0mf\u001b[0m\u001b[0;34m,\u001b[0m \u001b[0;34m**\u001b[0m\u001b[0mself\u001b[0m\u001b[0;34m.\u001b[0m\u001b[0moptions\u001b[0m\u001b[0;34m)\u001b[0m\u001b[0;34m\u001b[0m\u001b[0;34m\u001b[0m\u001b[0m\n\u001b[0m\u001b[1;32m   1136\u001b[0m         \u001b[0;32melse\u001b[0m\u001b[0;34m:\u001b[0m\u001b[0;34m\u001b[0m\u001b[0;34m\u001b[0m\u001b[0m\n\u001b[1;32m   1137\u001b[0m             \u001b[0;32mif\u001b[0m \u001b[0mengine\u001b[0m \u001b[0;34m==\u001b[0m \u001b[0;34m\"python\"\u001b[0m\u001b[0;34m:\u001b[0m\u001b[0;34m\u001b[0m\u001b[0;34m\u001b[0m\u001b[0m\n",
      "\u001b[0;32m/opt/conda/lib/python3.7/site-packages/pandas/io/parsers.py\u001b[0m in \u001b[0;36m__init__\u001b[0;34m(self, src, **kwds)\u001b[0m\n\u001b[1;32m   1915\u001b[0m         \u001b[0mkwds\u001b[0m\u001b[0;34m[\u001b[0m\u001b[0;34m\"usecols\"\u001b[0m\u001b[0;34m]\u001b[0m \u001b[0;34m=\u001b[0m \u001b[0mself\u001b[0m\u001b[0;34m.\u001b[0m\u001b[0musecols\u001b[0m\u001b[0;34m\u001b[0m\u001b[0;34m\u001b[0m\u001b[0m\n\u001b[1;32m   1916\u001b[0m \u001b[0;34m\u001b[0m\u001b[0m\n\u001b[0;32m-> 1917\u001b[0;31m         \u001b[0mself\u001b[0m\u001b[0;34m.\u001b[0m\u001b[0m_reader\u001b[0m \u001b[0;34m=\u001b[0m \u001b[0mparsers\u001b[0m\u001b[0;34m.\u001b[0m\u001b[0mTextReader\u001b[0m\u001b[0;34m(\u001b[0m\u001b[0msrc\u001b[0m\u001b[0;34m,\u001b[0m \u001b[0;34m**\u001b[0m\u001b[0mkwds\u001b[0m\u001b[0;34m)\u001b[0m\u001b[0;34m\u001b[0m\u001b[0;34m\u001b[0m\u001b[0m\n\u001b[0m\u001b[1;32m   1918\u001b[0m         \u001b[0mself\u001b[0m\u001b[0;34m.\u001b[0m\u001b[0munnamed_cols\u001b[0m \u001b[0;34m=\u001b[0m \u001b[0mself\u001b[0m\u001b[0;34m.\u001b[0m\u001b[0m_reader\u001b[0m\u001b[0;34m.\u001b[0m\u001b[0munnamed_cols\u001b[0m\u001b[0;34m\u001b[0m\u001b[0;34m\u001b[0m\u001b[0m\n\u001b[1;32m   1919\u001b[0m \u001b[0;34m\u001b[0m\u001b[0m\n",
      "\u001b[0;32mpandas/_libs/parsers.pyx\u001b[0m in \u001b[0;36mpandas._libs.parsers.TextReader.__cinit__\u001b[0;34m()\u001b[0m\n",
      "\u001b[0;32mpandas/_libs/parsers.pyx\u001b[0m in \u001b[0;36mpandas._libs.parsers.TextReader._setup_parser_source\u001b[0;34m()\u001b[0m\n",
      "\u001b[0;31mFileNotFoundError\u001b[0m: [Errno 2] File b'credit_scoring_eng.csv' does not exist: b'credit_scoring_eng.csv'"
     ]
    }
   ],
   "source": [
    "data = pd.read_csv('credit_scoring_eng.csv')\n",
    "\n",
    "#general information of the data\n",
    "print(data.info())\n",
    "print()"
   ]
  },
  {
   "cell_type": "code",
   "execution_count": 2,
   "metadata": {},
   "outputs": [
    {
     "data": {
      "text/html": [
       "<div>\n",
       "<style scoped>\n",
       "    .dataframe tbody tr th:only-of-type {\n",
       "        vertical-align: middle;\n",
       "    }\n",
       "\n",
       "    .dataframe tbody tr th {\n",
       "        vertical-align: top;\n",
       "    }\n",
       "\n",
       "    .dataframe thead th {\n",
       "        text-align: right;\n",
       "    }\n",
       "</style>\n",
       "<table border=\"1\" class=\"dataframe\">\n",
       "  <thead>\n",
       "    <tr style=\"text-align: right;\">\n",
       "      <th></th>\n",
       "      <th>children</th>\n",
       "      <th>days_employed</th>\n",
       "      <th>dob_years</th>\n",
       "      <th>education</th>\n",
       "      <th>education_id</th>\n",
       "      <th>family_status</th>\n",
       "      <th>family_status_id</th>\n",
       "      <th>gender</th>\n",
       "      <th>income_type</th>\n",
       "      <th>debt</th>\n",
       "      <th>total_income</th>\n",
       "      <th>purpose</th>\n",
       "    </tr>\n",
       "  </thead>\n",
       "  <tbody>\n",
       "    <tr>\n",
       "      <td>0</td>\n",
       "      <td>1</td>\n",
       "      <td>-8437.673028</td>\n",
       "      <td>42</td>\n",
       "      <td>bachelor's degree</td>\n",
       "      <td>0</td>\n",
       "      <td>married</td>\n",
       "      <td>0</td>\n",
       "      <td>F</td>\n",
       "      <td>employee</td>\n",
       "      <td>0</td>\n",
       "      <td>40620.102</td>\n",
       "      <td>purchase of the house</td>\n",
       "    </tr>\n",
       "    <tr>\n",
       "      <td>1</td>\n",
       "      <td>1</td>\n",
       "      <td>-4024.803754</td>\n",
       "      <td>36</td>\n",
       "      <td>secondary education</td>\n",
       "      <td>1</td>\n",
       "      <td>married</td>\n",
       "      <td>0</td>\n",
       "      <td>F</td>\n",
       "      <td>employee</td>\n",
       "      <td>0</td>\n",
       "      <td>17932.802</td>\n",
       "      <td>car purchase</td>\n",
       "    </tr>\n",
       "    <tr>\n",
       "      <td>2</td>\n",
       "      <td>0</td>\n",
       "      <td>-5623.422610</td>\n",
       "      <td>33</td>\n",
       "      <td>Secondary Education</td>\n",
       "      <td>1</td>\n",
       "      <td>married</td>\n",
       "      <td>0</td>\n",
       "      <td>M</td>\n",
       "      <td>employee</td>\n",
       "      <td>0</td>\n",
       "      <td>23341.752</td>\n",
       "      <td>purchase of the house</td>\n",
       "    </tr>\n",
       "    <tr>\n",
       "      <td>3</td>\n",
       "      <td>3</td>\n",
       "      <td>-4124.747207</td>\n",
       "      <td>32</td>\n",
       "      <td>secondary education</td>\n",
       "      <td>1</td>\n",
       "      <td>married</td>\n",
       "      <td>0</td>\n",
       "      <td>M</td>\n",
       "      <td>employee</td>\n",
       "      <td>0</td>\n",
       "      <td>42820.568</td>\n",
       "      <td>supplementary education</td>\n",
       "    </tr>\n",
       "    <tr>\n",
       "      <td>4</td>\n",
       "      <td>0</td>\n",
       "      <td>340266.072047</td>\n",
       "      <td>53</td>\n",
       "      <td>secondary education</td>\n",
       "      <td>1</td>\n",
       "      <td>civil partnership</td>\n",
       "      <td>1</td>\n",
       "      <td>F</td>\n",
       "      <td>retiree</td>\n",
       "      <td>0</td>\n",
       "      <td>25378.572</td>\n",
       "      <td>to have a wedding</td>\n",
       "    </tr>\n",
       "    <tr>\n",
       "      <td>5</td>\n",
       "      <td>0</td>\n",
       "      <td>-926.185831</td>\n",
       "      <td>27</td>\n",
       "      <td>bachelor's degree</td>\n",
       "      <td>0</td>\n",
       "      <td>civil partnership</td>\n",
       "      <td>1</td>\n",
       "      <td>M</td>\n",
       "      <td>business</td>\n",
       "      <td>0</td>\n",
       "      <td>40922.170</td>\n",
       "      <td>purchase of the house</td>\n",
       "    </tr>\n",
       "    <tr>\n",
       "      <td>6</td>\n",
       "      <td>0</td>\n",
       "      <td>-2879.202052</td>\n",
       "      <td>43</td>\n",
       "      <td>bachelor's degree</td>\n",
       "      <td>0</td>\n",
       "      <td>married</td>\n",
       "      <td>0</td>\n",
       "      <td>F</td>\n",
       "      <td>business</td>\n",
       "      <td>0</td>\n",
       "      <td>38484.156</td>\n",
       "      <td>housing transactions</td>\n",
       "    </tr>\n",
       "    <tr>\n",
       "      <td>7</td>\n",
       "      <td>0</td>\n",
       "      <td>-152.779569</td>\n",
       "      <td>50</td>\n",
       "      <td>SECONDARY EDUCATION</td>\n",
       "      <td>1</td>\n",
       "      <td>married</td>\n",
       "      <td>0</td>\n",
       "      <td>M</td>\n",
       "      <td>employee</td>\n",
       "      <td>0</td>\n",
       "      <td>21731.829</td>\n",
       "      <td>education</td>\n",
       "    </tr>\n",
       "    <tr>\n",
       "      <td>8</td>\n",
       "      <td>2</td>\n",
       "      <td>-6929.865299</td>\n",
       "      <td>35</td>\n",
       "      <td>BACHELOR'S DEGREE</td>\n",
       "      <td>0</td>\n",
       "      <td>civil partnership</td>\n",
       "      <td>1</td>\n",
       "      <td>F</td>\n",
       "      <td>employee</td>\n",
       "      <td>0</td>\n",
       "      <td>15337.093</td>\n",
       "      <td>having a wedding</td>\n",
       "    </tr>\n",
       "    <tr>\n",
       "      <td>9</td>\n",
       "      <td>0</td>\n",
       "      <td>-2188.756445</td>\n",
       "      <td>41</td>\n",
       "      <td>secondary education</td>\n",
       "      <td>1</td>\n",
       "      <td>married</td>\n",
       "      <td>0</td>\n",
       "      <td>M</td>\n",
       "      <td>employee</td>\n",
       "      <td>0</td>\n",
       "      <td>23108.150</td>\n",
       "      <td>purchase of the house for my family</td>\n",
       "    </tr>\n",
       "  </tbody>\n",
       "</table>\n",
       "</div>"
      ],
      "text/plain": [
       "   children  days_employed  dob_years            education  education_id  \\\n",
       "0         1   -8437.673028         42    bachelor's degree             0   \n",
       "1         1   -4024.803754         36  secondary education             1   \n",
       "2         0   -5623.422610         33  Secondary Education             1   \n",
       "3         3   -4124.747207         32  secondary education             1   \n",
       "4         0  340266.072047         53  secondary education             1   \n",
       "5         0    -926.185831         27    bachelor's degree             0   \n",
       "6         0   -2879.202052         43    bachelor's degree             0   \n",
       "7         0    -152.779569         50  SECONDARY EDUCATION             1   \n",
       "8         2   -6929.865299         35    BACHELOR'S DEGREE             0   \n",
       "9         0   -2188.756445         41  secondary education             1   \n",
       "\n",
       "       family_status  family_status_id gender income_type  debt  total_income  \\\n",
       "0            married                 0      F    employee     0     40620.102   \n",
       "1            married                 0      F    employee     0     17932.802   \n",
       "2            married                 0      M    employee     0     23341.752   \n",
       "3            married                 0      M    employee     0     42820.568   \n",
       "4  civil partnership                 1      F     retiree     0     25378.572   \n",
       "5  civil partnership                 1      M    business     0     40922.170   \n",
       "6            married                 0      F    business     0     38484.156   \n",
       "7            married                 0      M    employee     0     21731.829   \n",
       "8  civil partnership                 1      F    employee     0     15337.093   \n",
       "9            married                 0      M    employee     0     23108.150   \n",
       "\n",
       "                               purpose  \n",
       "0                purchase of the house  \n",
       "1                         car purchase  \n",
       "2                purchase of the house  \n",
       "3              supplementary education  \n",
       "4                    to have a wedding  \n",
       "5                purchase of the house  \n",
       "6                 housing transactions  \n",
       "7                            education  \n",
       "8                     having a wedding  \n",
       "9  purchase of the house for my family  "
      ]
     },
     "execution_count": 2,
     "metadata": {},
     "output_type": "execute_result"
    }
   ],
   "source": [
    "#visual checking last or first values of the data\n",
    "data.head(10)"
   ]
  },
  {
   "cell_type": "markdown",
   "metadata": {},
   "source": [
    "In the interest of analyzing data for errors I decide to separate variable into two groups: categorical and numerical\n",
    "categorical data - Descriptive data containing a small number of values inside - from 2 to 20 approximately values.\n",
    "numerical - Quantitative characteristics of the client, for the analysis of which average measures are used"
   ]
  },
  {
   "cell_type": "code",
   "execution_count": 3,
   "metadata": {},
   "outputs": [
    {
     "name": "stdout",
     "output_type": "stream",
     "text": [
      "Numerical variables:\n",
      "\n",
      "NA`s in variables:\n",
      "total_income     21525\n",
      "days_employed    21525\n",
      "dtype: int64\n",
      "\n",
      "- Percent of the garbage data in problem variable 'days_emplyed': 82.20%\n",
      "- There are 101 zero-age clients, and 0 less-than-zero-age in \"dob_years\" variable\n",
      "- There are 19351 observations in total (it`s less than observations in the entire data becouse of NA`s), 0 - zero-income clients, and 0 less-than-zero-income in \"total_income\" variable (looks fine)\n",
      "\n"
     ]
    }
   ],
   "source": [
    "#lets check numerical variables\n",
    "print(\"Numerical variables:\")\n",
    "print()\n",
    "\n",
    "#let's look of NAns present in var's where observations are less than in other variables\n",
    "print('NA`s in variables:')\n",
    "print(data[['total_income', 'days_employed']].isna().count())\n",
    "print()\n",
    "\n",
    "#obviouse problem was mentioned in variable 'days_employed'\n",
    "#find the percent of the garbage data in problem variable 'days_emplyed'\n",
    "print(\"- Percent of the garbage data in problem variable 'days_emplyed': {:.2%}\".format(\n",
    "    data['days_employed'][data['days_employed'] < 0].count() / data['days_employed'].count()))\n",
    "\n",
    "#conseder other numeric vars \"dob_years\"\n",
    "#let's see how many customers of different ages\n",
    "#print(data['dob_years'].value_counts().sort_values(ascending=False))\n",
    "#investigation shown that we have zero-age clients. This is an error. Lets count how much of them. \n",
    "print('- There are {} zero-age clients, and {} less-than-zero-age in \"dob_years\" variable'.format(\n",
    "    data['dob_years'][data['dob_years'] == 0].count(), \n",
    "    data['dob_years'][data['dob_years'] < 0].count()))\n",
    "\n",
    "#conseder other numeric vars \"total_income\"\n",
    "print('- There are {} observations in total (it`s less than observations in the entire data becouse of NA`s), {} - zero-income clients, and {} less-than-zero-income in \"total_income\" variable (looks fine)'.format(\n",
    "    data['total_income'].count(),\n",
    "    data['total_income'][data['total_income'] == 0].count(),\n",
    "    data['total_income'][data['total_income'] < 0].count()))\n",
    "print()\n",
    "#data in 'total_income' var looks fine"
   ]
  },
  {
   "cell_type": "code",
   "execution_count": 4,
   "metadata": {},
   "outputs": [
    {
     "name": "stdout",
     "output_type": "stream",
     "text": [
      "Categorical variables:\n",
      "\n",
      "- There are 21525 observations in total, 76 - 20 childrens, and 47 -1 in \"children\" variable\n",
      "\n"
     ]
    }
   ],
   "source": [
    "#consider categorical variables separately\n",
    "print(\"Categorical variables:\")\n",
    "print()\n",
    "\n",
    "#print(data['children'].value_counts())\n",
    "print('- There are {} observations in total, {} - 20 childrens, and {} -1 in \"children\" variable'.format(\n",
    "    data['children'].count(),\n",
    "    data['children'][data['children'] == 20].count(),\n",
    "    data['children'][data['children'] < 0].count()))\n",
    "print()\n",
    "\n",
    "#print(data['education'].value_counts())\n",
    "#print()\n",
    "#seen case-sensitively duplicates \n",
    "\n",
    "#print(data['family_status'].value_counts())\n",
    "#print()\n",
    "#everything fine with this data \n",
    "\n",
    "#print(data['gender'].value_counts())\n",
    "#print()\n",
    "#seen statistically insignificant category \"XNA\" with one observation\n",
    "\n",
    "#print(data['income_type'].value_counts())\n",
    "#print()\n",
    "#seen statistically insignificant 3 category \"unemployed\", \"student\" and \"paternity / maternity leave\" with less than two observation\n",
    "#observation \"entrepreneur\" could be include to the \"business\" category\n",
    "\n",
    "#print(data['debt'].value_counts())\n",
    "#print()\n",
    "#everything fine with this data \n",
    "\n",
    "#print(data['purpose'].value_counts())\n",
    "#print()\n",
    "#Seen a lot of different purposes. Looks like it needs unification in large groups."
   ]
  },
  {
   "cell_type": "markdown",
   "metadata": {},
   "source": [
    "### Conclusion"
   ]
  },
  {
   "cell_type": "markdown",
   "metadata": {},
   "source": [
    "It seen that we have data about 21525 people. Data containces int, float and object tipes of the 12 variables. Column 'total_income' as 'days_employed' doesn't equal to the number of observation of the other variables in the data - 19351 vs 21525. Also data errors detected by visual evaluation in column 'days_employed'. Maybe data contains more errors like this. It would be seen after investigation in the next steps.\n",
    "\n",
    "After a deeper study of the variables individually, a number of errors were identified. \n",
    "\n",
    "**Missing values**\n",
    "Were identify 101 zero-age clients, and 0 less-than-zero-age in \"dob_years\" variable. \"total_income\" and \"days_emplyed\" variables has less observations that in the data 19351 vs 21525 becouse of NA's. \n",
    "\n",
    "**Data type replacement**\n",
    "The days_employed variable in type 'float' must be replaced with type '.int' because day is an integer. \n",
    "\n",
    "**Processing duplicates**\n",
    "In 'education' variable seen case-sensitively duplicates. Also in \"children\" variable discovered 76 observetion with 20 children and 47 with -1 children. It's abnormal values. It doesn't impossible that some of the clients has 20 children, but if that were true we would see some kind of normal distribution. But it isn't observed. Instead we see huge leap from 5 to 20 children. Highly possible that in clients have 2 children instead 20, and 1 instead -1. Additional symbols is the reason of the human factor. The variable 'days_emplyed' consist 82.2% nagative values. Negative values needs deeper investigation.\n",
    "\n",
    "**Categorizing Data**\n",
    "Investigation of 'gender' variable shown statistically insignificant category \"XNA\" with one observation. Also in 'income_type' var seen tree statistically insignificant categories \"unemployed\", \"student\" and \"paternity / maternity leave\" with less than two observations. Observation \"entrepreneur\" could be include to the \"business\" category. Insignificant categories could be reduce. In the last variable 'purpose' was seen a lot of different options of purposes. It seems that they need to be unify in larger groups. A lot of nagative values, in the variable 'days_emplyed', it mean that this variable couldn't be used for analises in this form. Maybe it make sense to divide them into two groups. And finally variables such as 'days_emplyed' and 'total_income' could by unified to more general groups too."
   ]
  },
  {
   "cell_type": "markdown",
   "metadata": {},
   "source": [
    "### Step 2. Data preprocessing"
   ]
  },
  {
   "cell_type": "markdown",
   "metadata": {},
   "source": [
    "### Processing missing values"
   ]
  },
  {
   "cell_type": "code",
   "execution_count": 5,
   "metadata": {},
   "outputs": [],
   "source": [
    "#delete NA\n",
    "data = data.fillna(value=0)"
   ]
  },
  {
   "cell_type": "markdown",
   "metadata": {},
   "source": [
    "### Conclusion"
   ]
  },
  {
   "cell_type": "markdown",
   "metadata": {},
   "source": [
    "Searching for the mistakes in the data, in general, I found of that two variable has less observations than others. I made an assumption that one’s has NA's. In the credit banking segment income and work experience factors has a critical meaning, so the present of NA's could relate to some personal reasons of the clients. Maybe they said unreliable info and then this info were delete from the base. I decided to replace NA with zero, because it provides an opportunity for the further stay analisis and making a segmentation. Filtering zeros is not a problem."
   ]
  },
  {
   "cell_type": "markdown",
   "metadata": {},
   "source": [
    "### Data type replacement"
   ]
  },
  {
   "cell_type": "markdown",
   "metadata": {},
   "source": [
    "#### 'days_employed'"
   ]
  },
  {
   "cell_type": "code",
   "execution_count": 6,
   "metadata": {},
   "outputs": [
    {
     "name": "stdout",
     "output_type": "stream",
     "text": [
      "<class 'pandas.core.frame.DataFrame'>\n",
      "RangeIndex: 21525 entries, 0 to 21524\n",
      "Data columns (total 12 columns):\n",
      "children            21525 non-null int64\n",
      "days_employed       21525 non-null int64\n",
      "dob_years           21525 non-null int64\n",
      "education           21525 non-null object\n",
      "education_id        21525 non-null int64\n",
      "family_status       21525 non-null object\n",
      "family_status_id    21525 non-null int64\n",
      "gender              21525 non-null object\n",
      "income_type         21525 non-null object\n",
      "debt                21525 non-null int64\n",
      "total_income        21525 non-null float64\n",
      "purpose             21525 non-null object\n",
      "dtypes: float64(1), int64(6), object(5)\n",
      "memory usage: 2.0+ MB\n",
      "None\n"
     ]
    }
   ],
   "source": [
    "#convert to int\n",
    "data['days_employed'] = data['days_employed'].astype('int')\n",
    "print(data.info())"
   ]
  },
  {
   "cell_type": "markdown",
   "metadata": {},
   "source": [
    "### Conclusion"
   ]
  },
  {
   "cell_type": "markdown",
   "metadata": {},
   "source": [
    "The days_employed variable in type 'float' must be replaced with type '.int' because day is an integer.\n",
    "I used `.astype('int')` because it works for this data.\n"
   ]
  },
  {
   "cell_type": "markdown",
   "metadata": {},
   "source": [
    "### Processing duplicates"
   ]
  },
  {
   "cell_type": "markdown",
   "metadata": {},
   "source": [
    "#### 'children'"
   ]
  },
  {
   "cell_type": "code",
   "execution_count": 7,
   "metadata": {
    "scrolled": true
   },
   "outputs": [
    {
     "name": "stdout",
     "output_type": "stream",
     "text": [
      "5        9\n",
      "4       41\n",
      "3      330\n",
      "2     2131\n",
      "1     4865\n",
      "0    14149\n",
      "Name: children, dtype: int64\n"
     ]
    }
   ],
   "source": [
    "#delete '-' and '0' from 'children' variable\n",
    "data.loc[data['children'] == 20, 'children'] = 2\n",
    "data.loc[data['children'] == -1, 'children'] = 1\n",
    "print(data['children'].value_counts().sort_values())"
   ]
  },
  {
   "cell_type": "markdown",
   "metadata": {},
   "source": [
    "#### 'days_employed'"
   ]
  },
  {
   "cell_type": "code",
   "execution_count": 8,
   "metadata": {},
   "outputs": [
    {
     "name": "stdout",
     "output_type": "stream",
     "text": [
      "\n"
     ]
    },
    {
     "data": {
      "image/png": "[encoded data removed]",
      "text/plain": [
       "<Figure size 432x288 with 1 Axes>"
      ]
     },
     "metadata": {
      "needs_background": "light"
     },
     "output_type": "display_data"
    }
   ],
   "source": [
    "# let's investigate 'days_employed' variable deeply. Particularly the nature of negative values.\n",
    "# Build histogram to see wich destribution observatioins has\n",
    "plt.hist(data['days_employed'], bins=50)\n",
    "plt.gca().set(title='Frequency Histogram', ylabel='Frequency');\n",
    "print()"
   ]
  },
  {
   "cell_type": "code",
   "execution_count": 9,
   "metadata": {},
   "outputs": [
    {
     "name": "stderr",
     "output_type": "stream",
     "text": [
      "/opt/conda/lib/python3.7/site-packages/scipy/stats/morestats.py:1676: UserWarning: p-value may not be accurate for N > 5000.\n",
      "  warnings.warn(\"p-value may not be accurate for N > 5000.\")\n"
     ]
    },
    {
     "name": "stdout",
     "output_type": "stream",
     "text": [
      "(0.8049753308296204, 0.0)\n",
      "\n",
      "range: min - 24.00, max - 18388.00\n"
     ]
    },
    {
     "data": {
      "image/png": "[encoded data removed]",
      "text/plain": [
       "<Figure size 432x288 with 1 Axes>"
      ]
     },
     "metadata": {
      "needs_background": "light"
     },
     "output_type": "display_data"
    }
   ],
   "source": [
    "#It's seen that variable consist two groups of observations\n",
    "#One group consist of 100% nembers less than zero. Values in range from 24.14 to 18388.95 days employed\n",
    "#It highly possible that minuses it's only technical error, and we can easily cut them.\n",
    "plt.hist(data['days_employed'][data['days_employed'] < 0], bins=50)\n",
    "plt.gca().set(title='Frequency Histogram', ylabel='Frequency');\n",
    "print(stats.shapiro(data['days_employed'][data['days_employed'] < 0].abs()))\n",
    "print()\n",
    "print('range: min - {:.2f}, max - {:.2f}'.format(\n",
    "    data['days_employed'][data['days_employed'] < 0].abs().min(),\n",
    "    data['days_employed'][data['days_employed'] < 0].abs().max()))"
   ]
  },
  {
   "cell_type": "code",
   "execution_count": 10,
   "metadata": {},
   "outputs": [
    {
     "name": "stdout",
     "output_type": "stream",
     "text": [
      "(0.9549498558044434, 2.2879530521806e-31)\n",
      "\n",
      "range: min - 328728.00, max - 401755.00\n"
     ]
    },
    {
     "data": {
      "image/png": "[encoded data removed]",
      "text/plain": [
       "<Figure size 432x288 with 1 Axes>"
      ]
     },
     "metadata": {
      "needs_background": "light"
     },
     "output_type": "display_data"
    }
   ],
   "source": [
    "#The second group consist values in range from from 328 728.72, to 401 755.40 days employed\n",
    "plt.hist(data['days_employed'][data['days_employed'] > 0], bins=50)\n",
    "plt.gca().set(title='Frequency Histogram', ylabel='Frequency');\n",
    "print(stats.shapiro(data['days_employed'][data['days_employed'] > 0].abs()))\n",
    "print()\n",
    "print('range: min - {:.2f}, max - {:.2f}'.format(\n",
    "    data['days_employed'][data['days_employed'] > 0].min(),\n",
    "    data['days_employed'][data['days_employed'] > 0].max()))"
   ]
  },
  {
   "cell_type": "code",
   "execution_count": 11,
   "metadata": {},
   "outputs": [
    {
     "name": "stdout",
     "output_type": "stream",
     "text": [
      "Percent of observations in groups in variable 'days_emplyed': 73.90% - <0; 10.10% - 0; 16.00% - >0\n",
      "\n"
     ]
    }
   ],
   "source": [
    "#Discovering the percent of observations in groups\n",
    "print(\"Percent of observations in groups in variable 'days_emplyed': {:.2%} - <0; {:.2%} - 0; {:.2%} - >0\".format(\n",
    "    data['days_employed'][data['days_employed'] < 0].count() / data['days_employed'].count(),\n",
    "    data['days_employed'][data['days_employed'] == 0].count() / data['days_employed'].count(),\n",
    "    data['days_employed'][data['days_employed'] > 0].count() / data['days_employed'].count()))\n",
    "print()\n",
    "\n",
    "#let's delete minus symbol as a result of a technical issue\n",
    "data['days_employed'] = data['days_employed'].abs()"
   ]
  },
  {
   "cell_type": "markdown",
   "metadata": {},
   "source": [
    "#### 'education'"
   ]
  },
  {
   "cell_type": "code",
   "execution_count": 12,
   "metadata": {},
   "outputs": [
    {
     "data": {
      "text/plain": [
       "secondary education    15233\n",
       "bachelor's degree       5260\n",
       "some college             744\n",
       "primary education        282\n",
       "graduate degree            6\n",
       "Name: education, dtype: int64"
      ]
     },
     "execution_count": 12,
     "metadata": {},
     "output_type": "execute_result"
    }
   ],
   "source": [
    "#reducing case to the low level for the all types of education\n",
    "data['education'] = data['education'].str.lower()\n",
    "data['education'].value_counts()"
   ]
  },
  {
   "cell_type": "markdown",
   "metadata": {},
   "source": [
    "### Conclusion"
   ]
  },
  {
   "cell_type": "markdown",
   "metadata": {},
   "source": [
    "To testing data for an errors or duplicates I used \".value_counts()\" method. It's good function for variables which consist not too much values. I find that 'children', 'education' and 'days_employed' data consists some mistakes. It's highly possible, that in 'children' and 'education' vars has a human factor error - cases-sensitively errors and extra symbols. \n",
    "For investigation of the negative values for 'days_employed' variable I decided to check if data in the var consistent or not. For this I built histogram, and surprisely discovered two set of data. And, expectedly, one of the sets was with negative values. It's point to the some systematically emerged error. So I decided to delete extra symbol \"-\" for all set by applying function \"abs()\". "
   ]
  },
  {
   "cell_type": "markdown",
   "metadata": {},
   "source": [
    "### Categorizing Data"
   ]
  },
  {
   "cell_type": "markdown",
   "metadata": {},
   "source": [
    "#### 'days_employed'"
   ]
  },
  {
   "cell_type": "code",
   "execution_count": 13,
   "metadata": {},
   "outputs": [
    {
     "name": "stdout",
     "output_type": "stream",
     "text": [
      "youths      15906\n",
      "veterans     3445\n",
      "NA           2174\n",
      "Name: employed_satus, dtype: int64\n"
     ]
    }
   ],
   "source": [
    "#divide the data in var 'days_employed' into three groups 'youths' 'veterans' and 'NA'\n",
    "#values for separetion:\n",
    "#print(data['days_employed'][data['days_employed'] < 0].abs().max())\n",
    "#print(data['days_employed'][data['days_employed'] > 0].abs().min())\n",
    "\n",
    "def employed_fun(day):\n",
    "    if 0 < day < 18390:\n",
    "        return 'youths'\n",
    "    if day > 328727:\n",
    "        return 'veterans'\n",
    "    if day == 0:\n",
    "        return 'NA'\n",
    "    return 'Not a number'\n",
    "    \n",
    "data['employed_satus'] = data['days_employed'].apply(employed_fun)\n",
    "print(data['employed_satus'].value_counts())"
   ]
  },
  {
   "cell_type": "markdown",
   "metadata": {},
   "source": [
    "#### 'total_income'"
   ]
  },
  {
   "cell_type": "code",
   "execution_count": 14,
   "metadata": {},
   "outputs": [
    {
     "data": {
      "image/png": "[encoded data removed]",
      "text/plain": [
       "<Figure size 432x288 with 1 Axes>"
      ]
     },
     "metadata": {
      "needs_background": "light"
     },
     "output_type": "display_data"
    }
   ],
   "source": [
    "#lets chek var 'total_income' of clients\n",
    "plt.hist(data['total_income'], bins=50)\n",
    "plt.gca().set(title='Frequency Histogram', ylabel='Frequency');\n",
    "#as seen destribution doesn't shown any visible groups"
   ]
  },
  {
   "cell_type": "code",
   "execution_count": 15,
   "metadata": {},
   "outputs": [
    {
     "name": "stdout",
     "output_type": "stream",
     "text": [
      "(16662.779, 33325.557]    9810\n",
      "(-49.989, 16662.779]      7134\n",
      "(33325.557, 49988.336]    3261\n",
      "Name: total_income, dtype: int64\n",
      "(49699.531, 154173.56]      1293\n",
      "(154173.56, 258335.102]       22\n",
      "(258335.102, 362496.645]       5\n",
      "Name: total_income, dtype: int64\n",
      "poor             9543\n",
      "lower_middle     9170\n",
      "middle           2318\n",
      "higher_middle     494\n",
      "Name: income_group, dtype: int64\n"
     ]
    }
   ],
   "source": [
    "#lets look how much observations in in approximate groups. I used an average salary 50k in SPb, Russia\n",
    "print(data[data['total_income'] < 50000]['total_income'].value_counts(bins=3))\n",
    "print(data[data['total_income'] > 50000]['total_income'].value_counts(bins=3))\n",
    "\n",
    "#building a function for creating a new grouping variable 'income_group'\n",
    "def income_fun(amount):\n",
    "    if amount <= 20000:\n",
    "        return \"poor\"\n",
    "    if 20000 < amount <= 40000:\n",
    "        return \"lower_middle\"\n",
    "    if 40000 < amount <= 65000:\n",
    "        return \"middle\"\n",
    "    if 65000 < amount:\n",
    "        return \"higher_middle\"\n",
    "    return \"NA\"\n",
    "\n",
    "#applying funtion to the data            \n",
    "data['income_group'] = data['total_income'].apply(income_fun)\n",
    "print(data['income_group'].value_counts())"
   ]
  },
  {
   "cell_type": "markdown",
   "metadata": {},
   "source": [
    "#### 'income_type'"
   ]
  },
  {
   "cell_type": "code",
   "execution_count": 16,
   "metadata": {},
   "outputs": [
    {
     "name": "stdout",
     "output_type": "stream",
     "text": [
      "employee         11119\n",
      "business          5087\n",
      "retiree           3856\n",
      "civil servant     1459\n",
      "Name: income_type, dtype: int64\n"
     ]
    }
   ],
   "source": [
    "#let's combine the meaning of “entrepreneur” on “business”\n",
    "data.loc[data['income_type'] == 'entrepreneur', 'income_type'] = 'business'\n",
    "#Delete insignificant \"unemployed\", \"paternity / maternity leave\" and \"student\"\n",
    "data = data.drop(data[data.income_type == \"unemployed\"].index)\n",
    "data = data.drop(data[data.income_type == \"paternity / maternity leave\"].index)\n",
    "data = data.drop(data[data.income_type == \"student\"].index)\n",
    "\n",
    "print(data['income_type'].value_counts())"
   ]
  },
  {
   "cell_type": "markdown",
   "metadata": {},
   "source": [
    "#### 'gender'"
   ]
  },
  {
   "cell_type": "code",
   "execution_count": 17,
   "metadata": {},
   "outputs": [
    {
     "data": {
      "text/plain": [
       "F    14234\n",
       "M     7286\n",
       "Name: gender, dtype: int64"
      ]
     },
     "execution_count": 17,
     "metadata": {},
     "output_type": "execute_result"
    }
   ],
   "source": [
    "data = data.drop(data[data.gender == \"XNA\"].index)\n",
    "data['gender'].value_counts()"
   ]
  },
  {
   "cell_type": "markdown",
   "metadata": {},
   "source": [
    "#### 'purpose'"
   ]
  },
  {
   "cell_type": "code",
   "execution_count": 18,
   "metadata": {},
   "outputs": [
    {
     "name": "stdout",
     "output_type": "stream",
     "text": [
      "['wedding ceremony', 'having a wedding', 'to have a wedding', 'real estate transactions', 'buy commercial real estate', 'housing transactions', 'buying property for renting out', 'transactions with commercial real estate', 'purchase of the house', 'housing', 'purchase of the house for my family', 'property', 'construction of own property', 'transactions with my real estate', 'building a real estate', 'buy real estate', 'building a property', 'purchase of my own house', 'housing renovation', 'buy residential real estate', 'buying my own car', 'going to university', 'car', 'second-hand car purchase', 'to own a car', 'buying a second-hand car', 'cars', 'to buy a car', 'supplementary education', 'car purchase', 'purchase of a car', 'university education', 'to get a supplementary education', 'education', 'getting an education', 'profile education', 'getting higher education', 'to become educated']\n",
      "\n",
      "\n",
      "[('a', 9), ('car', 9), ('educ', 8), ('real', 7), ('estat', 7), ('buy', 7), ('to', 6), ('hous', 6), ('purchas', 6), ('of', 5), ('transact', 4), ('properti', 4), ('my', 4), ('own', 4), ('wed', 3), ('get', 3), ('have', 2), ('commerci', 2), ('for', 2), ('with', 2), ('the', 2), ('build', 2), ('univers', 2), ('second-hand', 2), ('supplementari', 2), ('ceremoni', 1), ('rent', 1), ('out', 1), ('famili', 1), ('construct', 1), ('renov', 1), ('residenti', 1), ('go', 1), ('an', 1), ('profil', 1), ('higher', 1), ('becom', 1)]\n"
     ]
    }
   ],
   "source": [
    "#look to the variable 'purpse' closly and find counting by meaning values\n",
    "data['purpose'].value_counts()\n",
    "\n",
    "#As seen there are many. Let's getered output in a list for stemming\n",
    "purpose_dict = dict(data['purpose'].value_counts())\n",
    "purpose_names = []\n",
    "for name in purpose_dict:\n",
    "    purpose_names.append(name)\n",
    "\n",
    "print(purpose_names)\n",
    "print()\n",
    "print()\n",
    "\n",
    "# Creating a list of most common stems from the previously created list of proposes\n",
    "import nltk\n",
    "from nltk.stem import SnowballStemmer\n",
    "\n",
    "stemmed_word = []\n",
    "english_stemmer = SnowballStemmer('english')\n",
    "for purpose in purpose_names:\n",
    "    for word in purpose.split():\n",
    "        stemmed_word.append(english_stemmer.stem(word))\n",
    "        \n",
    "from collections import Counter\n",
    "print(Counter(stemmed_word).most_common())"
   ]
  },
  {
   "cell_type": "code",
   "execution_count": 19,
   "metadata": {},
   "outputs": [
    {
     "name": "stdout",
     "output_type": "stream",
     "text": [
      "Series([], Name: purpose, dtype: int64)\n",
      "\n",
      "real estate    6910\n",
      "car            4314\n",
      "education      4022\n",
      "commercial     3926\n",
      "wedding        2348\n",
      "Name: purpose_group, dtype: int64\n",
      "\n",
      "                                                        total_income\n",
      "purpose_group purpose                                               \n",
      "car           buying a second-hand car                           479\n",
      "              buying my own car                                  505\n",
      "              car                                                494\n",
      "              car purchase                                       462\n",
      "              cars                                               478\n",
      "              purchase of a car                                  455\n",
      "              second-hand car purchase                           489\n",
      "              to buy a car                                       472\n",
      "              to own a car                                       480\n",
      "commercial    buy commercial real estate                         664\n",
      "              buying property for renting out                    652\n",
      "              housing transactions                               653\n",
      "              real estate transactions                           676\n",
      "              transactions with commercial real estate           651\n",
      "              transactions with my real estate                   630\n",
      "education     education                                          447\n",
      "              getting an education                               443\n",
      "              getting higher education                           426\n",
      "              going to university                                496\n",
      "              profile education                                  436\n",
      "              supplementary education                            462\n",
      "              to become educated                                 412\n",
      "              to get a supplementary education                   447\n",
      "              university education                               453\n",
      "real estate   building a property                                620\n",
      "              building a real estate                             626\n",
      "              buy real estate                                    623\n",
      "              buy residential real estate                        607\n",
      "              construction of own property                       634\n",
      "              housing                                            647\n",
      "              housing renovation                                 611\n",
      "              property                                           634\n",
      "              purchase of my own house                           620\n",
      "              purchase of the house                              647\n",
      "              purchase of the house for my family                641\n",
      "wedding       having a wedding                                   777\n",
      "              to have a wedding                                  774\n",
      "              wedding ceremony                                   797\n",
      "\n"
     ]
    }
   ],
   "source": [
    "#building a function for creating a new grouping variable 'purpose_group' based on var 'purpose'\n",
    "def purpose_fun(purpose_names):\n",
    "    for word in purpose_names.split():\n",
    "        stemmed_word = english_stemmer.stem(word)\n",
    "        if stemmed_word == 'car':\n",
    "            return \"car\" \n",
    "        if stemmed_word == 'educ':\n",
    "            return \"education\"\n",
    "        if stemmed_word == 'univers':\n",
    "            return \"education\"\n",
    "        if stemmed_word == 'transact':\n",
    "            return \"commercial\"\n",
    "        if stemmed_word == 'rent':\n",
    "            return \"commercial\"\n",
    "        if stemmed_word == 'commerci':\n",
    "            return \"commercial\"\n",
    "        if stemmed_word == 'wed':\n",
    "            return \"wedding\"\n",
    "\n",
    "#applying funtion to the data            \n",
    "data['purpose_group'] = data['purpose'].apply(purpose_fun)\n",
    "data['purpose_group'] = data['purpose_group'].fillna(value='real estate')\n",
    "\n",
    "#Сheking for NA's\n",
    "print(data['purpose'][data['purpose_group'].isna()].value_counts())\n",
    "print()\n",
    "\n",
    "#looking how much observations per any variable\n",
    "print(data['purpose_group'].value_counts())\n",
    "print()\n",
    "\n",
    "#Checking the correct distribution of values into groups \n",
    "data_pivot = data.pivot_table(\n",
    "index=['purpose_group', 'purpose'],\n",
    "values='total_income', \n",
    "aggfunc='count')\n",
    "print(data_pivot)\n",
    "print()\n",
    "\n",
    "#data2.groupby('purpose_group')['purpose'].count()"
   ]
  },
  {
   "cell_type": "code",
   "execution_count": 20,
   "metadata": {},
   "outputs": [
    {
     "name": "stdout",
     "output_type": "stream",
     "text": [
      "<class 'pandas.core.frame.DataFrame'>\n",
      "Int64Index: 21520 entries, 0 to 21524\n",
      "Data columns (total 15 columns):\n",
      "children            21520 non-null int64\n",
      "days_employed       21520 non-null int64\n",
      "dob_years           21520 non-null int64\n",
      "education           21520 non-null object\n",
      "education_id        21520 non-null int64\n",
      "family_status       21520 non-null object\n",
      "family_status_id    21520 non-null int64\n",
      "gender              21520 non-null object\n",
      "income_type         21520 non-null object\n",
      "debt                21520 non-null int64\n",
      "total_income        21520 non-null float64\n",
      "purpose             21520 non-null object\n",
      "employed_satus      21520 non-null object\n",
      "income_group        21520 non-null object\n",
      "purpose_group       21520 non-null object\n",
      "dtypes: float64(1), int64(6), object(8)\n",
      "memory usage: 2.6+ MB\n"
     ]
    },
    {
     "data": {
      "text/plain": [
       "children            0\n",
       "days_employed       0\n",
       "dob_years           0\n",
       "education           0\n",
       "education_id        0\n",
       "family_status       0\n",
       "family_status_id    0\n",
       "gender              0\n",
       "income_type         0\n",
       "debt                0\n",
       "total_income        0\n",
       "purpose             0\n",
       "employed_satus      0\n",
       "income_group        0\n",
       "purpose_group       0\n",
       "dtype: int64"
      ]
     },
     "execution_count": 20,
     "metadata": {},
     "output_type": "execute_result"
    }
   ],
   "source": [
    "#let's look if everything fine\n",
    "data.info()\n",
    "data.isna().sum()"
   ]
  },
  {
   "cell_type": "markdown",
   "metadata": {},
   "source": [
    "### Conclusion"
   ]
  },
  {
   "cell_type": "markdown",
   "metadata": {},
   "source": [
    "On the previous step I found two groups inside value **'days_employed'**. Then I decided to split it into three groups *'youths'* *'veterans'* and *'NA'*. Group 'NA' is equal to the zero. I used this name because zero means absent of the information.\n",
    "I discovered **'total_income'** by using histogram but as seen distribution doesn't show any visible groups. But further analysis required to divide this variable to the groups. I decided to create a groups, grounded on expert knowledge about minimum income, average and high salary. Last affected var was **'gender'**, I cut out only one value, because it couldn't give us significant information. In the last variable **'purpose'** was seen a lot of different options of purposes. It seems that they need to be unify in larger groups. First I found grouping values by using stem method. It's easiest then lennomination and good enough for this task. So I revealed: *wedding* - wed; *commercial* - transact, rent, commerci; *car* - car; *education* - educ, univers; *real estate* - for the rest. By creating new function, I made a new variable. It wasn't easy to redistribute values of **'purpose'** among grouping values. Because some words are found in several values at once. Pivot table helped me in solving this problem. "
   ]
  },
  {
   "cell_type": "markdown",
   "metadata": {},
   "source": [
    "### Step 3. Answer these questions"
   ]
  },
  {
   "cell_type": "markdown",
   "metadata": {},
   "source": [
    "### - Is there a relation between having kids and repaying a loan on time?"
   ]
  },
  {
   "cell_type": "code",
   "execution_count": 21,
   "metadata": {
    "scrolled": true
   },
   "outputs": [
    {
     "name": "stdout",
     "output_type": "stream",
     "text": [
      "debt            0       1      ratio\n",
      "children                            \n",
      "4            37.0     4.0  10.810811\n",
      "2          1929.0   201.0  10.419907\n",
      "1          4420.0   444.0  10.045249\n",
      "3           303.0    27.0   8.910891\n",
      "0         13083.0  1063.0   8.125048\n",
      "5             9.0     NaN        NaN\n"
     ]
    }
   ],
   "source": [
    "data_pivot = data.pivot_table(\n",
    "index=['children'],\n",
    "columns='debt',\n",
    "values='family_status_id', \n",
    "aggfunc='count')\n",
    "\n",
    "data_pivot['ratio'] = data_pivot[1]/data_pivot[0]*100\n",
    "print(data_pivot.sort_values(by='ratio', ascending=False))"
   ]
  },
  {
   "cell_type": "markdown",
   "metadata": {},
   "source": [
    "### Conclusion"
   ]
  },
  {
   "cell_type": "markdown",
   "metadata": {},
   "source": [
    "Families without children and with three children repay debts better. But in a group with three children, there are too few observations and they may be insignificant. As a conclusion - families with children repay debts worse."
   ]
  },
  {
   "cell_type": "markdown",
   "metadata": {},
   "source": [
    "### - Is there a relation between marital status and repaying a loan on time?"
   ]
  },
  {
   "cell_type": "code",
   "execution_count": 22,
   "metadata": {},
   "outputs": [
    {
     "name": "stdout",
     "output_type": "stream",
     "text": [
      "debt                   0    1      ratio\n",
      "family_status                           \n",
      "unmarried           2538  274  10.795902\n",
      "civil partnership   3787  388  10.245577\n",
      "married            11449  929   8.114246\n",
      "divorced            1110   85   7.657658\n",
      "widow / widower      897   63   7.023411\n"
     ]
    }
   ],
   "source": [
    "data_pivot = data.pivot_table(\n",
    "index=['family_status'],\n",
    "columns='debt',\n",
    "values='family_status_id', \n",
    "aggfunc='count')\n",
    "\n",
    "data_pivot['ratio'] = data_pivot[1]/data_pivot[0]*100\n",
    "print(data_pivot.sort_values(by='ratio', ascending=False))"
   ]
  },
  {
   "cell_type": "markdown",
   "metadata": {},
   "source": [
    "### Conclusion"
   ]
  },
  {
   "cell_type": "markdown",
   "metadata": {},
   "source": [
    "Unmarried and divorced repaying loans worse than married. The best payers are divorced and widowers / widows"
   ]
  },
  {
   "cell_type": "markdown",
   "metadata": {},
   "source": [
    "### - Is there a relation between income level and repaying a loan on time?"
   ]
  },
  {
   "cell_type": "code",
   "execution_count": 23,
   "metadata": {
    "scrolled": true
   },
   "outputs": [
    {
     "name": "stdout",
     "output_type": "stream",
     "text": [
      "debt              0    1     ratio\n",
      "income_group                      \n",
      "lower_middle   8399  769  9.155852\n",
      "poor           8764  776  8.854404\n",
      "middle         2153  165  7.663725\n",
      "higher_middle   465   29  6.236559\n"
     ]
    }
   ],
   "source": [
    "data_pivot = data.pivot_table(\n",
    "index=['income_group'],\n",
    "columns='debt',\n",
    "values='family_status_id', \n",
    "aggfunc='count')\n",
    "\n",
    "data_pivot['ratio'] = data_pivot[1]/data_pivot[0]*100\n",
    "print(data_pivot.sort_values(by='ratio', ascending=False))"
   ]
  },
  {
   "cell_type": "code",
   "execution_count": 33,
   "metadata": {},
   "outputs": [
    {
     "name": "stdout",
     "output_type": "stream",
     "text": [
      "poor             9540\n",
      "lower_middle     9168\n",
      "middle           2768\n",
      "higher_middle      44\n",
      "Name: income_group, dtype: int64\n"
     ]
    }
   ],
   "source": [
    "# let's try to rebuild our groups to know if we could get data with another proportion of repay a loan\n",
    "def income_fun(amount):\n",
    "    if amount <= 20000:\n",
    "        return \"poor\"\n",
    "    if 20000 < amount <= 40000:\n",
    "        return \"lower_middle\"\n",
    "    if 40000 < amount <= 125000:\n",
    "        return \"middle\"\n",
    "    if 125000 < amount:\n",
    "        return \"higher_middle\"\n",
    "    return \"NA\"\n",
    "\n",
    "#applying funtion to the data            \n",
    "data['income_group'] = data['total_income'].apply(income_fun)\n",
    "print(data['income_group'].value_counts())"
   ]
  },
  {
   "cell_type": "code",
   "execution_count": 34,
   "metadata": {},
   "outputs": [
    {
     "name": "stdout",
     "output_type": "stream",
     "text": [
      "debt              0    1      ratio\n",
      "income_group                       \n",
      "higher_middle    40    4  10.000000\n",
      "lower_middle   8399  769   9.155852\n",
      "poor           8764  776   8.854404\n",
      "middle         2578  190   7.370054\n"
     ]
    }
   ],
   "source": [
    "#build another data pivot\n",
    "data_pivot = data.pivot_table(\n",
    "index=['income_group'],\n",
    "columns='debt',\n",
    "values='family_status_id', \n",
    "aggfunc='count')\n",
    "\n",
    "data_pivot['ratio'] = data_pivot[1]/data_pivot[0]*100\n",
    "print(data_pivot.sort_values(by='ratio', ascending=False))"
   ]
  },
  {
   "cell_type": "markdown",
   "metadata": {},
   "source": [
    "### Conclusion"
   ]
  },
  {
   "cell_type": "markdown",
   "metadata": {},
   "source": [
    "Observed interesting results. First data groping variant showed as expected, that the richer clients the better chance to repay a loan. But after shifting upper limit, ratio of probability changed for rich people. It shows that people with high income worse repay loan the poorest clients. Only one important think require high attention. The total amount of people in 'higher_middle' group is 44. It's not enough for comparison with another large groups. This conclusion has to be verified on larger data. "
   ]
  },
  {
   "cell_type": "markdown",
   "metadata": {},
   "source": [
    "### - How do different loan purposes affect on-time repayment of the loan?"
   ]
  },
  {
   "cell_type": "code",
   "execution_count": 26,
   "metadata": {},
   "outputs": [
    {
     "name": "stdout",
     "output_type": "stream",
     "text": [
      "debt              0    1      ratio\n",
      "purpose_group                      \n",
      "car            3912  402  10.276074\n",
      "education      3652  370  10.131435\n",
      "wedding        2162  186   8.603145\n",
      "commercial     3623  303   8.363235\n",
      "real estate    6432  478   7.431592\n"
     ]
    }
   ],
   "source": [
    "data_pivot = data.pivot_table(\n",
    "index=['purpose_group'],\n",
    "columns='debt',\n",
    "values='total_income', \n",
    "aggfunc='count')\n",
    "\n",
    "data_pivot['ratio'] = data_pivot[1]/data_pivot[0]*100\n",
    "print(data_pivot.sort_values(by='ratio', ascending=False))"
   ]
  },
  {
   "cell_type": "markdown",
   "metadata": {},
   "source": [
    "### Conclusion"
   ]
  },
  {
   "cell_type": "markdown",
   "metadata": {},
   "source": [
    "A loan for real estate, both for life and business, is better repaid than for a car or education. Interestingly, the wedding loans only a little worse repaid than real estate loans."
   ]
  },
  {
   "cell_type": "markdown",
   "metadata": {},
   "source": [
    "### - Is there education level affect on-time repayment of the loan?"
   ]
  },
  {
   "cell_type": "code",
   "execution_count": 37,
   "metadata": {},
   "outputs": [
    {
     "name": "stdout",
     "output_type": "stream",
     "text": [
      "debt                       0       1      ratio\n",
      "education                                      \n",
      "primary education      251.0    31.0  12.350598\n",
      "some college           675.0    68.0  10.074074\n",
      "secondary education  13869.0  1362.0   9.820463\n",
      "bachelor's degree     4980.0   278.0   5.582329\n",
      "graduate degree          6.0     NaN        NaN\n"
     ]
    }
   ],
   "source": [
    "data_pivot = data.pivot_table(\n",
    "index=['education'],\n",
    "columns='debt',\n",
    "values='total_income', \n",
    "aggfunc='count')\n",
    "\n",
    "data_pivot['ratio'] = data_pivot[1]/data_pivot[0]*100\n",
    "print(data_pivot.sort_values(by='ratio', ascending=False))"
   ]
  },
  {
   "cell_type": "markdown",
   "metadata": {},
   "source": [
    "### Conclusion"
   ]
  },
  {
   "cell_type": "markdown",
   "metadata": {},
   "source": [
    "Very interesting and seems significant results getting from education data of the clients. The educated clients the better chance to repay loan."
   ]
  },
  {
   "cell_type": "markdown",
   "metadata": {},
   "source": [
    "### - Is there a relation between employed status and repaying a loan?"
   ]
  },
  {
   "cell_type": "code",
   "execution_count": 38,
   "metadata": {},
   "outputs": [
    {
     "name": "stdout",
     "output_type": "stream",
     "text": [
      "debt                0     1     ratio\n",
      "employed_satus                       \n",
      "youths          14515  1388  9.562522\n",
      "NA               2004   170  8.483034\n",
      "veterans         3262   181  5.548743\n"
     ]
    }
   ],
   "source": [
    "data_pivot = data.pivot_table(\n",
    "index=['employed_satus'],\n",
    "columns='debt',\n",
    "values='total_income', \n",
    "aggfunc='count')\n",
    "\n",
    "data_pivot['ratio'] = data_pivot[1]/data_pivot[0]*100\n",
    "print(data_pivot.sort_values(by='ratio', ascending=False))"
   ]
  },
  {
   "cell_type": "markdown",
   "metadata": {},
   "source": [
    "### Conclusion"
   ]
  },
  {
   "cell_type": "markdown",
   "metadata": {},
   "source": [
    "Also interesting and significant results. People who have dramatically more work experience days - starting from 328727 days - has much more chances to repay loan."
   ]
  },
  {
   "cell_type": "markdown",
   "metadata": {},
   "source": [
    "### - Is there a relation between the customer’s income type and repaying a loan?"
   ]
  },
  {
   "cell_type": "code",
   "execution_count": 39,
   "metadata": {},
   "outputs": [
    {
     "name": "stdout",
     "output_type": "stream",
     "text": [
      "debt               0     1      ratio\n",
      "income_type                          \n",
      "employee       10058  1061  10.548817\n",
      "business        4710   376   7.983015\n",
      "civil servant   1373    86   6.263656\n",
      "retiree         3640   216   5.934066\n"
     ]
    }
   ],
   "source": [
    "data_pivot = data.pivot_table(\n",
    "index=['income_type'],\n",
    "columns='debt',\n",
    "values='total_income', \n",
    "aggfunc='count')\n",
    "\n",
    "data_pivot['ratio'] = data_pivot[1]/data_pivot[0]*100\n",
    "print(data_pivot.sort_values(by='ratio', ascending=False))"
   ]
  },
  {
   "cell_type": "markdown",
   "metadata": {},
   "source": [
    "### Conclusion"
   ]
  },
  {
   "cell_type": "markdown",
   "metadata": {},
   "source": [
    "As seen from the data, people on retirement better repaying loan, as much as civil servants. Business repays loans little worse. The worst loan payers is employes."
   ]
  },
  {
   "cell_type": "markdown",
   "metadata": {},
   "source": [
    "### Step 4. General conclusion"
   ]
  },
  {
   "cell_type": "markdown",
   "metadata": {},
   "source": [
    "Has been analyzed large amount of data consists information about clients who have some relations with bank debt. The data provided had some errors and inaccuracies which required to deal with them. I made data suitable for analysis by applying a number of functions. \n",
    "\n",
    "Here some preliminary results. Can be primarily designated further hypothesis according to the chances to repay a loan:\n",
    "\n",
    "1. existence of the children decries chances to repay a loan\n",
    "2. (marriage/divorced/widow(er)) status is increase chances to repay a loan;\n",
    "3. rich and middle class repay loans better the poor and lower-middle class;\n",
    "4. loan for auto and education repaying worse, than loans for wedding, commers or real estate costs;\n",
    "5. the educated clients the better chance to repay loan;\n",
    "6. clients with more experience has more chances to repay loan;\n",
    "7. retired, servants and business is better loan payers than employes.\n",
    "\n",
    "Import to remember that results don’t show causation only some correlation between variables. For discovered deeper results, with structural relations and causations among data, more serious statistical analysis required."
   ]
  },
  {
   "cell_type": "markdown",
   "metadata": {},
   "source": [
    "### Project Readiness Checklist\n",
    "\n",
    "Put 'x' in the completed points. Then press Shift + Enter."
   ]
  },
  {
   "cell_type": "markdown",
   "metadata": {},
   "source": [
    "- [x]  file open;\n",
    "- [ ]  file examined;\n",
    "- [ ]  missing values defined;\n",
    "- [ ]  missing values are filled;\n",
    "- [ ]  an explanation of which missing value types were detected;\n",
    "- [ ]  explanation for the possible causes of missing values;\n",
    "- [ ]  an explanation of how the blanks are filled;\n",
    "- [ ]  replaced the real data type with an integer;\n",
    "- [ ]  an explanation of which method is used to change the data type and why;\n",
    "- [ ]  duplicates deleted;\n",
    "- [ ]  an explanation of which method is used to find and remove duplicates;\n",
    "- [ ]  description of the possible reasons for the appearance of duplicates in the data;\n",
    "- [ ]  data is categorized;\n",
    "- [ ]  an explanation of the principle of data categorization;\n",
    "- [ ]  an answer to the question \"Is there a relation between having kids and repaying a loan on time?\";\n",
    "- [ ]  an answer to the question \" Is there a relation between marital status and repaying a loan on time?\";\n",
    "- [ ]   an answer to the question \" Is there a relation between income level and repaying a loan on time?\";\n",
    "- [ ]  an answer to the question \" How do different loan purposes affect on-time repayment of the loan?\"\n",
    "- [ ]  conclusions are present on each stage;\n",
    "- [ ]  a general conclusion is made."
   ]
  },
  {
   "cell_type": "code",
   "execution_count": null,
   "metadata": {},
   "outputs": [],
   "source": []
  }
 ],
 "metadata": {
  "kernelspec": {
   "display_name": "Python 3",
   "language": "python",
   "name": "python3"
  },
  "language_info": {
   "codemirror_mode": {
    "name": "ipython",
    "version": 3
   },
   "file_extension": ".py",
   "mimetype": "text/x-python",
   "name": "python",
   "nbconvert_exporter": "python",
   "pygments_lexer": "ipython3",
   "version": "3.7.4"
  }
 },
 "nbformat": 4,
 "nbformat_minor": 2
}
